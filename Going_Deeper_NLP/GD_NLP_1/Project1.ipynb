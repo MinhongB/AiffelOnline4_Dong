{
 "cells": [
  {
   "attachments": {},
   "cell_type": "markdown",
   "metadata": {},
   "source": [
    "# 네이버 감성분석 \n",
    "\n",
    "테스트를 위해 LSTM 기반으로 모델을 작성했다.\n",
    "이전과 차이점이 있다면, 나는 목표에 맞게 새로운 Tokenizer를 사용할 것이며, 사전 학습된 Word2Vec도 적용했다."
   ]
  },
  {
   "cell_type": "code",
   "execution_count": 1,
   "metadata": {},
   "outputs": [],
   "source": [
    "import numpy as np\n",
    "import pandas as pd\n",
    "from tensorflow.keras.preprocessing.text import Tokenizer\n",
    "from tensorflow.keras.preprocessing.sequence import pad_sequences\n",
    "from tensorflow.keras.models import Sequential\n",
    "from tensorflow.keras.layers import Dense, LSTM, Embedding\n",
    "from tensorflow.keras.callbacks import EarlyStopping, ModelCheckpoint\n",
    "from konlpy.tag import Okt, Komoran\n",
    "from gensim.models import Word2Vec\n",
    "import matplotlib.pyplot as plt"
   ]
  },
  {
   "attachments": {},
   "cell_type": "markdown",
   "metadata": {},
   "source": [
    "## 실험 1: 기존에 배운 방식으로 해결해보자\n"
   ]
  },
  {
   "attachments": {},
   "cell_type": "markdown",
   "metadata": {},
   "source": [
    "### 데이터 전처리\n",
    "\n",
    "1. missing value\n",
    "2. duplicated value\n",
    "3. length distribution check"
   ]
  },
  {
   "cell_type": "code",
   "execution_count": 2,
   "metadata": {},
   "outputs": [
    {
     "data": {
      "text/html": [
       "<div>\n",
       "<style scoped>\n",
       "    .dataframe tbody tr th:only-of-type {\n",
       "        vertical-align: middle;\n",
       "    }\n",
       "\n",
       "    .dataframe tbody tr th {\n",
       "        vertical-align: top;\n",
       "    }\n",
       "\n",
       "    .dataframe thead th {\n",
       "        text-align: right;\n",
       "    }\n",
       "</style>\n",
       "<table border=\"1\" class=\"dataframe\">\n",
       "  <thead>\n",
       "    <tr style=\"text-align: right;\">\n",
       "      <th></th>\n",
       "      <th>id</th>\n",
       "      <th>document</th>\n",
       "      <th>label</th>\n",
       "    </tr>\n",
       "  </thead>\n",
       "  <tbody>\n",
       "    <tr>\n",
       "      <th>0</th>\n",
       "      <td>9976970</td>\n",
       "      <td>아 더빙.. 진짜 짜증나네요 목소리</td>\n",
       "      <td>0</td>\n",
       "    </tr>\n",
       "    <tr>\n",
       "      <th>1</th>\n",
       "      <td>3819312</td>\n",
       "      <td>흠...포스터보고 초딩영화줄....오버연기조차 가볍지 않구나</td>\n",
       "      <td>1</td>\n",
       "    </tr>\n",
       "    <tr>\n",
       "      <th>2</th>\n",
       "      <td>10265843</td>\n",
       "      <td>너무재밓었다그래서보는것을추천한다</td>\n",
       "      <td>0</td>\n",
       "    </tr>\n",
       "    <tr>\n",
       "      <th>3</th>\n",
       "      <td>9045019</td>\n",
       "      <td>교도소 이야기구먼 ..솔직히 재미는 없다..평점 조정</td>\n",
       "      <td>0</td>\n",
       "    </tr>\n",
       "    <tr>\n",
       "      <th>4</th>\n",
       "      <td>6483659</td>\n",
       "      <td>사이몬페그의 익살스런 연기가 돋보였던 영화!스파이더맨에서 늙어보이기만 했던 커스틴 ...</td>\n",
       "      <td>1</td>\n",
       "    </tr>\n",
       "  </tbody>\n",
       "</table>\n",
       "</div>"
      ],
      "text/plain": [
       "         id                                           document  label\n",
       "0   9976970                                아 더빙.. 진짜 짜증나네요 목소리      0\n",
       "1   3819312                  흠...포스터보고 초딩영화줄....오버연기조차 가볍지 않구나      1\n",
       "2  10265843                                  너무재밓었다그래서보는것을추천한다      0\n",
       "3   9045019                      교도소 이야기구먼 ..솔직히 재미는 없다..평점 조정      0\n",
       "4   6483659  사이몬페그의 익살스런 연기가 돋보였던 영화!스파이더맨에서 늙어보이기만 했던 커스틴 ...      1"
      ]
     },
     "execution_count": 2,
     "metadata": {},
     "output_type": "execute_result"
    }
   ],
   "source": [
    "# 데이터 로드\n",
    "orig_train = pd.read_table('nsmc/ratings_train.txt')\n",
    "orig_test = pd.read_table('nsmc/ratings_test.txt')\n",
    "\n",
    "# 두번째 실험을 위해 사용할 데이터 분리\n",
    "train_data = orig_train.copy()\n",
    "test_data = orig_test.copy()\n",
    "train_data.head()"
   ]
  },
  {
   "cell_type": "code",
   "execution_count": 3,
   "metadata": {},
   "outputs": [
    {
     "data": {
      "text/plain": [
       "25857     NaN\n",
       "55737     NaN\n",
       "110014    NaN\n",
       "126782    NaN\n",
       "140721    NaN\n",
       "Name: document, dtype: object"
      ]
     },
     "execution_count": 3,
     "metadata": {},
     "output_type": "execute_result"
    }
   ],
   "source": [
    "# 데이터 결측치 확인\n",
    "null_check = pd.isnull(train_data['document'])\n",
    "null_data = train_data.loc[null_check, 'document']\n",
    "null_data.head()"
   ]
  },
  {
   "cell_type": "code",
   "execution_count": 4,
   "metadata": {},
   "outputs": [],
   "source": [
    "train_data = train_data.dropna() # 결측치 제거\n",
    "test_data = test_data.dropna() # 결측치 제거"
   ]
  },
  {
   "cell_type": "code",
   "execution_count": 5,
   "metadata": {},
   "outputs": [
    {
     "data": {
      "text/plain": [
       "1058      4\n",
       "1097     쵝오\n",
       "1248     최고\n",
       "1483     최고\n",
       "1707    재밌다\n",
       "Name: document, dtype: object"
      ]
     },
     "execution_count": 5,
     "metadata": {},
     "output_type": "execute_result"
    }
   ],
   "source": [
    "# 중복값 확인\n",
    "dupl_check = train_data.duplicated(subset=['document'])\n",
    "dupl_data = train_data.loc[dupl_check, 'document']\n",
    "dupl_data.head()"
   ]
  },
  {
   "cell_type": "code",
   "execution_count": 6,
   "metadata": {},
   "outputs": [],
   "source": [
    "# 중복 제거\n",
    "train_data = train_data.drop_duplicates(subset=['document'])"
   ]
  },
  {
   "cell_type": "code",
   "execution_count": 7,
   "metadata": {},
   "outputs": [
    {
     "data": {
      "text/plain": [
       "Series([], Name: document, dtype: object)"
      ]
     },
     "execution_count": 7,
     "metadata": {},
     "output_type": "execute_result"
    }
   ],
   "source": [
    "# 중복값 다시 확인\n",
    "dupl_check = train_data.duplicated(subset=['document'])\n",
    "dupl_data = train_data.loc[dupl_check, 'document']\n",
    "dupl_data.head()"
   ]
  },
  {
   "attachments": {},
   "cell_type": "markdown",
   "metadata": {},
   "source": [
    "그럼 길이 분포는 어떨까?"
   ]
  },
  {
   "cell_type": "code",
   "execution_count": 8,
   "metadata": {},
   "outputs": [
    {
     "name": "stdout",
     "output_type": "stream",
     "text": [
      "문장의 최단 길이: 1\n",
      "문장의 최장 길이: 146\n",
      "문장의 평균 길이: 35\n"
     ]
    },
    {
     "data": {
      "image/png": "[encoded data removed]",
      "text/plain": [
       "<Figure size 640x480 with 1 Axes>"
      ]
     },
     "metadata": {},
     "output_type": "display_data"
    }
   ],
   "source": [
    "# 코퍼스 내 길이 분포 확인 \n",
    "\n",
    "min_len = 999\n",
    "max_len = 0\n",
    "sum_len = 0\n",
    "\n",
    "for sen in train_data.document:\n",
    "    length = len(sen)\n",
    "    if min_len > length: min_len = length\n",
    "    if max_len < length: max_len = length\n",
    "    sum_len += length\n",
    "\n",
    "print(\"문장의 최단 길이:\", min_len)\n",
    "print(\"문장의 최장 길이:\", max_len)\n",
    "print(\"문장의 평균 길이:\", sum_len // len(train_data['document']))\n",
    "\n",
    "sentence_length = np.zeros((max_len), dtype=int)\n",
    "\n",
    "for sen in train_data['document']:\n",
    "    sentence_length[len(sen)-1] += 1\n",
    "\n",
    "plt.bar(range(max_len), sentence_length, width=1.0)\n",
    "plt.title(\"Sentence Length Distribution\")\n",
    "plt.show()"
   ]
  },
  {
   "cell_type": "code",
   "execution_count": 9,
   "metadata": {},
   "outputs": [
    {
     "name": "stdout",
     "output_type": "stream",
     "text": [
      "아\n",
      "잼\n",
      "1\n",
      "4\n",
      "굿\n",
      "짱\n",
      "휴\n",
      ".\n",
      "음\n",
      "?\n",
      "ㅎ\n",
      "ㅋ\n",
      "즐\n",
      "♥\n",
      "굳\n",
      "네\n",
      "ㅇ\n",
      "k\n",
      "ㅠ\n",
      "쒯\n",
      "♬\n",
      "토\n",
      "O\n",
      "똥\n",
      "z\n",
      "헐\n",
      "삼\n",
      "꽝\n",
      "!\n",
      "풉\n",
      "ㅅ\n",
      "왜\n",
      "ㄴ\n",
      "쉣\n",
      "봐\n",
      "뿌\n",
      "ㅜ\n",
      "♡\n",
      "ㅁ\n",
      "0\n",
      "ㅉ\n",
      "d\n",
      "흥\n",
      "乃\n",
      "찜\n",
      "귯\n",
      "린\n",
      "시\n",
      "ㅗ\n",
      "a\n",
      "c\n",
      "흠\n",
      "웅\n",
      "ㅣ\n",
      "오\n",
      "9\n",
      "쩜\n",
      "애\n",
      "헝\n",
      "쨩\n",
      "f\n",
      "움\n",
      "ㄳ\n",
      "업\n",
      "헉\n",
      "군\n",
      "b\n",
      ";\n",
      "g\n",
      "올\n",
      "걍\n",
      "허\n",
      "-\n",
      "쀍\n",
      "로\n",
      "ㄹ\n",
      "ㅂ\n",
      "갑\n",
      "즛\n",
      "킥\n",
      "함\n",
      "진\n",
      "ㅡ\n",
      "잠\n",
      "곧\n",
      "ㅍ\n",
      "h\n",
      "·\n",
      "캬\n",
      "ㅆ\n",
      ",\n",
      "풋\n",
      "ㄱ\n",
      "파\n",
      "ㄷ\n",
      "웩\n",
      "꺅\n",
      "욜\n",
      "ㅄ\n",
      "2\n",
      "핡\n"
     ]
    }
   ],
   "source": [
    "# 도대체 무슨 단어가 길이가 1인거지?\n",
    "def check_sentence_with_length(raw, length):\n",
    "    count = 0\n",
    "    \n",
    "    for sen in raw:\n",
    "        if len(sen) == length:\n",
    "            print(sen)\n",
    "            count += 1\n",
    "            if count > 100: return\n",
    "\n",
    "check_sentence_with_length(train_data['document'], 1)"
   ]
  },
  {
   "attachments": {},
   "cell_type": "markdown",
   "metadata": {},
   "source": [
    "그렇게 유의미하지 않는 데이터로 보인다."
   ]
  },
  {
   "cell_type": "code",
   "execution_count": 10,
   "metadata": {},
   "outputs": [
    {
     "name": "stdout",
     "output_type": "stream",
     "text": [
      "최고\n",
      "졸작\n",
      "대박\n",
      "버려\n",
      "망함\n",
      "굳굳\n",
      "안습\n",
      "망작\n",
      "ㅇㅇ\n",
      "쵝오\n",
      "굿!\n",
      "별루\n",
      "씐나\n",
      "쓰렉\n",
      "볼만\n",
      "허접\n",
      "비추\n",
      "좋다\n",
      "ㅎㅎ\n",
      "아나\n",
      "ㅉㅉ\n",
      "야.\n",
      "역시\n",
      "^^\n",
      "오오\n",
      "평이\n",
      "지루\n",
      "오욈\n",
      "ㅋㅋ\n",
      "지송\n",
      "별로\n",
      "눈물\n",
      "당연\n",
      "쩔어\n",
      "별노\n",
      "몰입\n",
      "졸잼\n",
      "돋네\n",
      "오글\n",
      "이응\n",
      "첨봄\n",
      "최악\n",
      "잼씀\n",
      "ok\n",
      "유후\n",
      "감동\n",
      "gg\n",
      ";;\n",
      "조앙\n",
      "1점\n",
      "표절\n",
      "명작\n",
      "으휴\n",
      "에효\n",
      "ㄱ굿\n",
      "굿잡\n",
      "잼나\n",
      "10\n",
      "ㅜㅜ\n",
      "우왕\n",
      "거지\n",
      "굿굿\n",
      "좋음\n",
      "실망\n",
      "굿.\n",
      "애이\n",
      "짱임\n",
      "전설\n",
      "mm\n",
      "와우\n",
      "등록\n",
      "하위\n",
      "그닥\n",
      "뭉클\n",
      "삼류\n",
      "HN\n",
      "윤하\n",
      "섹시\n",
      "실화\n",
      "머냐\n",
      "수작\n",
      "꿀잼\n",
      "동감\n",
      "dd\n",
      "굳ㅋ\n",
      "굳!\n",
      "추천\n",
      "좋아\n",
      "55\n",
      "안봐\n",
      "개쩜\n",
      "올레\n",
      "난해\n",
      "ㅠㅠ\n",
      "뭐니\n",
      "ㅁㅁ\n",
      "뭥미\n",
      "쓰랙\n",
      "좇~\n",
      "오우\n",
      "미안\n"
     ]
    }
   ],
   "source": [
    "check_sentence_with_length(train_data['document'], 2)"
   ]
  },
  {
   "cell_type": "code",
   "execution_count": 11,
   "metadata": {},
   "outputs": [],
   "source": [
    "# 라벨 값이 0인 데이터를 negative_reviews로 할당\n",
    "negative_reviews = train_data[train_data['label'] == 0]\n",
    "\n",
    "# 라벨 값이 1인 데이터를 positive_reviews로 할당\n",
    "positive_reviews = train_data[train_data['label'] == 1]"
   ]
  },
  {
   "cell_type": "code",
   "execution_count": 12,
   "metadata": {},
   "outputs": [
    {
     "data": {
      "image/png": "[encoded data removed]",
      "text/plain": [
       "<Figure size 640x480 with 2 Axes>"
      ]
     },
     "metadata": {},
     "output_type": "display_data"
    }
   ],
   "source": [
    "# 각 리뷰의 길이 계산\n",
    "negative_lengths = negative_reviews['document'].apply(len)\n",
    "positive_lengths = positive_reviews['document'].apply(len)\n",
    "\n",
    "# 히스토그램 설정\n",
    "bins = range(0, 200, 10)\n",
    "\n",
    "# 서브플롯 생성\n",
    "fig, axs = plt.subplots(2)\n",
    "\n",
    "# Negative 리뷰 길이 바 그래프 그리기\n",
    "axs[0].hist(negative_lengths, bins=bins, color='red')\n",
    "axs[0].set_title('Histogram of Negative Review Lengths')\n",
    "axs[0].set_xlabel('Review length')\n",
    "axs[0].set_ylabel('Number of reviews')\n",
    "\n",
    "# Positive 리뷰 길이 바 그래프 그리기\n",
    "axs[1].hist(positive_lengths, bins=bins, color='blue')\n",
    "axs[1].set_title('Histogram of Positive Review Lengths')\n",
    "axs[1].set_xlabel('Review length')\n",
    "axs[1].set_ylabel('Number of reviews')\n",
    "\n",
    "# 그래프 조정\n",
    "plt.tight_layout()\n",
    "plt.show()\n"
   ]
  },
  {
   "attachments": {},
   "cell_type": "markdown",
   "metadata": {},
   "source": [
    "길이가 2인 단어는 '최고'와 같은 유의미한 단어도 있다.  \n",
    "또한 페딩으로 길이를 100만 사용할 예정이기 때문에 그 이상이 되는 데이터를 제거한다.\n",
    "\n",
    "또한 라벨에 따른 분포의 차이는 크지 않아서 별도의 버켓팅은 고려하지 않아도 될 것으로 보인다."
   ]
  },
  {
   "cell_type": "code",
   "execution_count": 13,
   "metadata": {},
   "outputs": [
    {
     "data": {
      "image/png": "[encoded data removed]",
      "text/plain": [
       "<Figure size 640x480 with 1 Axes>"
      ]
     },
     "metadata": {},
     "output_type": "display_data"
    }
   ],
   "source": [
    "# 길이 조건에 맞는 문장만 선택합니다.\n",
    "train_data = train_data[train_data['document'].str.len().between(2, 100)]\n",
    "\n",
    "\n",
    "# 분포도를 다시 그려봅니다.\n",
    "sentence_length = np.zeros((max_len), dtype=int)\n",
    "\n",
    "for sen in train_data['document']:\n",
    "    sentence_length[len(sen)-1] += 1\n",
    "\n",
    "plt.bar(range(max_len), sentence_length, width=1.0)\n",
    "plt.title(\"Sentence Length Distribution\")\n",
    "plt.show()"
   ]
  },
  {
   "cell_type": "code",
   "execution_count": 14,
   "metadata": {},
   "outputs": [],
   "source": [
    "check_sentence_with_length(train_data['document'], 1)"
   ]
  },
  {
   "cell_type": "code",
   "execution_count": 15,
   "metadata": {},
   "outputs": [
    {
     "name": "stdout",
     "output_type": "stream",
     "text": [
      "최고\n",
      "졸작\n",
      "대박\n",
      "버려\n",
      "망함\n",
      "굳굳\n",
      "안습\n",
      "망작\n",
      "ㅇㅇ\n",
      "쵝오\n",
      "굿!\n",
      "별루\n",
      "씐나\n",
      "쓰렉\n",
      "볼만\n",
      "허접\n",
      "비추\n",
      "좋다\n",
      "ㅎㅎ\n",
      "아나\n",
      "ㅉㅉ\n",
      "야.\n",
      "역시\n",
      "^^\n",
      "오오\n",
      "평이\n",
      "지루\n",
      "오욈\n",
      "ㅋㅋ\n",
      "지송\n",
      "별로\n",
      "눈물\n",
      "당연\n",
      "쩔어\n",
      "별노\n",
      "몰입\n",
      "졸잼\n",
      "돋네\n",
      "오글\n",
      "이응\n",
      "첨봄\n",
      "최악\n",
      "잼씀\n",
      "ok\n",
      "유후\n",
      "감동\n",
      "gg\n",
      ";;\n",
      "조앙\n",
      "1점\n",
      "표절\n",
      "명작\n",
      "으휴\n",
      "에효\n",
      "ㄱ굿\n",
      "굿잡\n",
      "잼나\n",
      "10\n",
      "ㅜㅜ\n",
      "우왕\n",
      "거지\n",
      "굿굿\n",
      "좋음\n",
      "실망\n",
      "굿.\n",
      "애이\n",
      "짱임\n",
      "전설\n",
      "mm\n",
      "와우\n",
      "등록\n",
      "하위\n",
      "그닥\n",
      "뭉클\n",
      "삼류\n",
      "HN\n",
      "윤하\n",
      "섹시\n",
      "실화\n",
      "머냐\n",
      "수작\n",
      "꿀잼\n",
      "동감\n",
      "dd\n",
      "굳ㅋ\n",
      "굳!\n",
      "추천\n",
      "좋아\n",
      "55\n",
      "안봐\n",
      "개쩜\n",
      "올레\n",
      "난해\n",
      "ㅠㅠ\n",
      "뭐니\n",
      "ㅁㅁ\n",
      "뭥미\n",
      "쓰랙\n",
      "좇~\n",
      "오우\n",
      "미안\n"
     ]
    }
   ],
   "source": [
    "check_sentence_with_length(train_data['document'], 2)"
   ]
  },
  {
   "cell_type": "code",
   "execution_count": 16,
   "metadata": {},
   "outputs": [
    {
     "name": "stdout",
     "output_type": "stream",
     "text": [
      "orig  150000\n",
      "preprocessing  137397\n"
     ]
    }
   ],
   "source": [
    "print('orig ', len(orig_train))\n",
    "print('preprocessing ', len(train_data))"
   ]
  },
  {
   "attachments": {},
   "cell_type": "markdown",
   "metadata": {},
   "source": [
    "약 20,000개의 불필요한 데이터가 감소했다.  \n",
    "적당히 잘 전처리 되었다고 생각된다."
   ]
  },
  {
   "attachments": {},
   "cell_type": "markdown",
   "metadata": {},
   "source": [
    "### Tokenizer\n",
    "\n",
    "1. Word2vec\n",
    "2. konlpy의 형태소 분석기 적용"
   ]
  },
  {
   "cell_type": "code",
   "execution_count": 17,
   "metadata": {},
   "outputs": [
    {
     "data": {
      "text/html": [
       "<div>\n",
       "<style scoped>\n",
       "    .dataframe tbody tr th:only-of-type {\n",
       "        vertical-align: middle;\n",
       "    }\n",
       "\n",
       "    .dataframe tbody tr th {\n",
       "        vertical-align: top;\n",
       "    }\n",
       "\n",
       "    .dataframe thead th {\n",
       "        text-align: right;\n",
       "    }\n",
       "</style>\n",
       "<table border=\"1\" class=\"dataframe\">\n",
       "  <thead>\n",
       "    <tr style=\"text-align: right;\">\n",
       "      <th></th>\n",
       "      <th>id</th>\n",
       "      <th>document</th>\n",
       "      <th>label</th>\n",
       "    </tr>\n",
       "  </thead>\n",
       "  <tbody>\n",
       "    <tr>\n",
       "      <th>0</th>\n",
       "      <td>9976970</td>\n",
       "      <td>[아, 더빙, ., ., 진짜, 짜증, 나, 네요, 목소리]</td>\n",
       "      <td>0</td>\n",
       "    </tr>\n",
       "    <tr>\n",
       "      <th>1</th>\n",
       "      <td>3819312</td>\n",
       "      <td>[흠, ..., 포스터, 보고, 초딩, 영화, 줄, ...., 오버, 연기, 조차,...</td>\n",
       "      <td>1</td>\n",
       "    </tr>\n",
       "    <tr>\n",
       "      <th>2</th>\n",
       "      <td>10265843</td>\n",
       "      <td>[너무재밓었다그래서보는것을추천한다]</td>\n",
       "      <td>0</td>\n",
       "    </tr>\n",
       "    <tr>\n",
       "      <th>3</th>\n",
       "      <td>9045019</td>\n",
       "      <td>[교도소, 이야기, 이, 구먼, .., 솔직히, 재미, 는, 없, 다, ., ., ...</td>\n",
       "      <td>0</td>\n",
       "    </tr>\n",
       "    <tr>\n",
       "      <th>4</th>\n",
       "      <td>6483659</td>\n",
       "      <td>[사이몬페그의, 익살, 스럽, ㄴ, 연기, 가, 돋보이, 었, 던, 영화, !, 스...</td>\n",
       "      <td>1</td>\n",
       "    </tr>\n",
       "  </tbody>\n",
       "</table>\n",
       "</div>"
      ],
      "text/plain": [
       "         id                                           document  label\n",
       "0   9976970                  [아, 더빙, ., ., 진짜, 짜증, 나, 네요, 목소리]      0\n",
       "1   3819312  [흠, ..., 포스터, 보고, 초딩, 영화, 줄, ...., 오버, 연기, 조차,...      1\n",
       "2  10265843                                [너무재밓었다그래서보는것을추천한다]      0\n",
       "3   9045019  [교도소, 이야기, 이, 구먼, .., 솔직히, 재미, 는, 없, 다, ., ., ...      0\n",
       "4   6483659  [사이몬페그의, 익살, 스럽, ㄴ, 연기, 가, 돋보이, 었, 던, 영화, !, 스...      1"
      ]
     },
     "execution_count": 17,
     "metadata": {},
     "output_type": "execute_result"
    }
   ],
   "source": [
    "# Okt 또는 Komoran 인스턴스 생성\n",
    "\n",
    "# mor = Okt()\n",
    "mor = Komoran() # 성능을 위해 Komoran 채택\n",
    "\n",
    "# 텍스트데이터 토큰화\n",
    "train_data['document'] = train_data['document'].apply(mor.morphs)\n",
    "test_data['document'] = test_data['document'].apply(mor.morphs)\n",
    "\n",
    "train_data.head()"
   ]
  },
  {
   "cell_type": "code",
   "execution_count": 18,
   "metadata": {},
   "outputs": [],
   "source": [
    "# 텍스트 데이터를 숫자로 변환\n",
    "tokenizer = Tokenizer()\n",
    "\n",
    "#fit_on_texts (https://www.dinolabs.ai/186)\n",
    "# train 데이터에 맞게 한번만 학습하면 됨\n",
    "tokenizer.fit_on_texts(train_data['document'])\n",
    "\n",
    "train_sequences = tokenizer.texts_to_sequences(train_data['document'])\n",
    "test_sequences = tokenizer.texts_to_sequences(test_data['document'])\n",
    "\n",
    "# 패딩 처리\n",
    "train_inputs = pad_sequences(train_sequences, maxlen=100)\n",
    "test_inputs = pad_sequences(test_sequences, maxlen=100)\n",
    "\n",
    "# 레이블 데이터를 numpy array로 변환\n",
    "train_labels = np.array(train_data['label'])\n",
    "test_labels = np.array(test_data['label'])\n"
   ]
  },
  {
   "attachments": {},
   "cell_type": "markdown",
   "metadata": {},
   "source": [
    "### 사전 학습된 Word2Vec 적용"
   ]
  },
  {
   "cell_type": "code",
   "execution_count": 19,
   "metadata": {},
   "outputs": [
    {
     "name": "stderr",
     "output_type": "stream",
     "text": [
      "C:\\Users\\tama0\\AppData\\Local\\Temp\\ipykernel_35492\\3388869597.py:7: DeprecationWarning: Call to deprecated `__contains__` (Method will be removed in 4.0.0, use self.wv.__contains__() instead).\n",
      "  if word in word2vec:\n",
      "C:\\Users\\tama0\\AppData\\Local\\Temp\\ipykernel_35492\\3388869597.py:8: DeprecationWarning: Call to deprecated `__getitem__` (Method will be removed in 4.0.0, use self.wv.__getitem__() instead).\n",
      "  embedding_matrix[i] = word2vec[word]\n"
     ]
    }
   ],
   "source": [
    "# 사전 학습된 Word2Vec 모델 로드\n",
    "word2vec = Word2Vec.load('ko/ko.bin') # 'word2vec_model_path'를 실제 모델 경로로 변경\n",
    "\n",
    "# 임베딩 레이어의 가중치를 초기화\n",
    "embedding_matrix = np.zeros((len(tokenizer.word_index) + 1, word2vec.vector_size))\n",
    "for word, i in tokenizer.word_index.items():\n",
    "    if word in word2vec:\n",
    "        embedding_matrix[i] = word2vec[word]"
   ]
  },
  {
   "attachments": {},
   "cell_type": "markdown",
   "metadata": {},
   "source": [
    "### 모델 학습"
   ]
  },
  {
   "cell_type": "code",
   "execution_count": 20,
   "metadata": {},
   "outputs": [
    {
     "name": "stdout",
     "output_type": "stream",
     "text": [
      "Epoch 1/15\n",
      "1829/1832 [============================>.] - ETA: 0s - loss: 0.3980 - accuracy: 0.8164WARNING:tensorflow:Can save best model only with val_acc available, skipping.\n",
      "1832/1832 [==============================] - 28s 13ms/step - loss: 0.3979 - accuracy: 0.8165 - val_loss: 0.3411 - val_accuracy: 0.8483\n",
      "Epoch 2/15\n",
      "1829/1832 [============================>.] - ETA: 0s - loss: 0.2741 - accuracy: 0.8890WARNING:tensorflow:Can save best model only with val_acc available, skipping.\n",
      "1832/1832 [==============================] - 22s 12ms/step - loss: 0.2742 - accuracy: 0.8890 - val_loss: 0.3406 - val_accuracy: 0.8520\n",
      "Epoch 3/15\n",
      "1830/1832 [============================>.] - ETA: 0s - loss: 0.2064 - accuracy: 0.9192WARNING:tensorflow:Can save best model only with val_acc available, skipping.\n",
      "1832/1832 [==============================] - 22s 12ms/step - loss: 0.2063 - accuracy: 0.9192 - val_loss: 0.3544 - val_accuracy: 0.8566\n",
      "Epoch 4/15\n",
      "1830/1832 [============================>.] - ETA: 0s - loss: 0.1518 - accuracy: 0.9429WARNING:tensorflow:Can save best model only with val_acc available, skipping.\n",
      "1832/1832 [==============================] - 22s 12ms/step - loss: 0.1518 - accuracy: 0.9428 - val_loss: 0.3736 - val_accuracy: 0.8539\n",
      "Epoch 5/15\n",
      "1828/1832 [============================>.] - ETA: 0s - loss: 0.1108 - accuracy: 0.9589WARNING:tensorflow:Can save best model only with val_acc available, skipping.\n",
      "1832/1832 [==============================] - 22s 12ms/step - loss: 0.1107 - accuracy: 0.9589 - val_loss: 0.4349 - val_accuracy: 0.8502\n",
      "Epoch 6/15\n",
      "1831/1832 [============================>.] - ETA: 0s - loss: 0.0793 - accuracy: 0.9719WARNING:tensorflow:Can save best model only with val_acc available, skipping.\n",
      "1832/1832 [==============================] - 22s 12ms/step - loss: 0.0793 - accuracy: 0.9719 - val_loss: 0.5116 - val_accuracy: 0.8486\n",
      "Epoch 6: early stopping\n"
     ]
    }
   ],
   "source": [
    "# 모델 정의\n",
    "model1 = Sequential()\n",
    "model1.add(Embedding(\n",
    "    len(tokenizer.word_index)+1, \n",
    "    word2vec.vector_size, \n",
    "    weights=[embedding_matrix], \n",
    "    trainable=True # 파인튜닝 허용\n",
    "))\n",
    "model1.add(LSTM(128))\n",
    "model1.add(Dense(1, activation='sigmoid'))\n",
    "\n",
    "# 모델 컴파일\n",
    "model1.compile(optimizer='adam', loss='binary_crossentropy', metrics=['accuracy'])\n",
    "\n",
    "# 콜백 정의\n",
    "es1 = EarlyStopping(monitor='val_loss', mode='min', verbose=1, patience=4)\n",
    "mc1 = ModelCheckpoint('best_model.h5', monitor='val_acc', mode='max', verbose=1, save_best_only=True)\n",
    "\n",
    "# 모델 학습\n",
    "history1 = model1.fit(train_inputs, train_labels, epochs=15, callbacks=[es1, mc1], batch_size=60, validation_split=0.2)\n"
   ]
  },
  {
   "cell_type": "code",
   "execution_count": 21,
   "metadata": {},
   "outputs": [
    {
     "name": "stdout",
     "output_type": "stream",
     "text": [
      "1563/1563 [==============================] - 5s 3ms/step - loss: 0.5068 - accuracy: 0.8498\n",
      "[0.5067505240440369, 0.8497509956359863]\n"
     ]
    }
   ],
   "source": [
    "# 모델 평가\n",
    "print(model1.evaluate(test_inputs, test_labels))\n"
   ]
  },
  {
   "attachments": {},
   "cell_type": "markdown",
   "metadata": {},
   "source": [
    "## 평가 기록\n",
    "\n",
    "| 방법 | Loss | Accuracy |\n",
    "|------|------|----------|\n",
    "| Okt 사용 전 | 0.7988 | 0.8033 |\n",
    "| Okt 사용 후 | 0.6932 | 0.4965 |\n",
    "| 깜빡한 정수화 학습 및 Komoran 사용 | 0.5018 | 0.8387 |\n",
    "| 사전 학습된 Word2Vec 임베딩 적용 | 0.4065 | 0.8304 |\n",
    "| Word2Vec에 파인 튜닝 허용 | 0.4980 | 0.8473 |\n",
    "\n",
    "\n",
    "\n",
    "이 과정을 통해 Base Model에서 약 4%의 성능을 개선함."
   ]
  },
  {
   "attachments": {},
   "cell_type": "markdown",
   "metadata": {},
   "source": [
    "## 실험 2: SentencePiece를 이용해보자"
   ]
  },
  {
   "cell_type": "code",
   "execution_count": 22,
   "metadata": {},
   "outputs": [
    {
     "name": "stdout",
     "output_type": "stream",
     "text": [
      "done\n"
     ]
    }
   ],
   "source": [
    "# 데이터 준비\n",
    "train_data = orig_train.copy()\n",
    "test_data = orig_test.copy()\n",
    "\n",
    "# 대충 위에서 이미 결측치를 확인 했기 때문에 그대로 진행\n",
    "# 결측치\n",
    "train_data = train_data.dropna()\n",
    "test_data = test_data.dropna()\n",
    "\n",
    "# 중복 제거\n",
    "train_data = train_data.drop_duplicates(subset=['document'])\n",
    "\n",
    "# 길이 조건에 맞는 문장만 선택합니다.\n",
    "train_data = train_data[train_data['document'].str.len().between(2, 100)]\n",
    "\n",
    "print('done')"
   ]
  },
  {
   "attachments": {},
   "cell_type": "markdown",
   "metadata": {},
   "source": [
    "### Tokenizer 적용: sentencepiece\n",
    "\n",
    "노드의 설명이 이해가 않가서 다른 글 참고함\n",
    "https://lsjsj92.tistory.com/600\n",
    "\n",
    "\n",
    "기본 model은 unigram이라고 함 https://choice-life.tistory.com/12\n",
    "\n"
   ]
  },
  {
   "cell_type": "code",
   "execution_count": 23,
   "metadata": {},
   "outputs": [],
   "source": [
    "import tensorflow as tf\n",
    "import sentencepiece as spm\n",
    "\n",
    "with open('nsmc_text.txt', 'w', encoding='utf-8') as f:\n",
    "    for line in train_data['document'].values:\n",
    "        f.write(line + '\\n')\n",
    "\n",
    "input_fime = 'nsmc_text.txt'\n",
    "vocab_size = 8000\n",
    "prefix = 'korean_spm'\n",
    "\n",
    "templates = '--input={} --model_prefix={} --vocab_size={}'\n",
    "cmd = templates.format(input_fime, prefix, vocab_size)\n",
    "\n",
    "spm.SentencePieceTrainer.Train(cmd)\n"
   ]
  },
  {
   "cell_type": "code",
   "execution_count": 24,
   "metadata": {},
   "outputs": [
    {
     "name": "stdout",
     "output_type": "stream",
     "text": [
      "아 더빙.. 진짜 짜증나네요 목소리\n",
      "['▁아', '▁더빙', '..', '▁진짜', '▁짜증나', '네요', '▁목소리']\n",
      "[59, 873, 5, 33, 1911, 64, 1836]\n",
      "\n",
      "흠...포스터보고 초딩영화줄....오버연기조차 가볍지 않구나\n",
      "['▁흠', '...', '포스터', '보고', '▁초딩', '영화', '줄', '....', '오', '버', '연기', '조차', '▁가볍지', '▁않', '구나']\n",
      "[1557, 8, 4448, 155, 1312, 30, 259, 48, 176, 494, 336, 1458, 6249, 425, 411]\n",
      "\n",
      "너무재밓었다그래서보는것을추천한다\n",
      "['▁너무', '재', '밓', '었다', '그래서', '보는', '것을', '추천', '한다']\n",
      "[23, 392, 7705, 391, 3817, 452, 1956, 1461, 309]\n",
      "\n",
      "교도소 이야기구먼 ..솔직히 재미는 없다..평점 조정\n",
      "['▁교', '도', '소', '▁이야기', '구먼', '▁', '..', '솔직히', '▁재미는', '▁없다', '..', '평점', '▁조', '정']\n",
      "[2002, 12, 207, 226, 6017, 3, 5, 4758, 1139, 111, 5, 665, 263, 125]\n",
      "\n",
      "사이몬페그의 익살스런 연기가 돋보였던 영화!스파이더맨에서 늙어보이기만 했던 커스틴 던스트가 너무나도 이뻐보였다\n",
      "['▁사이', '몬', '페', '그', '의', '▁', '익', '살', '스런', '▁연기가', '▁돋보', '였던', '▁영화', '!', '스파이더맨', '에서', '▁늙어', '보이', '기만', '▁했던', '▁커', '스', '틴', '▁', '던', '스트', '가', '▁너무나도', '▁', '이뻐', '보', '였다']\n",
      "[2685, 2421, 2690, 188, 10, 3, 1300, 342, 2203, 477, 2260, 1753, 7, 22, 5552, 50, 6351, 2786, 1262, 3218, 3303, 62, 2180, 3, 112, 758, 9, 2286, 3, 4277, 107, 648]\n",
      "\n"
     ]
    }
   ],
   "source": [
    "# 학습된 SentencePiece 모델 로드\n",
    "sp = spm.SentencePieceProcessor()\n",
    "sp.Load('{}.model'.format(prefix))\n",
    "\n",
    "for t in train_data.document.values[:5]:\n",
    "    print(t)\n",
    "    print(sp.EncodeAsPieces(t))\n",
    "    print(sp.EncodeAsIds(t))\n",
    "    print()\n"
   ]
  },
  {
   "cell_type": "code",
   "execution_count": 25,
   "metadata": {},
   "outputs": [],
   "source": [
    "# 텍스트 데이터 토큰화\n",
    "train_data['document'] = train_data['document'].apply(sp.EncodeAsPieces)\n",
    "test_data['document'] = test_data['document'].apply(sp.EncodeAsPieces)"
   ]
  },
  {
   "attachments": {},
   "cell_type": "markdown",
   "metadata": {},
   "source": [
    "### 정수화 및 시퀀스 구성"
   ]
  },
  {
   "cell_type": "code",
   "execution_count": 26,
   "metadata": {},
   "outputs": [],
   "source": [
    "# 토큰화된 데이터를 숫자로 변환\n",
    "tokenizer = Tokenizer()\n",
    "tokenizer.fit_on_texts(train_data['document'])\n",
    "\n",
    "train_sequences = tokenizer.texts_to_sequences(train_data['document'])\n",
    "test_sequences = tokenizer.texts_to_sequences(test_data['document'])\n",
    "\n",
    "# 패딩 처리\n",
    "train_inputs = pad_sequences(train_sequences, maxlen=100)\n",
    "test_inputs = pad_sequences(test_sequences, maxlen=100)\n",
    "\n",
    "# 레이블 데이터를 numpy array로 변환\n",
    "train_labels = np.array(train_data['label'])\n",
    "test_labels = np.array(test_data['label'])"
   ]
  },
  {
   "attachments": {},
   "cell_type": "markdown",
   "metadata": {},
   "source": [
    "#### 여기서 잠깐, 왜 굳이 EncodeAsIds를 않쓰고 EncodeAsPieces 후에 fit_on_texts를 사용했나요??\n",
    "\n",
    "EncodeAsPieces 후에 fit_on_texts를 사용하는 방법은 두 단계의 토큰화 과정을 거치므로, 더 세밀한 토큰화가 가능할 수 있다.  \n",
    "하지만 이는 추가적인 계산을 필요로 하며, 두 단계의 토큰화 과정이 항상 더 좋은 결과를 보장하는 것은 아니다.   \n",
    "반면, EncodeAsIds를 사용하는 방법은 한 단계의 토큰화 과정만을 거치므로, 계산 효율성이 더 좋을 수 있다.  \n",
    "\n",
    "\n",
    "\n",
    "\n",
    "나는 성능과 시간이 충분하다고 보고, 세밀하게 할 수 있다는 전자의 방법을 사용했다.  \n",
    "또한 과제를 수행하는 과정에서 적은 코드 수정으로 이용할 수 있다는 장점 또한 존재한다.  \n",
    "두 방법에 대한 의견은 사람마다 다르겠지만, 내가 이 방식을 사용한 이유는 이런 이유로 사용했다."
   ]
  },
  {
   "attachments": {},
   "cell_type": "markdown",
   "metadata": {},
   "source": [
    "### Word2Vec 적용"
   ]
  },
  {
   "cell_type": "code",
   "execution_count": 27,
   "metadata": {},
   "outputs": [
    {
     "name": "stderr",
     "output_type": "stream",
     "text": [
      "C:\\Users\\tama0\\AppData\\Local\\Temp\\ipykernel_35492\\2893645305.py:7: DeprecationWarning: Call to deprecated `__contains__` (Method will be removed in 4.0.0, use self.wv.__contains__() instead).\n",
      "  if word in word2vec:\n",
      "C:\\Users\\tama0\\AppData\\Local\\Temp\\ipykernel_35492\\2893645305.py:8: DeprecationWarning: Call to deprecated `__getitem__` (Method will be removed in 4.0.0, use self.wv.__getitem__() instead).\n",
      "  embedding_matrix[i] = word2vec[word]\n"
     ]
    }
   ],
   "source": [
    "# 사전 학습된 Word2Vec 모델 로드\n",
    "word2vec = Word2Vec.load('ko/ko.bin')\n",
    "\n",
    "# 임베딩 레이어의 가중치를 초기화\n",
    "embedding_matrix = np.zeros((len(tokenizer.word_index) + 1, word2vec.vector_size))\n",
    "for word, i in tokenizer.word_index.items():\n",
    "    if word in word2vec:\n",
    "        embedding_matrix[i] = word2vec[word]"
   ]
  },
  {
   "attachments": {},
   "cell_type": "markdown",
   "metadata": {},
   "source": [
    "### 동일 구성의 두번째 모델 구성 및 학습"
   ]
  },
  {
   "cell_type": "code",
   "execution_count": 28,
   "metadata": {},
   "outputs": [
    {
     "name": "stdout",
     "output_type": "stream",
     "text": [
      "Epoch 1/15\n",
      "1826/1832 [============================>.] - ETA: 0s - loss: 0.4051 - accuracy: 0.8117WARNING:tensorflow:Can save best model only with val_acc available, skipping.\n",
      "1832/1832 [==============================] - 17s 9ms/step - loss: 0.4049 - accuracy: 0.8118 - val_loss: 0.3390 - val_accuracy: 0.8516\n",
      "Epoch 2/15\n",
      "1829/1832 [============================>.] - ETA: 0s - loss: 0.3005 - accuracy: 0.8714WARNING:tensorflow:Can save best model only with val_acc available, skipping.\n",
      "1832/1832 [==============================] - 18s 10ms/step - loss: 0.3005 - accuracy: 0.8714 - val_loss: 0.3236 - val_accuracy: 0.8590\n",
      "Epoch 3/15\n",
      "1830/1832 [============================>.] - ETA: 0s - loss: 0.2524 - accuracy: 0.8936WARNING:tensorflow:Can save best model only with val_acc available, skipping.\n",
      "1832/1832 [==============================] - 17s 9ms/step - loss: 0.2525 - accuracy: 0.8935 - val_loss: 0.3375 - val_accuracy: 0.8517\n",
      "Epoch 4/15\n",
      "1826/1832 [============================>.] - ETA: 0s - loss: 0.2068 - accuracy: 0.9151WARNING:tensorflow:Can save best model only with val_acc available, skipping.\n",
      "1832/1832 [==============================] - 17s 9ms/step - loss: 0.2070 - accuracy: 0.9150 - val_loss: 0.3646 - val_accuracy: 0.8523\n",
      "Epoch 5/15\n",
      "1831/1832 [============================>.] - ETA: 0s - loss: 0.1465 - accuracy: 0.9422WARNING:tensorflow:Can save best model only with val_acc available, skipping.\n",
      "1832/1832 [==============================] - 17s 9ms/step - loss: 0.1465 - accuracy: 0.9422 - val_loss: 0.4188 - val_accuracy: 0.8487\n",
      "Epoch 6/15\n",
      "1830/1832 [============================>.] - ETA: 0s - loss: 0.0924 - accuracy: 0.9655WARNING:tensorflow:Can save best model only with val_acc available, skipping.\n",
      "1832/1832 [==============================] - 17s 9ms/step - loss: 0.0924 - accuracy: 0.9656 - val_loss: 0.5389 - val_accuracy: 0.8441\n",
      "Epoch 6: early stopping\n"
     ]
    }
   ],
   "source": [
    "# 모델 정의\n",
    "model2 = Sequential()\n",
    "model2.add(Embedding(\n",
    "    len(tokenizer.word_index)+1, \n",
    "    word2vec.vector_size, \n",
    "    weights=[embedding_matrix], \n",
    "    trainable=True # 파인튜닝 허용\n",
    "))\n",
    "model2.add(LSTM(128))\n",
    "model2.add(Dense(1, activation='sigmoid'))\n",
    "\n",
    "# 모델 컴파일\n",
    "model2.compile(optimizer='adam', loss='binary_crossentropy', metrics=['accuracy'])\n",
    "\n",
    "# 콜백 정의\n",
    "es2 = EarlyStopping(monitor='val_loss', mode='min', verbose=1, patience=4)\n",
    "mc2 = ModelCheckpoint('best_model2.h5', monitor='val_acc', mode='max', verbose=1, save_best_only=True)\n",
    "\n",
    "# 모델 학습\n",
    "history2 = model2.fit(train_inputs, train_labels, epochs=15, callbacks=[es2, mc2], batch_size=60, validation_split=0.2)\n"
   ]
  },
  {
   "cell_type": "code",
   "execution_count": 29,
   "metadata": {},
   "outputs": [
    {
     "name": "stdout",
     "output_type": "stream",
     "text": [
      "1563/1563 [==============================] - 6s 3ms/step - loss: 0.5458 - accuracy: 0.8430\n",
      "[0.5458106994628906, 0.8429505825042725]\n"
     ]
    }
   ],
   "source": [
    "# 모델 평가\n",
    "print(model2.evaluate(test_inputs, test_labels))\n"
   ]
  },
  {
   "attachments": {},
   "cell_type": "markdown",
   "metadata": {},
   "source": [
    "## 시각화를 통해 구체적인 비교"
   ]
  },
  {
   "cell_type": "code",
   "execution_count": 30,
   "metadata": {},
   "outputs": [
    {
     "data": {
      "image/png": "[encoded data removed]",
      "text/plain": [
       "<Figure size 1200x400 with 2 Axes>"
      ]
     },
     "metadata": {},
     "output_type": "display_data"
    }
   ],
   "source": [
    "# 손실 함수 값 그래프\n",
    "plt.figure(figsize=(12, 4))\n",
    "\n",
    "plt.subplot(1, 2, 1)\n",
    "plt.plot(history1.history['loss'], 'b-', label='model1_loss')\n",
    "plt.plot(history1.history['val_loss'], 'r--', label='model1_val_loss')\n",
    "plt.plot(history2.history['loss'], 'g-', label='model2_loss')\n",
    "plt.plot(history2.history['val_loss'], 'k--', label='model2_val_loss')\n",
    "plt.xlabel('Epoch')\n",
    "plt.legend()\n",
    "\n",
    "# 정확도 그래프\n",
    "plt.subplot(1, 2, 2)\n",
    "plt.plot(history1.history['accuracy'], 'b-', label='model1_accuracy')\n",
    "plt.plot(history1.history['val_accuracy'], 'r--', label='model1_val_accuracy')\n",
    "plt.plot(history2.history['accuracy'], 'g-', label='model2_accuracy')\n",
    "plt.plot(history2.history['val_accuracy'], 'k--', label='model2_val_accuracy')\n",
    "plt.xlabel('Epoch')\n",
    "plt.legend()\n",
    "\n",
    "plt.show()\n"
   ]
  },
  {
   "attachments": {},
   "cell_type": "markdown",
   "metadata": {},
   "source": [
    "## 실험3: SentencePiece의 모드를 BPE로 바꿔보자\n",
    "\n",
    "결과가 마음에 안든다.\n",
    "\n",
    "BPE를 적용해보자."
   ]
  },
  {
   "attachments": {},
   "cell_type": "markdown",
   "metadata": {},
   "source": [
    "### 데이터 전처리 대충..."
   ]
  },
  {
   "cell_type": "code",
   "execution_count": 31,
   "metadata": {},
   "outputs": [],
   "source": [
    "# 데이터 준비\n",
    "train_data = orig_train.copy()\n",
    "test_data = orig_test.copy()\n",
    "\n",
    "# 대충 위에서 이미 결측치를 확인 했기 때문에 그대로 진행\n",
    "# 결측치\n",
    "train_data = train_data.dropna()\n",
    "test_data = test_data.dropna()\n",
    "\n",
    "# 중복 제거\n",
    "train_data = train_data.drop_duplicates(subset=['document'])\n",
    "\n",
    "# 길이 조건에 맞는 문장만 선택합니다.\n",
    "train_data = train_data[train_data['document'].str.len().between(2, 100)]"
   ]
  },
  {
   "cell_type": "code",
   "execution_count": 32,
   "metadata": {},
   "outputs": [],
   "source": [
    "with open('nsmc_text_bpe.txt', 'w', encoding='utf-8') as f:\n",
    "    for line in train_data['document'].values:\n",
    "        f.write(line + '\\n')\n",
    "\n",
    "input_fime = 'nsmc_text_bpe.txt'\n",
    "vocab_size = 8000\n",
    "prefix = 'korean_spm_bpe'\n",
    "\n",
    "templates = '--input={} --model_prefix={} --vocab_size={} --model_type=bpe'\n",
    "cmd = templates.format(input_fime, prefix, vocab_size)\n",
    "\n",
    "spm.SentencePieceTrainer.Train(cmd)\n"
   ]
  },
  {
   "cell_type": "code",
   "execution_count": 33,
   "metadata": {},
   "outputs": [
    {
     "name": "stdout",
     "output_type": "stream",
     "text": [
      "아 더빙.. 진짜 짜증나네요 목소리\n",
      "['▁아', '▁더빙', '..', '▁진짜', '▁짜증나', '네요', '▁목소리']\n",
      "[8, 1065, 3, 51, 2133, 34, 2107]\n",
      "\n",
      "흠...포스터보고 초딩영화줄....오버연기조차 가볍지 않구나\n",
      "['▁흠', '...', '포스터', '보고', '▁초딩', '영화', '줄', '....', '오', '버', '연기', '조차', '▁가볍', '지', '▁않', '구나']\n",
      "[1453, 7, 4502, 159, 1200, 4, 6488, 21, 6347, 6460, 257, 1854, 1791, 6280, 70, 395]\n",
      "\n",
      "너무재밓었다그래서보는것을추천한다\n",
      "['▁너무', '재', '밓', '었다', '그래서', '보는', '것을', '추천', '한다']\n",
      "[24, 6303, 7826, 113, 3838, 423, 1401, 1658, 280]\n",
      "\n",
      "교도소 이야기구먼 ..솔직히 재미는 없다..평점 조정\n",
      "['▁교', '도', '소', '▁이야기', '구', '먼', '▁..', '솔직히', '▁재미는', '▁없다', '..', '평점', '▁조', '정']\n",
      "[644, 6283, 6377, 275, 6372, 6768, 404, 4839, 1287, 215, 3, 1007, 131, 6314]\n",
      "\n",
      "사이몬페그의 익살스런 연기가 돋보였던 영화!스파이더맨에서 늙어보이기만 했던 커스틴 던스트가 너무나도 이뻐보였다\n",
      "['▁사이', '몬', '페', '그', '의', '▁익', '살', '스런', '▁연기가', '▁돋보', '였던', '▁영화', '!', '스', '파이', '더맨', '에서', '▁늙', '어', '보이', '기만', '▁했던', '▁커', '스', '틴', '▁던', '스트', '가', '▁너무나도', '▁이뻐', '보', '였다']\n",
      "[2746, 7123, 6876, 6307, 6293, 3183, 6504, 1887, 635, 1520, 2152, 5, 6294, 6311, 1710, 5487, 52, 2313, 6291, 2376, 1205, 2551, 1206, 6311, 7002, 3152, 611, 6281, 2297, 2609, 6290, 386]\n",
      "\n"
     ]
    }
   ],
   "source": [
    "# 학습된 SentencePiece 모델 로드\n",
    "sp = spm.SentencePieceProcessor()\n",
    "sp.Load('{}.model'.format(prefix))\n",
    "\n",
    "for t in train_data.document.values[:5]:\n",
    "    print(t)\n",
    "    print(sp.EncodeAsPieces(t))\n",
    "    print(sp.EncodeAsIds(t))\n",
    "    print()\n"
   ]
  },
  {
   "cell_type": "code",
   "execution_count": 34,
   "metadata": {},
   "outputs": [],
   "source": [
    "# 텍스트 데이터 토큰화\n",
    "train_data['document'] = train_data['document'].apply(sp.EncodeAsPieces)\n",
    "test_data['document'] = test_data['document'].apply(sp.EncodeAsPieces)"
   ]
  },
  {
   "cell_type": "code",
   "execution_count": 35,
   "metadata": {},
   "outputs": [],
   "source": [
    "# 토큰화된 데이터를 숫자로 변환\n",
    "tokenizer = Tokenizer()\n",
    "tokenizer.fit_on_texts(train_data['document'])\n",
    "\n",
    "train_sequences = tokenizer.texts_to_sequences(train_data['document'])\n",
    "test_sequences = tokenizer.texts_to_sequences(test_data['document'])\n",
    "\n",
    "# 패딩 처리\n",
    "train_inputs = pad_sequences(train_sequences, maxlen=100)\n",
    "test_inputs = pad_sequences(test_sequences, maxlen=100)\n",
    "\n",
    "# 레이블 데이터를 numpy array로 변환\n",
    "train_labels = np.array(train_data['label'])\n",
    "test_labels = np.array(test_data['label'])"
   ]
  },
  {
   "cell_type": "code",
   "execution_count": 36,
   "metadata": {},
   "outputs": [
    {
     "name": "stderr",
     "output_type": "stream",
     "text": [
      "C:\\Users\\tama0\\AppData\\Local\\Temp\\ipykernel_35492\\2893645305.py:7: DeprecationWarning: Call to deprecated `__contains__` (Method will be removed in 4.0.0, use self.wv.__contains__() instead).\n",
      "  if word in word2vec:\n",
      "C:\\Users\\tama0\\AppData\\Local\\Temp\\ipykernel_35492\\2893645305.py:8: DeprecationWarning: Call to deprecated `__getitem__` (Method will be removed in 4.0.0, use self.wv.__getitem__() instead).\n",
      "  embedding_matrix[i] = word2vec[word]\n"
     ]
    }
   ],
   "source": [
    "# 사전 학습된 Word2Vec 모델 로드\n",
    "word2vec = Word2Vec.load('ko/ko.bin')\n",
    "\n",
    "# 임베딩 레이어의 가중치를 초기화\n",
    "embedding_matrix = np.zeros((len(tokenizer.word_index) + 1, word2vec.vector_size))\n",
    "for word, i in tokenizer.word_index.items():\n",
    "    if word in word2vec:\n",
    "        embedding_matrix[i] = word2vec[word]"
   ]
  },
  {
   "attachments": {},
   "cell_type": "markdown",
   "metadata": {},
   "source": [
    "### 모델 구성 및 학습"
   ]
  },
  {
   "cell_type": "code",
   "execution_count": 37,
   "metadata": {},
   "outputs": [
    {
     "name": "stdout",
     "output_type": "stream",
     "text": [
      "Epoch 1/15\n",
      "1827/1832 [============================>.] - ETA: 0s - loss: 0.4041 - accuracy: 0.8111WARNING:tensorflow:Can save best model only with val_acc available, skipping.\n",
      "1832/1832 [==============================] - 17s 9ms/step - loss: 0.4039 - accuracy: 0.8112 - val_loss: 0.3408 - val_accuracy: 0.8525\n",
      "Epoch 2/15\n",
      "1829/1832 [============================>.] - ETA: 0s - loss: 0.3020 - accuracy: 0.8699WARNING:tensorflow:Can save best model only with val_acc available, skipping.\n",
      "1832/1832 [==============================] - 16s 9ms/step - loss: 0.3020 - accuracy: 0.8699 - val_loss: 0.3273 - val_accuracy: 0.8555\n",
      "Epoch 3/15\n",
      "1828/1832 [============================>.] - ETA: 0s - loss: 0.2527 - accuracy: 0.8928WARNING:tensorflow:Can save best model only with val_acc available, skipping.\n",
      "1832/1832 [==============================] - 18s 10ms/step - loss: 0.2526 - accuracy: 0.8928 - val_loss: 0.3340 - val_accuracy: 0.8571\n",
      "Epoch 4/15\n",
      "1827/1832 [============================>.] - ETA: 0s - loss: 0.2010 - accuracy: 0.9177WARNING:tensorflow:Can save best model only with val_acc available, skipping.\n",
      "1832/1832 [==============================] - 17s 9ms/step - loss: 0.2010 - accuracy: 0.9177 - val_loss: 0.3734 - val_accuracy: 0.8536\n",
      "Epoch 5/15\n",
      "1826/1832 [============================>.] - ETA: 0s - loss: 0.1434 - accuracy: 0.9436WARNING:tensorflow:Can save best model only with val_acc available, skipping.\n",
      "1832/1832 [==============================] - 16s 9ms/step - loss: 0.1435 - accuracy: 0.9436 - val_loss: 0.4302 - val_accuracy: 0.8466\n",
      "Epoch 6/15\n",
      "1830/1832 [============================>.] - ETA: 0s - loss: 0.0880 - accuracy: 0.9677WARNING:tensorflow:Can save best model only with val_acc available, skipping.\n",
      "1832/1832 [==============================] - 17s 9ms/step - loss: 0.0881 - accuracy: 0.9677 - val_loss: 0.5696 - val_accuracy: 0.8412\n",
      "Epoch 6: early stopping\n"
     ]
    }
   ],
   "source": [
    "# 모델 정의\n",
    "model3 = Sequential()\n",
    "model3.add(Embedding(\n",
    "    len(tokenizer.word_index)+1, \n",
    "    word2vec.vector_size, \n",
    "    weights=[embedding_matrix], \n",
    "    trainable=True # 파인튜닝 허용\n",
    "))\n",
    "model3.add(LSTM(128))\n",
    "model3.add(Dense(1, activation='sigmoid'))\n",
    "\n",
    "# 모델 컴파일\n",
    "model3.compile(optimizer='adam', loss='binary_crossentropy', metrics=['accuracy'])\n",
    "\n",
    "# 콜백 정의\n",
    "es3 = EarlyStopping(monitor='val_loss', mode='min', verbose=1, patience=4)\n",
    "mc3 = ModelCheckpoint('best_model3.h5', monitor='val_acc', mode='max', verbose=1, save_best_only=True)\n",
    "\n",
    "# 모델 학습\n",
    "history3 = model3.fit(train_inputs, train_labels, epochs=15, callbacks=[es3, mc3], batch_size=60, validation_split=0.2)\n"
   ]
  },
  {
   "cell_type": "code",
   "execution_count": 38,
   "metadata": {},
   "outputs": [
    {
     "name": "stdout",
     "output_type": "stream",
     "text": [
      "1563/1563 [==============================] - 5s 3ms/step - loss: 0.5675 - accuracy: 0.8412\n",
      "[0.567471444606781, 0.8412104845046997]\n"
     ]
    }
   ],
   "source": [
    "# 모델 평가\n",
    "print(model3.evaluate(test_inputs, test_labels))\n"
   ]
  },
  {
   "attachments": {},
   "cell_type": "markdown",
   "metadata": {},
   "source": [
    "### 시각화"
   ]
  },
  {
   "cell_type": "code",
   "execution_count": 39,
   "metadata": {},
   "outputs": [
    {
     "data": {
      "image/png": "[encoded data removed]",
      "text/plain": [
       "<Figure size 1200x400 with 2 Axes>"
      ]
     },
     "metadata": {},
     "output_type": "display_data"
    }
   ],
   "source": [
    "# 손실 함수 값 그래프\n",
    "plt.figure(figsize=(12, 4))\n",
    "\n",
    "plt.subplot(1, 2, 1)\n",
    "plt.plot(history1.history['loss'], 'b-', label='model1_loss')\n",
    "plt.plot(history1.history['val_loss'], 'r--', label='model1_val_loss')\n",
    "plt.plot(history2.history['loss'], 'g-', label='model2_loss')\n",
    "plt.plot(history2.history['val_loss'], 'k--', label='model2_val_loss')\n",
    "plt.plot(history3.history['loss'], 'y-', label='model3_loss')\n",
    "plt.plot(history3.history['val_loss'], 'c--', label='model3_val_loss')\n",
    "plt.xlabel('Epoch')\n",
    "plt.legend()\n",
    "\n",
    "# 정확도 그래프\n",
    "plt.subplot(1, 2, 2)\n",
    "plt.plot(history1.history['accuracy'], 'b-', label='model1_accuracy')\n",
    "plt.plot(history1.history['val_accuracy'], 'r--', label='model1_val_accuracy')\n",
    "plt.plot(history2.history['accuracy'], 'g-', label='model2_accuracy')\n",
    "plt.plot(history2.history['val_accuracy'], 'k--', label='model2_val_accuracy')\n",
    "plt.plot(history3.history['accuracy'], 'y-', label='model3_accuracy')\n",
    "plt.plot(history3.history['val_accuracy'], 'c--', label='model3_val_accuracy')\n",
    "plt.xlabel('Epoch')\n",
    "plt.legend()\n",
    "\n",
    "plt.show()\n"
   ]
  },
  {
   "attachments": {},
   "cell_type": "markdown",
   "metadata": {},
   "source": [
    "### 추론 성능 비교 테이블\n",
    "\n",
    "|  | Loss | Accuracy |\n",
    "|------|------|----------|\n",
    "| 모델1 | 0.4980 | 0.8473 |\n",
    "| 모델2 | 0.5458 | 0.8429 |\n",
    "| 모델3 | 0.5674 | 0.8412 |\n"
   ]
  },
  {
   "attachments": {},
   "cell_type": "markdown",
   "metadata": {},
   "source": [
    "## 결론\n",
    "\n",
    "가장 먼저 SentencePiece 사용시 기반 모델로 작성한 첫번째 모델보다 좋은 성적을 보여주지 못했다.  \n",
    "그리고 SentencePiece 모델을 사용한 모델2와 모델3를 비교했을 때, 큰 차이는 보이지 않지만, BPE를 사용했을 때, 유니그램 대비 좀 더 좋은 성과를 보여준다.  \n",
    "하지만, 평가 수치로 봤을 때, 형태소 분석기와 사전 처리된 Word2Vec 모델을 사용한 모델1이 가장 좋은 성과를 보여준다.  \n",
    "\n",
    "다만, 토크나이징 전에 데이터를 좀 더 정제하고, 불용어를 제거하면 성능이 더 좋아질 것으로 보인다.\n",
    "\n"
   ]
  }
 ],
 "metadata": {
  "kernelspec": {
   "display_name": "tf39",
   "language": "python",
   "name": "python3"
  },
  "language_info": {
   "codemirror_mode": {
    "name": "ipython",
    "version": 3
   },
   "file_extension": ".py",
   "mimetype": "text/x-python",
   "name": "python",
   "nbconvert_exporter": "python",
   "pygments_lexer": "ipython3",
   "version": "3.9.16"
  },
  "orig_nbformat": 4
 },
 "nbformat": 4,
 "nbformat_minor": 2
}
