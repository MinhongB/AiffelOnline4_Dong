{
 "cells": [
  {
   "attachments": {},
   "cell_type": "markdown",
   "metadata": {},
   "source": [
    "# 9-1. 프로젝트 : 모든 장르 간 편향성 측정해 보기\n",
    "\n",
    "목표\n",
    "- 워드임베딩의 most_similar() 메소드 결과가 의미상 바르게 나왔다.\n",
    "- 타당한 방법론을 통해 중복이 잘 제거되고 개념축을 의미적으로 잘 대표하는 단어 셋이 만들어졌다.\n",
    "- 전체 영화 장르별로 예술/일반 영화에 대한 편향성 WEAT score가 상식에 부합하는 수치로 얻어졌으며 이를 잘 시각화하였다."
   ]
  },
  {
   "cell_type": "code",
   "execution_count": 33,
   "metadata": {
    "ExecuteTime": {
     "end_time": "2023-06-29T17:06:42.290575100Z",
     "start_time": "2023-06-29T17:06:42.224960800Z"
    }
   },
   "outputs": [
    {
     "name": "stdout",
     "output_type": "stream",
     "text": [
      "0.6.0\n",
      "3.8.3\n",
      "1.2.2\n",
      "0.12.2\n"
     ]
    }
   ],
   "source": [
    "import os\n",
    "\n",
    "import konlpy\n",
    "import gensim\n",
    "import sklearn\n",
    "import seaborn as sns\n",
    "import numpy as np\n",
    "import matplotlib.pyplot as plt\n",
    "\n",
    "print(konlpy.__version__)\n",
    "print(gensim.__version__)\n",
    "print(sklearn.__version__)\n",
    "print(sns.__version__)"
   ]
  },
  {
   "cell_type": "code",
   "execution_count": 34,
   "metadata": {
    "ExecuteTime": {
     "end_time": "2023-06-29T17:06:42.331574700Z",
     "start_time": "2023-06-29T17:06:42.238063500Z"
    }
   },
   "outputs": [],
   "source": [
    "from tqdm import tqdm\n",
    "from konlpy.tag import Okt\n",
    "from gensim.models import Word2Vec\n",
    "from sklearn.feature_extraction.text import TfidfVectorizer\n",
    "from numpy import dot\n",
    "from numpy.linalg import norm\n"
   ]
  },
  {
   "attachments": {},
   "cell_type": "markdown",
   "metadata": {},
   "source": [
    "## 임베딩 모델 준비\n",
    "\n",
    "1. 파일에서 데이터를 읽어온다.\n",
    "2. 품사 태깅을 한다.\n",
    "3. 명사만 고른다.\n",
    "4. Word2Vec을 학습한다.\n",
    "5. 테스트"
   ]
  },
  {
   "cell_type": "code",
   "execution_count": 35,
   "metadata": {
    "ExecuteTime": {
     "end_time": "2023-06-29T17:11:22.640213900Z",
     "start_time": "2023-06-29T17:06:42.254062100Z"
    }
   },
   "outputs": [],
   "source": [
    "# Konlpy의 Okt 패키지를 사용합니다. \n",
    "okt = Okt()\n",
    "\n",
    "# 명사를 저장할 빈 리스트 생성\n",
    "tokenized = []\n",
    "\n",
    "# 파일을 읽기 모드 열기\n",
    "with open('synopsis/synopsis.txt', 'r') as file:\n",
    "    \n",
    "    # 파일 내의 각 라인을 읽어 처리하기 위한 무한 루프\n",
    "    while True:\n",
    "        # 파일에서 한 줄을 읽는다.\n",
    "        line = file.readline()\n",
    "        \n",
    "        # EOF 감지\n",
    "        if not line:\n",
    "            break\n",
    "        \n",
    "        # okt.pos 함수를 이용해 해당 라인의 텍스트를 형태소 분석하고, 품사 정보를 얻는다.\n",
    "        # 여기서 stem=True는 어근을 추출하는 것이며, norm=True는 표준화를 의미한다.\n",
    "        words = okt.pos(line, stem=True, norm=True)\n",
    "        \n",
    "        # 형태소 분석 결과를 저장할 빈 리스트를 생성한다.\n",
    "        res = []\n",
    "        \n",
    "        # 형태소 분석 결과에서 명사('Noun')인 품사만을 선택하여 res 리스트에 추가한다.\n",
    "        # 'Adjective', 'Verb' 등 다른 품사를 추가하려면 [\"Noun\", \"Adjective\", \"Verb\"] 등으로 조건을 넣을 수 있다.\n",
    "        for w in words:\n",
    "            if w[1] in [\"Noun\"]:\n",
    "                res.append(w[0])\n",
    "        \n",
    "        # 명사만 추출한 결과를 tokenized 리스트에 추가합니다.\n",
    "        tokenized.append(res)\n"
   ]
  },
  {
   "cell_type": "code",
   "execution_count": 36,
   "metadata": {
    "ExecuteTime": {
     "end_time": "2023-06-29T17:11:27.259431Z",
     "start_time": "2023-06-29T17:11:22.685268600Z"
    }
   },
   "outputs": [
    {
     "name": "stderr",
     "output_type": "stream",
     "text": [
      "C:\\Users\\tama0\\AppData\\Local\\Temp\\ipykernel_28716\\340135216.py:9: DeprecationWarning: Call to deprecated `most_similar` (Method will be removed in 4.0.0, use self.wv.most_similar() instead).\n",
      "  model.most_similar(positive=['영화'])\n"
     ]
    },
    {
     "data": {
      "text/plain": "[('작품', 0.9020259380340576),\n ('다큐멘터리', 0.8640918731689453),\n ('영화로', 0.8335910439491272),\n ('드라마', 0.8285824656486511),\n ('코미디', 0.7974773049354553),\n ('소재', 0.7945094704627991),\n ('주제', 0.7910969257354736),\n ('형식', 0.78324955701828),\n ('편의', 0.7798014283180237),\n ('코믹', 0.7768430709838867)]"
     },
     "execution_count": 36,
     "metadata": {},
     "output_type": "execute_result"
    }
   ],
   "source": [
    "# gensim 패키지의 Word2Vec 모델을 사용하여 토큰화된 단어(tokenized)를 벡터로 변환한다.\n",
    "# size 파라미터는 벡터의 차원수를, window는 주변 단어를 고려하는 범위를, \n",
    "# min_count는 단어의 최소 출현 빈도수를, sg는 학습 알고리즘을 선택하는 파라미터로 \n",
    "# 0이면 CBOW, 1이면 Skip-Gram 방식을 의미한다.\n",
    "model = Word2Vec(tokenized, size=100, window=5, min_count=3, sg=0)  \n",
    "\n",
    "# '영화'라는 단어와 가장 유사한 단어들을 찾습니다. positive는 유사성을 계산할 대상 단어를 의미한다.\n",
    "# most_similar() 함수는 주어진 단어와 가장 유사한 단어들을 cosine 유사도를 기반으로 찾아준다.\n",
    "model.most_similar(positive=['영화']) \n",
    "\n"
   ]
  },
  {
   "cell_type": "code",
   "execution_count": 37,
   "metadata": {
    "ExecuteTime": {
     "end_time": "2023-06-29T17:11:27.274402500Z",
     "start_time": "2023-06-29T17:11:27.261432Z"
    }
   },
   "outputs": [
    {
     "data": {
      "text/plain": "[('애정', 0.9228848218917847),\n ('욕망', 0.9134882688522339),\n ('집착', 0.8909893035888672),\n ('아픔', 0.8569540977478027),\n ('교감', 0.8547357320785522),\n ('육체', 0.8540400862693787),\n ('자극', 0.8471860885620117),\n ('감', 0.8443640470504761),\n ('깊이', 0.8344107866287231),\n ('대화', 0.8343896865844727)]"
     },
     "execution_count": 37,
     "metadata": {},
     "output_type": "execute_result"
    }
   ],
   "source": [
    "model.wv.most_similar(positive=['감정'])"
   ]
  },
  {
   "cell_type": "code",
   "execution_count": 38,
   "metadata": {
    "ExecuteTime": {
     "end_time": "2023-06-29T17:11:27.318614700Z",
     "start_time": "2023-06-29T17:11:27.276402300Z"
    }
   },
   "outputs": [
    {
     "data": {
      "text/plain": "[('듯', 0.8838769197463989),\n ('머리', 0.8552036881446838),\n ('비명', 0.8468407988548279),\n ('신음', 0.8321747779846191),\n ('밖', 0.8284151554107666),\n ('창문', 0.8245733380317688),\n ('구멍', 0.824013352394104),\n ('홀린', 0.8210142850875854),\n ('어딘가', 0.8013283610343933),\n ('잠', 0.7998385429382324)]"
     },
     "execution_count": 38,
     "metadata": {},
     "output_type": "execute_result"
    }
   ],
   "source": [
    "model.wv.most_similar(positive=['소리'])"
   ]
  },
  {
   "attachments": {},
   "cell_type": "markdown",
   "metadata": {},
   "source": [
    "연관성 있는 데이터가 잘 나온 것으로 보인다."
   ]
  },
  {
   "attachments": {},
   "cell_type": "markdown",
   "metadata": {},
   "source": [
    "## 대표성 있는 단어 셋 생성\n",
    "\n",
    "1. 영화 구분별 텍스트 데이터 로드와 전처리\n",
    "    1. art와 gen 파일에서 명사 추출\n",
    "    2. 텍스트 데이터를 TF-IDF 방식으로 벡터화\n",
    "    3. COO 형식으로 변환한 후, 각 단어의 인덱스와 그 TF-IDF 값을 추출\n",
    "    4. TF-IDF 값이 높은 상위 100개의 단어들을 출력\n",
    "    5. '타겟 단어' 선택\n",
    "2. 장르별 텍스트 데이터 로드와 전처리\n",
    "    1. 파일에서 명사 추출\n",
    "    2. TF-IDF 벡터화\n",
    "    3. 장르별 대표 단어 선정\n",
    "    4. 장르 간 유사도 행렬 초기화\n",
    "    5. 장르별 대표 단어 벡터화 및 WEAT 점수 계산\n",
    "    6. WEAT 점수 출력"
   ]
  },
  {
   "cell_type": "code",
   "execution_count": 39,
   "metadata": {
    "ExecuteTime": {
     "end_time": "2023-06-29T17:11:27.318614700Z",
     "start_time": "2023-06-29T17:11:27.292497500Z"
    }
   },
   "outputs": [],
   "source": [
    "# 텍스트 파일을 읽어와서 토큰화하고 명사를 추출하는 함수\n",
    "def read_token(file_name):\n",
    "    # 한국어 형태소 분석기인 Okt를 인스턴스화\n",
    "    okt = Okt()\n",
    "    \n",
    "    # 결과를 저장할 빈 리스트\n",
    "    result = []\n",
    "    \n",
    "    # 지정된 텍스트 파일의 라인 수 측정\n",
    "    with open('synopsis/'+file_name, 'r') as fread:\n",
    "        total_lines = sum(1 for _ in fread)\n",
    "        \n",
    "    # 실제 텍스트 처리\n",
    "    with open('synopsis/'+file_name, 'r') as fread: \n",
    "        # 시작 로그 출력\n",
    "        print(file_name, '파일을 읽고 있습니다.')\n",
    "        \n",
    "        # tqdm을 사용하여 파일의 각 라인을 읽어와서 처리한다.\n",
    "        # tqdm의 진행 바는 파일의 전체 라인 수(total_lines)를 기반으로 진행 상황을 표시한다.\n",
    "        for line in tqdm(fread, total=total_lines): \n",
    "            \n",
    "            # okt.pos 함수를 이용해 해당 라인의 텍스트를 형태소 분석하고 품사 정보를 얻는다.\n",
    "            # 여기서 stem=True는 어근을 추출하는 것이며, norm=True는 표준화를 의미함\n",
    "            tokenlist = okt.pos(line, stem=True, norm=True)\n",
    "            \n",
    "            # 형태소 분석 결과에서 명사('Noun')인 품사만을 선택하여 result 리스트에 추가\n",
    "            for word in tokenlist:\n",
    "                if word[1] in [\"Noun\"]:\n",
    "                    result.append((word[0]))\n",
    "                    \n",
    "    # 명사만 추출한 결과\n",
    "    return ' '.join(result)\n"
   ]
  },
  {
   "cell_type": "code",
   "execution_count": 40,
   "metadata": {
    "ExecuteTime": {
     "end_time": "2023-06-29T17:16:32.237986200Z",
     "start_time": "2023-06-29T17:11:27.306414200Z"
    }
   },
   "outputs": [
    {
     "name": "stdout",
     "output_type": "stream",
     "text": [
      "synopsis_art.txt 파일을 읽고 있습니다.\n"
     ]
    },
    {
     "name": "stderr",
     "output_type": "stream",
     "text": [
      "100%|██████████| 14435/14435 [00:49<00:00, 291.40it/s]\n"
     ]
    },
    {
     "name": "stdout",
     "output_type": "stream",
     "text": [
      "synopsis_gen.txt 파일을 읽고 있습니다.\n"
     ]
    },
    {
     "name": "stderr",
     "output_type": "stream",
     "text": [
      "100%|██████████| 48116/48116 [04:15<00:00, 188.49it/s]\n"
     ]
    }
   ],
   "source": [
    "art_txt = 'synopsis_art.txt'\n",
    "gen_txt = 'synopsis_gen.txt'\n",
    "\n",
    "art = read_token(art_txt)\n",
    "gen = read_token(gen_txt)"
   ]
  },
  {
   "cell_type": "code",
   "execution_count": 41,
   "metadata": {
    "ExecuteTime": {
     "end_time": "2023-06-29T17:16:32.269252900Z",
     "start_time": "2023-06-29T17:16:32.256511600Z"
    }
   },
   "outputs": [
    {
     "name": "stdout",
     "output_type": "stream",
     "text": [
      "['사운드', '엔지니어', '상우', '유지태', '분', '치매', '할머니', '백성희', '분', '시절']\n"
     ]
    }
   ],
   "source": [
    "print(art.split()[:10])"
   ]
  },
  {
   "cell_type": "code",
   "execution_count": 42,
   "metadata": {
    "ExecuteTime": {
     "end_time": "2023-06-29T17:16:32.667166900Z",
     "start_time": "2023-06-29T17:16:32.269252900Z"
    }
   },
   "outputs": [
    {
     "name": "stdout",
     "output_type": "stream",
     "text": [
      "(2, 41082)\n"
     ]
    }
   ],
   "source": [
    "# TfidfVectorizer 객체를 생성합니다.\n",
    "# 이 객체는 텍스트 데이터를 TF-IDF 벡터로 변환하는 작업을 수행합니다.\n",
    "vectorizer = TfidfVectorizer()\n",
    "\n",
    "# fit_transform 메서드를 사용하여 두 개의 텍스트 ([art, gen])를 TF-IDF 벡터로 변환\n",
    "# 텍스트 데이터에 대한 학습과 변환을 한 번에 수행함\n",
    "X = vectorizer.fit_transform([art, gen])\n",
    "\n",
    "# 변환된 결과 X의 차원을 출력함\n",
    "# X의 차원은 (문서의 수, 단어의 수)임\n",
    "# 이 경우에는 두 개의 텍스트를 변환했으므로 문서의 수는 2가 됨\n",
    "# 단어의 수는 두 텍스트에 등장하는 \"모든 단어\"의 수를 나타냄\n",
    "print(X.shape)\n"
   ]
  },
  {
   "cell_type": "code",
   "execution_count": 43,
   "metadata": {
    "ExecuteTime": {
     "end_time": "2023-06-29T17:16:32.727142300Z",
     "start_time": "2023-06-29T17:16:32.668167100Z"
    }
   },
   "outputs": [
    {
     "name": "stdout",
     "output_type": "stream",
     "text": [
      "23976\n",
      "영화\n"
     ]
    }
   ],
   "source": [
    "# '영화'라는 단어가 벡터화된 단어 사전에서 몇 번째 인덱스에 해당하는지 확인\n",
    "print(vectorizer.vocabulary_['영화'])\n",
    "\n",
    "# 여기서는 23976번째 인덱스에 해당하는 단어가 무엇인지 확인\n",
    "# get_feature_names 오류 발생했었음. 이유는 버전이슈\n",
    "# ref: https://stackoverflow.com/questions/70215049/attributeerror-tfidfvectorizer-object-has-no-attribute-get-feature-names-out\n",
    "print(vectorizer.get_feature_names_out()[23976])\n"
   ]
  },
  {
   "cell_type": "code",
   "execution_count": 44,
   "outputs": [
    {
     "name": "stdout",
     "output_type": "stream",
     "text": [
      "예술영화를 대표하는 단어들:\n",
      "그녀, 자신, 시작, 위해, 사랑, 사람, 영화, 친구, 남자, 가족, 이야기, 마을, 사건, 마음, 세상, 아버지, 아이, 엄마, 모든, 여자, 대한, 서로, 과연, 다시, 시간, 아들, 소녀, 아내, 다른, 사이, 영화제, 세계, 사실, 하나, 점점, 남편, 감독, 여행, 인생, 발견, 모두, 순간, 우리, 가장, 마지막, 생활, 아빠, 모습, 통해, 죽음, 기억, 비밀, 학교, 음악, 한편, 소년, 생각, 도시, 명의, 사고, 결혼, 전쟁, 때문, 위기, 이제, 최고, 이자, 과거, 일상, 경찰, 상황, 간다, 미국, 결심, 운명, 현실, 관계, 지금, 단편, 여인, 하루, 이름, 이후, 준비, 인간, 감정, 만난, 국제, 처음, 충격, 살인, 누구, 동안, 존재, 그린, 어머니, 연인, 계속, 동생, 작품, \n",
      "\n",
      "일반영화를 대표하는 단어들:\n",
      "자신, 그녀, 영화제, 위해, 사람, 시작, 국제, 영화, 친구, 사랑, 남자, 이야기, 대한, 서울, 여자, 사건, 남편, 아이, 가족, 아버지, 다른, 마을, 시간, 엄마, 아들, 모든, 단편, 마음, 사실, 다시, 세계, 모습, 작품, 통해, 생각, 서로, 세상, 발견, 감독, 아내, 관계, 소녀, 사이, 하나, 우리, 애니메이션, 때문, 여성, 죽음, 과연, 점점, 인간, 생활, 한편, 결혼, 상황, 모두, 기억, 명의, 소년, 여행, 가장, 간다, 순간, 이제, 도시, 비밀, 학교, 과거, 가지, 이자, 경찰, 마지막, 미국, 동안, 전쟁, 주인공, 대해, 존재, 현실, 연출, 사고, 살인, 일상, 어머니, 계속, 사회, 인생, 다큐멘터리, 부문, 섹스, 최고, 바로, 동생, 의도, 하루, 위기, 계획, 정체, 한국, "
     ]
    }
   ],
   "source": [
    "# TF-IDF로 표현한 sparse matrix를 가져와서 COO 형식으로 변환\n",
    "m1 = X[0].tocoo()\n",
    "m2 = X[1].tocoo()\n",
    "\n",
    "# 각 단어의 인덱스(i)와 그 TF-IDF 값(j)를 추출하여 리스트 생성\n",
    "w1 = [[i, j] for i, j in zip(m1.col, m1.data)]\n",
    "w2 = [[i, j] for i, j in zip(m2.col, m2.data)]\n",
    "\n",
    "# 구성하는 단어들을 TF-IDF 값이 높은 순으로 정렬\n",
    "w1.sort(key=lambda x: x[1], reverse=True)\n",
    "w2.sort(key=lambda x: x[1], reverse=True)\n",
    "\n",
    "# 예술영화를 대표하는 단어들 (TF-IDF 값이 높은 단어 순)을 출력\n",
    "print('예술영화를 대표하는 단어들:')\n",
    "for i in range(100):\n",
    "    # 벡터화된 단어 사전에서 i번째 단어를 가져와서 출력\n",
    "    print(vectorizer.get_feature_names_out()[w1[i][0]], end=', ')\n",
    "\n",
    "print('\\n')\n",
    "\n",
    "# 일반영화를 대표하는 단어들 (TF-IDF 값이 높은 단어 순)을 출력\n",
    "print('일반영화를 대표하는 단어들:')\n",
    "for i in range(100):\n",
    "    # 벡터화된 단어 사전에서 i번째 단어를 가져와서 출력\n",
    "    print(vectorizer.get_feature_names_out()[w2[i][0]], end=', ')\n"
   ],
   "metadata": {
    "collapsed": false,
    "ExecuteTime": {
     "end_time": "2023-06-29T17:16:35.020250200Z",
     "start_time": "2023-06-29T17:16:32.700623300Z"
    }
   }
  },
  {
   "cell_type": "code",
   "execution_count": 45,
   "metadata": {
    "ExecuteTime": {
     "end_time": "2023-06-29T17:16:36.928561800Z",
     "start_time": "2023-06-29T17:16:35.084402700Z"
    }
   },
   "outputs": [],
   "source": [
    "# 상위 100개의 단어들 중에서 대표 단어를 선택할 개수를 지정\n",
    "n = 15\n",
    "w1_, w2_ = [], []\n",
    "\n",
    "# 예술 영화와 일반 영화를 대표하는 단어들을 각각 리스트에 추가\n",
    "for i in range(100):\n",
    "    w1_.append(vectorizer.get_feature_names_out()[w1[i][0]])\n",
    "    w2_.append(vectorizer.get_feature_names_out()[w2[i][0]])\n",
    "\n",
    "# w1에만 있고 w2에는 없는, 예술 영화를 잘 대표하는 단어를 n개 선택\n",
    "# 이 때, 해당 단어가 Word2Vec 모델의 단어 사전에 포함되어 있는지도 확인\n",
    "target_art, target_gen = [], []\n",
    "for i in range(100):\n",
    "    if (w1_[i] not in w2_) and (w1_[i] in model.wv):\n",
    "        target_art.append(w1_[i])\n",
    "    if len(target_art) == n:\n",
    "        break\n",
    "\n",
    "# w2에만 있고 w1에는 없는, 일반 영화를 잘 대표하는 단어를 n개 선택합니다.\n",
    "# 이 때, 해당 단어가 Word2Vec 모델의 단어 사전에 포함되어 있는지도 확인합니다.\n",
    "for i in range(100):\n",
    "    if (w2_[i] not in w1_) and (w2_[i] in model.wv):\n",
    "        target_gen.append(w2_[i])\n",
    "    if len(target_gen) == n:\n",
    "        break\n"
   ]
  },
  {
   "cell_type": "code",
   "execution_count": 46,
   "metadata": {
    "ExecuteTime": {
     "end_time": "2023-06-29T17:16:36.943395800Z",
     "start_time": "2023-06-29T17:16:36.930561500Z"
    }
   },
   "outputs": [
    {
     "name": "stdout",
     "output_type": "stream",
     "text": [
      "['아빠', '음악', '결심', '운명', '지금', '여인', '이름', '이후', '준비', '감정', '만난', '처음', '충격', '누구', '그린']\n",
      "['서울', '애니메이션', '여성', '가지', '주인공', '대해', '연출', '사회', '다큐멘터리', '부문', '섹스', '바로', '의도', '계획', '정체']\n"
     ]
    }
   ],
   "source": [
    "print(target_art)\n",
    "print(target_gen)"
   ]
  },
  {
   "cell_type": "code",
   "execution_count": 47,
   "metadata": {
    "ExecuteTime": {
     "end_time": "2023-06-29T17:19:45.487306900Z",
     "start_time": "2023-06-29T17:16:36.945395500Z"
    }
   },
   "outputs": [
    {
     "name": "stdout",
     "output_type": "stream",
     "text": [
      "synopsis_drama.txt 파일을 읽고 있습니다.\n"
     ]
    },
    {
     "name": "stderr",
     "output_type": "stream",
     "text": [
      "100%|██████████| 19229/19229 [01:33<00:00, 204.88it/s]\n"
     ]
    },
    {
     "name": "stdout",
     "output_type": "stream",
     "text": [
      "synopsis_romance.txt 파일을 읽고 있습니다.\n"
     ]
    },
    {
     "name": "stderr",
     "output_type": "stream",
     "text": [
      "100%|██████████| 5776/5776 [00:25<00:00, 228.05it/s]\n"
     ]
    },
    {
     "name": "stdout",
     "output_type": "stream",
     "text": [
      "synopsis_action.txt 파일을 읽고 있습니다.\n"
     ]
    },
    {
     "name": "stderr",
     "output_type": "stream",
     "text": [
      "100%|██████████| 5860/5860 [00:27<00:00, 216.57it/s]\n"
     ]
    },
    {
     "name": "stdout",
     "output_type": "stream",
     "text": [
      "synopsis_comedy.txt 파일을 읽고 있습니다.\n"
     ]
    },
    {
     "name": "stderr",
     "output_type": "stream",
     "text": [
      "100%|██████████| 4635/4635 [00:26<00:00, 177.97it/s]\n"
     ]
    },
    {
     "name": "stdout",
     "output_type": "stream",
     "text": [
      "synopsis_war.txt 파일을 읽고 있습니다.\n"
     ]
    },
    {
     "name": "stderr",
     "output_type": "stream",
     "text": [
      "100%|██████████| 387/387 [00:02<00:00, 177.70it/s]\n"
     ]
    },
    {
     "name": "stdout",
     "output_type": "stream",
     "text": [
      "synopsis_horror.txt 파일을 읽고 있습니다.\n"
     ]
    },
    {
     "name": "stderr",
     "output_type": "stream",
     "text": [
      "100%|██████████| 3088/3088 [00:13<00:00, 220.95it/s]\n"
     ]
    }
   ],
   "source": [
    "# 처리할 장르의 텍스트 파일 이름들\n",
    "genre_txt = ['synopsis_drama.txt', 'synopsis_romance.txt', 'synopsis_action.txt', 'synopsis_comedy.txt', 'synopsis_war.txt', 'synopsis_horror.txt']\n",
    "\n",
    "# 각 텍스트파일 라벨\n",
    "genre_name = ['드라마', '멜로로맨스', '액션', '코미디', '전쟁', '공포(호러)']\n",
    "\n",
    "# 각 장르를 토큰화하고 명사만 추출하여 genre 리스트에 저장\n",
    "genre = []\n",
    "for file_name in genre_txt:\n",
    "    # read_token 함수는 텍스트를 토큰화하고 명사만 추출하는 기능\n",
    "    genre.append(read_token(file_name))\n"
   ]
  },
  {
   "cell_type": "code",
   "execution_count": 48,
   "metadata": {
    "ExecuteTime": {
     "end_time": "2023-06-29T17:19:45.759881900Z",
     "start_time": "2023-06-29T17:19:45.683490300Z"
    }
   },
   "outputs": [
    {
     "name": "stdout",
     "output_type": "stream",
     "text": [
      "(6, 33151)\n"
     ]
    }
   ],
   "source": [
    "# TF-IDF 벡터화\n",
    "vectorizer = TfidfVectorizer()\n",
    "\n",
    "# genre 리스트에 있는 텍스트 데이터를 TF-IDF 방식으로 벡터화한다\n",
    "# fit_transform 메소드는 두 가지 작업을 수행한다.\n",
    "# 'fit'은 데이터를 분석하여 TF-IDF 변환을 위한 기반 정보(어휘 사전 등)를 학습하고,\n",
    "# 'transform'은 실제로 데이터를 앞서 학습한 정보를 바탕으로 벡터로 변환한다.\n",
    "X = vectorizer.fit_transform(genre)\n",
    "\n",
    "# 벡터화된 결과의 차원을 출력합니다. 이 결과는 (문서의 수, 단어의 수) 형태로 나타나게 된다.\n",
    "print(X.shape)\n"
   ]
  },
  {
   "cell_type": "code",
   "execution_count": 49,
   "metadata": {
    "ExecuteTime": {
     "end_time": "2023-06-29T17:19:47.638872700Z",
     "start_time": "2023-06-29T17:19:45.762389700Z"
    }
   },
   "outputs": [
    {
     "name": "stdout",
     "output_type": "stream",
     "text": [
      "드라마: 자신, 영화제, 그녀, 사람, 사랑, 위해, 영화, 시작, 국제, 남자, 친구, 이야기, 여자, 아버지, 엄마, \n",
      "멜로로맨스: 그녀, 사랑, 자신, 시작, 남자, 남편, 여자, 사람, 친구, 위해, 마음, 섹스, 결혼, 서로, 아내, \n",
      "액션: 위해, 자신, 시작, 조직, 사건, 사람, 그녀, 경찰, 전쟁, 친구, 모든, 목숨, 사실, 세계, 가족, \n",
      "코미디: 그녀, 자신, 시작, 위해, 사랑, 사람, 친구, 영화, 남자, 여자, 영화제, 가족, 과연, 마을, 사건, \n",
      "전쟁: 전쟁, 위해, 전투, 시작, 작전, 독일군, 부대, 독일, 윈터스, 자신, 사람, 공격, 임무, 연합군, 병사, \n",
      "공포(호러): 시작, 위해, 사람, 자신, 친구, 그녀, 사건, 공포, 발견, 죽음, 마을, 남자, 가족, 영화, 하나, \n"
     ]
    }
   ],
   "source": [
    "# 각 장르의 벡터화된 결과를 COO 형식의 희소 행렬로 변환\n",
    "m = [X[i].tocoo() for i in range(X.shape[0])]\n",
    "\n",
    "# 각 장르의 희소 행렬에서 단어 인덱스와 해당 단어의 TF-IDF 값을 추출하여 리스트로 저장\n",
    "w = [[[i, j] for i, j in zip(mm.col, mm.data)] for mm in m]\n",
    "\n",
    "# 각 장르의 단어 리스트를 TF-IDF 값이 높은 순서로 정렬\n",
    "for i in range(len(w)):\n",
    "    w[i].sort(key=lambda x: x[1], reverse=True)\n",
    "\n",
    "# 각 장르를 대표하는 단어를 선정하고 출력\n",
    "attributes = []\n",
    "for i in range(len(w)):\n",
    "    print(genre_name[i], end=': ')\n",
    "    attr = []\n",
    "    j = 0\n",
    "    # TF-IDF 값이 높은 순서로 단어를 선택하되, Word2Vec 모델의 단어 집합에 포함되는 단어만을 대상으로 함\n",
    "    while (len(attr) < 15):\n",
    "        if vectorizer.get_feature_names_out()[w[i][j][0]] in model.wv:\n",
    "            attr.append(vectorizer.get_feature_names_out()[w[i][j][0]])\n",
    "            print(vectorizer.get_feature_names_out()[w[i][j][0]], end=', ')\n",
    "        j += 1\n",
    "    # 각 장르를 대표하는 단어를 출력하고, 대표 단어 리스트를 전체 장르의 대표 단어 리스트에 추가\n",
    "    attributes.append(attr)\n",
    "    print()\n"
   ]
  },
  {
   "cell_type": "code",
   "execution_count": 50,
   "metadata": {
    "ExecuteTime": {
     "end_time": "2023-06-29T17:19:47.655884700Z",
     "start_time": "2023-06-29T17:19:47.639873100Z"
    }
   },
   "outputs": [],
   "source": [
    "# 장르 간의 유사도를 저장할 2차원 리스트를 생성\n",
    "# 리스트의 크기는 장르의 수 X 장르의 수\n",
    "# 초기값은 모두 0\n",
    "matrix = [[0 for _ in range(len(genre_name))] for _ in range(len(genre_name))]\n"
   ]
  },
  {
   "cell_type": "code",
   "execution_count": 51,
   "outputs": [],
   "source": [
    "def cos_sim(i, j):\n",
    "    # 벡터 i와 벡터 j 사이의 코사인 유사도를 계산하는 함수\n",
    "    return dot(i, j.T)/(norm(i)*norm(j))\n",
    "\n",
    "def s(w, A, B):\n",
    "    # 타겟 단어 집합 w가 속성 단어 집합 A와 B에 대해 얼마나 편향되어 있는지를 계산하는 함수\n",
    "    c_a = cos_sim(w, A) # w와 A 사이의 코사인 유사도를 계산\n",
    "    c_b = cos_sim(w, B) # w와 B 사이의 코사인 유사도를 계산\n",
    "    mean_A = np.mean(c_a, axis=-1) # A에 대한 평균 코사인 유사도 계산\n",
    "    mean_B = np.mean(c_b, axis=-1) # B에 대한 평균 코사인 유사도 계산\n",
    "    return mean_A - mean_B # 평균 코사인 유사도의 차이를 반환\n",
    "\n",
    "def weat_score(X, Y, A, B):\n",
    "    # 두 타겟 단어 집합 X, Y가 속성 단어 집합 A, B에 대해 얼마나 편향되어 있는지를 계산하는 함수\n",
    "    s_X = s(X, A, B) # X에 대한 편향성 계산\n",
    "    s_Y = s(Y, A, B) # Y에 대한 편향성 계산\n",
    "\n",
    "    mean_X = np.mean(s_X) # X에 대한 편향성의 평균\n",
    "    mean_Y = np.mean(s_Y) # Y에 대한 편향성의 평균\n",
    "\n",
    "    std_dev = np.std(np.concatenate([s_X, s_Y], axis=0)) # X와 Y의 편향성을 결합한 후 표준편차 계산\n",
    "\n",
    "    return  (mean_X-mean_Y)/std_dev # WEAT 점수 계산\n"
   ],
   "metadata": {
    "collapsed": false,
    "ExecuteTime": {
     "end_time": "2023-06-29T17:19:47.669391300Z",
     "start_time": "2023-06-29T17:19:47.655884700Z"
    }
   }
  },
  {
   "cell_type": "code",
   "execution_count": 52,
   "metadata": {
    "ExecuteTime": {
     "end_time": "2023-06-29T17:19:47.686404Z",
     "start_time": "2023-06-29T17:19:47.670893500Z"
    }
   },
   "outputs": [],
   "source": [
    "# 예술 영화를 대표하는 단어들의 Word2Vec 벡터를 numpy array로 변환\n",
    "X = np.array([model.wv[word] for word in target_art])\n",
    "# 일반 영화를 대표하는 단어들의 Word2Vec 벡터를 numpy array로 변환\n",
    "Y = np.array([model.wv[word] for word in target_gen])\n",
    "\n",
    "# 모든 장르 쌍에 대해 WEAT 점수 계산\n",
    "for i in range(len(genre_name)-1): # 첫 번째 장르 선택\n",
    "    for j in range(i+1, len(genre_name)): # 두 번째 장르 선택\n",
    "        # 각 장르를 대표하는 속성 단어들의 Word2Vec 벡터를 numpy array로 변환\n",
    "        A = np.array([model.wv[word] for word in attributes[i]]) # 첫 번째 장르를 대표하는 속성 단어 벡터\n",
    "        B = np.array([model.wv[word] for word in attributes[j]]) # 두 번째 장르를 대표하는 속성 단어 벡터\n",
    "        # 해당 장르 쌍에 대한 WEAT 점수를 계산하고 matrix에 저장\n",
    "        matrix[i][j] = weat_score(X, Y, A, B)\n"
   ]
  },
  {
   "cell_type": "code",
   "execution_count": 53,
   "metadata": {
    "ExecuteTime": {
     "end_time": "2023-06-29T17:19:47.698911600Z",
     "start_time": "2023-06-29T17:19:47.685404100Z"
    }
   },
   "outputs": [
    {
     "name": "stdout",
     "output_type": "stream",
     "text": [
      "드라마 멜로로맨스 -0.78527576\n",
      "드라마 액션 0.008944945\n",
      "드라마 코미디 0.018730544\n",
      "드라마 전쟁 0.45331004\n",
      "드라마 공포(호러) -0.19731939\n",
      "멜로로맨스 액션 0.73956525\n",
      "멜로로맨스 코미디 0.8649834\n",
      "멜로로맨스 전쟁 0.78616655\n",
      "멜로로맨스 공포(호러) 0.69697183\n",
      "액션 코미디 -0.0043310346\n",
      "액션 전쟁 0.59400547\n",
      "액션 공포(호러) -0.29651102\n",
      "코미디 전쟁 0.4998004\n",
      "코미디 공포(호러) -0.317021\n",
      "전쟁 공포(호러) -0.58566725\n"
     ]
    }
   ],
   "source": [
    "# 모든 장르 쌍에 대해 WEAT 점수를 출력\n",
    "for i in range(len(genre_name)-1): # 첫 번째 장르 선택\n",
    "    for j in range(i+1, len(genre_name)): # 두 번째 장르 선택\n",
    "        # 선택된 장르 쌍의 이름과 해당 장르 쌍 사이의 WEAT 점수 출력\n",
    "        print(genre_name[i], genre_name[j], matrix[i][j])\n"
   ]
  },
  {
   "cell_type": "markdown",
   "source": [
    "### 결론\n",
    "\n",
    "위 내용을 평가해보자.\n",
    "\n",
    "먼저, 한국어 형태소 분석기인 Okt를 사용하여 텍스트를 토큰화하고, 이 중에서 명사만 추출했습니다.\n",
    "이 방법은 텍스트에서 중요한 개념을 대표하는 주요 단어를 포착하는데 효과적이다.\n",
    "\n",
    "TF-IDF(Term Frequency-Inverse Document Frequency)는 각 단어가 텍스트 내에서 얼마나 중요한지를 측정하는 데 널리 사용되는 통계적 방법이며, 각 장르를 가장 잘 대표하는 단어들을 추출했다.\n",
    "\n",
    "그 후, 추출된 단어들을 각각의 장르에 대한 어트리뷰트로 사용했다.\n",
    "\n",
    "추출된 단어 세트를 기반으로 WEAT(Word Embedding Association Test) 점수를 계산하여 각 장르 간의 의미적 연관성을 측정했다. 이는 단어 임베딩 간의 의미적 연관성을 측정하기 효과적이라고 방법론이다.\n",
    "\n",
    "\n",
    "이러한 근거를 통해, 위 과정은 충분히 중복이 잘 제거되고 개념축을 의미적으로 잘 대표하는 단어 셋이 만들어졌다고 볼 수 있다.\n",
    "\n"
   ],
   "metadata": {
    "collapsed": false
   }
  },
  {
   "cell_type": "markdown",
   "source": [
    "## WEAT score 계산 및 시각화\n",
    "\n",
    "1. 전체 장르별 예술/일반 영화에 대한 편향성을 시각화한다."
   ],
   "metadata": {
    "collapsed": false
   }
  },
  {
   "cell_type": "code",
   "execution_count": 54,
   "metadata": {
    "ExecuteTime": {
     "end_time": "2023-06-29T17:19:47.866756600Z",
     "start_time": "2023-06-29T17:19:47.707416700Z"
    }
   },
   "outputs": [
    {
     "data": {
      "text/plain": "<Axes: >"
     },
     "execution_count": 54,
     "metadata": {},
     "output_type": "execute_result"
    },
    {
     "data": {
      "text/plain": "<Figure size 640x480 with 2 Axes>",
      "image/png": "[encoded data removed]"
     },
     "metadata": {},
     "output_type": "display_data"
    }
   ],
   "source": [
    "# 재현성을 위해 난수 생성기의 시드 고정\n",
    "np.random.seed(0)\n",
    "\n",
    "# seaborn에 한글 지원 폰트 설정\n",
    "sns.set(font='Malgun Gothic')\n",
    "\n",
    "# 마이너스 부호 올바르게 표시하기 위한 설정\n",
    "plt.rcParams['axes.unicode_minus'] = False\n",
    "\n",
    "# heatmap 생성 및 시각화\n",
    "# matrix: 시각화할 데이터\n",
    "# xticklabels, yticklabels: x, y축 레이블\n",
    "# annot=True: 각 셀에 숫자 표기\n",
    "# cmap='RdYlGn_r': 색상 팔레트 설정\n",
    "ax = sns.heatmap(matrix, xticklabels=genre_name, yticklabels=genre_name, annot=True,  cmap='RdYlGn_r')\n",
    "\n",
    "# 생성된 heatmap 출력\n",
    "ax\n"
   ]
  },
  {
   "cell_type": "markdown",
   "source": [
    "\"드라마 멜로로맨스 -0.8526599\"은 \"드라마\" 장르와 \"멜로로맨스\" 장르가 어떤 특정 개념에 대해 반대 방향의 편향성을 갖고 있음을 의미한다. 즉, 드라마 장르와 멜로로맨스 장르는 서로 많이 다른 특징을 가지고 있다.\n",
    "\n",
    "\"멜로로맨스 액션 0.76285315\"은 \"멜로로맨스\" 장르와 \"액션\" 장르가 어떤 특정 개념에 대해 비슷한 방향의 편향성을 갖고 있음을 의미한다. 즉, 멜로로맨스 장르와 액션 장르는 어떤 특정한 측면에서 비슷한 특징을 공유하고 있다.\n",
    "\n",
    "\"액션 코미디 0.050466057\"는 \"액션\" 장르와 \"코미디\" 장르가 어떤 특정 개념에 대해 거의 비슷한 수준의 편향성을 갖고 있음을 의미한다. 즉, 액션 장르와 코미디 장르는 해당 개념에 대해 비슷한 정도로 연관성을 가지고 있다."
   ],
   "metadata": {
    "collapsed": false
   }
  },
  {
   "cell_type": "code",
   "execution_count": 55,
   "outputs": [
    {
     "data": {
      "text/plain": "<Figure size 1000x500 with 1 Axes>",
      "image/png": "[encoded data removed]"
     },
     "metadata": {},
     "output_type": "display_data"
    }
   ],
   "source": [
    "import matplotlib.pyplot as plt\n",
    "\n",
    "# 각 장르와 WEAT 점수의 평균값을 매칭한 딕셔너리 생성\n",
    "weat_scores = {genre_name[i]: np.mean(matrix[i]) for i in range(len(genre_name))}\n",
    "\n",
    "# 딕셔너리를 아이템별로 분리\n",
    "names = list(weat_scores.keys())\n",
    "values = list(weat_scores.values())\n",
    "\n",
    "# seaborn에 한글 지원 폰트 설정\n",
    "sns.set(font='Malgun Gothic')\n",
    "\n",
    "# 마이너스 부호 올바르게 표시하기 위한 설정\n",
    "plt.rcParams['axes.unicode_minus'] = False\n",
    "\n",
    "# 막대 그래프 생성\n",
    "plt.figure(figsize=(10,5))\n",
    "plt.bar(names, values)\n",
    "\n",
    "# 그래프 제목 및 x, y축 라벨 설정\n",
    "plt.title('장르별 예술/일반 영화에 대한 편향성 WEAT 점수')\n",
    "plt.xlabel('장르')\n",
    "plt.ylabel('WEAT 점수')\n",
    "\n",
    "# 그래프 출력\n",
    "plt.show()\n"
   ],
   "metadata": {
    "collapsed": false,
    "ExecuteTime": {
     "end_time": "2023-06-29T17:19:47.974473200Z",
     "start_time": "2023-06-29T17:19:47.878787400Z"
    }
   }
  },
  {
   "cell_type": "markdown",
   "source": [
    "위 그래프는 특정 장르가 \"예술 영화\"와 더 가깝게 연관되어 있는지, 아니면 \"일반 영화\"와 더 가깝게 연관되어 있는지를 측정한다.\n",
    "\n",
    "양수의 경우 예술 영화와의 관련이 높고, 음수면 일반 영화에 더 가깝게 관련되어 있음을 볼 수 있다.\n",
    "\n",
    "공포의 경우 편향성이 없으며, 드라마, 액션, 코미디, 전쟁의 경우, 편향성이 있지만, 무시해도 괜찮을 정도의 규모로 보인다.\n",
    "\n",
    "문제는 멜로로맨스인데 편향성이 너무 높아서 사용하려면 좀 규제를 할 필요가 있어 보인다."
   ],
   "metadata": {
    "collapsed": false
   }
  }
 ],
 "metadata": {
  "kernelspec": {
   "display_name": "tf39",
   "language": "python",
   "name": "python3"
  },
  "language_info": {
   "codemirror_mode": {
    "name": "ipython",
    "version": 3
   },
   "file_extension": ".py",
   "mimetype": "text/x-python",
   "name": "python",
   "nbconvert_exporter": "python",
   "pygments_lexer": "ipython3",
   "version": "3.9.16"
  },
  "orig_nbformat": 4
 },
 "nbformat": 4,
 "nbformat_minor": 2
}
