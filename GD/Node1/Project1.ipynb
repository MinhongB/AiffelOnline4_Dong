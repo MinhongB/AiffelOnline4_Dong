{
 "cells": [
  {
   "attachments": {},
   "cell_type": "markdown",
   "metadata": {},
   "source": [
    "# 네이버 감성분석 \n",
    "\n",
    "테스트를 위해 LSTM 기반으로 모델을 작성했다.\n",
    "이전과 차이점이 있다면, 나는 목표에 맞게 새로운 Tokenizer를 사용할 것이며, 사전 학습된 Word2Vec도 적용했다."
   ]
  },
  {
   "cell_type": "code",
   "execution_count": 1,
   "metadata": {},
   "outputs": [],
   "source": [
    "import numpy as np\n",
    "import pandas as pd\n",
    "from tensorflow.keras.preprocessing.text import Tokenizer\n",
    "from tensorflow.keras.preprocessing.sequence import pad_sequences\n",
    "from tensorflow.keras.models import Sequential\n",
    "from tensorflow.keras.layers import Dense, LSTM, Embedding\n",
    "from tensorflow.keras.callbacks import EarlyStopping, ModelCheckpoint\n",
    "from konlpy.tag import Okt, Komoran\n",
    "from gensim.models import Word2Vec\n",
    "import matplotlib.pyplot as plt"
   ]
  },
  {
   "attachments": {},
   "cell_type": "markdown",
   "metadata": {},
   "source": [
    "## 실험 1: 기존에 배운 방식으로 해결해보자\n"
   ]
  },
  {
   "attachments": {},
   "cell_type": "markdown",
   "metadata": {},
   "source": [
    "### 데이터 전처리\n",
    "\n",
    "1. missing value\n",
    "2. duplicated value\n",
    "3. length distribution check"
   ]
  },
  {
   "cell_type": "code",
   "execution_count": 2,
   "metadata": {},
   "outputs": [
    {
     "data": {
      "text/html": [
       "<div>\n",
       "<style scoped>\n",
       "    .dataframe tbody tr th:only-of-type {\n",
       "        vertical-align: middle;\n",
       "    }\n",
       "\n",
       "    .dataframe tbody tr th {\n",
       "        vertical-align: top;\n",
       "    }\n",
       "\n",
       "    .dataframe thead th {\n",
       "        text-align: right;\n",
       "    }\n",
       "</style>\n",
       "<table border=\"1\" class=\"dataframe\">\n",
       "  <thead>\n",
       "    <tr style=\"text-align: right;\">\n",
       "      <th></th>\n",
       "      <th>id</th>\n",
       "      <th>document</th>\n",
       "      <th>label</th>\n",
       "    </tr>\n",
       "  </thead>\n",
       "  <tbody>\n",
       "    <tr>\n",
       "      <th>0</th>\n",
       "      <td>9976970</td>\n",
       "      <td>아 더빙.. 진짜 짜증나네요 목소리</td>\n",
       "      <td>0</td>\n",
       "    </tr>\n",
       "    <tr>\n",
       "      <th>1</th>\n",
       "      <td>3819312</td>\n",
       "      <td>흠...포스터보고 초딩영화줄....오버연기조차 가볍지 않구나</td>\n",
       "      <td>1</td>\n",
       "    </tr>\n",
       "    <tr>\n",
       "      <th>2</th>\n",
       "      <td>10265843</td>\n",
       "      <td>너무재밓었다그래서보는것을추천한다</td>\n",
       "      <td>0</td>\n",
       "    </tr>\n",
       "    <tr>\n",
       "      <th>3</th>\n",
       "      <td>9045019</td>\n",
       "      <td>교도소 이야기구먼 ..솔직히 재미는 없다..평점 조정</td>\n",
       "      <td>0</td>\n",
       "    </tr>\n",
       "    <tr>\n",
       "      <th>4</th>\n",
       "      <td>6483659</td>\n",
       "      <td>사이몬페그의 익살스런 연기가 돋보였던 영화!스파이더맨에서 늙어보이기만 했던 커스틴 ...</td>\n",
       "      <td>1</td>\n",
       "    </tr>\n",
       "  </tbody>\n",
       "</table>\n",
       "</div>"
      ],
      "text/plain": [
       "         id                                           document  label\n",
       "0   9976970                                아 더빙.. 진짜 짜증나네요 목소리      0\n",
       "1   3819312                  흠...포스터보고 초딩영화줄....오버연기조차 가볍지 않구나      1\n",
       "2  10265843                                  너무재밓었다그래서보는것을추천한다      0\n",
       "3   9045019                      교도소 이야기구먼 ..솔직히 재미는 없다..평점 조정      0\n",
       "4   6483659  사이몬페그의 익살스런 연기가 돋보였던 영화!스파이더맨에서 늙어보이기만 했던 커스틴 ...      1"
      ]
     },
     "execution_count": 2,
     "metadata": {},
     "output_type": "execute_result"
    }
   ],
   "source": [
    "# 데이터 로드\n",
    "orig_train = pd.read_table('nsmc/ratings_train.txt')\n",
    "orig_test = pd.read_table('nsmc/ratings_test.txt')\n",
    "\n",
    "# 두번째 실험을 위해 사용할 데이터 분리\n",
    "train_data = orig_train.copy()\n",
    "test_data = orig_test.copy()\n",
    "train_data.head()"
   ]
  },
  {
   "cell_type": "code",
   "execution_count": 3,
   "metadata": {},
   "outputs": [
    {
     "data": {
      "text/plain": [
       "25857     NaN\n",
       "55737     NaN\n",
       "110014    NaN\n",
       "126782    NaN\n",
       "140721    NaN\n",
       "Name: document, dtype: object"
      ]
     },
     "execution_count": 3,
     "metadata": {},
     "output_type": "execute_result"
    }
   ],
   "source": [
    "# 데이터 결측치 확인\n",
    "null_check = pd.isnull(train_data['document'])\n",
    "null_data = train_data.loc[null_check, 'document']\n",
    "null_data.head()"
   ]
  },
  {
   "cell_type": "code",
   "execution_count": 4,
   "metadata": {},
   "outputs": [],
   "source": [
    "train_data = train_data.dropna() # 결측치 제거\n",
    "test_data = test_data.dropna() # 결측치 제거"
   ]
  },
  {
   "cell_type": "code",
   "execution_count": 5,
   "metadata": {},
   "outputs": [
    {
     "data": {
      "text/plain": [
       "1058      4\n",
       "1097     쵝오\n",
       "1248     최고\n",
       "1483     최고\n",
       "1707    재밌다\n",
       "Name: document, dtype: object"
      ]
     },
     "execution_count": 5,
     "metadata": {},
     "output_type": "execute_result"
    }
   ],
   "source": [
    "# 중복값 확인\n",
    "dupl_check = train_data.duplicated(subset=['document'])\n",
    "dupl_data = train_data.loc[dupl_check, 'document']\n",
    "dupl_data.head()"
   ]
  },
  {
   "cell_type": "code",
   "execution_count": 6,
   "metadata": {},
   "outputs": [],
   "source": [
    "# 중복 제거\n",
    "train_data = train_data.drop_duplicates(subset=['document'])"
   ]
  },
  {
   "cell_type": "code",
   "execution_count": 7,
   "metadata": {},
   "outputs": [
    {
     "data": {
      "text/plain": [
       "Series([], Name: document, dtype: object)"
      ]
     },
     "execution_count": 7,
     "metadata": {},
     "output_type": "execute_result"
    }
   ],
   "source": [
    "# 중복값 다시 확인\n",
    "dupl_check = train_data.duplicated(subset=['document'])\n",
    "dupl_data = train_data.loc[dupl_check, 'document']\n",
    "dupl_data.head()"
   ]
  },
  {
   "attachments": {},
   "cell_type": "markdown",
   "metadata": {},
   "source": [
    "그럼 길이 분포는 어떨까?"
   ]
  },
  {
   "cell_type": "code",
   "execution_count": 8,
   "metadata": {},
   "outputs": [
    {
     "name": "stdout",
     "output_type": "stream",
     "text": [
      "문장의 최단 길이: 1\n",
      "문장의 최장 길이: 146\n",
      "문장의 평균 길이: 35\n"
     ]
    },
    {
     "data": {
      "image/png": "[encoded data removed]",
      "text/plain": [
       "<Figure size 640x480 with 1 Axes>"
      ]
     },
     "metadata": {},
     "output_type": "display_data"
    }
   ],
   "source": [
    "# 코퍼스 내 길이 분포 확인 \n",
    "\n",
    "min_len = 999\n",
    "max_len = 0\n",
    "sum_len = 0\n",
    "\n",
    "for sen in train_data.document:\n",
    "    length = len(sen)\n",
    "    if min_len > length: min_len = length\n",
    "    if max_len < length: max_len = length\n",
    "    sum_len += length\n",
    "\n",
    "print(\"문장의 최단 길이:\", min_len)\n",
    "print(\"문장의 최장 길이:\", max_len)\n",
    "print(\"문장의 평균 길이:\", sum_len // len(train_data['document']))\n",
    "\n",
    "sentence_length = np.zeros((max_len), dtype=int)\n",
    "\n",
    "for sen in train_data['document']:\n",
    "    sentence_length[len(sen)-1] += 1\n",
    "\n",
    "plt.bar(range(max_len), sentence_length, width=1.0)\n",
    "plt.title(\"Sentence Length Distribution\")\n",
    "plt.show()"
   ]
  },
  {
   "cell_type": "code",
   "execution_count": 9,
   "metadata": {},
   "outputs": [
    {
     "name": "stdout",
     "output_type": "stream",
     "text": [
      "아\n",
      "잼\n",
      "1\n",
      "4\n",
      "굿\n",
      "짱\n",
      "휴\n",
      ".\n",
      "음\n",
      "?\n",
      "ㅎ\n",
      "ㅋ\n",
      "즐\n",
      "♥\n",
      "굳\n",
      "네\n",
      "ㅇ\n",
      "k\n",
      "ㅠ\n",
      "쒯\n",
      "♬\n",
      "토\n",
      "O\n",
      "똥\n",
      "z\n",
      "헐\n",
      "삼\n",
      "꽝\n",
      "!\n",
      "풉\n",
      "ㅅ\n",
      "왜\n",
      "ㄴ\n",
      "쉣\n",
      "봐\n",
      "뿌\n",
      "ㅜ\n",
      "♡\n",
      "ㅁ\n",
      "0\n",
      "ㅉ\n",
      "d\n",
      "흥\n",
      "乃\n",
      "찜\n",
      "귯\n",
      "린\n",
      "시\n",
      "ㅗ\n",
      "a\n",
      "c\n",
      "흠\n",
      "웅\n",
      "ㅣ\n",
      "오\n",
      "9\n",
      "쩜\n",
      "애\n",
      "헝\n",
      "쨩\n",
      "f\n",
      "움\n",
      "ㄳ\n",
      "업\n",
      "헉\n",
      "군\n",
      "b\n",
      ";\n",
      "g\n",
      "올\n",
      "걍\n",
      "허\n",
      "-\n",
      "쀍\n",
      "로\n",
      "ㄹ\n",
      "ㅂ\n",
      "갑\n",
      "즛\n",
      "킥\n",
      "함\n",
      "진\n",
      "ㅡ\n",
      "잠\n",
      "곧\n",
      "ㅍ\n",
      "h\n",
      "·\n",
      "캬\n",
      "ㅆ\n",
      ",\n",
      "풋\n",
      "ㄱ\n",
      "파\n",
      "ㄷ\n",
      "웩\n",
      "꺅\n",
      "욜\n",
      "ㅄ\n",
      "2\n",
      "핡\n"
     ]
    }
   ],
   "source": [
    "# 도대체 무슨 단어가 길이가 1인거지?\n",
    "def check_sentence_with_length(raw, length):\n",
    "    count = 0\n",
    "    \n",
    "    for sen in raw:\n",
    "        if len(sen) == length:\n",
    "            print(sen)\n",
    "            count += 1\n",
    "            if count > 100: return\n",
    "\n",
    "check_sentence_with_length(train_data['document'], 1)"
   ]
  },
  {
   "attachments": {},
   "cell_type": "markdown",
   "metadata": {},
   "source": [
    "그렇게 유의미하지 않는 데이터로 보인다."
   ]
  },
  {
   "cell_type": "code",
   "execution_count": 10,
   "metadata": {},
   "outputs": [
    {
     "name": "stdout",
     "output_type": "stream",
     "text": [
      "최고\n",
      "졸작\n",
      "대박\n",
      "버려\n",
      "망함\n",
      "굳굳\n",
      "안습\n",
      "망작\n",
      "ㅇㅇ\n",
      "쵝오\n",
      "굿!\n",
      "별루\n",
      "씐나\n",
      "쓰렉\n",
      "볼만\n",
      "허접\n",
      "비추\n",
      "좋다\n",
      "ㅎㅎ\n",
      "아나\n",
      "ㅉㅉ\n",
      "야.\n",
      "역시\n",
      "^^\n",
      "오오\n",
      "평이\n",
      "지루\n",
      "오욈\n",
      "ㅋㅋ\n",
      "지송\n",
      "별로\n",
      "눈물\n",
      "당연\n",
      "쩔어\n",
      "별노\n",
      "몰입\n",
      "졸잼\n",
      "돋네\n",
      "오글\n",
      "이응\n",
      "첨봄\n",
      "최악\n",
      "잼씀\n",
      "ok\n",
      "유후\n",
      "감동\n",
      "gg\n",
      ";;\n",
      "조앙\n",
      "1점\n",
      "표절\n",
      "명작\n",
      "으휴\n",
      "에효\n",
      "ㄱ굿\n",
      "굿잡\n",
      "잼나\n",
      "10\n",
      "ㅜㅜ\n",
      "우왕\n",
      "거지\n",
      "굿굿\n",
      "좋음\n",
      "실망\n",
      "굿.\n",
      "애이\n",
      "짱임\n",
      "전설\n",
      "mm\n",
      "와우\n",
      "등록\n",
      "하위\n",
      "그닥\n",
      "뭉클\n",
      "삼류\n",
      "HN\n",
      "윤하\n",
      "섹시\n",
      "실화\n",
      "머냐\n",
      "수작\n",
      "꿀잼\n",
      "동감\n",
      "dd\n",
      "굳ㅋ\n",
      "굳!\n",
      "추천\n",
      "좋아\n",
      "55\n",
      "안봐\n",
      "개쩜\n",
      "올레\n",
      "난해\n",
      "ㅠㅠ\n",
      "뭐니\n",
      "ㅁㅁ\n",
      "뭥미\n",
      "쓰랙\n",
      "좇~\n",
      "오우\n",
      "미안\n"
     ]
    }
   ],
   "source": [
    "check_sentence_with_length(train_data['document'], 2)"
   ]
  },
  {
   "attachments": {},
   "cell_type": "markdown",
   "metadata": {},
   "source": [
    "길이가 2인 단어는 '최고'와 같은 유의미한 단어도 있다.  \n",
    "또한 페딩으로 길이를 100만 사용할 예정이기 때문에 그 이상이 되는 데이터를 제거한다."
   ]
  },
  {
   "cell_type": "code",
   "execution_count": 11,
   "metadata": {},
   "outputs": [
    {
     "data": {
      "image/png": "[encoded data removed]",
      "text/plain": [
       "<Figure size 640x480 with 1 Axes>"
      ]
     },
     "metadata": {},
     "output_type": "display_data"
    }
   ],
   "source": [
    "# 길이 조건에 맞는 문장만 선택합니다.\n",
    "train_data = train_data[train_data['document'].str.len().between(2, 100)]\n",
    "\n",
    "\n",
    "# 분포도를 다시 그려봅니다.\n",
    "sentence_length = np.zeros((max_len), dtype=int)\n",
    "\n",
    "for sen in train_data['document']:\n",
    "    sentence_length[len(sen)-1] += 1\n",
    "\n",
    "plt.bar(range(max_len), sentence_length, width=1.0)\n",
    "plt.title(\"Sentence Length Distribution\")\n",
    "plt.show()"
   ]
  },
  {
   "cell_type": "code",
   "execution_count": 12,
   "metadata": {},
   "outputs": [],
   "source": [
    "check_sentence_with_length(train_data['document'], 1)"
   ]
  },
  {
   "cell_type": "code",
   "execution_count": 13,
   "metadata": {},
   "outputs": [
    {
     "name": "stdout",
     "output_type": "stream",
     "text": [
      "최고\n",
      "졸작\n",
      "대박\n",
      "버려\n",
      "망함\n",
      "굳굳\n",
      "안습\n",
      "망작\n",
      "ㅇㅇ\n",
      "쵝오\n",
      "굿!\n",
      "별루\n",
      "씐나\n",
      "쓰렉\n",
      "볼만\n",
      "허접\n",
      "비추\n",
      "좋다\n",
      "ㅎㅎ\n",
      "아나\n",
      "ㅉㅉ\n",
      "야.\n",
      "역시\n",
      "^^\n",
      "오오\n",
      "평이\n",
      "지루\n",
      "오욈\n",
      "ㅋㅋ\n",
      "지송\n",
      "별로\n",
      "눈물\n",
      "당연\n",
      "쩔어\n",
      "별노\n",
      "몰입\n",
      "졸잼\n",
      "돋네\n",
      "오글\n",
      "이응\n",
      "첨봄\n",
      "최악\n",
      "잼씀\n",
      "ok\n",
      "유후\n",
      "감동\n",
      "gg\n",
      ";;\n",
      "조앙\n",
      "1점\n",
      "표절\n",
      "명작\n",
      "으휴\n",
      "에효\n",
      "ㄱ굿\n",
      "굿잡\n",
      "잼나\n",
      "10\n",
      "ㅜㅜ\n",
      "우왕\n",
      "거지\n",
      "굿굿\n",
      "좋음\n",
      "실망\n",
      "굿.\n",
      "애이\n",
      "짱임\n",
      "전설\n",
      "mm\n",
      "와우\n",
      "등록\n",
      "하위\n",
      "그닥\n",
      "뭉클\n",
      "삼류\n",
      "HN\n",
      "윤하\n",
      "섹시\n",
      "실화\n",
      "머냐\n",
      "수작\n",
      "꿀잼\n",
      "동감\n",
      "dd\n",
      "굳ㅋ\n",
      "굳!\n",
      "추천\n",
      "좋아\n",
      "55\n",
      "안봐\n",
      "개쩜\n",
      "올레\n",
      "난해\n",
      "ㅠㅠ\n",
      "뭐니\n",
      "ㅁㅁ\n",
      "뭥미\n",
      "쓰랙\n",
      "좇~\n",
      "오우\n",
      "미안\n"
     ]
    }
   ],
   "source": [
    "check_sentence_with_length(train_data['document'], 2)"
   ]
  },
  {
   "cell_type": "code",
   "execution_count": 14,
   "metadata": {},
   "outputs": [
    {
     "name": "stdout",
     "output_type": "stream",
     "text": [
      "orig  150000\n",
      "preprocessing  137397\n"
     ]
    }
   ],
   "source": [
    "print('orig ', len(orig_train))\n",
    "print('preprocessing ', len(train_data))"
   ]
  },
  {
   "attachments": {},
   "cell_type": "markdown",
   "metadata": {},
   "source": [
    "약 20,000개의 불필요한 데이터가 감소했다.  \n",
    "적당히 잘 전처리 되었다고 생각된다."
   ]
  },
  {
   "attachments": {},
   "cell_type": "markdown",
   "metadata": {},
   "source": [
    "### Tokenizer\n",
    "\n",
    "1. Word2vec\n",
    "2. konlpy의 형태소 분석기 적용"
   ]
  },
  {
   "cell_type": "code",
   "execution_count": 15,
   "metadata": {},
   "outputs": [
    {
     "data": {
      "text/html": [
       "<div>\n",
       "<style scoped>\n",
       "    .dataframe tbody tr th:only-of-type {\n",
       "        vertical-align: middle;\n",
       "    }\n",
       "\n",
       "    .dataframe tbody tr th {\n",
       "        vertical-align: top;\n",
       "    }\n",
       "\n",
       "    .dataframe thead th {\n",
       "        text-align: right;\n",
       "    }\n",
       "</style>\n",
       "<table border=\"1\" class=\"dataframe\">\n",
       "  <thead>\n",
       "    <tr style=\"text-align: right;\">\n",
       "      <th></th>\n",
       "      <th>id</th>\n",
       "      <th>document</th>\n",
       "      <th>label</th>\n",
       "    </tr>\n",
       "  </thead>\n",
       "  <tbody>\n",
       "    <tr>\n",
       "      <th>0</th>\n",
       "      <td>9976970</td>\n",
       "      <td>[아, 더빙, ., ., 진짜, 짜증, 나, 네요, 목소리]</td>\n",
       "      <td>0</td>\n",
       "    </tr>\n",
       "    <tr>\n",
       "      <th>1</th>\n",
       "      <td>3819312</td>\n",
       "      <td>[흠, ..., 포스터, 보고, 초딩, 영화, 줄, ...., 오버, 연기, 조차,...</td>\n",
       "      <td>1</td>\n",
       "    </tr>\n",
       "    <tr>\n",
       "      <th>2</th>\n",
       "      <td>10265843</td>\n",
       "      <td>[너무재밓었다그래서보는것을추천한다]</td>\n",
       "      <td>0</td>\n",
       "    </tr>\n",
       "    <tr>\n",
       "      <th>3</th>\n",
       "      <td>9045019</td>\n",
       "      <td>[교도소, 이야기, 이, 구먼, .., 솔직히, 재미, 는, 없, 다, ., ., ...</td>\n",
       "      <td>0</td>\n",
       "    </tr>\n",
       "    <tr>\n",
       "      <th>4</th>\n",
       "      <td>6483659</td>\n",
       "      <td>[사이몬페그의, 익살, 스럽, ㄴ, 연기, 가, 돋보이, 었, 던, 영화, !, 스...</td>\n",
       "      <td>1</td>\n",
       "    </tr>\n",
       "  </tbody>\n",
       "</table>\n",
       "</div>"
      ],
      "text/plain": [
       "         id                                           document  label\n",
       "0   9976970                  [아, 더빙, ., ., 진짜, 짜증, 나, 네요, 목소리]      0\n",
       "1   3819312  [흠, ..., 포스터, 보고, 초딩, 영화, 줄, ...., 오버, 연기, 조차,...      1\n",
       "2  10265843                                [너무재밓었다그래서보는것을추천한다]      0\n",
       "3   9045019  [교도소, 이야기, 이, 구먼, .., 솔직히, 재미, 는, 없, 다, ., ., ...      0\n",
       "4   6483659  [사이몬페그의, 익살, 스럽, ㄴ, 연기, 가, 돋보이, 었, 던, 영화, !, 스...      1"
      ]
     },
     "execution_count": 15,
     "metadata": {},
     "output_type": "execute_result"
    }
   ],
   "source": [
    "# Okt 또는 Komoran 인스턴스 생성\n",
    "\n",
    "# mor = Okt()\n",
    "mor = Komoran() # 성능을 위해 Komoran 채택\n",
    "\n",
    "# 텍스트데이터 토큰화\n",
    "train_data['document'] = train_data['document'].apply(mor.morphs)\n",
    "test_data['document'] = test_data['document'].apply(mor.morphs)\n",
    "\n",
    "train_data.head()"
   ]
  },
  {
   "cell_type": "code",
   "execution_count": 16,
   "metadata": {},
   "outputs": [],
   "source": [
    "# 텍스트 데이터를 숫자로 변환\n",
    "tokenizer = Tokenizer()\n",
    "\n",
    "#fit_on_texts (https://www.dinolabs.ai/186)\n",
    "# train 데이터에 맞게 한번만 학습하면 됨\n",
    "tokenizer.fit_on_texts(train_data['document'])\n",
    "\n",
    "train_sequences = tokenizer.texts_to_sequences(train_data['document'])\n",
    "test_sequences = tokenizer.texts_to_sequences(test_data['document'])\n",
    "\n",
    "# 패딩 처리\n",
    "train_inputs = pad_sequences(train_sequences, maxlen=100)\n",
    "test_inputs = pad_sequences(test_sequences, maxlen=100)\n",
    "\n",
    "# 레이블 데이터를 numpy array로 변환\n",
    "train_labels = np.array(train_data['label'])\n",
    "test_labels = np.array(test_data['label'])\n"
   ]
  },
  {
   "attachments": {},
   "cell_type": "markdown",
   "metadata": {},
   "source": [
    "### 사전 학습된 Word2Vec 적용"
   ]
  },
  {
   "cell_type": "code",
   "execution_count": 17,
   "metadata": {},
   "outputs": [
    {
     "name": "stderr",
     "output_type": "stream",
     "text": [
      "/var/folders/mg/rbbjnp_x0k31bv6dy862v00w0000gn/T/ipykernel_50962/3388869597.py:7: DeprecationWarning: Call to deprecated `__contains__` (Method will be removed in 4.0.0, use self.wv.__contains__() instead).\n",
      "  if word in word2vec:\n",
      "/var/folders/mg/rbbjnp_x0k31bv6dy862v00w0000gn/T/ipykernel_50962/3388869597.py:8: DeprecationWarning: Call to deprecated `__getitem__` (Method will be removed in 4.0.0, use self.wv.__getitem__() instead).\n",
      "  embedding_matrix[i] = word2vec[word]\n"
     ]
    }
   ],
   "source": [
    "# 사전 학습된 Word2Vec 모델 로드\n",
    "word2vec = Word2Vec.load('ko/ko.bin') # 'word2vec_model_path'를 실제 모델 경로로 변경\n",
    "\n",
    "# 임베딩 레이어의 가중치를 초기화\n",
    "embedding_matrix = np.zeros((len(tokenizer.word_index) + 1, word2vec.vector_size))\n",
    "for word, i in tokenizer.word_index.items():\n",
    "    if word in word2vec:\n",
    "        embedding_matrix[i] = word2vec[word]"
   ]
  },
  {
   "attachments": {},
   "cell_type": "markdown",
   "metadata": {},
   "source": [
    "### 모델 학습"
   ]
  },
  {
   "cell_type": "code",
   "execution_count": 18,
   "metadata": {},
   "outputs": [
    {
     "name": "stderr",
     "output_type": "stream",
     "text": [
      "2023-06-26 01:33:56.880217: I metal_plugin/src/device/metal_device.cc:1154] Metal device set to: Apple M1 Pro\n",
      "2023-06-26 01:33:56.880242: I metal_plugin/src/device/metal_device.cc:296] systemMemory: 16.00 GB\n",
      "2023-06-26 01:33:56.880245: I metal_plugin/src/device/metal_device.cc:313] maxCacheSize: 5.33 GB\n",
      "2023-06-26 01:33:56.880277: I tensorflow/core/common_runtime/pluggable_device/pluggable_device_factory.cc:303] Could not identify NUMA node of platform GPU ID 0, defaulting to 0. Your kernel may not have been built with NUMA support.\n",
      "2023-06-26 01:33:56.880294: I tensorflow/core/common_runtime/pluggable_device/pluggable_device_factory.cc:269] Created TensorFlow device (/job:localhost/replica:0/task:0/device:GPU:0 with 0 MB memory) -> physical PluggableDevice (device: 0, name: METAL, pci bus id: <undefined>)\n"
     ]
    },
    {
     "name": "stdout",
     "output_type": "stream",
     "text": [
      "Epoch 1/15\n"
     ]
    },
    {
     "name": "stderr",
     "output_type": "stream",
     "text": [
      "2023-06-26 01:33:59.462518: I tensorflow/core/grappler/optimizers/custom_graph_optimizer_registry.cc:114] Plugin optimizer for device_type GPU is enabled.\n",
      "2023-06-26 01:33:59.641924: I tensorflow/core/grappler/optimizers/custom_graph_optimizer_registry.cc:114] Plugin optimizer for device_type GPU is enabled.\n",
      "2023-06-26 01:33:59.828002: I tensorflow/core/grappler/optimizers/custom_graph_optimizer_registry.cc:114] Plugin optimizer for device_type GPU is enabled.\n"
     ]
    },
    {
     "name": "stdout",
     "output_type": "stream",
     "text": [
      "1832/1832 [==============================] - ETA: 0s - loss: 0.3961 - accuracy: 0.8167"
     ]
    },
    {
     "name": "stderr",
     "output_type": "stream",
     "text": [
      "2023-06-26 01:36:14.435534: I tensorflow/core/grappler/optimizers/custom_graph_optimizer_registry.cc:114] Plugin optimizer for device_type GPU is enabled.\n",
      "2023-06-26 01:36:14.502400: I tensorflow/core/grappler/optimizers/custom_graph_optimizer_registry.cc:114] Plugin optimizer for device_type GPU is enabled.\n"
     ]
    },
    {
     "name": "stdout",
     "output_type": "stream",
     "text": [
      "WARNING:tensorflow:Can save best model only with val_acc available, skipping.\n",
      "1832/1832 [==============================] - 141s 76ms/step - loss: 0.3961 - accuracy: 0.8167 - val_loss: 0.3360 - val_accuracy: 0.8520\n",
      "Epoch 2/15\n",
      "1832/1832 [==============================] - ETA: 0s - loss: 0.2722 - accuracy: 0.8904WARNING:tensorflow:Can save best model only with val_acc available, skipping.\n",
      "1832/1832 [==============================] - 136s 74ms/step - loss: 0.2722 - accuracy: 0.8904 - val_loss: 0.3298 - val_accuracy: 0.8584\n",
      "Epoch 3/15\n",
      "1832/1832 [==============================] - ETA: 0s - loss: 0.1975 - accuracy: 0.9231WARNING:tensorflow:Can save best model only with val_acc available, skipping.\n",
      "1832/1832 [==============================] - 136s 74ms/step - loss: 0.1975 - accuracy: 0.9231 - val_loss: 0.3553 - val_accuracy: 0.8560\n",
      "Epoch 4/15\n",
      "1832/1832 [==============================] - ETA: 0s - loss: 0.1442 - accuracy: 0.9455WARNING:tensorflow:Can save best model only with val_acc available, skipping.\n",
      "1832/1832 [==============================] - 136s 74ms/step - loss: 0.1442 - accuracy: 0.9455 - val_loss: 0.3898 - val_accuracy: 0.8516\n",
      "Epoch 5/15\n",
      "1832/1832 [==============================] - ETA: 0s - loss: 0.1047 - accuracy: 0.9625WARNING:tensorflow:Can save best model only with val_acc available, skipping.\n",
      "1832/1832 [==============================] - 136s 74ms/step - loss: 0.1047 - accuracy: 0.9625 - val_loss: 0.4425 - val_accuracy: 0.8432\n",
      "Epoch 6/15\n",
      "1832/1832 [==============================] - ETA: 0s - loss: 0.0730 - accuracy: 0.9746WARNING:tensorflow:Can save best model only with val_acc available, skipping.\n",
      "1832/1832 [==============================] - 135s 73ms/step - loss: 0.0730 - accuracy: 0.9746 - val_loss: 0.5156 - val_accuracy: 0.8454\n",
      "Epoch 6: early stopping\n"
     ]
    }
   ],
   "source": [
    "# 모델 정의\n",
    "model1 = Sequential()\n",
    "model1.add(Embedding(\n",
    "    len(tokenizer.word_index)+1, \n",
    "    word2vec.vector_size, \n",
    "    weights=[embedding_matrix], \n",
    "    trainable=True # 파인튜닝 허용\n",
    "))\n",
    "model1.add(LSTM(128))\n",
    "model1.add(Dense(1, activation='sigmoid'))\n",
    "\n",
    "# 모델 컴파일\n",
    "model1.compile(optimizer='adam', loss='binary_crossentropy', metrics=['accuracy'])\n",
    "\n",
    "# 콜백 정의\n",
    "es1 = EarlyStopping(monitor='val_loss', mode='min', verbose=1, patience=4)\n",
    "mc1 = ModelCheckpoint('best_model.h5', monitor='val_acc', mode='max', verbose=1, save_best_only=True)\n",
    "\n",
    "# 모델 학습\n",
    "history1 = model1.fit(train_inputs, train_labels, epochs=15, callbacks=[es1, mc1], batch_size=60, validation_split=0.2)\n"
   ]
  },
  {
   "cell_type": "code",
   "execution_count": 19,
   "metadata": {},
   "outputs": [
    {
     "name": "stderr",
     "output_type": "stream",
     "text": [
      "2023-06-26 01:47:39.099762: I tensorflow/core/grappler/optimizers/custom_graph_optimizer_registry.cc:114] Plugin optimizer for device_type GPU is enabled.\n",
      "2023-06-26 01:47:39.200474: I tensorflow/core/grappler/optimizers/custom_graph_optimizer_registry.cc:114] Plugin optimizer for device_type GPU is enabled.\n"
     ]
    },
    {
     "name": "stdout",
     "output_type": "stream",
     "text": [
      "1563/1563 [==============================] - 18s 11ms/step - loss: 0.5157 - accuracy: 0.8468\n",
      "[0.5156794786453247, 0.8467708230018616]\n"
     ]
    }
   ],
   "source": [
    "# 모델 평가\n",
    "print(model1.evaluate(test_inputs, test_labels))\n"
   ]
  },
  {
   "attachments": {},
   "cell_type": "markdown",
   "metadata": {},
   "source": [
    "## 평가 기록\n",
    "\n",
    "| 방법 | Loss | Accuracy |\n",
    "|------|------|----------|\n",
    "| Okt 사용 전 | 0.7988 | 0.8033 |\n",
    "| Okt 사용 후 | 0.6932 | 0.4965 |\n",
    "| 깜빡한 정수화 학습 및 Komoran 사용 | 0.5018 | 0.8387 |\n",
    "| 사전 학습된 Word2Vec 임베딩 적용 | 0.4065 | 0.8304 |\n",
    "| Word2Vec에 파인 튜닝 허용 | 0.4980 | 0.8473 |\n",
    "\n",
    "\n",
    "\n",
    "이 과정을 통해 Base Model에서 약 4%의 성능을 개선함."
   ]
  },
  {
   "attachments": {},
   "cell_type": "markdown",
   "metadata": {},
   "source": [
    "## 실험 2: SentencePiece를 이용해보자"
   ]
  },
  {
   "cell_type": "code",
   "execution_count": 20,
   "metadata": {},
   "outputs": [
    {
     "name": "stdout",
     "output_type": "stream",
     "text": [
      "done\n"
     ]
    }
   ],
   "source": [
    "# 데이터 준비\n",
    "train_data = orig_train.copy()\n",
    "test_data = orig_test.copy()\n",
    "\n",
    "# 대충 위에서 이미 결측치를 확인 했기 때문에 그대로 진행\n",
    "# 결측치\n",
    "train_data = train_data.dropna()\n",
    "test_data = test_data.dropna()\n",
    "\n",
    "# 중복 제거\n",
    "train_data = train_data.drop_duplicates(subset=['document'])\n",
    "\n",
    "# 길이 조건에 맞는 문장만 선택합니다.\n",
    "train_data = train_data[train_data['document'].str.len().between(2, 100)]\n",
    "\n",
    "print('done')"
   ]
  },
  {
   "attachments": {},
   "cell_type": "markdown",
   "metadata": {},
   "source": [
    "### Tokenizer 적용: sentencepiece\n",
    "\n",
    "노드의 설명이 이해가 않가서 다른 글 참고함\n",
    "https://lsjsj92.tistory.com/600\n",
    "\n",
    "\n",
    "기본 model은 unigram이라고 함 https://choice-life.tistory.com/12\n",
    "\n"
   ]
  },
  {
   "cell_type": "code",
   "execution_count": 21,
   "metadata": {},
   "outputs": [
    {
     "name": "stderr",
     "output_type": "stream",
     "text": [
      "sentencepiece_trainer.cc(177) LOG(INFO) Running command: --input=nsmc_text.txt --model_prefix=korean_spm --vocab_size=8000\n",
      "sentencepiece_trainer.cc(77) LOG(INFO) Starts training with : \n",
      "trainer_spec {\n",
      "  input: nsmc_text.txt\n",
      "  input_format: \n",
      "  model_prefix: korean_spm\n",
      "  model_type: UNIGRAM\n",
      "  vocab_size: 8000\n",
      "  self_test_sample_size: 0\n",
      "  character_coverage: 0.9995\n",
      "  input_sentence_size: 0\n",
      "  shuffle_input_sentence: 1\n",
      "  seed_sentencepiece_size: 1000000\n",
      "  shrinking_factor: 0.75\n",
      "  max_sentence_length: 4192\n",
      "  num_threads: 16\n",
      "  num_sub_iterations: 2\n",
      "  max_sentencepiece_length: 16\n",
      "  split_by_unicode_script: 1\n",
      "  split_by_number: 1\n",
      "  split_by_whitespace: 1\n",
      "  split_digits: 0\n",
      "  pretokenization_delimiter: \n",
      "  treat_whitespace_as_suffix: 0\n",
      "  allow_whitespace_only_pieces: 0\n",
      "  required_chars: \n",
      "  byte_fallback: 0\n",
      "  vocabulary_output_piece_score: 1\n",
      "  train_extremely_large_corpus: 0\n",
      "  hard_vocab_limit: 1\n",
      "  use_all_vocab: 0\n",
      "  unk_id: 0\n",
      "  bos_id: 1\n",
      "  eos_id: 2\n",
      "  pad_id: -1\n",
      "  unk_piece: <unk>\n",
      "  bos_piece: <s>\n",
      "  eos_piece: </s>\n",
      "  pad_piece: <pad>\n",
      "  unk_surface:  ⁇ \n",
      "  enable_differential_privacy: 0\n",
      "  differential_privacy_noise_level: 0\n",
      "  differential_privacy_clipping_threshold: 0\n",
      "}\n",
      "normalizer_spec {\n",
      "  name: nmt_nfkc\n",
      "  add_dummy_prefix: 1\n",
      "  remove_extra_whitespaces: 1\n",
      "  escape_whitespaces: 1\n",
      "  normalization_rule_tsv: \n",
      "}\n",
      "denormalizer_spec {}\n",
      "trainer_interface.cc(351) LOG(INFO) SentenceIterator is not specified. Using MultiFileSentenceIterator.\n",
      "trainer_interface.cc(183) LOG(INFO) Loading corpus: nsmc_text.txt\n",
      "trainer_interface.cc(407) LOG(INFO) Loaded all 137397 sentences\n",
      "trainer_interface.cc(423) LOG(INFO) Adding meta_piece: <unk>\n",
      "trainer_interface.cc(423) LOG(INFO) Adding meta_piece: <s>\n",
      "trainer_interface.cc(423) LOG(INFO) Adding meta_piece: </s>\n",
      "trainer_interface.cc(428) LOG(INFO) Normalizing sentences...\n",
      "trainer_interface.cc(537) LOG(INFO) all chars count=4310446\n",
      "trainer_interface.cc(548) LOG(INFO) Done: 99.9501% characters are covered.\n",
      "trainer_interface.cc(558) LOG(INFO) Alphabet size=1728\n",
      "trainer_interface.cc(559) LOG(INFO) Final character coverage=0.999501\n",
      "trainer_interface.cc(591) LOG(INFO) Done! preprocessed 137397 sentences.\n",
      "unigram_model_trainer.cc(222) LOG(INFO) Making suffix array...\n",
      "unigram_model_trainer.cc(226) LOG(INFO) Extracting frequent sub strings... node_num=1530574\n",
      "unigram_model_trainer.cc(274) LOG(INFO) Initialized 254828 seed sentencepieces\n",
      "trainer_interface.cc(597) LOG(INFO) Tokenizing input sentences with whitespace: 137397\n",
      "trainer_interface.cc(608) LOG(INFO) Done! 293293\n",
      "unigram_model_trainer.cc(564) LOG(INFO) Using 293293 sentences for EM training\n",
      "unigram_model_trainer.cc(580) LOG(INFO) EM sub_iter=0 size=131367 obj=15.3649 num_tokens=689003 num_tokens/piece=5.24487\n",
      "unigram_model_trainer.cc(580) LOG(INFO) EM sub_iter=1 size=121786 obj=14.3063 num_tokens=693477 num_tokens/piece=5.69423\n",
      "unigram_model_trainer.cc(580) LOG(INFO) EM sub_iter=0 size=91284 obj=14.4278 num_tokens=725443 num_tokens/piece=7.9471\n",
      "unigram_model_trainer.cc(580) LOG(INFO) EM sub_iter=1 size=91099 obj=14.3665 num_tokens=725927 num_tokens/piece=7.96855\n",
      "unigram_model_trainer.cc(580) LOG(INFO) EM sub_iter=0 size=68318 obj=14.6268 num_tokens=763651 num_tokens/piece=11.1779\n",
      "unigram_model_trainer.cc(580) LOG(INFO) EM sub_iter=1 size=68310 obj=14.5612 num_tokens=763728 num_tokens/piece=11.1803\n",
      "unigram_model_trainer.cc(580) LOG(INFO) EM sub_iter=0 size=51232 obj=14.8508 num_tokens=800639 num_tokens/piece=15.6277\n",
      "unigram_model_trainer.cc(580) LOG(INFO) EM sub_iter=1 size=51232 obj=14.7801 num_tokens=800656 num_tokens/piece=15.628\n",
      "unigram_model_trainer.cc(580) LOG(INFO) EM sub_iter=0 size=38424 obj=15.0999 num_tokens=839555 num_tokens/piece=21.8498\n",
      "unigram_model_trainer.cc(580) LOG(INFO) EM sub_iter=1 size=38424 obj=15.0306 num_tokens=839556 num_tokens/piece=21.8498\n",
      "unigram_model_trainer.cc(580) LOG(INFO) EM sub_iter=0 size=28818 obj=15.3736 num_tokens=879266 num_tokens/piece=30.511\n",
      "unigram_model_trainer.cc(580) LOG(INFO) EM sub_iter=1 size=28818 obj=15.3032 num_tokens=879269 num_tokens/piece=30.5111\n",
      "unigram_model_trainer.cc(580) LOG(INFO) EM sub_iter=0 size=21613 obj=15.6773 num_tokens=920370 num_tokens/piece=42.5841\n",
      "unigram_model_trainer.cc(580) LOG(INFO) EM sub_iter=1 size=21613 obj=15.602 num_tokens=920385 num_tokens/piece=42.5848\n",
      "unigram_model_trainer.cc(580) LOG(INFO) EM sub_iter=0 size=16209 obj=16.0256 num_tokens=964140 num_tokens/piece=59.4818\n",
      "unigram_model_trainer.cc(580) LOG(INFO) EM sub_iter=1 size=16209 obj=15.9403 num_tokens=964363 num_tokens/piece=59.4955\n",
      "unigram_model_trainer.cc(580) LOG(INFO) EM sub_iter=0 size=12156 obj=16.4054 num_tokens=1010951 num_tokens/piece=83.1648\n",
      "unigram_model_trainer.cc(580) LOG(INFO) EM sub_iter=1 size=12156 obj=16.3088 num_tokens=1011164 num_tokens/piece=83.1823\n",
      "unigram_model_trainer.cc(580) LOG(INFO) EM sub_iter=0 size=9117 obj=16.8247 num_tokens=1062198 num_tokens/piece=116.507\n",
      "unigram_model_trainer.cc(580) LOG(INFO) EM sub_iter=1 size=9117 obj=16.7011 num_tokens=1062296 num_tokens/piece=116.518\n",
      "unigram_model_trainer.cc(580) LOG(INFO) EM sub_iter=0 size=8800 obj=16.7655 num_tokens=1068474 num_tokens/piece=121.418\n",
      "unigram_model_trainer.cc(580) LOG(INFO) EM sub_iter=1 size=8800 obj=16.7521 num_tokens=1068563 num_tokens/piece=121.428\n",
      "trainer_interface.cc(686) LOG(INFO) Saving model: korean_spm.model\n",
      "trainer_interface.cc(698) LOG(INFO) Saving vocabs: korean_spm.vocab\n"
     ]
    }
   ],
   "source": [
    "import tensorflow as tf\n",
    "import sentencepiece as spm\n",
    "\n",
    "with open('nsmc_text.txt', 'w', encoding='utf-8') as f:\n",
    "    for line in train_data['document'].values:\n",
    "        f.write(line + '\\n')\n",
    "\n",
    "input_fime = 'nsmc_text.txt'\n",
    "vocab_size = 8000\n",
    "prefix = 'korean_spm'\n",
    "\n",
    "templates = '--input={} --model_prefix={} --vocab_size={}'\n",
    "cmd = templates.format(input_fime, prefix, vocab_size)\n",
    "\n",
    "spm.SentencePieceTrainer.Train(cmd)\n"
   ]
  },
  {
   "cell_type": "code",
   "execution_count": 22,
   "metadata": {},
   "outputs": [
    {
     "name": "stdout",
     "output_type": "stream",
     "text": [
      "아 더빙.. 진짜 짜증나네요 목소리\n",
      "['▁아', '▁더빙', '..', '▁진짜', '▁짜증나', '네요', '▁목소리']\n",
      "[59, 873, 5, 33, 1911, 64, 1836]\n",
      "\n",
      "흠...포스터보고 초딩영화줄....오버연기조차 가볍지 않구나\n",
      "['▁흠', '...', '포스터', '보고', '▁초딩', '영화', '줄', '....', '오', '버', '연기', '조차', '▁가볍지', '▁않', '구나']\n",
      "[1557, 8, 4448, 155, 1312, 30, 259, 48, 176, 494, 336, 1458, 6249, 425, 411]\n",
      "\n",
      "너무재밓었다그래서보는것을추천한다\n",
      "['▁너무', '재', '밓', '었다', '그래서', '보는', '것을', '추천', '한다']\n",
      "[23, 392, 7705, 391, 3817, 452, 1956, 1461, 309]\n",
      "\n",
      "교도소 이야기구먼 ..솔직히 재미는 없다..평점 조정\n",
      "['▁교', '도', '소', '▁이야기', '구먼', '▁', '..', '솔직히', '▁재미는', '▁없다', '..', '평점', '▁조', '정']\n",
      "[2002, 12, 207, 226, 6017, 3, 5, 4758, 1139, 111, 5, 665, 263, 125]\n",
      "\n",
      "사이몬페그의 익살스런 연기가 돋보였던 영화!스파이더맨에서 늙어보이기만 했던 커스틴 던스트가 너무나도 이뻐보였다\n",
      "['▁사이', '몬', '페', '그', '의', '▁', '익', '살', '스런', '▁연기가', '▁돋보', '였던', '▁영화', '!', '스파이더맨', '에서', '▁늙어', '보이', '기만', '▁했던', '▁커', '스', '틴', '▁', '던', '스트', '가', '▁너무나도', '▁', '이뻐', '보', '였다']\n",
      "[2685, 2421, 2690, 188, 10, 3, 1300, 342, 2203, 477, 2260, 1753, 7, 22, 5552, 50, 6351, 2786, 1262, 3218, 3303, 62, 2180, 3, 112, 758, 9, 2286, 3, 4277, 107, 648]\n",
      "\n"
     ]
    }
   ],
   "source": [
    "# 학습된 SentencePiece 모델 로드\n",
    "sp = spm.SentencePieceProcessor()\n",
    "sp.Load('{}.model'.format(prefix))\n",
    "\n",
    "for t in train_data.document.values[:5]:\n",
    "    print(t)\n",
    "    print(sp.EncodeAsPieces(t))\n",
    "    print(sp.EncodeAsIds(t))\n",
    "    print()\n"
   ]
  },
  {
   "cell_type": "code",
   "execution_count": 23,
   "metadata": {},
   "outputs": [],
   "source": [
    "# 텍스트 데이터 토큰화\n",
    "train_data['document'] = train_data['document'].apply(sp.EncodeAsPieces)\n",
    "test_data['document'] = test_data['document'].apply(sp.EncodeAsPieces)"
   ]
  },
  {
   "attachments": {},
   "cell_type": "markdown",
   "metadata": {},
   "source": [
    "### 정수화 및 시퀀스 구성"
   ]
  },
  {
   "cell_type": "code",
   "execution_count": 24,
   "metadata": {},
   "outputs": [],
   "source": [
    "# 토큰화된 데이터를 숫자로 변환\n",
    "tokenizer = Tokenizer()\n",
    "tokenizer.fit_on_texts(train_data['document'])\n",
    "\n",
    "train_sequences = tokenizer.texts_to_sequences(train_data['document'])\n",
    "test_sequences = tokenizer.texts_to_sequences(test_data['document'])\n",
    "\n",
    "# 패딩 처리\n",
    "train_inputs = pad_sequences(train_sequences, maxlen=100)\n",
    "test_inputs = pad_sequences(test_sequences, maxlen=100)\n",
    "\n",
    "# 레이블 데이터를 numpy array로 변환\n",
    "train_labels = np.array(train_data['label'])\n",
    "test_labels = np.array(test_data['label'])"
   ]
  },
  {
   "attachments": {},
   "cell_type": "markdown",
   "metadata": {},
   "source": [
    "#### 여기서 잠깐, 왜 굳이 EncodeAsIds를 않쓰고 EncodeAsPieces 후에 fit_on_texts를 사용했나요??\n",
    "\n",
    "EncodeAsPieces 후에 fit_on_texts를 사용하는 방법은 두 단계의 토큰화 과정을 거치므로, 더 세밀한 토큰화가 가능할 수 있다.  \n",
    "하지만 이는 추가적인 계산을 필요로 하며, 두 단계의 토큰화 과정이 항상 더 좋은 결과를 보장하는 것은 아니다.   \n",
    "반면, EncodeAsIds를 사용하는 방법은 한 단계의 토큰화 과정만을 거치므로, 계산 효율성이 더 좋을 수 있다.  \n",
    "\n",
    "\n",
    "\n",
    "\n",
    "나는 성능과 시간이 충분하다고 보고, 세밀하게 할 수 있다는 전자의 방법을 사용했다.  \n",
    "또한 과제를 수행하는 과정에서 적은 코드 수정으로 이용할 수 있다는 장점 또한 존재한다.  \n",
    "두 방법에 대한 의견은 사람마다 다르겠지만, 내가 이 방식을 사용한 이유는 이런 이유로 사용했다."
   ]
  },
  {
   "attachments": {},
   "cell_type": "markdown",
   "metadata": {},
   "source": [
    "### Word2Vec 적용"
   ]
  },
  {
   "cell_type": "code",
   "execution_count": 25,
   "metadata": {},
   "outputs": [
    {
     "name": "stderr",
     "output_type": "stream",
     "text": [
      "/var/folders/mg/rbbjnp_x0k31bv6dy862v00w0000gn/T/ipykernel_50962/2893645305.py:7: DeprecationWarning: Call to deprecated `__contains__` (Method will be removed in 4.0.0, use self.wv.__contains__() instead).\n",
      "  if word in word2vec:\n",
      "/var/folders/mg/rbbjnp_x0k31bv6dy862v00w0000gn/T/ipykernel_50962/2893645305.py:8: DeprecationWarning: Call to deprecated `__getitem__` (Method will be removed in 4.0.0, use self.wv.__getitem__() instead).\n",
      "  embedding_matrix[i] = word2vec[word]\n"
     ]
    }
   ],
   "source": [
    "# 사전 학습된 Word2Vec 모델 로드\n",
    "word2vec = Word2Vec.load('ko/ko.bin')\n",
    "\n",
    "# 임베딩 레이어의 가중치를 초기화\n",
    "embedding_matrix = np.zeros((len(tokenizer.word_index) + 1, word2vec.vector_size))\n",
    "for word, i in tokenizer.word_index.items():\n",
    "    if word in word2vec:\n",
    "        embedding_matrix[i] = word2vec[word]"
   ]
  },
  {
   "attachments": {},
   "cell_type": "markdown",
   "metadata": {},
   "source": [
    "### 동일 구성의 두번째 모델 구성 및 학습"
   ]
  },
  {
   "cell_type": "code",
   "execution_count": 26,
   "metadata": {},
   "outputs": [
    {
     "name": "stdout",
     "output_type": "stream",
     "text": [
      "Epoch 1/15\n"
     ]
    },
    {
     "name": "stderr",
     "output_type": "stream",
     "text": [
      "2023-06-26 01:48:14.841471: I tensorflow/core/grappler/optimizers/custom_graph_optimizer_registry.cc:114] Plugin optimizer for device_type GPU is enabled.\n",
      "2023-06-26 01:48:15.031509: I tensorflow/core/grappler/optimizers/custom_graph_optimizer_registry.cc:114] Plugin optimizer for device_type GPU is enabled.\n",
      "2023-06-26 01:48:15.239727: I tensorflow/core/grappler/optimizers/custom_graph_optimizer_registry.cc:114] Plugin optimizer for device_type GPU is enabled.\n"
     ]
    },
    {
     "name": "stdout",
     "output_type": "stream",
     "text": [
      "1832/1832 [==============================] - ETA: 0s - loss: 0.4016 - accuracy: 0.8133"
     ]
    },
    {
     "name": "stderr",
     "output_type": "stream",
     "text": [
      "2023-06-26 01:50:19.677851: I tensorflow/core/grappler/optimizers/custom_graph_optimizer_registry.cc:114] Plugin optimizer for device_type GPU is enabled.\n",
      "2023-06-26 01:50:19.750296: I tensorflow/core/grappler/optimizers/custom_graph_optimizer_registry.cc:114] Plugin optimizer for device_type GPU is enabled.\n"
     ]
    },
    {
     "name": "stdout",
     "output_type": "stream",
     "text": [
      "WARNING:tensorflow:Can save best model only with val_acc available, skipping.\n",
      "1832/1832 [==============================] - 131s 71ms/step - loss: 0.4016 - accuracy: 0.8133 - val_loss: 0.3350 - val_accuracy: 0.8536\n",
      "Epoch 2/15\n",
      "1832/1832 [==============================] - ETA: 0s - loss: 0.2999 - accuracy: 0.8707WARNING:tensorflow:Can save best model only with val_acc available, skipping.\n",
      "1832/1832 [==============================] - 126s 69ms/step - loss: 0.2999 - accuracy: 0.8707 - val_loss: 0.3251 - val_accuracy: 0.8563\n",
      "Epoch 3/15\n",
      "1832/1832 [==============================] - ETA: 0s - loss: 0.2541 - accuracy: 0.8931WARNING:tensorflow:Can save best model only with val_acc available, skipping.\n",
      "1832/1832 [==============================] - 126s 69ms/step - loss: 0.2541 - accuracy: 0.8931 - val_loss: 0.3272 - val_accuracy: 0.8600\n",
      "Epoch 4/15\n",
      "1832/1832 [==============================] - ETA: 0s - loss: 0.2007 - accuracy: 0.9176WARNING:tensorflow:Can save best model only with val_acc available, skipping.\n",
      "1832/1832 [==============================] - 126s 69ms/step - loss: 0.2007 - accuracy: 0.9176 - val_loss: 0.3693 - val_accuracy: 0.8557\n",
      "Epoch 5/15\n",
      "1832/1832 [==============================] - ETA: 0s - loss: 0.1405 - accuracy: 0.9447WARNING:tensorflow:Can save best model only with val_acc available, skipping.\n",
      "1832/1832 [==============================] - 125s 68ms/step - loss: 0.1405 - accuracy: 0.9447 - val_loss: 0.4460 - val_accuracy: 0.8530\n",
      "Epoch 6/15\n",
      "1832/1832 [==============================] - ETA: 0s - loss: 0.0881 - accuracy: 0.9679WARNING:tensorflow:Can save best model only with val_acc available, skipping.\n",
      "1832/1832 [==============================] - 125s 68ms/step - loss: 0.0881 - accuracy: 0.9679 - val_loss: 0.5575 - val_accuracy: 0.8455\n",
      "Epoch 6: early stopping\n"
     ]
    }
   ],
   "source": [
    "# 모델 정의\n",
    "model2 = Sequential()\n",
    "model2.add(Embedding(\n",
    "    len(tokenizer.word_index)+1, \n",
    "    word2vec.vector_size, \n",
    "    weights=[embedding_matrix], \n",
    "    trainable=True # 파인튜닝 허용\n",
    "))\n",
    "model2.add(LSTM(128))\n",
    "model2.add(Dense(1, activation='sigmoid'))\n",
    "\n",
    "# 모델 컴파일\n",
    "model2.compile(optimizer='adam', loss='binary_crossentropy', metrics=['accuracy'])\n",
    "\n",
    "# 콜백 정의\n",
    "es2 = EarlyStopping(monitor='val_loss', mode='min', verbose=1, patience=4)\n",
    "mc2 = ModelCheckpoint('best_model2.h5', monitor='val_acc', mode='max', verbose=1, save_best_only=True)\n",
    "\n",
    "# 모델 학습\n",
    "history2 = model2.fit(train_inputs, train_labels, epochs=15, callbacks=[es2, mc2], batch_size=60, validation_split=0.2)\n"
   ]
  },
  {
   "cell_type": "code",
   "execution_count": 27,
   "metadata": {},
   "outputs": [
    {
     "name": "stderr",
     "output_type": "stream",
     "text": [
      "2023-06-26 02:00:52.796088: I tensorflow/core/grappler/optimizers/custom_graph_optimizer_registry.cc:114] Plugin optimizer for device_type GPU is enabled.\n",
      "2023-06-26 02:00:52.876637: I tensorflow/core/grappler/optimizers/custom_graph_optimizer_registry.cc:114] Plugin optimizer for device_type GPU is enabled.\n"
     ]
    },
    {
     "name": "stdout",
     "output_type": "stream",
     "text": [
      "1563/1563 [==============================] - 18s 11ms/step - loss: 0.5792 - accuracy: 0.8459\n",
      "[0.5791632533073425, 0.8458907604217529]\n"
     ]
    }
   ],
   "source": [
    "# 모델 평가\n",
    "print(model2.evaluate(test_inputs, test_labels))\n"
   ]
  },
  {
   "attachments": {},
   "cell_type": "markdown",
   "metadata": {},
   "source": [
    "## 시각화를 통해 구체적인 비교"
   ]
  },
  {
   "cell_type": "code",
   "execution_count": 28,
   "metadata": {},
   "outputs": [
    {
     "data": {
      "image/png": "[encoded data removed]",
      "text/plain": [
       "<Figure size 1200x400 with 2 Axes>"
      ]
     },
     "metadata": {},
     "output_type": "display_data"
    }
   ],
   "source": [
    "# 손실 함수 값 그래프\n",
    "plt.figure(figsize=(12, 4))\n",
    "\n",
    "plt.subplot(1, 2, 1)\n",
    "plt.plot(history1.history['loss'], 'b-', label='model1_loss')\n",
    "plt.plot(history1.history['val_loss'], 'r--', label='model1_val_loss')\n",
    "plt.plot(history2.history['loss'], 'g-', label='model2_loss')\n",
    "plt.plot(history2.history['val_loss'], 'k--', label='model2_val_loss')\n",
    "plt.xlabel('Epoch')\n",
    "plt.legend()\n",
    "\n",
    "# 정확도 그래프\n",
    "plt.subplot(1, 2, 2)\n",
    "plt.plot(history1.history['accuracy'], 'b-', label='model1_accuracy')\n",
    "plt.plot(history1.history['val_accuracy'], 'r--', label='model1_val_accuracy')\n",
    "plt.plot(history2.history['accuracy'], 'g-', label='model2_accuracy')\n",
    "plt.plot(history2.history['val_accuracy'], 'k--', label='model2_val_accuracy')\n",
    "plt.xlabel('Epoch')\n",
    "plt.legend()\n",
    "\n",
    "plt.show()\n"
   ]
  },
  {
   "attachments": {},
   "cell_type": "markdown",
   "metadata": {},
   "source": [
    "## 실험3: SentencePiece의 모드를 BPE로 바꿔보자\n",
    "\n",
    "결과가 마음에 안든다.\n",
    "\n",
    "BPE를 적용해보자."
   ]
  },
  {
   "attachments": {},
   "cell_type": "markdown",
   "metadata": {},
   "source": [
    "### 데이터 전처리 대충..."
   ]
  },
  {
   "cell_type": "code",
   "execution_count": 29,
   "metadata": {},
   "outputs": [],
   "source": [
    "# 데이터 준비\n",
    "train_data = orig_train.copy()\n",
    "test_data = orig_test.copy()\n",
    "\n",
    "# 대충 위에서 이미 결측치를 확인 했기 때문에 그대로 진행\n",
    "# 결측치\n",
    "train_data = train_data.dropna()\n",
    "test_data = test_data.dropna()\n",
    "\n",
    "# 중복 제거\n",
    "train_data = train_data.drop_duplicates(subset=['document'])\n",
    "\n",
    "# 길이 조건에 맞는 문장만 선택합니다.\n",
    "train_data = train_data[train_data['document'].str.len().between(2, 100)]"
   ]
  },
  {
   "cell_type": "code",
   "execution_count": 30,
   "metadata": {},
   "outputs": [
    {
     "name": "stderr",
     "output_type": "stream",
     "text": [
      "sentencepiece_trainer.cc(177) LOG(INFO) Running command: --input=nsmc_text_bpe.txt --model_prefix=korean_spm_bpe --vocab_size=8000 --model_type=bpe\n",
      "sentencepiece_trainer.cc(77) LOG(INFO) Starts training with : \n",
      "trainer_spec {\n",
      "  input: nsmc_text_bpe.txt\n",
      "  input_format: \n",
      "  model_prefix: korean_spm_bpe\n",
      "  model_type: BPE\n",
      "  vocab_size: 8000\n",
      "  self_test_sample_size: 0\n",
      "  character_coverage: 0.9995\n",
      "  input_sentence_size: 0\n",
      "  shuffle_input_sentence: 1\n",
      "  seed_sentencepiece_size: 1000000\n",
      "  shrinking_factor: 0.75\n",
      "  max_sentence_length: 4192\n",
      "  num_threads: 16\n",
      "  num_sub_iterations: 2\n",
      "  max_sentencepiece_length: 16\n",
      "  split_by_unicode_script: 1\n",
      "  split_by_number: 1\n",
      "  split_by_whitespace: 1\n",
      "  split_digits: 0\n",
      "  pretokenization_delimiter: \n",
      "  treat_whitespace_as_suffix: 0\n",
      "  allow_whitespace_only_pieces: 0\n",
      "  required_chars: \n",
      "  byte_fallback: 0\n",
      "  vocabulary_output_piece_score: 1\n",
      "  train_extremely_large_corpus: 0\n",
      "  hard_vocab_limit: 1\n",
      "  use_all_vocab: 0\n",
      "  unk_id: 0\n",
      "  bos_id: 1\n",
      "  eos_id: 2\n",
      "  pad_id: -1\n",
      "  unk_piece: <unk>\n",
      "  bos_piece: <s>\n",
      "  eos_piece: </s>\n",
      "  pad_piece: <pad>\n",
      "  unk_surface:  ⁇ \n",
      "  enable_differential_privacy: 0\n",
      "  differential_privacy_noise_level: 0\n",
      "  differential_privacy_clipping_threshold: 0\n",
      "}\n",
      "normalizer_spec {\n",
      "  name: nmt_nfkc\n",
      "  add_dummy_prefix: 1\n",
      "  remove_extra_whitespaces: 1\n",
      "  escape_whitespaces: 1\n",
      "  normalization_rule_tsv: \n",
      "}\n",
      "denormalizer_spec {}\n",
      "trainer_interface.cc(351) LOG(INFO) SentenceIterator is not specified. Using MultiFileSentenceIterator.\n",
      "trainer_interface.cc(183) LOG(INFO) Loading corpus: nsmc_text_bpe.txt\n",
      "trainer_interface.cc(407) LOG(INFO) Loaded all 137397 sentences\n",
      "trainer_interface.cc(423) LOG(INFO) Adding meta_piece: <unk>\n",
      "trainer_interface.cc(423) LOG(INFO) Adding meta_piece: <s>\n",
      "trainer_interface.cc(423) LOG(INFO) Adding meta_piece: </s>\n",
      "trainer_interface.cc(428) LOG(INFO) Normalizing sentences...\n",
      "trainer_interface.cc(537) LOG(INFO) all chars count=4310446\n",
      "trainer_interface.cc(548) LOG(INFO) Done: 99.9501% characters are covered.\n",
      "trainer_interface.cc(558) LOG(INFO) Alphabet size=1728\n",
      "trainer_interface.cc(559) LOG(INFO) Final character coverage=0.999501\n",
      "trainer_interface.cc(591) LOG(INFO) Done! preprocessed 137397 sentences.\n",
      "trainer_interface.cc(597) LOG(INFO) Tokenizing input sentences with whitespace: 137397\n",
      "trainer_interface.cc(608) LOG(INFO) Done! 293293\n",
      "bpe_model_trainer.cc(159) LOG(INFO) Updating active symbols. max_freq=95223 min_freq=78\n",
      "bpe_model_trainer.cc(268) LOG(INFO) Added: freq=9182 size=20 all=100138 active=9495 piece=▁없\n",
      "bpe_model_trainer.cc(268) LOG(INFO) Added: freq=7150 size=40 all=103732 active=13089 piece=으로\n",
      "bpe_model_trainer.cc(268) LOG(INFO) Added: freq=4942 size=60 all=107289 active=16646 piece=▁잘\n",
      "bpe_model_trainer.cc(268) LOG(INFO) Added: freq=4165 size=80 all=111403 active=20760 piece=드라마\n",
      "bpe_model_trainer.cc(268) LOG(INFO) Added: freq=3445 size=100 all=114466 active=23823 piece=;;\n",
      "bpe_model_trainer.cc(159) LOG(INFO) Updating active symbols. max_freq=3425 min_freq=65\n",
      "bpe_model_trainer.cc(268) LOG(INFO) Added: freq=2950 size=120 all=117491 active=8715 piece=▁완\n",
      "bpe_model_trainer.cc(268) LOG(INFO) Added: freq=2619 size=140 all=119630 active=10854 piece=^^\n",
      "bpe_model_trainer.cc(268) LOG(INFO) Added: freq=2321 size=160 all=122127 active=13351 piece=▁영\n",
      "bpe_model_trainer.cc(268) LOG(INFO) Added: freq=2123 size=180 all=123949 active=15173 piece=입니다\n",
      "bpe_model_trainer.cc(268) LOG(INFO) Added: freq=1957 size=200 all=125930 active=17154 piece=▁영화는\n",
      "bpe_model_trainer.cc(159) LOG(INFO) Updating active symbols. max_freq=1954 min_freq=57\n",
      "bpe_model_trainer.cc(268) LOG(INFO) Added: freq=1762 size=220 all=128373 active=8721 piece=▁이게\n",
      "bpe_model_trainer.cc(268) LOG(INFO) Added: freq=1630 size=240 all=130542 active=10890 piece=▁때\n",
      "bpe_model_trainer.cc(268) LOG(INFO) Added: freq=1517 size=260 all=132664 active=13012 piece=▁극\n",
      "bpe_model_trainer.cc(268) LOG(INFO) Added: freq=1425 size=280 all=134781 active=15129 piece=▁음\n",
      "bpe_model_trainer.cc(268) LOG(INFO) Added: freq=1339 size=300 all=136986 active=17334 piece=▁아이\n",
      "bpe_model_trainer.cc(159) LOG(INFO) Updating active symbols. max_freq=1335 min_freq=51\n",
      "bpe_model_trainer.cc(268) LOG(INFO) Added: freq=1258 size=320 all=138738 active=8526 piece=▁만든\n",
      "bpe_model_trainer.cc(268) LOG(INFO) Added: freq=1176 size=340 all=140617 active=10405 piece=리는\n",
      "bpe_model_trainer.cc(268) LOG(INFO) Added: freq=1109 size=360 all=142800 active=12588 piece=\"\"\n",
      "bpe_model_trainer.cc(268) LOG(INFO) Added: freq=1070 size=380 all=144498 active=14286 piece=▁매력\n",
      "bpe_model_trainer.cc(268) LOG(INFO) Added: freq=1038 size=400 all=145994 active=15782 piece=▁표\n",
      "bpe_model_trainer.cc(159) LOG(INFO) Updating active symbols. max_freq=1036 min_freq=47\n",
      "bpe_model_trainer.cc(268) LOG(INFO) Added: freq=981 size=420 all=147404 active=8673 piece=▁절\n",
      "bpe_model_trainer.cc(268) LOG(INFO) Added: freq=929 size=440 all=149419 active=10688 piece=니까\n",
      "bpe_model_trainer.cc(268) LOG(INFO) Added: freq=891 size=460 all=150712 active=11981 piece=점이\n",
      "bpe_model_trainer.cc(268) LOG(INFO) Added: freq=842 size=480 all=152312 active=13581 piece=▁끝까지\n",
      "bpe_model_trainer.cc(268) LOG(INFO) Added: freq=813 size=500 all=153876 active=15145 piece=중에\n",
      "bpe_model_trainer.cc(159) LOG(INFO) Updating active symbols. max_freq=812 min_freq=44\n",
      "bpe_model_trainer.cc(268) LOG(INFO) Added: freq=775 size=520 all=155145 active=8819 piece=된다\n",
      "bpe_model_trainer.cc(268) LOG(INFO) Added: freq=751 size=540 all=156102 active=9776 piece=했던\n",
      "bpe_model_trainer.cc(268) LOG(INFO) Added: freq=723 size=560 all=157895 active=11569 piece=▁대단\n",
      "bpe_model_trainer.cc(268) LOG(INFO) Added: freq=708 size=580 all=159898 active=13572 piece=▁공감\n",
      "bpe_model_trainer.cc(268) LOG(INFO) Added: freq=687 size=600 all=161723 active=15397 piece=▁어디\n",
      "bpe_model_trainer.cc(159) LOG(INFO) Updating active symbols. max_freq=687 min_freq=41\n",
      "bpe_model_trainer.cc(268) LOG(INFO) Added: freq=667 size=620 all=163815 active=10143 piece=주인공\n",
      "bpe_model_trainer.cc(268) LOG(INFO) Added: freq=643 size=640 all=164940 active=11268 piece=이랑\n",
      "bpe_model_trainer.cc(268) LOG(INFO) Added: freq=622 size=660 all=166675 active=13003 piece=▁아니다\n",
      "bpe_model_trainer.cc(268) LOG(INFO) Added: freq=599 size=680 all=168121 active=14449 piece=아니\n",
      "bpe_model_trainer.cc(268) LOG(INFO) Added: freq=584 size=700 all=169432 active=15760 piece=▁아니라\n",
      "bpe_model_trainer.cc(159) LOG(INFO) Updating active symbols. max_freq=583 min_freq=38\n",
      "bpe_model_trainer.cc(268) LOG(INFO) Added: freq=565 size=720 all=171017 active=10046 piece=진다\n",
      "bpe_model_trainer.cc(268) LOG(INFO) Added: freq=553 size=740 all=172218 active=11247 piece=▁중간\n",
      "bpe_model_trainer.cc(268) LOG(INFO) Added: freq=541 size=760 all=173046 active=12075 piece=▁재밌어요\n",
      "bpe_model_trainer.cc(268) LOG(INFO) Added: freq=526 size=780 all=174807 active=13836 piece=▁나와\n",
      "bpe_model_trainer.cc(268) LOG(INFO) Added: freq=512 size=800 all=176154 active=15183 piece=▁만화\n",
      "bpe_model_trainer.cc(159) LOG(INFO) Updating active symbols. max_freq=511 min_freq=36\n",
      "bpe_model_trainer.cc(268) LOG(INFO) Added: freq=499 size=820 all=177442 active=10022 piece=나요\n",
      "bpe_model_trainer.cc(268) LOG(INFO) Added: freq=488 size=840 all=178273 active=10853 piece=나게\n",
      "bpe_model_trainer.cc(268) LOG(INFO) Added: freq=478 size=860 all=179366 active=11946 piece=▁니\n",
      "bpe_model_trainer.cc(268) LOG(INFO) Added: freq=466 size=880 all=180334 active=12914 piece=▁판\n",
      "bpe_model_trainer.cc(268) LOG(INFO) Added: freq=460 size=900 all=181158 active=13738 piece=▁완벽\n",
      "bpe_model_trainer.cc(159) LOG(INFO) Updating active symbols. max_freq=460 min_freq=34\n",
      "bpe_model_trainer.cc(268) LOG(INFO) Added: freq=449 size=920 all=182528 active=10396 piece=▁길\n",
      "bpe_model_trainer.cc(268) LOG(INFO) Added: freq=436 size=940 all=183750 active=11618 piece=▁시나리오\n",
      "bpe_model_trainer.cc(268) LOG(INFO) Added: freq=428 size=960 all=184785 active=12653 piece=▁애니메이션\n",
      "bpe_model_trainer.cc(268) LOG(INFO) Added: freq=419 size=980 all=185956 active=13824 piece=▁사실\n",
      "bpe_model_trainer.cc(268) LOG(INFO) Added: freq=406 size=1000 all=187074 active=14942 piece=▁낫\n",
      "bpe_model_trainer.cc(159) LOG(INFO) Updating active symbols. max_freq=406 min_freq=33\n",
      "bpe_model_trainer.cc(268) LOG(INFO) Added: freq=400 size=1020 all=188359 active=10611 piece=▁개인적으로\n",
      "bpe_model_trainer.cc(268) LOG(INFO) Added: freq=391 size=1040 all=189274 active=11526 piece=▁못한\n",
      "bpe_model_trainer.cc(268) LOG(INFO) Added: freq=380 size=1060 all=190514 active=12766 piece=텐데\n",
      "bpe_model_trainer.cc(268) LOG(INFO) Added: freq=371 size=1080 all=191534 active=13786 piece=▁들어\n",
      "bpe_model_trainer.cc(268) LOG(INFO) Added: freq=359 size=1100 all=192734 active=14986 piece=있고\n",
      "bpe_model_trainer.cc(159) LOG(INFO) Updating active symbols. max_freq=359 min_freq=31\n",
      "bpe_model_trainer.cc(268) LOG(INFO) Added: freq=353 size=1120 all=193958 active=10767 piece=▁그만\n",
      "bpe_model_trainer.cc(268) LOG(INFO) Added: freq=346 size=1140 all=194682 active=11491 piece=▁병\n",
      "bpe_model_trainer.cc(268) LOG(INFO) Added: freq=341 size=1160 all=195526 active=12335 piece=▁실화\n",
      "bpe_model_trainer.cc(268) LOG(INFO) Added: freq=335 size=1180 all=196584 active=13393 piece=▁사람이\n",
      "bpe_model_trainer.cc(268) LOG(INFO) Added: freq=326 size=1200 all=197517 active=14326 piece=▁갈수록\n",
      "bpe_model_trainer.cc(159) LOG(INFO) Updating active symbols. max_freq=326 min_freq=30\n",
      "bpe_model_trainer.cc(268) LOG(INFO) Added: freq=319 size=1220 all=198258 active=10608 piece=▁감사\n",
      "bpe_model_trainer.cc(268) LOG(INFO) Added: freq=314 size=1240 all=199451 active=11801 piece=▁S\n",
      "bpe_model_trainer.cc(268) LOG(INFO) Added: freq=311 size=1260 all=200573 active=12923 piece=땜에\n",
      "bpe_model_trainer.cc(268) LOG(INFO) Added: freq=305 size=1280 all=201598 active=13948 piece=▁재미있는\n",
      "bpe_model_trainer.cc(268) LOG(INFO) Added: freq=297 size=1300 all=202626 active=14976 piece=▁섹\n",
      "bpe_model_trainer.cc(159) LOG(INFO) Updating active symbols. max_freq=297 min_freq=29\n",
      "bpe_model_trainer.cc(268) LOG(INFO) Added: freq=294 size=1320 all=203496 active=10985 piece=스가\n",
      "bpe_model_trainer.cc(268) LOG(INFO) Added: freq=289 size=1340 all=204701 active=12190 piece=▁별점\n",
      "bpe_model_trainer.cc(268) LOG(INFO) Added: freq=284 size=1360 all=205527 active=13016 piece=▁다들\n",
      "bpe_model_trainer.cc(268) LOG(INFO) Added: freq=278 size=1380 all=206452 active=13941 piece=▁트\n",
      "bpe_model_trainer.cc(268) LOG(INFO) Added: freq=274 size=1400 all=207320 active=14809 piece=그런\n",
      "bpe_model_trainer.cc(159) LOG(INFO) Updating active symbols. max_freq=274 min_freq=27\n",
      "bpe_model_trainer.cc(268) LOG(INFO) Added: freq=267 size=1420 all=208395 active=11344 piece=아이\n",
      "bpe_model_trainer.cc(268) LOG(INFO) Added: freq=262 size=1440 all=209697 active=12646 piece=▁너무너무\n",
      "bpe_model_trainer.cc(268) LOG(INFO) Added: freq=256 size=1460 all=210540 active=13489 piece=이게\n",
      "bpe_model_trainer.cc(268) LOG(INFO) Added: freq=253 size=1480 all=211409 active=14358 piece=▁O\n",
      "bpe_model_trainer.cc(268) LOG(INFO) Added: freq=251 size=1500 all=212200 active=15149 piece=▁케이\n",
      "bpe_model_trainer.cc(159) LOG(INFO) Updating active symbols. max_freq=251 min_freq=27\n",
      "bpe_model_trainer.cc(268) LOG(INFO) Added: freq=245 size=1520 all=212837 active=11230 piece=▁예쁘\n",
      "bpe_model_trainer.cc(268) LOG(INFO) Added: freq=241 size=1540 all=213537 active=11930 piece=진진\n",
      "bpe_model_trainer.cc(268) LOG(INFO) Added: freq=237 size=1560 all=214110 active=12503 piece=다는게\n",
      "bpe_model_trainer.cc(268) LOG(INFO) Added: freq=233 size=1580 all=215087 active=13480 piece=아야\n",
      "bpe_model_trainer.cc(268) LOG(INFO) Added: freq=229 size=1600 all=216345 active=14738 piece=▁끝나\n",
      "bpe_model_trainer.cc(159) LOG(INFO) Updating active symbols. max_freq=229 min_freq=26\n",
      "bpe_model_trainer.cc(268) LOG(INFO) Added: freq=226 size=1620 all=217221 active=11655 piece=▁짝\n",
      "bpe_model_trainer.cc(268) LOG(INFO) Added: freq=224 size=1640 all=217894 active=12328 piece=▁헐리\n",
      "bpe_model_trainer.cc(268) LOG(INFO) Added: freq=220 size=1660 all=218820 active=13254 piece=없네\n",
      "bpe_model_trainer.cc(268) LOG(INFO) Added: freq=217 size=1680 all=219747 active=14181 piece=하지도\n",
      "bpe_model_trainer.cc(268) LOG(INFO) Added: freq=213 size=1700 all=220498 active=14932 piece=▁하게\n",
      "bpe_model_trainer.cc(159) LOG(INFO) Updating active symbols. max_freq=213 min_freq=25\n",
      "bpe_model_trainer.cc(268) LOG(INFO) Added: freq=210 size=1720 all=221591 active=12102 piece=내가\n",
      "bpe_model_trainer.cc(268) LOG(INFO) Added: freq=208 size=1740 all=222328 active=12839 piece=▁좋음\n",
      "bpe_model_trainer.cc(268) LOG(INFO) Added: freq=205 size=1760 all=222954 active=13465 piece=▁웃긴\n",
      "bpe_model_trainer.cc(268) LOG(INFO) Added: freq=202 size=1780 all=223756 active=14267 piece=에서는\n",
      "bpe_model_trainer.cc(268) LOG(INFO) Added: freq=200 size=1800 all=224613 active=15124 piece=처음\n",
      "bpe_model_trainer.cc(159) LOG(INFO) Updating active symbols. max_freq=200 min_freq=24\n",
      "bpe_model_trainer.cc(268) LOG(INFO) Added: freq=198 size=1820 all=225500 active=11998 piece=▁초등\n",
      "bpe_model_trainer.cc(268) LOG(INFO) Added: freq=196 size=1840 all=226213 active=12711 piece=▁사랑을\n",
      "bpe_model_trainer.cc(268) LOG(INFO) Added: freq=193 size=1860 all=226888 active=13386 piece=점준\n",
      "bpe_model_trainer.cc(268) LOG(INFO) Added: freq=190 size=1880 all=227602 active=14100 piece=▁이연\n",
      "bpe_model_trainer.cc(268) LOG(INFO) Added: freq=188 size=1900 all=228486 active=14984 piece=▁진행\n",
      "bpe_model_trainer.cc(159) LOG(INFO) Updating active symbols. max_freq=188 min_freq=23\n",
      "bpe_model_trainer.cc(268) LOG(INFO) Added: freq=186 size=1920 all=229147 active=12045 piece=▁당신\n",
      "bpe_model_trainer.cc(268) LOG(INFO) Added: freq=184 size=1940 all=229889 active=12787 piece=▁명작이다\n",
      "bpe_model_trainer.cc(268) LOG(INFO) Added: freq=181 size=1960 all=230544 active=13442 piece=▁그때\n",
      "bpe_model_trainer.cc(268) LOG(INFO) Added: freq=178 size=1980 all=231144 active=14042 piece=그램\n",
      "bpe_model_trainer.cc(268) LOG(INFO) Added: freq=176 size=2000 all=231909 active=14807 piece=▁이래\n",
      "bpe_model_trainer.cc(159) LOG(INFO) Updating active symbols. max_freq=176 min_freq=23\n",
      "bpe_model_trainer.cc(268) LOG(INFO) Added: freq=174 size=2020 all=232651 active=12325 piece=▁우울\n",
      "bpe_model_trainer.cc(268) LOG(INFO) Added: freq=171 size=2040 all=233414 active=13088 piece=▁나쁘\n",
      "bpe_model_trainer.cc(268) LOG(INFO) Added: freq=169 size=2060 all=234051 active=13725 piece=▁왠지\n",
      "bpe_model_trainer.cc(268) LOG(INFO) Added: freq=167 size=2080 all=234579 active=14253 piece=되어\n",
      "bpe_model_trainer.cc(268) LOG(INFO) Added: freq=165 size=2100 all=235536 active=15210 piece=▁그랬\n",
      "bpe_model_trainer.cc(159) LOG(INFO) Updating active symbols. max_freq=165 min_freq=22\n",
      "bpe_model_trainer.cc(268) LOG(INFO) Added: freq=163 size=2120 all=236351 active=12561 piece=함과\n",
      "bpe_model_trainer.cc(268) LOG(INFO) Added: freq=161 size=2140 all=237254 active=13464 piece=▁허접한\n",
      "bpe_model_trainer.cc(268) LOG(INFO) Added: freq=159 size=2160 all=237938 active=14148 piece=▁플\n",
      "bpe_model_trainer.cc(268) LOG(INFO) Added: freq=158 size=2180 all=238957 active=15167 piece=▁왜이렇게\n",
      "bpe_model_trainer.cc(268) LOG(INFO) Added: freq=157 size=2200 all=239800 active=16010 piece=▁아니지만\n",
      "bpe_model_trainer.cc(159) LOG(INFO) Updating active symbols. max_freq=156 min_freq=21\n",
      "bpe_model_trainer.cc(268) LOG(INFO) Added: freq=155 size=2220 all=240240 active=12427 piece=▁+\n",
      "bpe_model_trainer.cc(268) LOG(INFO) Added: freq=154 size=2240 all=241358 active=13545 piece=▁;;\n",
      "bpe_model_trainer.cc(268) LOG(INFO) Added: freq=153 size=2260 all=242058 active=14245 piece=▁어이없는\n",
      "bpe_model_trainer.cc(268) LOG(INFO) Added: freq=151 size=2280 all=242610 active=14797 piece=▁좋았는데\n",
      "bpe_model_trainer.cc(268) LOG(INFO) Added: freq=149 size=2300 all=243194 active=15381 piece=번째\n",
      "bpe_model_trainer.cc(159) LOG(INFO) Updating active symbols. max_freq=149 min_freq=21\n",
      "bpe_model_trainer.cc(268) LOG(INFO) Added: freq=148 size=2320 all=243753 active=12678 piece=▁재미있음\n",
      "bpe_model_trainer.cc(268) LOG(INFO) Added: freq=146 size=2340 all=244279 active=13204 piece=나왔\n",
      "bpe_model_trainer.cc(268) LOG(INFO) Added: freq=145 size=2360 all=244991 active=13916 piece=▁알겠\n",
      "bpe_model_trainer.cc(268) LOG(INFO) Added: freq=144 size=2380 all=245586 active=14511 piece=▁표절\n",
      "bpe_model_trainer.cc(268) LOG(INFO) Added: freq=142 size=2400 all=245927 active=14852 piece=**\n",
      "bpe_model_trainer.cc(159) LOG(INFO) Updating active symbols. max_freq=142 min_freq=20\n",
      "bpe_model_trainer.cc(268) LOG(INFO) Added: freq=141 size=2420 all=246452 active=12806 piece=▁합\n",
      "bpe_model_trainer.cc(268) LOG(INFO) Added: freq=140 size=2440 all=247390 active=13744 piece=인을\n",
      "bpe_model_trainer.cc(268) LOG(INFO) Added: freq=139 size=2460 all=248117 active=14471 piece=기다\n",
      "bpe_model_trainer.cc(268) LOG(INFO) Added: freq=138 size=2480 all=248939 active=15293 piece=▁딴\n",
      "bpe_model_trainer.cc(268) LOG(INFO) Added: freq=137 size=2500 all=249696 active=16050 piece=▁학\n",
      "bpe_model_trainer.cc(159) LOG(INFO) Updating active symbols. max_freq=137 min_freq=20\n",
      "bpe_model_trainer.cc(268) LOG(INFO) Added: freq=137 size=2520 all=250509 active=13276 piece=▁음악이\n",
      "bpe_model_trainer.cc(268) LOG(INFO) Added: freq=136 size=2540 all=251299 active=14066 piece=▁몇번을\n",
      "bpe_model_trainer.cc(268) LOG(INFO) Added: freq=134 size=2560 all=251765 active=14532 piece=▁아니면\n",
      "bpe_model_trainer.cc(268) LOG(INFO) Added: freq=133 size=2580 all=252258 active=15025 piece=▁나왔으면\n",
      "bpe_model_trainer.cc(268) LOG(INFO) Added: freq=131 size=2600 all=252884 active=15651 piece=시켜\n",
      "bpe_model_trainer.cc(159) LOG(INFO) Updating active symbols. max_freq=131 min_freq=19\n",
      "bpe_model_trainer.cc(268) LOG(INFO) Added: freq=130 size=2620 all=253306 active=12976 piece=▁썩\n",
      "bpe_model_trainer.cc(268) LOG(INFO) Added: freq=129 size=2640 all=253885 active=13555 piece=▁증\n",
      "bpe_model_trainer.cc(268) LOG(INFO) Added: freq=128 size=2660 all=254704 active=14374 piece=▁되게\n",
      "bpe_model_trainer.cc(268) LOG(INFO) Added: freq=127 size=2680 all=255114 active=14784 piece=▁뮤지컬\n",
      "bpe_model_trainer.cc(268) LOG(INFO) Added: freq=125 size=2700 all=255547 active=15217 piece=아님\n",
      "bpe_model_trainer.cc(159) LOG(INFO) Updating active symbols. max_freq=125 min_freq=19\n",
      "bpe_model_trainer.cc(268) LOG(INFO) Added: freq=124 size=2720 all=255989 active=13145 piece=▁퇴\n",
      "bpe_model_trainer.cc(268) LOG(INFO) Added: freq=123 size=2740 all=256493 active=13649 piece=진심\n",
      "bpe_model_trainer.cc(268) LOG(INFO) Added: freq=122 size=2760 all=257391 active=14547 piece=▁밋밋\n",
      "bpe_model_trainer.cc(268) LOG(INFO) Added: freq=121 size=2780 all=257941 active=15097 piece=▁놀랍\n",
      "bpe_model_trainer.cc(268) LOG(INFO) Added: freq=120 size=2800 all=258305 active=15461 piece=▁징\n",
      "bpe_model_trainer.cc(159) LOG(INFO) Updating active symbols. max_freq=120 min_freq=19\n",
      "bpe_model_trainer.cc(268) LOG(INFO) Added: freq=120 size=2820 all=258885 active=13477 piece=▁쓰래기\n",
      "bpe_model_trainer.cc(268) LOG(INFO) Added: freq=119 size=2840 all=259559 active=14151 piece=▁이제야\n",
      "bpe_model_trainer.cc(268) LOG(INFO) Added: freq=117 size=2860 all=260002 active=14594 piece=까진\n",
      "bpe_model_trainer.cc(268) LOG(INFO) Added: freq=117 size=2880 all=260782 active=15374 piece=▁진심으로\n",
      "bpe_model_trainer.cc(268) LOG(INFO) Added: freq=116 size=2900 all=261383 active=15975 piece=▁스케일\n",
      "bpe_model_trainer.cc(159) LOG(INFO) Updating active symbols. max_freq=116 min_freq=18\n",
      "bpe_model_trainer.cc(268) LOG(INFO) Added: freq=115 size=2920 all=261988 active=13656 piece=...?\n",
      "bpe_model_trainer.cc(268) LOG(INFO) Added: freq=114 size=2940 all=262511 active=14179 piece=▁있나\n",
      "bpe_model_trainer.cc(268) LOG(INFO) Added: freq=113 size=2960 all=263264 active=14932 piece=▁나라\n",
      "bpe_model_trainer.cc(268) LOG(INFO) Added: freq=112 size=2980 all=263678 active=15346 piece=▁고생\n",
      "bpe_model_trainer.cc(268) LOG(INFO) Added: freq=111 size=3000 all=264178 active=15846 piece=그렇\n",
      "bpe_model_trainer.cc(159) LOG(INFO) Updating active symbols. max_freq=111 min_freq=18\n",
      "bpe_model_trainer.cc(268) LOG(INFO) Added: freq=111 size=3020 all=264628 active=13605 piece=!!!!!!!!!!!!!!!!\n",
      "bpe_model_trainer.cc(268) LOG(INFO) Added: freq=110 size=3040 all=265165 active=14142 piece=▁되었다\n",
      "bpe_model_trainer.cc(268) LOG(INFO) Added: freq=109 size=3060 all=265488 active=14465 piece=▁전투\n",
      "bpe_model_trainer.cc(268) LOG(INFO) Added: freq=108 size=3080 all=266066 active=15043 piece=이후\n",
      "bpe_model_trainer.cc(268) LOG(INFO) Added: freq=107 size=3100 all=266535 active=15512 piece=었을\n",
      "bpe_model_trainer.cc(159) LOG(INFO) Updating active symbols. max_freq=107 min_freq=17\n",
      "bpe_model_trainer.cc(268) LOG(INFO) Added: freq=107 size=3120 all=267118 active=13844 piece=봤습니다\n",
      "bpe_model_trainer.cc(268) LOG(INFO) Added: freq=106 size=3140 all=267838 active=14564 piece=▁결말은\n",
      "bpe_model_trainer.cc(268) LOG(INFO) Added: freq=105 size=3160 all=268265 active=14991 piece=▁대표\n",
      "bpe_model_trainer.cc(268) LOG(INFO) Added: freq=104 size=3180 all=268416 active=15142 piece=▁ᄋ\n",
      "bpe_model_trainer.cc(268) LOG(INFO) Added: freq=104 size=3200 all=269040 active=15766 piece=▁웃김\n",
      "bpe_model_trainer.cc(159) LOG(INFO) Updating active symbols. max_freq=104 min_freq=17\n",
      "bpe_model_trainer.cc(268) LOG(INFO) Added: freq=103 size=3220 all=269595 active=14003 piece=▁알바들\n",
      "bpe_model_trainer.cc(268) LOG(INFO) Added: freq=102 size=3240 all=270054 active=14462 piece=▁신경\n",
      "bpe_model_trainer.cc(268) LOG(INFO) Added: freq=101 size=3260 all=270477 active=14885 piece=어여\n",
      "bpe_model_trainer.cc(268) LOG(INFO) Added: freq=100 size=3280 all=270840 active=15248 piece=▁좌\n",
      "bpe_model_trainer.cc(268) LOG(INFO) Added: freq=100 size=3300 all=271576 active=15984 piece=▁아쉬움\n",
      "bpe_model_trainer.cc(159) LOG(INFO) Updating active symbols. max_freq=100 min_freq=17\n",
      "bpe_model_trainer.cc(268) LOG(INFO) Added: freq=99 size=3320 all=272156 active=14153 piece=인가요\n",
      "bpe_model_trainer.cc(268) LOG(INFO) Added: freq=98 size=3340 all=272697 active=14694 piece=러디\n",
      "bpe_model_trainer.cc(268) LOG(INFO) Added: freq=98 size=3360 all=273380 active=15377 piece=▁김기덕\n",
      "bpe_model_trainer.cc(268) LOG(INFO) Added: freq=97 size=3380 all=273920 active=15917 piece=▁극치\n",
      "bpe_model_trainer.cc(268) LOG(INFO) Added: freq=96 size=3400 all=274408 active=16405 piece=우리\n",
      "bpe_model_trainer.cc(159) LOG(INFO) Updating active symbols. max_freq=96 min_freq=16\n",
      "bpe_model_trainer.cc(268) LOG(INFO) Added: freq=96 size=3420 all=274871 active=14127 piece=▁안보고\n",
      "bpe_model_trainer.cc(268) LOG(INFO) Added: freq=95 size=3440 all=275479 active=14735 piece=▁섹스\n",
      "bpe_model_trainer.cc(268) LOG(INFO) Added: freq=94 size=3460 all=275979 active=15235 piece=니당\n",
      "bpe_model_trainer.cc(268) LOG(INFO) Added: freq=94 size=3480 all=276439 active=15695 piece=하는영화\n",
      "bpe_model_trainer.cc(268) LOG(INFO) Added: freq=93 size=3500 all=276999 active=16255 piece=▁상업\n",
      "bpe_model_trainer.cc(159) LOG(INFO) Updating active symbols. max_freq=93 min_freq=16\n",
      "bpe_model_trainer.cc(268) LOG(INFO) Added: freq=92 size=3520 all=277471 active=14297 piece=우고\n",
      "bpe_model_trainer.cc(268) LOG(INFO) Added: freq=91 size=3540 all=277953 active=14779 piece=▁척\n",
      "bpe_model_trainer.cc(268) LOG(INFO) Added: freq=91 size=3560 all=278463 active=15289 piece=보지마\n",
      "bpe_model_trainer.cc(268) LOG(INFO) Added: freq=90 size=3580 all=279010 active=15836 piece=▁없지\n",
      "bpe_model_trainer.cc(268) LOG(INFO) Added: freq=89 size=3600 all=279387 active=16213 piece=씨의\n",
      "bpe_model_trainer.cc(159) LOG(INFO) Updating active symbols. max_freq=89 min_freq=16\n",
      "bpe_model_trainer.cc(268) LOG(INFO) Added: freq=89 size=3620 all=279890 active=14413 piece=▁의미를\n",
      "bpe_model_trainer.cc(268) LOG(INFO) Added: freq=88 size=3640 all=280449 active=14972 piece=▁좋게\n",
      "bpe_model_trainer.cc(268) LOG(INFO) Added: freq=87 size=3660 all=280982 active=15505 piece=▁늘어\n",
      "bpe_model_trainer.cc(268) LOG(INFO) Added: freq=86 size=3680 all=281356 active=15879 piece=남는\n",
      "bpe_model_trainer.cc(268) LOG(INFO) Added: freq=86 size=3700 all=281840 active=16363 piece=▁덕분에\n",
      "bpe_model_trainer.cc(159) LOG(INFO) Updating active symbols. max_freq=86 min_freq=16\n",
      "bpe_model_trainer.cc(268) LOG(INFO) Added: freq=85 size=3720 all=282197 active=14448 piece=▁남겨\n",
      "bpe_model_trainer.cc(268) LOG(INFO) Added: freq=84 size=3740 all=282548 active=14799 piece=감도\n",
      "bpe_model_trainer.cc(268) LOG(INFO) Added: freq=84 size=3760 all=283398 active=15649 piece=▁그걸\n",
      "bpe_model_trainer.cc(268) LOG(INFO) Added: freq=83 size=3780 all=283743 active=15994 piece=VD\n",
      "bpe_model_trainer.cc(268) LOG(INFO) Added: freq=83 size=3800 all=284181 active=16432 piece=▁어우\n",
      "bpe_model_trainer.cc(159) LOG(INFO) Updating active symbols. max_freq=83 min_freq=15\n",
      "bpe_model_trainer.cc(268) LOG(INFO) Added: freq=82 size=3820 all=284587 active=14611 piece=제작\n",
      "bpe_model_trainer.cc(268) LOG(INFO) Added: freq=82 size=3840 all=284983 active=15007 piece=▁색다른\n",
      "bpe_model_trainer.cc(268) LOG(INFO) Added: freq=81 size=3860 all=285426 active=15450 piece=원의\n",
      "bpe_model_trainer.cc(268) LOG(INFO) Added: freq=81 size=3880 all=285869 active=15893 piece=▁가치가\n",
      "bpe_model_trainer.cc(268) LOG(INFO) Added: freq=81 size=3900 all=286006 active=16030 piece=▁재미없었다\n",
      "bpe_model_trainer.cc(159) LOG(INFO) Updating active symbols. max_freq=81 min_freq=15\n",
      "bpe_model_trainer.cc(268) LOG(INFO) Added: freq=80 size=3920 all=286617 active=14908 piece=▁바꿔\n",
      "bpe_model_trainer.cc(268) LOG(INFO) Added: freq=80 size=3940 all=286930 active=15221 piece=▁만든영화\n",
      "bpe_model_trainer.cc(268) LOG(INFO) Added: freq=79 size=3960 all=287443 active=15734 piece=▁드림\n",
      "bpe_model_trainer.cc(268) LOG(INFO) Added: freq=79 size=3980 all=287832 active=16123 piece=▁아니야\n",
      "bpe_model_trainer.cc(268) LOG(INFO) Added: freq=78 size=4000 all=288371 active=16662 piece=신은\n",
      "bpe_model_trainer.cc(159) LOG(INFO) Updating active symbols. max_freq=78 min_freq=15\n",
      "bpe_model_trainer.cc(268) LOG(INFO) Added: freq=78 size=4020 all=288757 active=14767 piece=▁심하게\n",
      "bpe_model_trainer.cc(268) LOG(INFO) Added: freq=77 size=4040 all=289177 active=15187 piece=아쉬\n",
      "bpe_model_trainer.cc(268) LOG(INFO) Added: freq=77 size=4060 all=289688 active=15698 piece=▁미스터\n",
      "bpe_model_trainer.cc(268) LOG(INFO) Added: freq=76 size=4080 all=289879 active=15889 piece=러워\n",
      "bpe_model_trainer.cc(268) LOG(INFO) Added: freq=76 size=4100 all=290359 active=16369 piece=▁작위\n",
      "bpe_model_trainer.cc(159) LOG(INFO) Updating active symbols. max_freq=76 min_freq=15\n",
      "bpe_model_trainer.cc(268) LOG(INFO) Added: freq=76 size=4120 all=290703 active=14854 piece=▁잼있어요\n",
      "bpe_model_trainer.cc(268) LOG(INFO) Added: freq=75 size=4140 all=291178 active=15329 piece=▁우려\n",
      "bpe_model_trainer.cc(268) LOG(INFO) Added: freq=75 size=4160 all=291486 active=15637 piece=▁않을까\n",
      "bpe_model_trainer.cc(268) LOG(INFO) Added: freq=74 size=4180 all=291704 active=15855 piece=니깐\n",
      "bpe_model_trainer.cc(268) LOG(INFO) Added: freq=74 size=4200 all=292175 active=1"
     ]
    }
   ],
   "source": [
    "with open('nsmc_text_bpe.txt', 'w', encoding='utf-8') as f:\n",
    "    for line in train_data['document'].values:\n",
    "        f.write(line + '\\n')\n",
    "\n",
    "input_fime = 'nsmc_text_bpe.txt'\n",
    "vocab_size = 8000\n",
    "prefix = 'korean_spm_bpe'\n",
    "\n",
    "templates = '--input={} --model_prefix={} --vocab_size={} --model_type=bpe'\n",
    "cmd = templates.format(input_fime, prefix, vocab_size)\n",
    "\n",
    "spm.SentencePieceTrainer.Train(cmd)\n"
   ]
  },
  {
   "cell_type": "code",
   "execution_count": 31,
   "metadata": {},
   "outputs": [
    {
     "name": "stdout",
     "output_type": "stream",
     "text": [
      "아 더빙.. 진짜 짜증나네요 목소리\n",
      "['▁아', '▁더빙', '..', '▁진짜', '▁짜증나', '네요', '▁목소리']\n",
      "[8, 1065, 3, 51, 2133, 34, 2107]\n",
      "\n",
      "흠...포스터보고 초딩영화줄....오버연기조차 가볍지 않구나\n",
      "['▁흠', '...', '포스터', '보고', '▁초딩', '영화', '줄', '....', '오', '버', '연기', '조차', '▁가볍', '지', '▁않', '구나']\n",
      "[1453, 7, 4502, 159, 1200, 4, 6488, 21, 6347, 6460, 257, 1854, 1791, 6280, 70, 395]\n",
      "\n",
      "너무재밓었다그래서보는것을추천한다\n",
      "['▁너무', '재', '밓', '었다', '그래서', '보는', '것을', '추천', '한다']\n",
      "[24, 6303, 7826, 113, 3838, 423, 1401, 1658, 280]\n",
      "\n",
      "교도소 이야기구먼 ..솔직히 재미는 없다..평점 조정\n",
      "['▁교', '도', '소', '▁이야기', '구', '먼', '▁..', '솔직히', '▁재미는', '▁없다', '..', '평점', '▁조', '정']\n",
      "[644, 6283, 6377, 275, 6372, 6768, 404, 4839, 1287, 215, 3, 1007, 131, 6314]\n",
      "\n",
      "사이몬페그의 익살스런 연기가 돋보였던 영화!스파이더맨에서 늙어보이기만 했던 커스틴 던스트가 너무나도 이뻐보였다\n",
      "['▁사이', '몬', '페', '그', '의', '▁익', '살', '스런', '▁연기가', '▁돋보', '였던', '▁영화', '!', '스', '파이', '더맨', '에서', '▁늙', '어', '보이', '기만', '▁했던', '▁커', '스', '틴', '▁던', '스트', '가', '▁너무나도', '▁이뻐', '보', '였다']\n",
      "[2746, 7123, 6876, 6307, 6293, 3183, 6504, 1887, 635, 1520, 2152, 5, 6294, 6311, 1710, 5487, 52, 2313, 6291, 2376, 1205, 2551, 1206, 6311, 7002, 3152, 611, 6281, 2297, 2609, 6290, 386]\n",
      "\n"
     ]
    }
   ],
   "source": [
    "# 학습된 SentencePiece 모델 로드\n",
    "sp = spm.SentencePieceProcessor()\n",
    "sp.Load('{}.model'.format(prefix))\n",
    "\n",
    "for t in train_data.document.values[:5]:\n",
    "    print(t)\n",
    "    print(sp.EncodeAsPieces(t))\n",
    "    print(sp.EncodeAsIds(t))\n",
    "    print()\n"
   ]
  },
  {
   "cell_type": "code",
   "execution_count": 32,
   "metadata": {},
   "outputs": [],
   "source": [
    "# 텍스트 데이터 토큰화\n",
    "train_data['document'] = train_data['document'].apply(sp.EncodeAsPieces)\n",
    "test_data['document'] = test_data['document'].apply(sp.EncodeAsPieces)"
   ]
  },
  {
   "cell_type": "code",
   "execution_count": 33,
   "metadata": {},
   "outputs": [],
   "source": [
    "# 토큰화된 데이터를 숫자로 변환\n",
    "tokenizer = Tokenizer()\n",
    "tokenizer.fit_on_texts(train_data['document'])\n",
    "\n",
    "train_sequences = tokenizer.texts_to_sequences(train_data['document'])\n",
    "test_sequences = tokenizer.texts_to_sequences(test_data['document'])\n",
    "\n",
    "# 패딩 처리\n",
    "train_inputs = pad_sequences(train_sequences, maxlen=100)\n",
    "test_inputs = pad_sequences(test_sequences, maxlen=100)\n",
    "\n",
    "# 레이블 데이터를 numpy array로 변환\n",
    "train_labels = np.array(train_data['label'])\n",
    "test_labels = np.array(test_data['label'])"
   ]
  },
  {
   "cell_type": "code",
   "execution_count": 34,
   "metadata": {},
   "outputs": [
    {
     "name": "stderr",
     "output_type": "stream",
     "text": [
      "/var/folders/mg/rbbjnp_x0k31bv6dy862v00w0000gn/T/ipykernel_50962/2893645305.py:7: DeprecationWarning: Call to deprecated `__contains__` (Method will be removed in 4.0.0, use self.wv.__contains__() instead).\n",
      "  if word in word2vec:\n",
      "/var/folders/mg/rbbjnp_x0k31bv6dy862v00w0000gn/T/ipykernel_50962/2893645305.py:8: DeprecationWarning: Call to deprecated `__getitem__` (Method will be removed in 4.0.0, use self.wv.__getitem__() instead).\n",
      "  embedding_matrix[i] = word2vec[word]\n"
     ]
    }
   ],
   "source": [
    "# 사전 학습된 Word2Vec 모델 로드\n",
    "word2vec = Word2Vec.load('ko/ko.bin')\n",
    "\n",
    "# 임베딩 레이어의 가중치를 초기화\n",
    "embedding_matrix = np.zeros((len(tokenizer.word_index) + 1, word2vec.vector_size))\n",
    "for word, i in tokenizer.word_index.items():\n",
    "    if word in word2vec:\n",
    "        embedding_matrix[i] = word2vec[word]"
   ]
  },
  {
   "attachments": {},
   "cell_type": "markdown",
   "metadata": {},
   "source": [
    "### 모델 구성 및 학습"
   ]
  },
  {
   "cell_type": "code",
   "execution_count": 35,
   "metadata": {},
   "outputs": [
    {
     "name": "stdout",
     "output_type": "stream",
     "text": [
      "Epoch 1/15\n",
      "1832/1832 [==============================] - ETA: 0s - loss: 0.4023 - accuracy: 0.8124WARNING:tensorflow:Can save best model only with val_acc available, skipping.\n",
      "1832/1832 [==============================] - 132s 71ms/step - loss: 0.4023 - accuracy: 0.8124 - val_loss: 0.3411 - val_accuracy: 0.8524\n",
      "Epoch 2/15\n",
      "1832/1832 [==============================] - ETA: 0s - loss: 0.3001 - accuracy: 0.8696WARNING:tensorflow:Can save best model only with val_acc available, skipping.\n",
      "1832/1832 [==============================] - 128s 70ms/step - loss: 0.3001 - accuracy: 0.8696 - val_loss: 0.3236 - val_accuracy: 0.8595\n",
      "Epoch 3/15\n",
      "1832/1832 [==============================] - ETA: 0s - loss: 0.2531 - accuracy: 0.8932WARNING:tensorflow:Can save best model only with val_acc available, skipping.\n",
      "1832/1832 [==============================] - 128s 70ms/step - loss: 0.2531 - accuracy: 0.8932 - val_loss: 0.3374 - val_accuracy: 0.8552\n",
      "Epoch 4/15\n",
      "1832/1832 [==============================] - ETA: 0s - loss: 0.2011 - accuracy: 0.9168WARNING:tensorflow:Can save best model only with val_acc available, skipping.\n",
      "1832/1832 [==============================] - 127s 69ms/step - loss: 0.2011 - accuracy: 0.9168 - val_loss: 0.3671 - val_accuracy: 0.8519\n",
      "Epoch 5/15\n",
      "1832/1832 [==============================] - ETA: 0s - loss: 0.1430 - accuracy: 0.9434WARNING:tensorflow:Can save best model only with val_acc available, skipping.\n",
      "1832/1832 [==============================] - 128s 70ms/step - loss: 0.1430 - accuracy: 0.9434 - val_loss: 0.4333 - val_accuracy: 0.8470\n",
      "Epoch 6/15\n",
      "1832/1832 [==============================] - ETA: 0s - loss: 0.0858 - accuracy: 0.9686WARNING:tensorflow:Can save best model only with val_acc available, skipping.\n",
      "1832/1832 [==============================] - 126s 69ms/step - loss: 0.0858 - accuracy: 0.9686 - val_loss: 0.5462 - val_accuracy: 0.8422\n",
      "Epoch 6: early stopping\n"
     ]
    }
   ],
   "source": [
    "# 모델 정의\n",
    "model3 = Sequential()\n",
    "model3.add(Embedding(\n",
    "    len(tokenizer.word_index)+1, \n",
    "    word2vec.vector_size, \n",
    "    weights=[embedding_matrix], \n",
    "    trainable=True # 파인튜닝 허용\n",
    "))\n",
    "model3.add(LSTM(128))\n",
    "model3.add(Dense(1, activation='sigmoid'))\n",
    "\n",
    "# 모델 컴파일\n",
    "model3.compile(optimizer='adam', loss='binary_crossentropy', metrics=['accuracy'])\n",
    "\n",
    "# 콜백 정의\n",
    "es3 = EarlyStopping(monitor='val_loss', mode='min', verbose=1, patience=4)\n",
    "mc3 = ModelCheckpoint('best_model3.h5', monitor='val_acc', mode='max', verbose=1, save_best_only=True)\n",
    "\n",
    "# 모델 학습\n",
    "history3 = model3.fit(train_inputs, train_labels, epochs=15, callbacks=[es3, mc3], batch_size=60, validation_split=0.2)\n"
   ]
  },
  {
   "cell_type": "code",
   "execution_count": 36,
   "metadata": {},
   "outputs": [
    {
     "name": "stdout",
     "output_type": "stream",
     "text": [
      "1563/1563 [==============================] - 18s 11ms/step - loss: 0.5529 - accuracy: 0.8393\n",
      "[0.5528690218925476, 0.8393303751945496]\n"
     ]
    }
   ],
   "source": [
    "# 모델 평가\n",
    "print(model3.evaluate(test_inputs, test_labels))\n"
   ]
  },
  {
   "attachments": {},
   "cell_type": "markdown",
   "metadata": {},
   "source": [
    "### 시각화"
   ]
  },
  {
   "cell_type": "code",
   "execution_count": 37,
   "metadata": {},
   "outputs": [
    {
     "data": {
      "image/png": "[encoded data removed]",
      "text/plain": [
       "<Figure size 1200x400 with 2 Axes>"
      ]
     },
     "metadata": {},
     "output_type": "display_data"
    }
   ],
   "source": [
    "# 손실 함수 값 그래프\n",
    "plt.figure(figsize=(12, 4))\n",
    "\n",
    "plt.subplot(1, 2, 1)\n",
    "plt.plot(history1.history['loss'], 'b-', label='model1_loss')\n",
    "plt.plot(history1.history['val_loss'], 'r--', label='model1_val_loss')\n",
    "plt.plot(history2.history['loss'], 'g-', label='model2_loss')\n",
    "plt.plot(history2.history['val_loss'], 'k--', label='model2_val_loss')\n",
    "plt.plot(history3.history['loss'], 'y-', label='model3_loss')\n",
    "plt.plot(history3.history['val_loss'], 'c--', label='model3_val_loss')\n",
    "plt.xlabel('Epoch')\n",
    "plt.legend()\n",
    "\n",
    "# 정확도 그래프\n",
    "plt.subplot(1, 2, 2)\n",
    "plt.plot(history1.history['accuracy'], 'b-', label='model1_accuracy')\n",
    "plt.plot(history1.history['val_accuracy'], 'r--', label='model1_val_accuracy')\n",
    "plt.plot(history2.history['accuracy'], 'g-', label='model2_accuracy')\n",
    "plt.plot(history2.history['val_accuracy'], 'k--', label='model2_val_accuracy')\n",
    "plt.plot(history3.history['accuracy'], 'y-', label='model3_accuracy')\n",
    "plt.plot(history3.history['val_accuracy'], 'c--', label='model3_val_accuracy')\n",
    "plt.xlabel('Epoch')\n",
    "plt.legend()\n",
    "\n",
    "plt.show()\n"
   ]
  },
  {
   "attachments": {},
   "cell_type": "markdown",
   "metadata": {},
   "source": [
    "## 결론\n",
    "\n",
    "가장 먼저 SentencePiece 사용시 기반 모델로 작성한 첫번째 모델보다 좋은 성적을 보여주지 못했다.  \n",
    "그리고 SentencePiece 모델을 사용한 모델2와 모델3를 비교했을 때, 큰 차이는 보이지 않지만, BPE를 사용했을 때, 유니그램 대비 좀 더 좋은 성과를 보여준다.  \n",
    "하지만, 평가 수치로 봤을 때, 형태소 분석기와 사전 처리된 Word2Vec 모델을 사용한 모델1이 가장 좋은 성과를 보여준다.  \n",
    "\n",
    "다만, 토크나이징 전에 데이터를 좀 더 정제하고, 불용어를 제거하면 성능이 더 좋아질 것으로 보인다.\n",
    "\n"
   ]
  }
 ],
 "metadata": {
  "kernelspec": {
   "display_name": "tf39",
   "language": "python",
   "name": "python3"
  },
  "language_info": {
   "codemirror_mode": {
    "name": "ipython",
    "version": 3
   },
   "file_extension": ".py",
   "mimetype": "text/x-python",
   "name": "python",
   "nbconvert_exporter": "python",
   "pygments_lexer": "ipython3",
   "version": "3.9.16"
  },
  "orig_nbformat": 4
 },
 "nbformat": 4,
 "nbformat_minor": 2
}
