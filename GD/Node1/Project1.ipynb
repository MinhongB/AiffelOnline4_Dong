{
 "cells": [
  {
   "attachments": {},
   "cell_type": "markdown",
   "metadata": {},
   "source": [
    "# 네이버 감성분석 \n",
    "\n",
    "테스트를 위해 LSTM 기반으로 모델을 작성했다.\n",
    "이전과 차이점이 있다면, 나는 목표에 맞게 새로운 Tokenizer를 사용할 것이며, 사전 학습된 Word2Vec도 적용했다."
   ]
  },
  {
   "cell_type": "code",
   "execution_count": 1,
   "metadata": {},
   "outputs": [],
   "source": [
    "import numpy as np\n",
    "import pandas as pd\n",
    "from tensorflow.keras.preprocessing.text import Tokenizer\n",
    "from tensorflow.keras.preprocessing.sequence import pad_sequences\n",
    "from tensorflow.keras.models import Sequential\n",
    "from tensorflow.keras.layers import Dense, LSTM, Embedding\n",
    "from tensorflow.keras.callbacks import EarlyStopping, ModelCheckpoint\n",
    "from konlpy.tag import Okt, Komoran\n",
    "from gensim.models import Word2Vec"
   ]
  },
  {
   "attachments": {},
   "cell_type": "markdown",
   "metadata": {},
   "source": [
    "## 실험 1: 기존에 배운 방식으로 해결해보자\n"
   ]
  },
  {
   "attachments": {},
   "cell_type": "markdown",
   "metadata": {},
   "source": [
    "### 데이터 전처리\n",
    "\n",
    "1. missing value\n",
    "2. duplicated value"
   ]
  },
  {
   "cell_type": "code",
   "execution_count": 2,
   "metadata": {},
   "outputs": [
    {
     "data": {
      "text/html": [
       "<div>\n",
       "<style scoped>\n",
       "    .dataframe tbody tr th:only-of-type {\n",
       "        vertical-align: middle;\n",
       "    }\n",
       "\n",
       "    .dataframe tbody tr th {\n",
       "        vertical-align: top;\n",
       "    }\n",
       "\n",
       "    .dataframe thead th {\n",
       "        text-align: right;\n",
       "    }\n",
       "</style>\n",
       "<table border=\"1\" class=\"dataframe\">\n",
       "  <thead>\n",
       "    <tr style=\"text-align: right;\">\n",
       "      <th></th>\n",
       "      <th>id</th>\n",
       "      <th>document</th>\n",
       "      <th>label</th>\n",
       "    </tr>\n",
       "  </thead>\n",
       "  <tbody>\n",
       "    <tr>\n",
       "      <th>0</th>\n",
       "      <td>9976970</td>\n",
       "      <td>아 더빙.. 진짜 짜증나네요 목소리</td>\n",
       "      <td>0</td>\n",
       "    </tr>\n",
       "    <tr>\n",
       "      <th>1</th>\n",
       "      <td>3819312</td>\n",
       "      <td>흠...포스터보고 초딩영화줄....오버연기조차 가볍지 않구나</td>\n",
       "      <td>1</td>\n",
       "    </tr>\n",
       "    <tr>\n",
       "      <th>2</th>\n",
       "      <td>10265843</td>\n",
       "      <td>너무재밓었다그래서보는것을추천한다</td>\n",
       "      <td>0</td>\n",
       "    </tr>\n",
       "    <tr>\n",
       "      <th>3</th>\n",
       "      <td>9045019</td>\n",
       "      <td>교도소 이야기구먼 ..솔직히 재미는 없다..평점 조정</td>\n",
       "      <td>0</td>\n",
       "    </tr>\n",
       "    <tr>\n",
       "      <th>4</th>\n",
       "      <td>6483659</td>\n",
       "      <td>사이몬페그의 익살스런 연기가 돋보였던 영화!스파이더맨에서 늙어보이기만 했던 커스틴 ...</td>\n",
       "      <td>1</td>\n",
       "    </tr>\n",
       "  </tbody>\n",
       "</table>\n",
       "</div>"
      ],
      "text/plain": [
       "         id                                           document  label\n",
       "0   9976970                                아 더빙.. 진짜 짜증나네요 목소리      0\n",
       "1   3819312                  흠...포스터보고 초딩영화줄....오버연기조차 가볍지 않구나      1\n",
       "2  10265843                                  너무재밓었다그래서보는것을추천한다      0\n",
       "3   9045019                      교도소 이야기구먼 ..솔직히 재미는 없다..평점 조정      0\n",
       "4   6483659  사이몬페그의 익살스런 연기가 돋보였던 영화!스파이더맨에서 늙어보이기만 했던 커스틴 ...      1"
      ]
     },
     "execution_count": 2,
     "metadata": {},
     "output_type": "execute_result"
    }
   ],
   "source": [
    "# 데이터 로드\n",
    "orig_train = pd.read_table('nsmc/ratings_train.txt')\n",
    "orig_test = pd.read_table('nsmc/ratings_test.txt')\n",
    "\n",
    "# 두번째 실험을 위해 사용할 데이터 분리\n",
    "train_data = orig_train.copy()\n",
    "test_data = orig_test.copy()\n",
    "train_data.head()"
   ]
  },
  {
   "cell_type": "code",
   "execution_count": 3,
   "metadata": {},
   "outputs": [
    {
     "data": {
      "text/plain": [
       "25857     NaN\n",
       "55737     NaN\n",
       "110014    NaN\n",
       "126782    NaN\n",
       "140721    NaN\n",
       "Name: document, dtype: object"
      ]
     },
     "execution_count": 3,
     "metadata": {},
     "output_type": "execute_result"
    }
   ],
   "source": [
    "# 데이터 결측치 확인\n",
    "null_check = pd.isnull(train_data['document'])\n",
    "null_data = train_data.loc[null_check, 'document']\n",
    "null_data.head()"
   ]
  },
  {
   "cell_type": "code",
   "execution_count": 4,
   "metadata": {},
   "outputs": [],
   "source": [
    "train_data = train_data.dropna() # 결측치 제거\n",
    "test_data = test_data.dropna() # 결측치 제거"
   ]
  },
  {
   "cell_type": "code",
   "execution_count": 5,
   "metadata": {},
   "outputs": [
    {
     "data": {
      "text/plain": [
       "1058      4\n",
       "1097     쵝오\n",
       "1248     최고\n",
       "1483     최고\n",
       "1707    재밌다\n",
       "Name: document, dtype: object"
      ]
     },
     "execution_count": 5,
     "metadata": {},
     "output_type": "execute_result"
    }
   ],
   "source": [
    "# 중복값 확인\n",
    "dupl_check = train_data.duplicated(subset=['document'])\n",
    "dupl_data = train_data.loc[dupl_check, 'document']\n",
    "dupl_data.head()"
   ]
  },
  {
   "attachments": {},
   "cell_type": "markdown",
   "metadata": {},
   "source": [
    "### Tokenizer\n",
    "\n",
    "1. Word2vec\n",
    "2. konlpy의 형태소 분석기 적용"
   ]
  },
  {
   "cell_type": "code",
   "execution_count": 6,
   "metadata": {},
   "outputs": [
    {
     "data": {
      "text/html": [
       "<div>\n",
       "<style scoped>\n",
       "    .dataframe tbody tr th:only-of-type {\n",
       "        vertical-align: middle;\n",
       "    }\n",
       "\n",
       "    .dataframe tbody tr th {\n",
       "        vertical-align: top;\n",
       "    }\n",
       "\n",
       "    .dataframe thead th {\n",
       "        text-align: right;\n",
       "    }\n",
       "</style>\n",
       "<table border=\"1\" class=\"dataframe\">\n",
       "  <thead>\n",
       "    <tr style=\"text-align: right;\">\n",
       "      <th></th>\n",
       "      <th>id</th>\n",
       "      <th>document</th>\n",
       "      <th>label</th>\n",
       "    </tr>\n",
       "  </thead>\n",
       "  <tbody>\n",
       "    <tr>\n",
       "      <th>0</th>\n",
       "      <td>9976970</td>\n",
       "      <td>[아, 더빙, ., ., 진짜, 짜증, 나, 네요, 목소리]</td>\n",
       "      <td>0</td>\n",
       "    </tr>\n",
       "    <tr>\n",
       "      <th>1</th>\n",
       "      <td>3819312</td>\n",
       "      <td>[흠, ..., 포스터, 보고, 초딩, 영화, 줄, ...., 오버, 연기, 조차,...</td>\n",
       "      <td>1</td>\n",
       "    </tr>\n",
       "    <tr>\n",
       "      <th>2</th>\n",
       "      <td>10265843</td>\n",
       "      <td>[너무재밓었다그래서보는것을추천한다]</td>\n",
       "      <td>0</td>\n",
       "    </tr>\n",
       "    <tr>\n",
       "      <th>3</th>\n",
       "      <td>9045019</td>\n",
       "      <td>[교도소, 이야기, 이, 구먼, .., 솔직히, 재미, 는, 없, 다, ., ., ...</td>\n",
       "      <td>0</td>\n",
       "    </tr>\n",
       "    <tr>\n",
       "      <th>4</th>\n",
       "      <td>6483659</td>\n",
       "      <td>[사이몬페그의, 익살, 스럽, ㄴ, 연기, 가, 돋보이, 었, 던, 영화, !, 스...</td>\n",
       "      <td>1</td>\n",
       "    </tr>\n",
       "  </tbody>\n",
       "</table>\n",
       "</div>"
      ],
      "text/plain": [
       "         id                                           document  label\n",
       "0   9976970                  [아, 더빙, ., ., 진짜, 짜증, 나, 네요, 목소리]      0\n",
       "1   3819312  [흠, ..., 포스터, 보고, 초딩, 영화, 줄, ...., 오버, 연기, 조차,...      1\n",
       "2  10265843                                [너무재밓었다그래서보는것을추천한다]      0\n",
       "3   9045019  [교도소, 이야기, 이, 구먼, .., 솔직히, 재미, 는, 없, 다, ., ., ...      0\n",
       "4   6483659  [사이몬페그의, 익살, 스럽, ㄴ, 연기, 가, 돋보이, 었, 던, 영화, !, 스...      1"
      ]
     },
     "execution_count": 6,
     "metadata": {},
     "output_type": "execute_result"
    }
   ],
   "source": [
    "# Okt 또는 Komoran 인스턴스 생성\n",
    "\n",
    "# mor = Okt()\n",
    "mor = Komoran() # 성능을 위해 Komoran 채택\n",
    "\n",
    "# 텍스트데이터 토큰화\n",
    "train_data['document'] = train_data['document'].apply(mor.morphs)\n",
    "test_data['document'] = test_data['document'].apply(mor.morphs)\n",
    "\n",
    "train_data.head()"
   ]
  },
  {
   "cell_type": "code",
   "execution_count": 7,
   "metadata": {},
   "outputs": [],
   "source": [
    "# 텍스트 데이터를 숫자로 변환\n",
    "tokenizer = Tokenizer()\n",
    "\n",
    "#fit_on_texts (https://www.dinolabs.ai/186)\n",
    "# train 데이터에 맞게 한번만 학습하면 됨\n",
    "tokenizer.fit_on_texts(train_data['document'])\n",
    "\n",
    "train_sequences = tokenizer.texts_to_sequences(train_data['document'])\n",
    "test_sequences = tokenizer.texts_to_sequences(test_data['document'])\n",
    "\n",
    "# 패딩 처리\n",
    "train_inputs = pad_sequences(train_sequences, maxlen=100)\n",
    "test_inputs = pad_sequences(test_sequences, maxlen=100)\n",
    "\n",
    "# 레이블 데이터를 numpy array로 변환\n",
    "train_labels = np.array(train_data['label'])\n",
    "test_labels = np.array(test_data['label'])\n"
   ]
  },
  {
   "attachments": {},
   "cell_type": "markdown",
   "metadata": {},
   "source": [
    "### 사전 학습된 Word2Vec 적용"
   ]
  },
  {
   "cell_type": "code",
   "execution_count": 8,
   "metadata": {},
   "outputs": [
    {
     "name": "stderr",
     "output_type": "stream",
     "text": [
      "/var/folders/mg/rbbjnp_x0k31bv6dy862v00w0000gn/T/ipykernel_44827/3388869597.py:7: DeprecationWarning: Call to deprecated `__contains__` (Method will be removed in 4.0.0, use self.wv.__contains__() instead).\n",
      "  if word in word2vec:\n",
      "/var/folders/mg/rbbjnp_x0k31bv6dy862v00w0000gn/T/ipykernel_44827/3388869597.py:8: DeprecationWarning: Call to deprecated `__getitem__` (Method will be removed in 4.0.0, use self.wv.__getitem__() instead).\n",
      "  embedding_matrix[i] = word2vec[word]\n"
     ]
    }
   ],
   "source": [
    "# 사전 학습된 Word2Vec 모델 로드\n",
    "word2vec = Word2Vec.load('ko/ko.bin') # 'word2vec_model_path'를 실제 모델 경로로 변경\n",
    "\n",
    "# 임베딩 레이어의 가중치를 초기화\n",
    "embedding_matrix = np.zeros((len(tokenizer.word_index) + 1, word2vec.vector_size))\n",
    "for word, i in tokenizer.word_index.items():\n",
    "    if word in word2vec:\n",
    "        embedding_matrix[i] = word2vec[word]"
   ]
  },
  {
   "attachments": {},
   "cell_type": "markdown",
   "metadata": {},
   "source": [
    "### 모델 학습"
   ]
  },
  {
   "cell_type": "code",
   "execution_count": 9,
   "metadata": {},
   "outputs": [
    {
     "name": "stderr",
     "output_type": "stream",
     "text": [
      "2023-06-25 18:43:48.971691: I metal_plugin/src/device/metal_device.cc:1154] Metal device set to: Apple M1 Pro\n",
      "2023-06-25 18:43:48.971713: I metal_plugin/src/device/metal_device.cc:296] systemMemory: 16.00 GB\n",
      "2023-06-25 18:43:48.971716: I metal_plugin/src/device/metal_device.cc:313] maxCacheSize: 5.33 GB\n",
      "2023-06-25 18:43:48.972071: I tensorflow/core/common_runtime/pluggable_device/pluggable_device_factory.cc:303] Could not identify NUMA node of platform GPU ID 0, defaulting to 0. Your kernel may not have been built with NUMA support.\n",
      "2023-06-25 18:43:48.972095: I tensorflow/core/common_runtime/pluggable_device/pluggable_device_factory.cc:269] Created TensorFlow device (/job:localhost/replica:0/task:0/device:GPU:0 with 0 MB memory) -> physical PluggableDevice (device: 0, name: METAL, pci bus id: <undefined>)\n"
     ]
    },
    {
     "name": "stdout",
     "output_type": "stream",
     "text": [
      "Epoch 1/15\n"
     ]
    },
    {
     "name": "stderr",
     "output_type": "stream",
     "text": [
      "2023-06-25 18:43:50.372916: I tensorflow/core/grappler/optimizers/custom_graph_optimizer_registry.cc:114] Plugin optimizer for device_type GPU is enabled.\n",
      "2023-06-25 18:43:50.583053: I tensorflow/core/grappler/optimizers/custom_graph_optimizer_registry.cc:114] Plugin optimizer for device_type GPU is enabled.\n",
      "2023-06-25 18:43:50.832070: I tensorflow/core/grappler/optimizers/custom_graph_optimizer_registry.cc:114] Plugin optimizer for device_type GPU is enabled.\n"
     ]
    },
    {
     "name": "stdout",
     "output_type": "stream",
     "text": [
      "2000/2000 [==============================] - ETA: 0s - loss: 0.3901 - accuracy: 0.8226"
     ]
    },
    {
     "name": "stderr",
     "output_type": "stream",
     "text": [
      "2023-06-25 18:46:19.206901: I tensorflow/core/grappler/optimizers/custom_graph_optimizer_registry.cc:114] Plugin optimizer for device_type GPU is enabled.\n",
      "2023-06-25 18:46:19.282212: I tensorflow/core/grappler/optimizers/custom_graph_optimizer_registry.cc:114] Plugin optimizer for device_type GPU is enabled.\n"
     ]
    },
    {
     "name": "stdout",
     "output_type": "stream",
     "text": [
      "WARNING:tensorflow:Can save best model only with val_acc available, skipping.\n",
      "2000/2000 [==============================] - 156s 77ms/step - loss: 0.3901 - accuracy: 0.8226 - val_loss: 0.3320 - val_accuracy: 0.8543\n",
      "Epoch 2/15\n",
      "2000/2000 [==============================] - ETA: 0s - loss: 0.2697 - accuracy: 0.8910WARNING:tensorflow:Can save best model only with val_acc available, skipping.\n",
      "2000/2000 [==============================] - 153s 76ms/step - loss: 0.2697 - accuracy: 0.8910 - val_loss: 0.3214 - val_accuracy: 0.8634\n",
      "Epoch 3/15\n",
      "2000/2000 [==============================] - ETA: 0s - loss: 0.1977 - accuracy: 0.9226WARNING:tensorflow:Can save best model only with val_acc available, skipping.\n",
      "2000/2000 [==============================] - 153s 76ms/step - loss: 0.1977 - accuracy: 0.9226 - val_loss: 0.3387 - val_accuracy: 0.8618\n",
      "Epoch 4/15\n",
      "2000/2000 [==============================] - ETA: 0s - loss: 0.1480 - accuracy: 0.9437WARNING:tensorflow:Can save best model only with val_acc available, skipping.\n",
      "2000/2000 [==============================] - 152s 76ms/step - loss: 0.1480 - accuracy: 0.9437 - val_loss: 0.3771 - val_accuracy: 0.8587\n",
      "Epoch 5/15\n",
      "2000/2000 [==============================] - ETA: 0s - loss: 0.1095 - accuracy: 0.9598WARNING:tensorflow:Can save best model only with val_acc available, skipping.\n",
      "2000/2000 [==============================] - 152s 76ms/step - loss: 0.1095 - accuracy: 0.9598 - val_loss: 0.4266 - val_accuracy: 0.8522\n",
      "Epoch 6/15\n",
      "2000/2000 [==============================] - ETA: 0s - loss: 0.0795 - accuracy: 0.9716WARNING:tensorflow:Can save best model only with val_acc available, skipping.\n",
      "2000/2000 [==============================] - 148s 74ms/step - loss: 0.0795 - accuracy: 0.9716 - val_loss: 0.4713 - val_accuracy: 0.8517\n",
      "Epoch 6: early stopping\n"
     ]
    }
   ],
   "source": [
    "# 모델 정의\n",
    "model1 = Sequential()\n",
    "model1.add(Embedding(\n",
    "    len(tokenizer.word_index)+1, \n",
    "    word2vec.vector_size, \n",
    "    weights=[embedding_matrix], \n",
    "    trainable=True # 파인튜닝 허용\n",
    "))\n",
    "model1.add(LSTM(128))\n",
    "model1.add(Dense(1, activation='sigmoid'))\n",
    "\n",
    "# 모델 컴파일\n",
    "model1.compile(optimizer='adam', loss='binary_crossentropy', metrics=['accuracy'])\n",
    "\n",
    "# 콜백 정의\n",
    "es1 = EarlyStopping(monitor='val_loss', mode='min', verbose=1, patience=4)\n",
    "mc1 = ModelCheckpoint('best_model.h5', monitor='val_acc', mode='max', verbose=1, save_best_only=True)\n",
    "\n",
    "# 모델 학습\n",
    "history1 = model1.fit(train_inputs, train_labels, epochs=15, callbacks=[es1, mc1], batch_size=60, validation_split=0.2)\n"
   ]
  },
  {
   "cell_type": "code",
   "execution_count": 10,
   "metadata": {},
   "outputs": [
    {
     "name": "stdout",
     "output_type": "stream",
     "text": [
      "1563/1563 [==============================] - 18s 11ms/step - loss: 0.4783 - accuracy: 0.8527\n",
      "[0.4782768487930298, 0.8526511788368225]\n"
     ]
    }
   ],
   "source": [
    "# 모델 평가\n",
    "print(model1.evaluate(test_inputs, test_labels))\n"
   ]
  },
  {
   "attachments": {},
   "cell_type": "markdown",
   "metadata": {},
   "source": [
    "## 평가 기록\n",
    "\n",
    "| 방법 | Loss | Accuracy |\n",
    "|------|------|----------|\n",
    "| Okt 사용 전 | 0.7988 | 0.8033 |\n",
    "| Okt 사용 후 | 0.6932 | 0.4965 |\n",
    "| 깜빡한 정수화 학습 및 Komoran 사용 | 0.5018 | 0.8387 |\n",
    "| 사전 학습된 Word2Vec 임베딩 적용 | 0.4065 | 0.8304 |\n",
    "| Word2Vec에 파인 튜닝 허용 | 0.4980 | 0.8473 |\n",
    "\n",
    "\n",
    "\n",
    "이 과정을 통해 Base Model에서 약 4%의 성능을 개선함."
   ]
  },
  {
   "attachments": {},
   "cell_type": "markdown",
   "metadata": {},
   "source": [
    "## 실험 2: SentencePiece를 이용해보자"
   ]
  },
  {
   "cell_type": "code",
   "execution_count": 11,
   "metadata": {},
   "outputs": [],
   "source": [
    "# 데이터 준비\n",
    "train_data = orig_train.copy()\n",
    "test_data = orig_test.copy()\n",
    "\n",
    "# 대충 위에서 이미 결측치를 확인 했기 때문에 그대로 진행\n",
    "train_data = train_data.dropna()\n",
    "test_data = test_data.dropna()"
   ]
  },
  {
   "attachments": {},
   "cell_type": "markdown",
   "metadata": {},
   "source": [
    "### Tokenizer 적용: sentencepiece\n",
    "\n",
    "노드의 설명이 이해가 않가서 다른 글 참고함\n",
    "https://lsjsj92.tistory.com/600\n",
    "\n",
    "\n",
    "BPE 사용해야할지 질문하기\n"
   ]
  },
  {
   "cell_type": "code",
   "execution_count": 13,
   "metadata": {},
   "outputs": [
    {
     "name": "stderr",
     "output_type": "stream",
     "text": [
      "sentencepiece_trainer.cc(177) LOG(INFO) Running command: --input=nsmc_text.txt --model_prefix=korean_spm --vocab_size=8000\n",
      "sentencepiece_trainer.cc(77) LOG(INFO) Starts training with : \n",
      "trainer_spec {\n",
      "  input: nsmc_text.txt\n",
      "  input_format: \n",
      "  model_prefix: korean_spm\n",
      "  model_type: UNIGRAM\n",
      "  vocab_size: 8000\n",
      "  self_test_sample_size: 0\n",
      "  character_coverage: 0.9995\n",
      "  input_sentence_size: 0\n",
      "  shuffle_input_sentence: 1\n",
      "  seed_sentencepiece_size: 1000000\n",
      "  shrinking_factor: 0.75\n",
      "  max_sentence_length: 4192\n",
      "  num_threads: 16\n",
      "  num_sub_iterations: 2\n",
      "  max_sentencepiece_length: 16\n",
      "  split_by_unicode_script: 1\n",
      "  split_by_number: 1\n",
      "  split_by_whitespace: 1\n",
      "  split_digits: 0\n",
      "  pretokenization_delimiter: \n",
      "  treat_whitespace_as_suffix: 0\n",
      "  allow_whitespace_only_pieces: 0\n",
      "  required_chars: \n",
      "  byte_fallback: 0\n",
      "  vocabulary_output_piece_score: 1\n",
      "  train_extremely_large_corpus: 0\n",
      "  hard_vocab_limit: 1\n",
      "  use_all_vocab: 0\n",
      "  unk_id: 0\n",
      "  bos_id: 1\n",
      "  eos_id: 2\n",
      "  pad_id: -1\n",
      "  unk_piece: <unk>\n",
      "  bos_piece: <s>\n",
      "  eos_piece: </s>\n",
      "  pad_piece: <pad>\n",
      "  unk_surface:  ⁇ \n",
      "  enable_differential_privacy: 0\n",
      "  differential_privacy_noise_level: 0\n",
      "  differential_privacy_clipping_threshold: 0\n",
      "}\n",
      "normalizer_spec {\n",
      "  name: nmt_nfkc\n",
      "  add_dummy_prefix: 1\n",
      "  remove_extra_whitespaces: 1\n",
      "  escape_whitespaces: 1\n",
      "  normalization_rule_tsv: \n",
      "}\n",
      "denormalizer_spec {}\n",
      "trainer_interface.cc(351) LOG(INFO) SentenceIterator is not specified. Using MultiFileSentenceIterator.\n",
      "trainer_interface.cc(183) LOG(INFO) Loading corpus: nsmc_text.txt\n",
      "trainer_interface.cc(407) LOG(INFO) Loaded all 149995 sentences\n",
      "trainer_interface.cc(423) LOG(INFO) Adding meta_piece: <unk>\n",
      "trainer_interface.cc(423) LOG(INFO) Adding meta_piece: <s>\n",
      "trainer_interface.cc(423) LOG(INFO) Adding meta_piece: </s>\n",
      "trainer_interface.cc(428) LOG(INFO) Normalizing sentences...\n",
      "trainer_interface.cc(537) LOG(INFO) all chars count=5430559\n",
      "trainer_interface.cc(548) LOG(INFO) Done: 99.9501% characters are covered.\n",
      "trainer_interface.cc(558) LOG(INFO) Alphabet size=1712\n",
      "trainer_interface.cc(559) LOG(INFO) Final character coverage=0.999501\n",
      "trainer_interface.cc(591) LOG(INFO) Done! preprocessed 149995 sentences.\n",
      "unigram_model_trainer.cc(222) LOG(INFO) Making suffix array...\n",
      "unigram_model_trainer.cc(226) LOG(INFO) Extracting frequent sub strings... node_num=1909840\n",
      "unigram_model_trainer.cc(274) LOG(INFO) Initialized 309130 seed sentencepieces\n",
      "trainer_interface.cc(597) LOG(INFO) Tokenizing input sentences with whitespace: 149995\n",
      "trainer_interface.cc(608) LOG(INFO) Done! 357580\n",
      "unigram_model_trainer.cc(564) LOG(INFO) Using 357580 sentences for EM training\n",
      "unigram_model_trainer.cc(580) LOG(INFO) EM sub_iter=0 size=157926 obj=15.4403 num_tokens=842897 num_tokens/piece=5.33729\n",
      "unigram_model_trainer.cc(580) LOG(INFO) EM sub_iter=1 size=146136 obj=14.3715 num_tokens=848364 num_tokens/piece=5.8053\n",
      "unigram_model_trainer.cc(580) LOG(INFO) EM sub_iter=0 size=109527 obj=14.4748 num_tokens=885951 num_tokens/piece=8.08888\n",
      "unigram_model_trainer.cc(580) LOG(INFO) EM sub_iter=1 size=109303 obj=14.4164 num_tokens=886554 num_tokens/piece=8.11098\n",
      "unigram_model_trainer.cc(580) LOG(INFO) EM sub_iter=0 size=81974 obj=14.6543 num_tokens=931143 num_tokens/piece=11.359\n",
      "unigram_model_trainer.cc(580) LOG(INFO) EM sub_iter=1 size=81965 obj=14.5922 num_tokens=931231 num_tokens/piece=11.3613\n",
      "unigram_model_trainer.cc(580) LOG(INFO) EM sub_iter=0 size=61473 obj=14.8562 num_tokens=974383 num_tokens/piece=15.8506\n",
      "unigram_model_trainer.cc(580) LOG(INFO) EM sub_iter=1 size=61473 obj=14.7932 num_tokens=974380 num_tokens/piece=15.8505\n",
      "unigram_model_trainer.cc(580) LOG(INFO) EM sub_iter=0 size=46104 obj=15.0861 num_tokens=1019576 num_tokens/piece=22.1147\n",
      "unigram_model_trainer.cc(580) LOG(INFO) EM sub_iter=1 size=46104 obj=15.0203 num_tokens=1019580 num_tokens/piece=22.1148\n",
      "unigram_model_trainer.cc(580) LOG(INFO) EM sub_iter=0 size=34578 obj=15.3433 num_tokens=1066415 num_tokens/piece=30.8409\n",
      "unigram_model_trainer.cc(580) LOG(INFO) EM sub_iter=1 size=34578 obj=15.2759 num_tokens=1066395 num_tokens/piece=30.8403\n",
      "unigram_model_trainer.cc(580) LOG(INFO) EM sub_iter=0 size=25933 obj=15.6307 num_tokens=1114269 num_tokens/piece=42.9672\n",
      "unigram_model_trainer.cc(580) LOG(INFO) EM sub_iter=1 size=25933 obj=15.5584 num_tokens=1114291 num_tokens/piece=42.9681\n",
      "unigram_model_trainer.cc(580) LOG(INFO) EM sub_iter=0 size=19449 obj=15.9454 num_tokens=1165321 num_tokens/piece=59.9168\n",
      "unigram_model_trainer.cc(580) LOG(INFO) EM sub_iter=1 size=19449 obj=15.8642 num_tokens=1165324 num_tokens/piece=59.9169\n",
      "unigram_model_trainer.cc(580) LOG(INFO) EM sub_iter=0 size=14586 obj=16.2965 num_tokens=1219164 num_tokens/piece=83.5845\n",
      "unigram_model_trainer.cc(580) LOG(INFO) EM sub_iter=1 size=14586 obj=16.2047 num_tokens=1219205 num_tokens/piece=83.5873\n",
      "unigram_model_trainer.cc(580) LOG(INFO) EM sub_iter=0 size=10939 obj=16.6743 num_tokens=1278686 num_tokens/piece=116.892\n",
      "unigram_model_trainer.cc(580) LOG(INFO) EM sub_iter=1 size=10939 obj=16.5612 num_tokens=1278861 num_tokens/piece=116.908\n",
      "unigram_model_trainer.cc(580) LOG(INFO) EM sub_iter=0 size=8800 obj=16.9418 num_tokens=1324809 num_tokens/piece=150.546\n",
      "unigram_model_trainer.cc(580) LOG(INFO) EM sub_iter=1 size=8800 obj=16.857 num_tokens=1325261 num_tokens/piece=150.598\n",
      "trainer_interface.cc(686) LOG(INFO) Saving model: korean_spm.model\n",
      "trainer_interface.cc(698) LOG(INFO) Saving vocabs: korean_spm.vocab\n"
     ]
    }
   ],
   "source": [
    "import tensorflow as tf\n",
    "import sentencepiece as spm\n",
    "\n",
    "with open('nsmc_text.txt', 'w', encoding='utf-8') as f:\n",
    "    for line in train_data['document'].values:\n",
    "        f.write(line + '\\n')\n",
    "\n",
    "input_fime = 'nsmc_text.txt'\n",
    "vocab_size = 8000\n",
    "prefix = 'korean_spm'\n",
    "\n",
    "templates = '--input={} --model_prefix={} --vocab_size={}'\n",
    "cmd = templates.format(input_fime, prefix, vocab_size)\n",
    "\n",
    "spm.SentencePieceTrainer.Train(cmd)\n"
   ]
  },
  {
   "cell_type": "code",
   "execution_count": 15,
   "metadata": {},
   "outputs": [
    {
     "name": "stdout",
     "output_type": "stream",
     "text": [
      "아 더빙.. 진짜 짜증나네요 목소리\n",
      "['▁아', '▁더빙', '..', '▁진짜', '▁짜증나', '네요', '▁목소리']\n",
      "[66, 886, 6, 32, 2185, 63, 1429]\n",
      "\n",
      "흠...포스터보고 초딩영화줄....오버연기조차 가볍지 않구나\n",
      "['▁흠', '...', '포스터', '보고', '▁초딩', '영화', '줄', '....', '오', '버', '연기', '조차', '▁가볍지', '▁않', '구나']\n",
      "[1760, 8, 4967, 159, 1410, 31, 249, 62, 169, 418, 369, 1339, 6825, 824, 412]\n",
      "\n",
      "너무재밓었다그래서보는것을추천한다\n",
      "['▁너무', '재', '밓', '었다', '그래서', '보', '는것을', '추천', '한다']\n",
      "[24, 389, 7788, 355, 3939, 104, 6034, 2093, 297]\n",
      "\n",
      "교도소 이야기구먼 ..솔직히 재미는 없다..평점 조정\n",
      "['▁교', '도', '소', '▁이야기', '구먼', '▁', '..', '솔직히', '▁재미는', '▁없다', '..', '평점', '▁조', '정']\n",
      "[1861, 11, 200, 236, 6640, 3, 6, 4389, 1302, 123, 6, 694, 285, 100]\n",
      "\n",
      "사이몬페그의 익살스런 연기가 돋보였던 영화!스파이더맨에서 늙어보이기만 했던 커스틴 던스트가 너무나도 이뻐보였다\n",
      "['▁사이', '몬', '페', '그', '의', '▁', '익', '살', '스런', '▁연기가', '▁돋보', '였던', '▁영화', '!', '스파이더맨', '에서', '▁늙어', '보이', '기만', '▁했던', '▁커', '스틴', '▁', '던', '스트', '가', '▁너무나도', '▁', '이뻐', '보였다']\n",
      "[2426, 2419, 2080, 166, 10, 3, 1447, 320, 2387, 514, 2701, 1814, 7, 25, 5722, 46, 6332, 2486, 1122, 2956, 2443, 6308, 3, 122, 606, 9, 2261, 3, 3887, 6921]\n",
      "\n"
     ]
    }
   ],
   "source": [
    "# 학습된 SentencePiece 모델 로드\n",
    "sp = spm.SentencePieceProcessor()\n",
    "sp.Load('{}.model'.format(prefix))\n",
    "\n",
    "for t in train_data.document.values[:5]:\n",
    "    print(t)\n",
    "    print(sp.EncodeAsPieces(t))\n",
    "    print(sp.EncodeAsIds(t))\n",
    "    print()\n"
   ]
  },
  {
   "cell_type": "code",
   "execution_count": 16,
   "metadata": {},
   "outputs": [],
   "source": [
    "# 텍스트 데이터 토큰화\n",
    "train_data['document'] = train_data['document'].apply(sp.EncodeAsPieces)\n",
    "test_data['document'] = test_data['document'].apply(sp.EncodeAsPieces)"
   ]
  },
  {
   "attachments": {},
   "cell_type": "markdown",
   "metadata": {},
   "source": [
    "### 정수화 및 시퀀스 구성"
   ]
  },
  {
   "cell_type": "code",
   "execution_count": 17,
   "metadata": {},
   "outputs": [],
   "source": [
    "# 토큰화된 데이터를 숫자로 변환\n",
    "tokenizer = Tokenizer()\n",
    "tokenizer.fit_on_texts(train_data['document'])\n",
    "\n",
    "train_sequences = tokenizer.texts_to_sequences(train_data['document'])\n",
    "test_sequences = tokenizer.texts_to_sequences(test_data['document'])\n",
    "\n",
    "# 패딩 처리\n",
    "train_inputs = pad_sequences(train_sequences, maxlen=100)\n",
    "test_inputs = pad_sequences(test_sequences, maxlen=100)\n",
    "\n",
    "# 레이블 데이터를 numpy array로 변환\n",
    "train_labels = np.array(train_data['label'])\n",
    "test_labels = np.array(test_data['label'])"
   ]
  },
  {
   "attachments": {},
   "cell_type": "markdown",
   "metadata": {},
   "source": [
    "#### 여기서 잠깐, 왜 굳이 EncodeAsIds를 않쓰고 EncodeAsPieces 후에 fit_on_texts를 사용했나요??\n",
    "\n",
    "EncodeAsPieces 후에 fit_on_texts를 사용하는 방법은 두 단계의 토큰화 과정을 거치므로, 더 세밀한 토큰화가 가능할 수 있다.  \n",
    "하지만 이는 추가적인 계산을 필요로 하며, 두 단계의 토큰화 과정이 항상 더 좋은 결과를 보장하는 것은 아니다.   \n",
    "반면, EncodeAsIds를 사용하는 방법은 한 단계의 토큰화 과정만을 거치므로, 계산 효율성이 더 좋을 수 있다.  \n",
    "\n",
    "\n",
    "\n",
    "\n",
    "나는 성능과 시간이 충분하다고 보고, 세밀하게 할 수 있다는 전자의 방법을 사용했다.  \n",
    "또한 과제를 수행하는 과정에서 적은 코드 수정으로 이용할 수 있다는 장점 또한 존재한다.  \n",
    "두 방법에 대한 의견은 사람마다 다르겠지만, 내가 이 방식을 사용한 이유는 이런 이유로 사용했다."
   ]
  },
  {
   "attachments": {},
   "cell_type": "markdown",
   "metadata": {},
   "source": [
    "### Word2Vec 적용"
   ]
  },
  {
   "cell_type": "code",
   "execution_count": 18,
   "metadata": {},
   "outputs": [
    {
     "name": "stderr",
     "output_type": "stream",
     "text": [
      "/var/folders/mg/rbbjnp_x0k31bv6dy862v00w0000gn/T/ipykernel_34019/2893645305.py:7: DeprecationWarning: Call to deprecated `__contains__` (Method will be removed in 4.0.0, use self.wv.__contains__() instead).\n",
      "  if word in word2vec:\n",
      "/var/folders/mg/rbbjnp_x0k31bv6dy862v00w0000gn/T/ipykernel_34019/2893645305.py:8: DeprecationWarning: Call to deprecated `__getitem__` (Method will be removed in 4.0.0, use self.wv.__getitem__() instead).\n",
      "  embedding_matrix[i] = word2vec[word]\n"
     ]
    }
   ],
   "source": [
    "# 사전 학습된 Word2Vec 모델 로드\n",
    "word2vec = Word2Vec.load('ko/ko.bin')\n",
    "\n",
    "# 임베딩 레이어의 가중치를 초기화\n",
    "embedding_matrix = np.zeros((len(tokenizer.word_index) + 1, word2vec.vector_size))\n",
    "for word, i in tokenizer.word_index.items():\n",
    "    if word in word2vec:\n",
    "        embedding_matrix[i] = word2vec[word]"
   ]
  },
  {
   "attachments": {},
   "cell_type": "markdown",
   "metadata": {},
   "source": [
    "### 동일 구성의 두번째 모델 구성 및 학습"
   ]
  },
  {
   "cell_type": "code",
   "execution_count": 19,
   "metadata": {},
   "outputs": [
    {
     "name": "stdout",
     "output_type": "stream",
     "text": [
      "Epoch 1/15\n",
      "2000/2000 [==============================] - ETA: 0s - loss: 0.4776 - accuracy: 0.7683WARNING:tensorflow:Can save best model only with val_acc available, skipping.\n",
      "2000/2000 [==============================] - 161s 80ms/step - loss: 0.4776 - accuracy: 0.7683 - val_loss: 0.3668 - val_accuracy: 0.8405\n",
      "Epoch 2/15\n",
      "2000/2000 [==============================] - ETA: 0s - loss: 0.3047 - accuracy: 0.8700WARNING:tensorflow:Can save best model only with val_acc available, skipping.\n",
      "2000/2000 [==============================] - 152s 76ms/step - loss: 0.3047 - accuracy: 0.8700 - val_loss: 0.3500 - val_accuracy: 0.8472\n",
      "Epoch 3/15\n",
      "2000/2000 [==============================] - ETA: 0s - loss: 0.2392 - accuracy: 0.9028WARNING:tensorflow:Can save best model only with val_acc available, skipping.\n",
      "2000/2000 [==============================] - 151s 75ms/step - loss: 0.2392 - accuracy: 0.9028 - val_loss: 0.3658 - val_accuracy: 0.8464\n",
      "Epoch 4/15\n",
      "2000/2000 [==============================] - ETA: 0s - loss: 0.1736 - accuracy: 0.9334WARNING:tensorflow:Can save best model only with val_acc available, skipping.\n",
      "2000/2000 [==============================] - 150s 75ms/step - loss: 0.1736 - accuracy: 0.9334 - val_loss: 0.4054 - val_accuracy: 0.8455\n",
      "Epoch 5/15\n",
      "2000/2000 [==============================] - ETA: 0s - loss: 0.1116 - accuracy: 0.9606WARNING:tensorflow:Can save best model only with val_acc available, skipping.\n",
      "2000/2000 [==============================] - 152s 76ms/step - loss: 0.1116 - accuracy: 0.9606 - val_loss: 0.4928 - val_accuracy: 0.8376\n",
      "Epoch 6/15\n",
      "2000/2000 [==============================] - ETA: 0s - loss: 0.0668 - accuracy: 0.9781WARNING:tensorflow:Can save best model only with val_acc available, skipping.\n",
      "2000/2000 [==============================] - 150s 75ms/step - loss: 0.0668 - accuracy: 0.9781 - val_loss: 0.5695 - val_accuracy: 0.8349\n",
      "Epoch 6: early stopping\n"
     ]
    }
   ],
   "source": [
    "# 모델 정의\n",
    "model2 = Sequential()\n",
    "model2.add(Embedding(\n",
    "    len(tokenizer.word_index)+1, \n",
    "    word2vec.vector_size, \n",
    "    weights=[embedding_matrix], \n",
    "    trainable=True # 파인튜닝 허용\n",
    "))\n",
    "model2.add(LSTM(128))\n",
    "model2.add(Dense(1, activation='sigmoid'))\n",
    "\n",
    "# 모델 컴파일\n",
    "model2.compile(optimizer='adam', loss='binary_crossentropy', metrics=['accuracy'])\n",
    "\n",
    "# 콜백 정의\n",
    "es2 = EarlyStopping(monitor='val_loss', mode='min', verbose=1, patience=4)\n",
    "mc2 = ModelCheckpoint('best_model2.h5', monitor='val_acc', mode='max', verbose=1, save_best_only=True)\n",
    "\n",
    "# 모델 학습\n",
    "history2 = model2.fit(train_inputs, train_labels, epochs=15, callbacks=[es2, mc2], batch_size=60, validation_split=0.2)\n"
   ]
  },
  {
   "cell_type": "code",
   "execution_count": 22,
   "metadata": {},
   "outputs": [
    {
     "name": "stderr",
     "output_type": "stream",
     "text": [
      "2023-06-25 18:34:14.106601: I tensorflow/core/grappler/optimizers/custom_graph_optimizer_registry.cc:114] Plugin optimizer for device_type GPU is enabled.\n",
      "2023-06-25 18:34:14.193007: I tensorflow/core/grappler/optimizers/custom_graph_optimizer_registry.cc:114] Plugin optimizer for device_type GPU is enabled.\n"
     ]
    },
    {
     "name": "stdout",
     "output_type": "stream",
     "text": [
      "1563/1563 [==============================] - 19s 12ms/step - loss: 0.7020 - accuracy: 0.4791\n",
      "[0.7019924521446228, 0.4791487455368042]\n"
     ]
    }
   ],
   "source": [
    "# 모델 평가\n",
    "print(model2.evaluate(test_inputs, test_labels))\n"
   ]
  },
  {
   "attachments": {},
   "cell_type": "markdown",
   "metadata": {},
   "source": [
    "## 시각화를 통해 구체적인 비교"
   ]
  },
  {
   "cell_type": "code",
   "execution_count": 21,
   "metadata": {},
   "outputs": [
    {
     "data": {
      "image/png": "[encoded data removed]",
      "text/plain": [
       "<Figure size 1200x400 with 2 Axes>"
      ]
     },
     "metadata": {},
     "output_type": "display_data"
    }
   ],
   "source": [
    "import matplotlib.pyplot as plt\n",
    "\n",
    "# 손실 함수 값 그래프\n",
    "plt.figure(figsize=(12, 4))\n",
    "\n",
    "plt.subplot(1, 2, 1)\n",
    "plt.plot(history1.history['loss'], 'b-', label='model1_loss')\n",
    "plt.plot(history1.history['val_loss'], 'r--', label='model1_val_loss')\n",
    "plt.plot(history2.history['loss'], 'g-', label='model2_loss')\n",
    "plt.plot(history2.history['val_loss'], 'k--', label='model2_val_loss')\n",
    "plt.xlabel('Epoch')\n",
    "plt.legend()\n",
    "\n",
    "# 정확도 그래프\n",
    "plt.subplot(1, 2, 2)\n",
    "plt.plot(history1.history['accuracy'], 'b-', label='model1_accuracy')\n",
    "plt.plot(history1.history['val_accuracy'], 'r--', label='model1_val_accuracy')\n",
    "plt.plot(history2.history['accuracy'], 'g-', label='model2_accuracy')\n",
    "plt.plot(history2.history['val_accuracy'], 'k--', label='model2_val_accuracy')\n",
    "plt.xlabel('Epoch')\n",
    "plt.legend()\n",
    "\n",
    "plt.show()\n"
   ]
  },
  {
   "attachments": {},
   "cell_type": "markdown",
   "metadata": {},
   "source": [
    "## 실험3: SentencePiece의 모드를 BPE로 바꿔보자\n",
    "\n",
    "결과가 마음에 안든다.\n",
    "\n",
    "BPE를 적용해보자."
   ]
  },
  {
   "attachments": {},
   "cell_type": "markdown",
   "metadata": {},
   "source": [
    "### 데이터 전처리 대충..."
   ]
  },
  {
   "cell_type": "code",
   "execution_count": null,
   "metadata": {},
   "outputs": [],
   "source": [
    "# 데이터 준비\n",
    "train_data = orig_train.copy()\n",
    "test_data = orig_test.copy()\n",
    "\n",
    "# 대충 위에서 이미 결측치를 확인 했기 때문에 그대로 진행\n",
    "train_data = train_data.dropna()\n",
    "test_data = test_data.dropna()"
   ]
  },
  {
   "cell_type": "code",
   "execution_count": null,
   "metadata": {},
   "outputs": [],
   "source": [
    "with open('nsmc_text.txt', 'w', encoding='utf-8') as f:\n",
    "    for line in train_data['document'].values:\n",
    "        f.write(line + '\\n')\n",
    "\n",
    "input_fime = 'nsmc_text_bpe.txt'\n",
    "vocab_size = 8000\n",
    "prefix = 'korean_spm_bpe'\n",
    "\n",
    "templates = '--input={} --model_prefix={} --vocab_size={} --model_type=bpe'\n",
    "cmd = templates.format(input_fime, prefix, vocab_size)\n",
    "\n",
    "spm.SentencePieceTrainer.Train(cmd)\n"
   ]
  },
  {
   "cell_type": "code",
   "execution_count": null,
   "metadata": {},
   "outputs": [],
   "source": [
    "# 학습된 SentencePiece 모델 로드\n",
    "sp = spm.SentencePieceProcessor()\n",
    "sp.Load('{}.model'.format(prefix))\n",
    "\n",
    "for t in train_data.document.values[:5]:\n",
    "    print(t)\n",
    "    print(sp.EncodeAsPieces(t))\n",
    "    print(sp.EncodeAsIds(t))\n",
    "    print()\n"
   ]
  },
  {
   "cell_type": "code",
   "execution_count": null,
   "metadata": {},
   "outputs": [],
   "source": [
    "# 텍스트 데이터 토큰화\n",
    "train_data['document'] = train_data['document'].apply(sp.EncodeAsPieces)\n",
    "test_data['document'] = test_data['document'].apply(sp.EncodeAsPieces)"
   ]
  },
  {
   "cell_type": "code",
   "execution_count": null,
   "metadata": {},
   "outputs": [],
   "source": [
    "# 토큰화된 데이터를 숫자로 변환\n",
    "tokenizer = Tokenizer()\n",
    "tokenizer.fit_on_texts(train_data['document'])\n",
    "\n",
    "train_sequences = tokenizer.texts_to_sequences(train_data['document'])\n",
    "test_sequences = tokenizer.texts_to_sequences(test_data['document'])\n",
    "\n",
    "# 패딩 처리\n",
    "train_inputs = pad_sequences(train_sequences, maxlen=100)\n",
    "test_inputs = pad_sequences(test_sequences, maxlen=100)\n",
    "\n",
    "# 레이블 데이터를 numpy array로 변환\n",
    "train_labels = np.array(train_data['label'])\n",
    "test_labels = np.array(test_data['label'])"
   ]
  },
  {
   "cell_type": "code",
   "execution_count": null,
   "metadata": {},
   "outputs": [],
   "source": [
    "# 사전 학습된 Word2Vec 모델 로드\n",
    "word2vec = Word2Vec.load('ko/ko.bin')\n",
    "\n",
    "# 임베딩 레이어의 가중치를 초기화\n",
    "embedding_matrix = np.zeros((len(tokenizer.word_index) + 1, word2vec.vector_size))\n",
    "for word, i in tokenizer.word_index.items():\n",
    "    if word in word2vec:\n",
    "        embedding_matrix[i] = word2vec[word]"
   ]
  },
  {
   "attachments": {},
   "cell_type": "markdown",
   "metadata": {},
   "source": [
    "### 모델 구성 및 학습"
   ]
  },
  {
   "cell_type": "code",
   "execution_count": null,
   "metadata": {},
   "outputs": [],
   "source": [
    "# 모델 정의\n",
    "model3 = Sequential()\n",
    "model3.add(Embedding(\n",
    "    len(tokenizer.word_index)+1, \n",
    "    word2vec.vector_size, \n",
    "    weights=[embedding_matrix], \n",
    "    trainable=True # 파인튜닝 허용\n",
    "))\n",
    "model3.add(LSTM(128))\n",
    "model3.add(Dense(1, activation='sigmoid'))\n",
    "\n",
    "# 모델 컴파일\n",
    "model3.compile(optimizer='adam', loss='binary_crossentropy', metrics=['accuracy'])\n",
    "\n",
    "# 콜백 정의\n",
    "es3 = EarlyStopping(monitor='val_loss', mode='min', verbose=1, patience=4)\n",
    "mc3 = ModelCheckpoint('best_model3.h5', monitor='val_acc', mode='max', verbose=1, save_best_only=True)\n",
    "\n",
    "# 모델 학습\n",
    "history3 = model3.fit(train_inputs, train_labels, epochs=15, callbacks=[es3, mc3], batch_size=60, validation_split=0.2)\n"
   ]
  },
  {
   "cell_type": "code",
   "execution_count": null,
   "metadata": {},
   "outputs": [],
   "source": [
    "# 모델 평가\n",
    "print(model3.evaluate(test_inputs, test_labels))\n"
   ]
  },
  {
   "attachments": {},
   "cell_type": "markdown",
   "metadata": {},
   "source": [
    "### 시각화"
   ]
  },
  {
   "cell_type": "code",
   "execution_count": null,
   "metadata": {},
   "outputs": [],
   "source": [
    "import matplotlib.pyplot as plt\n",
    "\n",
    "# 손실 함수 값 그래프\n",
    "plt.figure(figsize=(12, 4))\n",
    "\n",
    "plt.subplot(1, 2, 1)\n",
    "plt.plot(history1.history['loss'], 'b-', label='model1_loss')\n",
    "plt.plot(history1.history['val_loss'], 'r--', label='model1_val_loss')\n",
    "plt.plot(history2.history['loss'], 'g-', label='model2_loss')\n",
    "plt.plot(history2.history['val_loss'], 'k--', label='model2_val_loss')\n",
    "plt.plot(history3.history['loss'], 'y-', label='model3_loss')\n",
    "plt.plot(history3.history['val_loss'], 'c--', label='model3_val_loss')\n",
    "plt.xlabel('Epoch')\n",
    "plt.legend()\n",
    "\n",
    "# 정확도 그래프\n",
    "plt.subplot(1, 2, 2)\n",
    "plt.plot(history1.history['accuracy'], 'b-', label='model1_accuracy')\n",
    "plt.plot(history1.history['val_accuracy'], 'r--', label='model1_val_accuracy')\n",
    "plt.plot(history2.history['accuracy'], 'g-', label='model2_accuracy')\n",
    "plt.plot(history2.history['val_accuracy'], 'k--', label='model2_val_accuracy')\n",
    "plt.plot(history3.history['accuracy'], 'y-', label='model3_accuracy')\n",
    "plt.plot(history3.history['val_accuracy'], 'c--', label='model3_val_accuracy')\n",
    "plt.xlabel('Epoch')\n",
    "plt.legend()\n",
    "\n",
    "plt.show()\n"
   ]
  }
 ],
 "metadata": {
  "kernelspec": {
   "display_name": "tf39",
   "language": "python",
   "name": "python3"
  },
  "language_info": {
   "codemirror_mode": {
    "name": "ipython",
    "version": 3
   },
   "file_extension": ".py",
   "mimetype": "text/x-python",
   "name": "python",
   "nbconvert_exporter": "python",
   "pygments_lexer": "ipython3",
   "version": "3.9.16"
  },
  "orig_nbformat": 4
 },
 "nbformat": 4,
 "nbformat_minor": 2
}
