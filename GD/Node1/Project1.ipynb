{
 "cells": [
  {
   "attachments": {},
   "cell_type": "markdown",
   "metadata": {},
   "source": [
    "# 네이버 감성분석 \n",
    "\n",
    "테스트를 위해 LSTM 기반으로 모델을 작성했다.\n",
    "이전과 차이점이 있다면, 나는 목표에 맞게 새로운 Tokenizer를 사용할 것이며, 사전 학습된 Word2Vec도 적용했다."
   ]
  },
  {
   "cell_type": "code",
   "execution_count": 1,
   "metadata": {},
   "outputs": [],
   "source": [
    "import numpy as np\n",
    "import pandas as pd\n",
    "from tensorflow.keras.preprocessing.text import Tokenizer\n",
    "from tensorflow.keras.preprocessing.sequence import pad_sequences\n",
    "from tensorflow.keras.models import Sequential\n",
    "from tensorflow.keras.layers import Dense, LSTM, Embedding\n",
    "from tensorflow.keras.callbacks import EarlyStopping, ModelCheckpoint\n",
    "from konlpy.tag import Okt, Komoran\n",
    "from gensim.models import Word2Vec"
   ]
  },
  {
   "attachments": {},
   "cell_type": "markdown",
   "metadata": {},
   "source": [
    "## 실험 1: 기존에 배운 방식으로 해결해보자\n"
   ]
  },
  {
   "attachments": {},
   "cell_type": "markdown",
   "metadata": {},
   "source": [
    "### 데이터 전처리\n",
    "\n",
    "1. missing value\n",
    "2. duplicated value"
   ]
  },
  {
   "cell_type": "code",
   "execution_count": 2,
   "metadata": {},
   "outputs": [
    {
     "data": {
      "text/html": [
       "<div>\n",
       "<style scoped>\n",
       "    .dataframe tbody tr th:only-of-type {\n",
       "        vertical-align: middle;\n",
       "    }\n",
       "\n",
       "    .dataframe tbody tr th {\n",
       "        vertical-align: top;\n",
       "    }\n",
       "\n",
       "    .dataframe thead th {\n",
       "        text-align: right;\n",
       "    }\n",
       "</style>\n",
       "<table border=\"1\" class=\"dataframe\">\n",
       "  <thead>\n",
       "    <tr style=\"text-align: right;\">\n",
       "      <th></th>\n",
       "      <th>id</th>\n",
       "      <th>document</th>\n",
       "      <th>label</th>\n",
       "    </tr>\n",
       "  </thead>\n",
       "  <tbody>\n",
       "    <tr>\n",
       "      <th>0</th>\n",
       "      <td>9976970</td>\n",
       "      <td>아 더빙.. 진짜 짜증나네요 목소리</td>\n",
       "      <td>0</td>\n",
       "    </tr>\n",
       "    <tr>\n",
       "      <th>1</th>\n",
       "      <td>3819312</td>\n",
       "      <td>흠...포스터보고 초딩영화줄....오버연기조차 가볍지 않구나</td>\n",
       "      <td>1</td>\n",
       "    </tr>\n",
       "    <tr>\n",
       "      <th>2</th>\n",
       "      <td>10265843</td>\n",
       "      <td>너무재밓었다그래서보는것을추천한다</td>\n",
       "      <td>0</td>\n",
       "    </tr>\n",
       "    <tr>\n",
       "      <th>3</th>\n",
       "      <td>9045019</td>\n",
       "      <td>교도소 이야기구먼 ..솔직히 재미는 없다..평점 조정</td>\n",
       "      <td>0</td>\n",
       "    </tr>\n",
       "    <tr>\n",
       "      <th>4</th>\n",
       "      <td>6483659</td>\n",
       "      <td>사이몬페그의 익살스런 연기가 돋보였던 영화!스파이더맨에서 늙어보이기만 했던 커스틴 ...</td>\n",
       "      <td>1</td>\n",
       "    </tr>\n",
       "  </tbody>\n",
       "</table>\n",
       "</div>"
      ],
      "text/plain": [
       "         id                                           document  label\n",
       "0   9976970                                아 더빙.. 진짜 짜증나네요 목소리      0\n",
       "1   3819312                  흠...포스터보고 초딩영화줄....오버연기조차 가볍지 않구나      1\n",
       "2  10265843                                  너무재밓었다그래서보는것을추천한다      0\n",
       "3   9045019                      교도소 이야기구먼 ..솔직히 재미는 없다..평점 조정      0\n",
       "4   6483659  사이몬페그의 익살스런 연기가 돋보였던 영화!스파이더맨에서 늙어보이기만 했던 커스틴 ...      1"
      ]
     },
     "execution_count": 2,
     "metadata": {},
     "output_type": "execute_result"
    }
   ],
   "source": [
    "# 데이터 로드\n",
    "orig_train = pd.read_table('nsmc/ratings_train.txt')\n",
    "orig_test = pd.read_table('nsmc/ratings_test.txt')\n",
    "\n",
    "# 두번째 실험을 위해 사용할 데이터 분리\n",
    "train_data = orig_train.copy()\n",
    "test_data = orig_test.copy()\n",
    "train_data.head()"
   ]
  },
  {
   "cell_type": "code",
   "execution_count": 3,
   "metadata": {},
   "outputs": [
    {
     "data": {
      "text/plain": [
       "25857     NaN\n",
       "55737     NaN\n",
       "110014    NaN\n",
       "126782    NaN\n",
       "140721    NaN\n",
       "Name: document, dtype: object"
      ]
     },
     "execution_count": 3,
     "metadata": {},
     "output_type": "execute_result"
    }
   ],
   "source": [
    "# 데이터 결측치 확인\n",
    "null_check = pd.isnull(train_data['document'])\n",
    "null_data = train_data.loc[null_check, 'document']\n",
    "null_data.head()"
   ]
  },
  {
   "cell_type": "code",
   "execution_count": 4,
   "metadata": {},
   "outputs": [],
   "source": [
    "train_data = train_data.dropna() # 결측치 제거\n",
    "test_data = test_data.dropna() # 결측치 제거"
   ]
  },
  {
   "cell_type": "code",
   "execution_count": 5,
   "metadata": {},
   "outputs": [
    {
     "data": {
      "text/plain": [
       "1058      4\n",
       "1097     쵝오\n",
       "1248     최고\n",
       "1483     최고\n",
       "1707    재밌다\n",
       "Name: document, dtype: object"
      ]
     },
     "execution_count": 5,
     "metadata": {},
     "output_type": "execute_result"
    }
   ],
   "source": [
    "# 중복값 확인\n",
    "dupl_check = train_data.duplicated(subset=['document'])\n",
    "dupl_data = train_data.loc[dupl_check, 'document']\n",
    "dupl_data.head()"
   ]
  },
  {
   "attachments": {},
   "cell_type": "markdown",
   "metadata": {},
   "source": [
    "### Tokenizer\n",
    "\n",
    "1. Word2vec\n",
    "2. konlpy의 형태소 분석기 적용"
   ]
  },
  {
   "cell_type": "code",
   "execution_count": 6,
   "metadata": {},
   "outputs": [
    {
     "data": {
      "text/html": [
       "<div>\n",
       "<style scoped>\n",
       "    .dataframe tbody tr th:only-of-type {\n",
       "        vertical-align: middle;\n",
       "    }\n",
       "\n",
       "    .dataframe tbody tr th {\n",
       "        vertical-align: top;\n",
       "    }\n",
       "\n",
       "    .dataframe thead th {\n",
       "        text-align: right;\n",
       "    }\n",
       "</style>\n",
       "<table border=\"1\" class=\"dataframe\">\n",
       "  <thead>\n",
       "    <tr style=\"text-align: right;\">\n",
       "      <th></th>\n",
       "      <th>id</th>\n",
       "      <th>document</th>\n",
       "      <th>label</th>\n",
       "    </tr>\n",
       "  </thead>\n",
       "  <tbody>\n",
       "    <tr>\n",
       "      <th>0</th>\n",
       "      <td>9976970</td>\n",
       "      <td>[아, 더빙, ., ., 진짜, 짜증, 나, 네요, 목소리]</td>\n",
       "      <td>0</td>\n",
       "    </tr>\n",
       "    <tr>\n",
       "      <th>1</th>\n",
       "      <td>3819312</td>\n",
       "      <td>[흠, ..., 포스터, 보고, 초딩, 영화, 줄, ...., 오버, 연기, 조차,...</td>\n",
       "      <td>1</td>\n",
       "    </tr>\n",
       "    <tr>\n",
       "      <th>2</th>\n",
       "      <td>10265843</td>\n",
       "      <td>[너무재밓었다그래서보는것을추천한다]</td>\n",
       "      <td>0</td>\n",
       "    </tr>\n",
       "    <tr>\n",
       "      <th>3</th>\n",
       "      <td>9045019</td>\n",
       "      <td>[교도소, 이야기, 이, 구먼, .., 솔직히, 재미, 는, 없, 다, ., ., ...</td>\n",
       "      <td>0</td>\n",
       "    </tr>\n",
       "    <tr>\n",
       "      <th>4</th>\n",
       "      <td>6483659</td>\n",
       "      <td>[사이몬페그의, 익살, 스럽, ㄴ, 연기, 가, 돋보이, 었, 던, 영화, !, 스...</td>\n",
       "      <td>1</td>\n",
       "    </tr>\n",
       "  </tbody>\n",
       "</table>\n",
       "</div>"
      ],
      "text/plain": [
       "         id                                           document  label\n",
       "0   9976970                  [아, 더빙, ., ., 진짜, 짜증, 나, 네요, 목소리]      0\n",
       "1   3819312  [흠, ..., 포스터, 보고, 초딩, 영화, 줄, ...., 오버, 연기, 조차,...      1\n",
       "2  10265843                                [너무재밓었다그래서보는것을추천한다]      0\n",
       "3   9045019  [교도소, 이야기, 이, 구먼, .., 솔직히, 재미, 는, 없, 다, ., ., ...      0\n",
       "4   6483659  [사이몬페그의, 익살, 스럽, ㄴ, 연기, 가, 돋보이, 었, 던, 영화, !, 스...      1"
      ]
     },
     "execution_count": 6,
     "metadata": {},
     "output_type": "execute_result"
    }
   ],
   "source": [
    "# Okt 또는 Komoran 인스턴스 생성\n",
    "\n",
    "# mor = Okt()\n",
    "mor = Komoran() # 성능을 위해 Komoran 채택\n",
    "\n",
    "# 텍스트데이터 토큰화\n",
    "train_data['document'] = train_data['document'].apply(mor.morphs)\n",
    "test_data['document'] = test_data['document'].apply(mor.morphs)\n",
    "\n",
    "train_data.head()"
   ]
  },
  {
   "cell_type": "code",
   "execution_count": 7,
   "metadata": {},
   "outputs": [],
   "source": [
    "# 텍스트 데이터를 숫자로 변환\n",
    "tokenizer = Tokenizer()\n",
    "\n",
    "#fit_on_texts (https://www.dinolabs.ai/186)\n",
    "# train 데이터에 맞게 한번만 학습하면 됨\n",
    "tokenizer.fit_on_texts(train_data['document'])\n",
    "\n",
    "train_sequences = tokenizer.texts_to_sequences(train_data['document'])\n",
    "test_sequences = tokenizer.texts_to_sequences(test_data['document'])\n",
    "\n",
    "# 패딩 처리\n",
    "train_inputs = pad_sequences(train_sequences, maxlen=100)\n",
    "test_inputs = pad_sequences(test_sequences, maxlen=100)\n",
    "\n",
    "# 레이블 데이터를 numpy array로 변환\n",
    "train_labels = np.array(train_data['label'])\n",
    "test_labels = np.array(test_data['label'])\n"
   ]
  },
  {
   "attachments": {},
   "cell_type": "markdown",
   "metadata": {},
   "source": [
    "### 사전 학습된 Word2Vec 적용"
   ]
  },
  {
   "cell_type": "code",
   "execution_count": 8,
   "metadata": {},
   "outputs": [
    {
     "name": "stderr",
     "output_type": "stream",
     "text": [
      "/var/folders/mg/rbbjnp_x0k31bv6dy862v00w0000gn/T/ipykernel_45498/3388869597.py:7: DeprecationWarning: Call to deprecated `__contains__` (Method will be removed in 4.0.0, use self.wv.__contains__() instead).\n",
      "  if word in word2vec:\n",
      "/var/folders/mg/rbbjnp_x0k31bv6dy862v00w0000gn/T/ipykernel_45498/3388869597.py:8: DeprecationWarning: Call to deprecated `__getitem__` (Method will be removed in 4.0.0, use self.wv.__getitem__() instead).\n",
      "  embedding_matrix[i] = word2vec[word]\n"
     ]
    }
   ],
   "source": [
    "# 사전 학습된 Word2Vec 모델 로드\n",
    "word2vec = Word2Vec.load('ko/ko.bin') # 'word2vec_model_path'를 실제 모델 경로로 변경\n",
    "\n",
    "# 임베딩 레이어의 가중치를 초기화\n",
    "embedding_matrix = np.zeros((len(tokenizer.word_index) + 1, word2vec.vector_size))\n",
    "for word, i in tokenizer.word_index.items():\n",
    "    if word in word2vec:\n",
    "        embedding_matrix[i] = word2vec[word]"
   ]
  },
  {
   "attachments": {},
   "cell_type": "markdown",
   "metadata": {},
   "source": [
    "### 모델 학습"
   ]
  },
  {
   "cell_type": "code",
   "execution_count": 9,
   "metadata": {},
   "outputs": [
    {
     "name": "stderr",
     "output_type": "stream",
     "text": [
      "2023-06-25 20:08:07.366635: I metal_plugin/src/device/metal_device.cc:1154] Metal device set to: Apple M1 Pro\n",
      "2023-06-25 20:08:07.366661: I metal_plugin/src/device/metal_device.cc:296] systemMemory: 16.00 GB\n",
      "2023-06-25 20:08:07.366664: I metal_plugin/src/device/metal_device.cc:313] maxCacheSize: 5.33 GB\n",
      "2023-06-25 20:08:07.367191: I tensorflow/core/common_runtime/pluggable_device/pluggable_device_factory.cc:303] Could not identify NUMA node of platform GPU ID 0, defaulting to 0. Your kernel may not have been built with NUMA support.\n",
      "2023-06-25 20:08:07.367472: I tensorflow/core/common_runtime/pluggable_device/pluggable_device_factory.cc:269] Created TensorFlow device (/job:localhost/replica:0/task:0/device:GPU:0 with 0 MB memory) -> physical PluggableDevice (device: 0, name: METAL, pci bus id: <undefined>)\n"
     ]
    },
    {
     "name": "stdout",
     "output_type": "stream",
     "text": [
      "Epoch 1/15\n"
     ]
    },
    {
     "name": "stderr",
     "output_type": "stream",
     "text": [
      "2023-06-25 20:08:11.601400: I tensorflow/core/grappler/optimizers/custom_graph_optimizer_registry.cc:114] Plugin optimizer for device_type GPU is enabled.\n",
      "2023-06-25 20:08:11.816729: I tensorflow/core/grappler/optimizers/custom_graph_optimizer_registry.cc:114] Plugin optimizer for device_type GPU is enabled.\n",
      "2023-06-25 20:08:12.077287: I tensorflow/core/grappler/optimizers/custom_graph_optimizer_registry.cc:114] Plugin optimizer for device_type GPU is enabled.\n"
     ]
    },
    {
     "name": "stdout",
     "output_type": "stream",
     "text": [
      "2000/2000 [==============================] - ETA: 0s - loss: 0.3899 - accuracy: 0.8212"
     ]
    },
    {
     "name": "stderr",
     "output_type": "stream",
     "text": [
      "2023-06-25 20:10:37.927587: I tensorflow/core/grappler/optimizers/custom_graph_optimizer_registry.cc:114] Plugin optimizer for device_type GPU is enabled.\n",
      "2023-06-25 20:10:37.999845: I tensorflow/core/grappler/optimizers/custom_graph_optimizer_registry.cc:114] Plugin optimizer for device_type GPU is enabled.\n"
     ]
    },
    {
     "name": "stdout",
     "output_type": "stream",
     "text": [
      "WARNING:tensorflow:Can save best model only with val_acc available, skipping.\n",
      "2000/2000 [==============================] - 154s 76ms/step - loss: 0.3899 - accuracy: 0.8212 - val_loss: 0.3330 - val_accuracy: 0.8533\n",
      "Epoch 2/15\n",
      "2000/2000 [==============================] - ETA: 0s - loss: 0.2674 - accuracy: 0.8929WARNING:tensorflow:Can save best model only with val_acc available, skipping.\n",
      "2000/2000 [==============================] - 152s 76ms/step - loss: 0.2674 - accuracy: 0.8929 - val_loss: 0.3259 - val_accuracy: 0.8603\n",
      "Epoch 3/15\n",
      "2000/2000 [==============================] - ETA: 0s - loss: 0.1953 - accuracy: 0.9243WARNING:tensorflow:Can save best model only with val_acc available, skipping.\n",
      "2000/2000 [==============================] - 152s 76ms/step - loss: 0.1953 - accuracy: 0.9243 - val_loss: 0.3506 - val_accuracy: 0.8607\n",
      "Epoch 4/15\n",
      "2000/2000 [==============================] - ETA: 0s - loss: 0.1447 - accuracy: 0.9453WARNING:tensorflow:Can save best model only with val_acc available, skipping.\n",
      "2000/2000 [==============================] - 149s 75ms/step - loss: 0.1447 - accuracy: 0.9453 - val_loss: 0.3741 - val_accuracy: 0.8505\n",
      "Epoch 5/15\n",
      "2000/2000 [==============================] - ETA: 0s - loss: 0.1065 - accuracy: 0.9611WARNING:tensorflow:Can save best model only with val_acc available, skipping.\n",
      "2000/2000 [==============================] - 151s 76ms/step - loss: 0.1065 - accuracy: 0.9611 - val_loss: 0.4249 - val_accuracy: 0.8550\n",
      "Epoch 6/15\n",
      "2000/2000 [==============================] - ETA: 0s - loss: 0.0775 - accuracy: 0.9726WARNING:tensorflow:Can save best model only with val_acc available, skipping.\n",
      "2000/2000 [==============================] - 152s 76ms/step - loss: 0.0775 - accuracy: 0.9726 - val_loss: 0.4678 - val_accuracy: 0.8527\n",
      "Epoch 6: early stopping\n"
     ]
    }
   ],
   "source": [
    "# 모델 정의\n",
    "model1 = Sequential()\n",
    "model1.add(Embedding(\n",
    "    len(tokenizer.word_index)+1, \n",
    "    word2vec.vector_size, \n",
    "    weights=[embedding_matrix], \n",
    "    trainable=True # 파인튜닝 허용\n",
    "))\n",
    "model1.add(LSTM(128))\n",
    "model1.add(Dense(1, activation='sigmoid'))\n",
    "\n",
    "# 모델 컴파일\n",
    "model1.compile(optimizer='adam', loss='binary_crossentropy', metrics=['accuracy'])\n",
    "\n",
    "# 콜백 정의\n",
    "es1 = EarlyStopping(monitor='val_loss', mode='min', verbose=1, patience=4)\n",
    "mc1 = ModelCheckpoint('best_model.h5', monitor='val_acc', mode='max', verbose=1, save_best_only=True)\n",
    "\n",
    "# 모델 학습\n",
    "history1 = model1.fit(train_inputs, train_labels, epochs=15, callbacks=[es1, mc1], batch_size=60, validation_split=0.2)\n"
   ]
  },
  {
   "cell_type": "code",
   "execution_count": 10,
   "metadata": {},
   "outputs": [
    {
     "name": "stdout",
     "output_type": "stream",
     "text": [
      "1563/1563 [==============================] - 20s 13ms/step - loss: 0.4864 - accuracy: 0.8496\n",
      "[0.4864165186882019, 0.8496309518814087]\n"
     ]
    }
   ],
   "source": [
    "# 모델 평가\n",
    "print(model1.evaluate(test_inputs, test_labels))\n"
   ]
  },
  {
   "attachments": {},
   "cell_type": "markdown",
   "metadata": {},
   "source": [
    "## 평가 기록\n",
    "\n",
    "| 방법 | Loss | Accuracy |\n",
    "|------|------|----------|\n",
    "| Okt 사용 전 | 0.7988 | 0.8033 |\n",
    "| Okt 사용 후 | 0.6932 | 0.4965 |\n",
    "| 깜빡한 정수화 학습 및 Komoran 사용 | 0.5018 | 0.8387 |\n",
    "| 사전 학습된 Word2Vec 임베딩 적용 | 0.4065 | 0.8304 |\n",
    "| Word2Vec에 파인 튜닝 허용 | 0.4980 | 0.8473 |\n",
    "\n",
    "\n",
    "\n",
    "이 과정을 통해 Base Model에서 약 4%의 성능을 개선함."
   ]
  },
  {
   "attachments": {},
   "cell_type": "markdown",
   "metadata": {},
   "source": [
    "## 실험 2: SentencePiece를 이용해보자"
   ]
  },
  {
   "cell_type": "code",
   "execution_count": 11,
   "metadata": {},
   "outputs": [],
   "source": [
    "# 데이터 준비\n",
    "train_data = orig_train.copy()\n",
    "test_data = orig_test.copy()\n",
    "\n",
    "# 대충 위에서 이미 결측치를 확인 했기 때문에 그대로 진행\n",
    "train_data = train_data.dropna()\n",
    "test_data = test_data.dropna()"
   ]
  },
  {
   "attachments": {},
   "cell_type": "markdown",
   "metadata": {},
   "source": [
    "### Tokenizer 적용: sentencepiece\n",
    "\n",
    "노드의 설명이 이해가 않가서 다른 글 참고함\n",
    "https://lsjsj92.tistory.com/600\n",
    "\n",
    "\n",
    "기본 model은 unigram이라고 함 https://choice-life.tistory.com/12\n",
    "\n"
   ]
  },
  {
   "cell_type": "code",
   "execution_count": 12,
   "metadata": {},
   "outputs": [
    {
     "name": "stderr",
     "output_type": "stream",
     "text": [
      "sentencepiece_trainer.cc(177) LOG(INFO) Running command: --input=nsmc_text.txt --model_prefix=korean_spm --vocab_size=8000\n",
      "sentencepiece_trainer.cc(77) LOG(INFO) Starts training with : \n",
      "trainer_spec {\n",
      "  input: nsmc_text.txt\n",
      "  input_format: \n",
      "  model_prefix: korean_spm\n",
      "  model_type: UNIGRAM\n",
      "  vocab_size: 8000\n",
      "  self_test_sample_size: 0\n",
      "  character_coverage: 0.9995\n",
      "  input_sentence_size: 0\n",
      "  shuffle_input_sentence: 1\n",
      "  seed_sentencepiece_size: 1000000\n",
      "  shrinking_factor: 0.75\n",
      "  max_sentence_length: 4192\n",
      "  num_threads: 16\n",
      "  num_sub_iterations: 2\n",
      "  max_sentencepiece_length: 16\n",
      "  split_by_unicode_script: 1\n",
      "  split_by_number: 1\n",
      "  split_by_whitespace: 1\n",
      "  split_digits: 0\n",
      "  pretokenization_delimiter: \n",
      "  treat_whitespace_as_suffix: 0\n",
      "  allow_whitespace_only_pieces: 0\n",
      "  required_chars: \n",
      "  byte_fallback: 0\n",
      "  vocabulary_output_piece_score: 1\n",
      "  train_extremely_large_corpus: 0\n",
      "  hard_vocab_limit: 1\n",
      "  use_all_vocab: 0\n",
      "  unk_id: 0\n",
      "  bos_id: 1\n",
      "  eos_id: 2\n",
      "  pad_id: -1\n",
      "  unk_piece: <unk>\n",
      "  bos_piece: <s>\n",
      "  eos_piece: </s>\n",
      "  pad_piece: <pad>\n",
      "  unk_surface:  ⁇ \n",
      "  enable_differential_privacy: 0\n",
      "  differential_privacy_noise_level: 0\n",
      "  differential_privacy_clipping_threshold: 0\n",
      "}\n",
      "normalizer_spec {\n",
      "  name: nmt_nfkc\n",
      "  add_dummy_prefix: 1\n",
      "  remove_extra_whitespaces: 1\n",
      "  escape_whitespaces: 1\n",
      "  normalization_rule_tsv: \n",
      "}\n",
      "denormalizer_spec {}\n",
      "trainer_interface.cc(351) LOG(INFO) SentenceIterator is not specified. Using MultiFileSentenceIterator.\n",
      "trainer_interface.cc(183) LOG(INFO) Loading corpus: nsmc_text.txt\n",
      "trainer_interface.cc(407) LOG(INFO) Loaded all 149995 sentences\n",
      "trainer_interface.cc(423) LOG(INFO) Adding meta_piece: <unk>\n",
      "trainer_interface.cc(423) LOG(INFO) Adding meta_piece: <s>\n",
      "trainer_interface.cc(423) LOG(INFO) Adding meta_piece: </s>\n",
      "trainer_interface.cc(428) LOG(INFO) Normalizing sentences...\n",
      "trainer_interface.cc(537) LOG(INFO) all chars count=5430559\n",
      "trainer_interface.cc(548) LOG(INFO) Done: 99.9501% characters are covered.\n",
      "trainer_interface.cc(558) LOG(INFO) Alphabet size=1712\n",
      "trainer_interface.cc(559) LOG(INFO) Final character coverage=0.999501\n",
      "trainer_interface.cc(591) LOG(INFO) Done! preprocessed 149995 sentences.\n",
      "unigram_model_trainer.cc(222) LOG(INFO) Making suffix array...\n",
      "unigram_model_trainer.cc(226) LOG(INFO) Extracting frequent sub strings... node_num=1909840\n",
      "unigram_model_trainer.cc(274) LOG(INFO) Initialized 309130 seed sentencepieces\n",
      "trainer_interface.cc(597) LOG(INFO) Tokenizing input sentences with whitespace: 149995\n",
      "trainer_interface.cc(608) LOG(INFO) Done! 357580\n",
      "unigram_model_trainer.cc(564) LOG(INFO) Using 357580 sentences for EM training\n",
      "unigram_model_trainer.cc(580) LOG(INFO) EM sub_iter=0 size=157926 obj=15.4403 num_tokens=842897 num_tokens/piece=5.33729\n",
      "unigram_model_trainer.cc(580) LOG(INFO) EM sub_iter=1 size=146136 obj=14.3715 num_tokens=848364 num_tokens/piece=5.8053\n",
      "unigram_model_trainer.cc(580) LOG(INFO) EM sub_iter=0 size=109527 obj=14.4748 num_tokens=885951 num_tokens/piece=8.08888\n",
      "unigram_model_trainer.cc(580) LOG(INFO) EM sub_iter=1 size=109303 obj=14.4164 num_tokens=886554 num_tokens/piece=8.11098\n",
      "unigram_model_trainer.cc(580) LOG(INFO) EM sub_iter=0 size=81974 obj=14.6543 num_tokens=931143 num_tokens/piece=11.359\n",
      "unigram_model_trainer.cc(580) LOG(INFO) EM sub_iter=1 size=81965 obj=14.5922 num_tokens=931231 num_tokens/piece=11.3613\n",
      "unigram_model_trainer.cc(580) LOG(INFO) EM sub_iter=0 size=61473 obj=14.8562 num_tokens=974383 num_tokens/piece=15.8506\n",
      "unigram_model_trainer.cc(580) LOG(INFO) EM sub_iter=1 size=61473 obj=14.7932 num_tokens=974380 num_tokens/piece=15.8505\n",
      "unigram_model_trainer.cc(580) LOG(INFO) EM sub_iter=0 size=46104 obj=15.0861 num_tokens=1019576 num_tokens/piece=22.1147\n",
      "unigram_model_trainer.cc(580) LOG(INFO) EM sub_iter=1 size=46104 obj=15.0203 num_tokens=1019580 num_tokens/piece=22.1148\n",
      "unigram_model_trainer.cc(580) LOG(INFO) EM sub_iter=0 size=34578 obj=15.3433 num_tokens=1066415 num_tokens/piece=30.8409\n",
      "unigram_model_trainer.cc(580) LOG(INFO) EM sub_iter=1 size=34578 obj=15.2759 num_tokens=1066395 num_tokens/piece=30.8403\n",
      "unigram_model_trainer.cc(580) LOG(INFO) EM sub_iter=0 size=25933 obj=15.6307 num_tokens=1114269 num_tokens/piece=42.9672\n",
      "unigram_model_trainer.cc(580) LOG(INFO) EM sub_iter=1 size=25933 obj=15.5584 num_tokens=1114291 num_tokens/piece=42.9681\n",
      "unigram_model_trainer.cc(580) LOG(INFO) EM sub_iter=0 size=19449 obj=15.9454 num_tokens=1165321 num_tokens/piece=59.9168\n",
      "unigram_model_trainer.cc(580) LOG(INFO) EM sub_iter=1 size=19449 obj=15.8642 num_tokens=1165324 num_tokens/piece=59.9169\n",
      "unigram_model_trainer.cc(580) LOG(INFO) EM sub_iter=0 size=14586 obj=16.2965 num_tokens=1219164 num_tokens/piece=83.5845\n",
      "unigram_model_trainer.cc(580) LOG(INFO) EM sub_iter=1 size=14586 obj=16.2047 num_tokens=1219205 num_tokens/piece=83.5873\n",
      "unigram_model_trainer.cc(580) LOG(INFO) EM sub_iter=0 size=10939 obj=16.6743 num_tokens=1278686 num_tokens/piece=116.892\n",
      "unigram_model_trainer.cc(580) LOG(INFO) EM sub_iter=1 size=10939 obj=16.5612 num_tokens=1278861 num_tokens/piece=116.908\n",
      "unigram_model_trainer.cc(580) LOG(INFO) EM sub_iter=0 size=8800 obj=16.9418 num_tokens=1324809 num_tokens/piece=150.546\n",
      "unigram_model_trainer.cc(580) LOG(INFO) EM sub_iter=1 size=8800 obj=16.857 num_tokens=1325261 num_tokens/piece=150.598\n",
      "trainer_interface.cc(686) LOG(INFO) Saving model: korean_spm.model\n",
      "trainer_interface.cc(698) LOG(INFO) Saving vocabs: korean_spm.vocab\n"
     ]
    }
   ],
   "source": [
    "import tensorflow as tf\n",
    "import sentencepiece as spm\n",
    "\n",
    "with open('nsmc_text.txt', 'w', encoding='utf-8') as f:\n",
    "    for line in train_data['document'].values:\n",
    "        f.write(line + '\\n')\n",
    "\n",
    "input_fime = 'nsmc_text.txt'\n",
    "vocab_size = 8000\n",
    "prefix = 'korean_spm'\n",
    "\n",
    "templates = '--input={} --model_prefix={} --vocab_size={}'\n",
    "cmd = templates.format(input_fime, prefix, vocab_size)\n",
    "\n",
    "spm.SentencePieceTrainer.Train(cmd)\n"
   ]
  },
  {
   "cell_type": "code",
   "execution_count": 13,
   "metadata": {},
   "outputs": [
    {
     "name": "stdout",
     "output_type": "stream",
     "text": [
      "아 더빙.. 진짜 짜증나네요 목소리\n",
      "['▁아', '▁더빙', '..', '▁진짜', '▁짜증나', '네요', '▁목소리']\n",
      "[66, 886, 6, 32, 2185, 63, 1429]\n",
      "\n",
      "흠...포스터보고 초딩영화줄....오버연기조차 가볍지 않구나\n",
      "['▁흠', '...', '포스터', '보고', '▁초딩', '영화', '줄', '....', '오', '버', '연기', '조차', '▁가볍지', '▁않', '구나']\n",
      "[1760, 8, 4967, 159, 1410, 31, 249, 62, 169, 418, 369, 1339, 6825, 824, 412]\n",
      "\n",
      "너무재밓었다그래서보는것을추천한다\n",
      "['▁너무', '재', '밓', '었다', '그래서', '보', '는것을', '추천', '한다']\n",
      "[24, 389, 7788, 355, 3939, 104, 6034, 2093, 297]\n",
      "\n",
      "교도소 이야기구먼 ..솔직히 재미는 없다..평점 조정\n",
      "['▁교', '도', '소', '▁이야기', '구먼', '▁', '..', '솔직히', '▁재미는', '▁없다', '..', '평점', '▁조', '정']\n",
      "[1861, 11, 200, 236, 6640, 3, 6, 4389, 1302, 123, 6, 694, 285, 100]\n",
      "\n",
      "사이몬페그의 익살스런 연기가 돋보였던 영화!스파이더맨에서 늙어보이기만 했던 커스틴 던스트가 너무나도 이뻐보였다\n",
      "['▁사이', '몬', '페', '그', '의', '▁', '익', '살', '스런', '▁연기가', '▁돋보', '였던', '▁영화', '!', '스파이더맨', '에서', '▁늙어', '보이', '기만', '▁했던', '▁커', '스틴', '▁', '던', '스트', '가', '▁너무나도', '▁', '이뻐', '보였다']\n",
      "[2426, 2419, 2080, 166, 10, 3, 1447, 320, 2387, 514, 2701, 1814, 7, 25, 5722, 46, 6332, 2486, 1122, 2956, 2443, 6308, 3, 122, 606, 9, 2261, 3, 3887, 6921]\n",
      "\n"
     ]
    }
   ],
   "source": [
    "# 학습된 SentencePiece 모델 로드\n",
    "sp = spm.SentencePieceProcessor()\n",
    "sp.Load('{}.model'.format(prefix))\n",
    "\n",
    "for t in train_data.document.values[:5]:\n",
    "    print(t)\n",
    "    print(sp.EncodeAsPieces(t))\n",
    "    print(sp.EncodeAsIds(t))\n",
    "    print()\n"
   ]
  },
  {
   "cell_type": "code",
   "execution_count": 14,
   "metadata": {},
   "outputs": [],
   "source": [
    "# 텍스트 데이터 토큰화\n",
    "train_data['document'] = train_data['document'].apply(sp.EncodeAsPieces)\n",
    "test_data['document'] = test_data['document'].apply(sp.EncodeAsPieces)"
   ]
  },
  {
   "attachments": {},
   "cell_type": "markdown",
   "metadata": {},
   "source": [
    "### 정수화 및 시퀀스 구성"
   ]
  },
  {
   "cell_type": "code",
   "execution_count": 15,
   "metadata": {},
   "outputs": [],
   "source": [
    "# 토큰화된 데이터를 숫자로 변환\n",
    "tokenizer = Tokenizer()\n",
    "tokenizer.fit_on_texts(train_data['document'])\n",
    "\n",
    "train_sequences = tokenizer.texts_to_sequences(train_data['document'])\n",
    "test_sequences = tokenizer.texts_to_sequences(test_data['document'])\n",
    "\n",
    "# 패딩 처리\n",
    "train_inputs = pad_sequences(train_sequences, maxlen=100)\n",
    "test_inputs = pad_sequences(test_sequences, maxlen=100)\n",
    "\n",
    "# 레이블 데이터를 numpy array로 변환\n",
    "train_labels = np.array(train_data['label'])\n",
    "test_labels = np.array(test_data['label'])"
   ]
  },
  {
   "attachments": {},
   "cell_type": "markdown",
   "metadata": {},
   "source": [
    "#### 여기서 잠깐, 왜 굳이 EncodeAsIds를 않쓰고 EncodeAsPieces 후에 fit_on_texts를 사용했나요??\n",
    "\n",
    "EncodeAsPieces 후에 fit_on_texts를 사용하는 방법은 두 단계의 토큰화 과정을 거치므로, 더 세밀한 토큰화가 가능할 수 있다.  \n",
    "하지만 이는 추가적인 계산을 필요로 하며, 두 단계의 토큰화 과정이 항상 더 좋은 결과를 보장하는 것은 아니다.   \n",
    "반면, EncodeAsIds를 사용하는 방법은 한 단계의 토큰화 과정만을 거치므로, 계산 효율성이 더 좋을 수 있다.  \n",
    "\n",
    "\n",
    "\n",
    "\n",
    "나는 성능과 시간이 충분하다고 보고, 세밀하게 할 수 있다는 전자의 방법을 사용했다.  \n",
    "또한 과제를 수행하는 과정에서 적은 코드 수정으로 이용할 수 있다는 장점 또한 존재한다.  \n",
    "두 방법에 대한 의견은 사람마다 다르겠지만, 내가 이 방식을 사용한 이유는 이런 이유로 사용했다."
   ]
  },
  {
   "attachments": {},
   "cell_type": "markdown",
   "metadata": {},
   "source": [
    "### Word2Vec 적용"
   ]
  },
  {
   "cell_type": "code",
   "execution_count": 16,
   "metadata": {},
   "outputs": [
    {
     "name": "stderr",
     "output_type": "stream",
     "text": [
      "/var/folders/mg/rbbjnp_x0k31bv6dy862v00w0000gn/T/ipykernel_45498/2893645305.py:7: DeprecationWarning: Call to deprecated `__contains__` (Method will be removed in 4.0.0, use self.wv.__contains__() instead).\n",
      "  if word in word2vec:\n",
      "/var/folders/mg/rbbjnp_x0k31bv6dy862v00w0000gn/T/ipykernel_45498/2893645305.py:8: DeprecationWarning: Call to deprecated `__getitem__` (Method will be removed in 4.0.0, use self.wv.__getitem__() instead).\n",
      "  embedding_matrix[i] = word2vec[word]\n"
     ]
    }
   ],
   "source": [
    "# 사전 학습된 Word2Vec 모델 로드\n",
    "word2vec = Word2Vec.load('ko/ko.bin')\n",
    "\n",
    "# 임베딩 레이어의 가중치를 초기화\n",
    "embedding_matrix = np.zeros((len(tokenizer.word_index) + 1, word2vec.vector_size))\n",
    "for word, i in tokenizer.word_index.items():\n",
    "    if word in word2vec:\n",
    "        embedding_matrix[i] = word2vec[word]"
   ]
  },
  {
   "attachments": {},
   "cell_type": "markdown",
   "metadata": {},
   "source": [
    "### 동일 구성의 두번째 모델 구성 및 학습"
   ]
  },
  {
   "cell_type": "code",
   "execution_count": 17,
   "metadata": {},
   "outputs": [
    {
     "name": "stdout",
     "output_type": "stream",
     "text": [
      "Epoch 1/15\n"
     ]
    },
    {
     "name": "stderr",
     "output_type": "stream",
     "text": [
      "2023-06-25 20:24:07.357445: I tensorflow/core/grappler/optimizers/custom_graph_optimizer_registry.cc:114] Plugin optimizer for device_type GPU is enabled.\n",
      "2023-06-25 20:24:07.604103: I tensorflow/core/grappler/optimizers/custom_graph_optimizer_registry.cc:114] Plugin optimizer for device_type GPU is enabled.\n",
      "2023-06-25 20:24:07.857997: I tensorflow/core/grappler/optimizers/custom_graph_optimizer_registry.cc:114] Plugin optimizer for device_type GPU is enabled.\n"
     ]
    },
    {
     "name": "stdout",
     "output_type": "stream",
     "text": [
      "2000/2000 [==============================] - ETA: 0s - loss: 0.3953 - accuracy: 0.8172"
     ]
    },
    {
     "name": "stderr",
     "output_type": "stream",
     "text": [
      "2023-06-25 20:26:26.394742: I tensorflow/core/grappler/optimizers/custom_graph_optimizer_registry.cc:114] Plugin optimizer for device_type GPU is enabled.\n",
      "2023-06-25 20:26:26.477784: I tensorflow/core/grappler/optimizers/custom_graph_optimizer_registry.cc:114] Plugin optimizer for device_type GPU is enabled.\n"
     ]
    },
    {
     "name": "stdout",
     "output_type": "stream",
     "text": [
      "WARNING:tensorflow:Can save best model only with val_acc available, skipping.\n",
      "2000/2000 [==============================] - 147s 73ms/step - loss: 0.3953 - accuracy: 0.8172 - val_loss: 0.3285 - val_accuracy: 0.8592\n",
      "Epoch 2/15\n",
      "2000/2000 [==============================] - ETA: 0s - loss: 0.2958 - accuracy: 0.8739WARNING:tensorflow:Can save best model only with val_acc available, skipping.\n",
      "2000/2000 [==============================] - 133s 67ms/step - loss: 0.2958 - accuracy: 0.8739 - val_loss: 0.3172 - val_accuracy: 0.8630\n",
      "Epoch 3/15\n",
      "2000/2000 [==============================] - ETA: 0s - loss: 0.2495 - accuracy: 0.8954WARNING:tensorflow:Can save best model only with val_acc available, skipping.\n",
      "2000/2000 [==============================] - 138s 69ms/step - loss: 0.2495 - accuracy: 0.8954 - val_loss: 0.3182 - val_accuracy: 0.8651\n",
      "Epoch 4/15\n",
      "2000/2000 [==============================] - ETA: 0s - loss: 0.1990 - accuracy: 0.9190WARNING:tensorflow:Can save best model only with val_acc available, skipping.\n",
      "2000/2000 [==============================] - 139s 69ms/step - loss: 0.1990 - accuracy: 0.9190 - val_loss: 0.3502 - val_accuracy: 0.8575\n",
      "Epoch 5/15\n",
      "2000/2000 [==============================] - ETA: 0s - loss: 0.1437 - accuracy: 0.9437WARNING:tensorflow:Can save best model only with val_acc available, skipping.\n",
      "2000/2000 [==============================] - 136s 68ms/step - loss: 0.1437 - accuracy: 0.9437 - val_loss: 0.3992 - val_accuracy: 0.8512\n",
      "Epoch 6/15\n",
      "2000/2000 [==============================] - ETA: 0s - loss: 0.0907 - accuracy: 0.9667WARNING:tensorflow:Can save best model only with val_acc available, skipping.\n",
      "2000/2000 [==============================] - 138s 69ms/step - loss: 0.0907 - accuracy: 0.9667 - val_loss: 0.5254 - val_accuracy: 0.8484\n",
      "Epoch 6: early stopping\n"
     ]
    }
   ],
   "source": [
    "# 모델 정의\n",
    "model2 = Sequential()\n",
    "model2.add(Embedding(\n",
    "    len(tokenizer.word_index)+1, \n",
    "    word2vec.vector_size, \n",
    "    weights=[embedding_matrix], \n",
    "    trainable=True # 파인튜닝 허용\n",
    "))\n",
    "model2.add(LSTM(128))\n",
    "model2.add(Dense(1, activation='sigmoid'))\n",
    "\n",
    "# 모델 컴파일\n",
    "model2.compile(optimizer='adam', loss='binary_crossentropy', metrics=['accuracy'])\n",
    "\n",
    "# 콜백 정의\n",
    "es2 = EarlyStopping(monitor='val_loss', mode='min', verbose=1, patience=4)\n",
    "mc2 = ModelCheckpoint('best_model2.h5', monitor='val_acc', mode='max', verbose=1, save_best_only=True)\n",
    "\n",
    "# 모델 학습\n",
    "history2 = model2.fit(train_inputs, train_labels, epochs=15, callbacks=[es2, mc2], batch_size=60, validation_split=0.2)\n"
   ]
  },
  {
   "cell_type": "code",
   "execution_count": 18,
   "metadata": {},
   "outputs": [
    {
     "name": "stdout",
     "output_type": "stream",
     "text": [
      "1563/1563 [==============================] - 19s 12ms/step - loss: 0.5406 - accuracy: 0.8464\n",
      "[0.5406013131141663, 0.8463507890701294]\n"
     ]
    }
   ],
   "source": [
    "# 모델 평가\n",
    "print(model2.evaluate(test_inputs, test_labels))\n"
   ]
  },
  {
   "attachments": {},
   "cell_type": "markdown",
   "metadata": {},
   "source": [
    "## 시각화를 통해 구체적인 비교"
   ]
  },
  {
   "cell_type": "code",
   "execution_count": 19,
   "metadata": {},
   "outputs": [
    {
     "data": {
      "image/png": "[encoded data removed]",
      "text/plain": [
       "<Figure size 1200x400 with 2 Axes>"
      ]
     },
     "metadata": {},
     "output_type": "display_data"
    }
   ],
   "source": [
    "import matplotlib.pyplot as plt\n",
    "\n",
    "# 손실 함수 값 그래프\n",
    "plt.figure(figsize=(12, 4))\n",
    "\n",
    "plt.subplot(1, 2, 1)\n",
    "plt.plot(history1.history['loss'], 'b-', label='model1_loss')\n",
    "plt.plot(history1.history['val_loss'], 'r--', label='model1_val_loss')\n",
    "plt.plot(history2.history['loss'], 'g-', label='model2_loss')\n",
    "plt.plot(history2.history['val_loss'], 'k--', label='model2_val_loss')\n",
    "plt.xlabel('Epoch')\n",
    "plt.legend()\n",
    "\n",
    "# 정확도 그래프\n",
    "plt.subplot(1, 2, 2)\n",
    "plt.plot(history1.history['accuracy'], 'b-', label='model1_accuracy')\n",
    "plt.plot(history1.history['val_accuracy'], 'r--', label='model1_val_accuracy')\n",
    "plt.plot(history2.history['accuracy'], 'g-', label='model2_accuracy')\n",
    "plt.plot(history2.history['val_accuracy'], 'k--', label='model2_val_accuracy')\n",
    "plt.xlabel('Epoch')\n",
    "plt.legend()\n",
    "\n",
    "plt.show()\n"
   ]
  },
  {
   "attachments": {},
   "cell_type": "markdown",
   "metadata": {},
   "source": [
    "## 실험3: SentencePiece의 모드를 BPE로 바꿔보자\n",
    "\n",
    "결과가 마음에 안든다.\n",
    "\n",
    "BPE를 적용해보자."
   ]
  },
  {
   "attachments": {},
   "cell_type": "markdown",
   "metadata": {},
   "source": [
    "### 데이터 전처리 대충..."
   ]
  },
  {
   "cell_type": "code",
   "execution_count": 20,
   "metadata": {},
   "outputs": [],
   "source": [
    "# 데이터 준비\n",
    "train_data = orig_train.copy()\n",
    "test_data = orig_test.copy()\n",
    "\n",
    "# 대충 위에서 이미 결측치를 확인 했기 때문에 그대로 진행\n",
    "train_data = train_data.dropna()\n",
    "test_data = test_data.dropna()"
   ]
  },
  {
   "cell_type": "code",
   "execution_count": 22,
   "metadata": {},
   "outputs": [
    {
     "name": "stderr",
     "output_type": "stream",
     "text": [
      "sentencepiece_trainer.cc(177) LOG(INFO) Running command: --input=nsmc_text_bpe.txt --model_prefix=korean_spm_bpe --vocab_size=8000 --model_type=bpe\n",
      "sentencepiece_trainer.cc(77) LOG(INFO) Starts training with : \n",
      "trainer_spec {\n",
      "  input: nsmc_text_bpe.txt\n",
      "  input_format: \n",
      "  model_prefix: korean_spm_bpe\n",
      "  model_type: BPE\n",
      "  vocab_size: 8000\n",
      "  self_test_sample_size: 0\n",
      "  character_coverage: 0.9995\n",
      "  input_sentence_size: 0\n",
      "  shuffle_input_sentence: 1\n",
      "  seed_sentencepiece_size: 1000000\n",
      "  shrinking_factor: 0.75\n",
      "  max_sentence_length: 4192\n",
      "  num_threads: 16\n",
      "  num_sub_iterations: 2\n",
      "  max_sentencepiece_length: 16\n",
      "  split_by_unicode_script: 1\n",
      "  split_by_number: 1\n",
      "  split_by_whitespace: 1\n",
      "  split_digits: 0\n",
      "  pretokenization_delimiter: \n",
      "  treat_whitespace_as_suffix: 0\n",
      "  allow_whitespace_only_pieces: 0\n",
      "  required_chars: \n",
      "  byte_fallback: 0\n",
      "  vocabulary_output_piece_score: 1\n",
      "  train_extremely_large_corpus: 0\n",
      "  hard_vocab_limit: 1\n",
      "  use_all_vocab: 0\n",
      "  unk_id: 0\n",
      "  bos_id: 1\n",
      "  eos_id: 2\n",
      "  pad_id: -1\n",
      "  unk_piece: <unk>\n",
      "  bos_piece: <s>\n",
      "  eos_piece: </s>\n",
      "  pad_piece: <pad>\n",
      "  unk_surface:  ⁇ \n",
      "  enable_differential_privacy: 0\n",
      "  differential_privacy_noise_level: 0\n",
      "  differential_privacy_clipping_threshold: 0\n",
      "}\n",
      "normalizer_spec {\n",
      "  name: nmt_nfkc\n",
      "  add_dummy_prefix: 1\n",
      "  remove_extra_whitespaces: 1\n",
      "  escape_whitespaces: 1\n",
      "  normalization_rule_tsv: \n",
      "}\n",
      "denormalizer_spec {}\n",
      "trainer_interface.cc(351) LOG(INFO) SentenceIterator is not specified. Using MultiFileSentenceIterator.\n",
      "trainer_interface.cc(183) LOG(INFO) Loading corpus: nsmc_text_bpe.txt\n",
      "trainer_interface.cc(407) LOG(INFO) Loaded all 149995 sentences\n",
      "trainer_interface.cc(423) LOG(INFO) Adding meta_piece: <unk>\n",
      "trainer_interface.cc(423) LOG(INFO) Adding meta_piece: <s>\n",
      "trainer_interface.cc(423) LOG(INFO) Adding meta_piece: </s>\n",
      "trainer_interface.cc(428) LOG(INFO) Normalizing sentences...\n",
      "trainer_interface.cc(537) LOG(INFO) all chars count=5430559\n",
      "trainer_interface.cc(548) LOG(INFO) Done: 99.9501% characters are covered.\n",
      "trainer_interface.cc(558) LOG(INFO) Alphabet size=1712\n",
      "trainer_interface.cc(559) LOG(INFO) Final character coverage=0.999501\n",
      "trainer_interface.cc(591) LOG(INFO) Done! preprocessed 149995 sentences.\n",
      "trainer_interface.cc(597) LOG(INFO) Tokenizing input sentences with whitespace: 149995\n",
      "trainer_interface.cc(608) LOG(INFO) Done! 357580\n",
      "bpe_model_trainer.cc(159) LOG(INFO) Updating active symbols. max_freq=109876 min_freq=87\n",
      "bpe_model_trainer.cc(268) LOG(INFO) Added: freq=11411 size=20 all=110792 active=10480 piece=▁없\n",
      "bpe_model_trainer.cc(268) LOG(INFO) Added: freq=8965 size=40 all=115302 active=14990 piece=▁1\n",
      "bpe_model_trainer.cc(268) LOG(INFO) Added: freq=6288 size=60 all=118868 active=18556 piece=▁생\n",
      "bpe_model_trainer.cc(268) LOG(INFO) Added: freq=5310 size=80 all=123078 active=22766 piece=▁배\n",
      "bpe_model_trainer.cc(268) LOG(INFO) Added: freq=4253 size=100 all=126624 active=26312 piece=▁볼\n",
      "bpe_model_trainer.cc(159) LOG(INFO) Updating active symbols. max_freq=4247 min_freq=73\n",
      "bpe_model_trainer.cc(268) LOG(INFO) Added: freq=3669 size=120 all=129875 active=9498 piece=▁중\n",
      "bpe_model_trainer.cc(268) LOG(INFO) Added: freq=3315 size=140 all=132169 active=11792 piece=▁끝\n",
      "bpe_model_trainer.cc(268) LOG(INFO) Added: freq=2868 size=160 all=134628 active=14251 piece=,,\n",
      "bpe_model_trainer.cc(268) LOG(INFO) Added: freq=2673 size=180 all=137115 active=16738 piece=으면\n",
      "bpe_model_trainer.cc(268) LOG(INFO) Added: freq=2405 size=200 all=139734 active=19357 piece=▁이건\n",
      "bpe_model_trainer.cc(159) LOG(INFO) Updating active symbols. max_freq=2400 min_freq=65\n",
      "bpe_model_trainer.cc(268) LOG(INFO) Added: freq=2231 size=220 all=141581 active=8777 piece=▁성\n",
      "bpe_model_trainer.cc(268) LOG(INFO) Added: freq=2074 size=240 all=144640 active=11836 piece=▁현\n",
      "bpe_model_trainer.cc(268) LOG(INFO) Added: freq=1937 size=260 all=147094 active=14290 piece=▁세\n",
      "bpe_model_trainer.cc(268) LOG(INFO) Added: freq=1811 size=280 all=150079 active=17275 piece=▁두\n",
      "bpe_model_trainer.cc(268) LOG(INFO) Added: freq=1692 size=300 all=151675 active=18871 piece=▁괜찮\n",
      "bpe_model_trainer.cc(159) LOG(INFO) Updating active symbols. max_freq=1686 min_freq=58\n",
      "bpe_model_trainer.cc(268) LOG(INFO) Added: freq=1576 size=320 all=153642 active=9514 piece=▁발\n",
      "bpe_model_trainer.cc(268) LOG(INFO) Added: freq=1449 size=340 all=155559 active=11431 piece=필요\n",
      "bpe_model_trainer.cc(268) LOG(INFO) Added: freq=1399 size=360 all=157550 active=13422 piece=▁무슨\n",
      "bpe_model_trainer.cc(268) LOG(INFO) Added: freq=1350 size=380 all=159702 active=15574 piece=하기\n",
      "bpe_model_trainer.cc(268) LOG(INFO) Added: freq=1268 size=400 all=161743 active=17615 piece=니까\n",
      "bpe_model_trainer.cc(159) LOG(INFO) Updating active symbols. max_freq=1267 min_freq=54\n",
      "bpe_model_trainer.cc(268) LOG(INFO) Added: freq=1230 size=420 all=164084 active=10270 piece=▁리\n",
      "bpe_model_trainer.cc(268) LOG(INFO) Added: freq=1182 size=440 all=166085 active=12271 piece=▁드\n",
      "bpe_model_trainer.cc(268) LOG(INFO) Added: freq=1112 size=460 all=167919 active=14105 piece=▁몇\n",
      "bpe_model_trainer.cc(268) LOG(INFO) Added: freq=1081 size=480 all=169353 active=15539 piece=▁한번\n",
      "bpe_model_trainer.cc(268) LOG(INFO) Added: freq=1028 size=500 all=171274 active=17460 piece=다니\n",
      "bpe_model_trainer.cc(159) LOG(INFO) Updating active symbols. max_freq=1027 min_freq=49\n",
      "bpe_model_trainer.cc(268) LOG(INFO) Added: freq=984 size=520 all=173113 active=10201 piece=▁언\n",
      "bpe_model_trainer.cc(268) LOG(INFO) Added: freq=936 size=540 all=174551 active=11639 piece=▁경\n",
      "bpe_model_trainer.cc(268) LOG(INFO) Added: freq=912 size=560 all=176485 active=13573 piece=▁긴장\n",
      "bpe_model_trainer.cc(268) LOG(INFO) Added: freq=882 size=580 all=178397 active=15485 piece=▁크\n",
      "bpe_model_trainer.cc(268) LOG(INFO) Added: freq=857 size=600 all=180563 active=17651 piece=▁엉\n",
      "bpe_model_trainer.cc(159) LOG(INFO) Updating active symbols. max_freq=857 min_freq=46\n",
      "bpe_model_trainer.cc(268) LOG(INFO) Added: freq=834 size=620 all=182633 active=11083 piece=수가\n",
      "bpe_model_trainer.cc(268) LOG(INFO) Added: freq=804 size=640 all=184895 active=13345 piece=봤는데\n",
      "bpe_model_trainer.cc(268) LOG(INFO) Added: freq=779 size=660 all=186827 active=15277 piece=전에\n",
      "bpe_model_trainer.cc(268) LOG(INFO) Added: freq=759 size=680 all=188337 active=16787 piece=어도\n",
      "bpe_model_trainer.cc(268) LOG(INFO) Added: freq=738 size=700 all=190287 active=18737 piece=대체\n",
      "bpe_model_trainer.cc(159) LOG(INFO) Updating active symbols. max_freq=737 min_freq=43\n",
      "bpe_model_trainer.cc(268) LOG(INFO) Added: freq=714 size=720 all=191714 active=10899 piece=▁내용도\n",
      "bpe_model_trainer.cc(268) LOG(INFO) Added: freq=690 size=740 all=193161 active=12346 piece=▁날\n",
      "bpe_model_trainer.cc(268) LOG(INFO) Added: freq=666 size=760 all=194388 active=13573 piece=진다\n",
      "bpe_model_trainer.cc(268) LOG(INFO) Added: freq=656 size=780 all=195627 active=14812 piece=▁복\n",
      "bpe_model_trainer.cc(268) LOG(INFO) Added: freq=639 size=800 all=197146 active=16331 piece=▁아직도\n",
      "bpe_model_trainer.cc(159) LOG(INFO) Updating active symbols. max_freq=638 min_freq=40\n",
      "bpe_model_trainer.cc(268) LOG(INFO) Added: freq=624 size=820 all=198502 active=11196 piece=하는데\n",
      "bpe_model_trainer.cc(268) LOG(INFO) Added: freq=611 size=840 all=199482 active=12176 piece=▁장난\n",
      "bpe_model_trainer.cc(268) LOG(INFO) Added: freq=601 size=860 all=201183 active=13877 piece=▁어린\n",
      "bpe_model_trainer.cc(268) LOG(INFO) Added: freq=585 size=880 all=202021 active=14715 piece=▁시청\n",
      "bpe_model_trainer.cc(268) LOG(INFO) Added: freq=568 size=900 all=203278 active=15972 piece=▁빨\n",
      "bpe_model_trainer.cc(159) LOG(INFO) Updating active symbols. max_freq=568 min_freq=39\n",
      "bpe_model_trainer.cc(268) LOG(INFO) Added: freq=558 size=920 all=204468 active=11311 piece=▁소름\n",
      "bpe_model_trainer.cc(268) LOG(INFO) Added: freq=548 size=940 all=205331 active=12174 piece=▁유쾌\n",
      "bpe_model_trainer.cc(268) LOG(INFO) Added: freq=536 size=960 all=206436 active=13279 piece=▁입\n",
      "bpe_model_trainer.cc(268) LOG(INFO) Added: freq=525 size=980 all=207504 active=14347 piece=텐데\n",
      "bpe_model_trainer.cc(268) LOG(INFO) Added: freq=516 size=1000 all=208633 active=15476 piece=▁어릴\n",
      "bpe_model_trainer.cc(159) LOG(INFO) Updating active symbols. max_freq=515 min_freq=37\n",
      "bpe_model_trainer.cc(268) LOG(INFO) Added: freq=507 size=1020 all=210312 active=12104 piece=그래\n",
      "bpe_model_trainer.cc(268) LOG(INFO) Added: freq=498 size=1040 all=211581 active=13373 piece=레이\n",
      "bpe_model_trainer.cc(268) LOG(INFO) Added: freq=483 size=1060 all=212628 active=14420 piece=려는\n",
      "bpe_model_trainer.cc(268) LOG(INFO) Added: freq=472 size=1080 all=214086 active=15878 piece=들과\n",
      "bpe_model_trainer.cc(268) LOG(INFO) Added: freq=462 size=1100 all=215519 active=17311 piece=▁한국영화\n",
      "bpe_model_trainer.cc(159) LOG(INFO) Updating active symbols. max_freq=461 min_freq=35\n",
      "bpe_model_trainer.cc(268) LOG(INFO) Added: freq=449 size=1120 all=216501 active=11700 piece=웠다\n",
      "bpe_model_trainer.cc(268) LOG(INFO) Added: freq=440 size=1140 all=217655 active=12854 piece=▁위해\n",
      "bpe_model_trainer.cc(268) LOG(INFO) Added: freq=430 size=1160 all=218595 active=13794 piece=린다\n",
      "bpe_model_trainer.cc(268) LOG(INFO) Added: freq=422 size=1180 all=219799 active=14998 piece=▁끌\n",
      "bpe_model_trainer.cc(268) LOG(INFO) Added: freq=414 size=1200 all=221403 active=16602 piece=▁이쁘\n",
      "bpe_model_trainer.cc(159) LOG(INFO) Updating active symbols. max_freq=412 min_freq=34\n",
      "bpe_model_trainer.cc(268) LOG(INFO) Added: freq=403 size=1220 all=222697 active=12327 piece=▁사람들\n",
      "bpe_model_trainer.cc(268) LOG(INFO) Added: freq=396 size=1240 all=224165 active=13795 piece=▁없었다\n",
      "bpe_model_trainer.cc(268) LOG(INFO) Added: freq=389 size=1260 all=225297 active=14927 piece=겠지\n",
      "bpe_model_trainer.cc(268) LOG(INFO) Added: freq=381 size=1280 all=226321 active=15951 piece=시절\n",
      "bpe_model_trainer.cc(268) LOG(INFO) Added: freq=377 size=1300 all=227561 active=17191 piece=▁보여주는\n",
      "bpe_model_trainer.cc(159) LOG(INFO) Updating active symbols. max_freq=377 min_freq=32\n",
      "bpe_model_trainer.cc(268) LOG(INFO) Added: freq=369 size=1320 all=228794 active=12590 piece=으면서\n",
      "bpe_model_trainer.cc(268) LOG(INFO) Added: freq=361 size=1340 all=230059 active=13855 piece=머니\n",
      "bpe_model_trainer.cc(268) LOG(INFO) Added: freq=356 size=1360 all=231003 active=14799 piece=땜에\n",
      "bpe_model_trainer.cc(268) LOG(INFO) Added: freq=352 size=1380 all=232315 active=16111 piece=▁멍\n",
      "bpe_model_trainer.cc(268) LOG(INFO) Added: freq=347 size=1400 all=233344 active=17140 piece=▁배우들이\n",
      "bpe_model_trainer.cc(159) LOG(INFO) Updating active symbols. max_freq=346 min_freq=31\n",
      "bpe_model_trainer.cc(268) LOG(INFO) Added: freq=343 size=1420 all=234326 active=12636 piece=▁다운\n",
      "bpe_model_trainer.cc(268) LOG(INFO) Added: freq=335 size=1440 all=235230 active=13540 piece=나오는\n",
      "bpe_model_trainer.cc(268) LOG(INFO) Added: freq=329 size=1460 all=236238 active=14548 piece=여자\n",
      "bpe_model_trainer.cc(268) LOG(INFO) Added: freq=323 size=1480 all=237657 active=15967 piece=▁있지만\n",
      "bpe_model_trainer.cc(268) LOG(INFO) Added: freq=318 size=1500 all=238842 active=17152 piece=▁봤지만\n",
      "bpe_model_trainer.cc(159) LOG(INFO) Updating active symbols. max_freq=318 min_freq=30\n",
      "bpe_model_trainer.cc(268) LOG(INFO) Added: freq=312 size=1520 all=239965 active=13061 piece=▁멜로\n",
      "bpe_model_trainer.cc(268) LOG(INFO) Added: freq=307 size=1540 all=240908 active=14004 piece=▁좀비\n",
      "bpe_model_trainer.cc(268) LOG(INFO) Added: freq=303 size=1560 all=241792 active=14888 piece=▁원작을\n",
      "bpe_model_trainer.cc(268) LOG(INFO) Added: freq=298 size=1580 all=242737 active=15833 piece=▁감독님\n",
      "bpe_model_trainer.cc(268) LOG(INFO) Added: freq=293 size=1600 all=243489 active=16585 piece=스럽고\n",
      "bpe_model_trainer.cc(159) LOG(INFO) Updating active symbols. max_freq=292 min_freq=29\n",
      "bpe_model_trainer.cc(268) LOG(INFO) Added: freq=289 size=1620 all=244401 active=13008 piece=와서\n",
      "bpe_model_trainer.cc(268) LOG(INFO) Added: freq=285 size=1640 all=245197 active=13804 piece=현실\n",
      "bpe_model_trainer.cc(268) LOG(INFO) Added: freq=282 size=1660 all=246221 active=14828 piece=보다가\n",
      "bpe_model_trainer.cc(268) LOG(INFO) Added: freq=278 size=1680 all=247340 active=15947 piece=립니다\n",
      "bpe_model_trainer.cc(268) LOG(INFO) Added: freq=272 size=1700 all=248270 active=16877 piece=▁점점\n",
      "bpe_model_trainer.cc(159) LOG(INFO) Updating active symbols. max_freq=271 min_freq=28\n",
      "bpe_model_trainer.cc(268) LOG(INFO) Added: freq=267 size=1720 all=249433 active=13560 piece=▁tv\n",
      "bpe_model_trainer.cc(268) LOG(INFO) Added: freq=264 size=1740 all=250459 active=14586 piece=히려\n",
      "bpe_model_trainer.cc(268) LOG(INFO) Added: freq=261 size=1760 all=251337 active=15464 piece=▁섬\n",
      "bpe_model_trainer.cc(268) LOG(INFO) Added: freq=259 size=1780 all=252389 active=16516 piece=▁전개가\n",
      "bpe_model_trainer.cc(268) LOG(INFO) Added: freq=256 size=1800 all=253241 active=17368 piece=▁재밌었다\n",
      "bpe_model_trainer.cc(159) LOG(INFO) Updating active symbols. max_freq=255 min_freq=27\n",
      "bpe_model_trainer.cc(268) LOG(INFO) Added: freq=253 size=1820 all=253999 active=13404 piece=▁과거\n",
      "bpe_model_trainer.cc(268) LOG(INFO) Added: freq=249 size=1840 all=254884 active=14289 piece=▁안나\n",
      "bpe_model_trainer.cc(268) LOG(INFO) Added: freq=245 size=1860 all=256148 active=15553 piece=▁있음\n",
      "bpe_model_trainer.cc(268) LOG(INFO) Added: freq=241 size=1880 all=257325 active=16730 piece=났다\n",
      "bpe_model_trainer.cc(268) LOG(INFO) Added: freq=239 size=1900 all=258104 active=17509 piece=였습니다\n",
      "bpe_model_trainer.cc(159) LOG(INFO) Updating active symbols. max_freq=238 min_freq=26\n",
      "bpe_model_trainer.cc(268) LOG(INFO) Added: freq=236 size=1920 all=258937 active=13674 piece=▁내인생\n",
      "bpe_model_trainer.cc(268) LOG(INFO) Added: freq=232 size=1940 all=259725 active=14462 piece=▁영웅\n",
      "bpe_model_trainer.cc(268) LOG(INFO) Added: freq=230 size=1960 all=260653 active=15390 piece=▁학교\n",
      "bpe_model_trainer.cc(268) LOG(INFO) Added: freq=228 size=1980 all=261622 active=16359 piece=▁기대하고\n",
      "bpe_model_trainer.cc(268) LOG(INFO) Added: freq=225 size=2000 all=262306 active=17043 piece=평가\n",
      "bpe_model_trainer.cc(159) LOG(INFO) Updating active symbols. max_freq=225 min_freq=26\n",
      "bpe_model_trainer.cc(268) LOG(INFO) Added: freq=223 size=2020 all=263239 active=13973 piece=예산\n",
      "bpe_model_trainer.cc(268) LOG(INFO) Added: freq=220 size=2040 all=263997 active=14731 piece=▁중반\n",
      "bpe_model_trainer.cc(268) LOG(INFO) Added: freq=217 size=2060 all=264710 active=15444 piece=▁안보\n",
      "bpe_model_trainer.cc(268) LOG(INFO) Added: freq=214 size=2080 all=265546 active=16280 piece=▁놀라\n",
      "bpe_model_trainer.cc(268) LOG(INFO) Added: freq=212 size=2100 all=266259 active=16993 piece=한다는\n",
      "bpe_model_trainer.cc(159) LOG(INFO) Updating active symbols. max_freq=212 min_freq=25\n",
      "bpe_model_trainer.cc(268) LOG(INFO) Added: freq=209 size=2120 all=267187 active=14121 piece=▁못보\n",
      "bpe_model_trainer.cc(268) LOG(INFO) Added: freq=205 size=2140 all=267850 active=14784 piece=▁줘\n",
      "bpe_model_trainer.cc(268) LOG(INFO) Added: freq=204 size=2160 all=268922 active=15856 piece=▁아오\n",
      "bpe_model_trainer.cc(268) LOG(INFO) Added: freq=202 size=2180 all=269623 active=16557 piece=▁합\n",
      "bpe_model_trainer.cc(268) LOG(INFO) Added: freq=200 size=2200 all=270550 active=17484 piece=▁진부한\n",
      "bpe_model_trainer.cc(159) LOG(INFO) Updating active symbols. max_freq=200 min_freq=24\n",
      "bpe_model_trainer.cc(268) LOG(INFO) Added: freq=198 size=2220 all=271451 active=14419 piece=▁경찰\n",
      "bpe_model_trainer.cc(268) LOG(INFO) Added: freq=196 size=2240 all=272071 active=15039 piece=▁안나오\n",
      "bpe_model_trainer.cc(268) LOG(INFO) Added: freq=194 size=2260 all=272594 active=15562 piece=심히\n",
      "bpe_model_trainer.cc(268) LOG(INFO) Added: freq=193 size=2280 all=273637 active=16605 piece=▁잘생\n",
      "bpe_model_trainer.cc(268) LOG(INFO) Added: freq=190 size=2300 all=274414 active=17382 piece=마저\n",
      "bpe_model_trainer.cc(159) LOG(INFO) Updating active symbols. max_freq=190 min_freq=24\n",
      "bpe_model_trainer.cc(268) LOG(INFO) Added: freq=189 size=2320 all=275332 active=14519 piece=▁이젠\n",
      "bpe_model_trainer.cc(268) LOG(INFO) Added: freq=187 size=2340 all=276373 active=15560 piece=▁나온다\n",
      "bpe_model_trainer.cc(268) LOG(INFO) Added: freq=185 size=2360 all=277131 active=16318 piece=▁글쎄\n",
      "bpe_model_trainer.cc(268) LOG(INFO) Added: freq=183 size=2380 all=278102 active=17289 piece=아아\n",
      "bpe_model_trainer.cc(268) LOG(INFO) Added: freq=182 size=2400 all=279048 active=18235 piece=▁감사합니다\n",
      "bpe_model_trainer.cc(159) LOG(INFO) Updating active symbols. max_freq=181 min_freq=23\n",
      "bpe_model_trainer.cc(268) LOG(INFO) Added: freq=180 size=2420 all=279983 active=14886 piece=▁감정이\n",
      "bpe_model_trainer.cc(268) LOG(INFO) Added: freq=178 size=2440 all=280711 active=15614 piece=터리\n",
      "bpe_model_trainer.cc(268) LOG(INFO) Added: freq=177 size=2460 all=281446 active=16349 piece=▁드는\n",
      "bpe_model_trainer.cc(268) LOG(INFO) Added: freq=175 size=2480 all=281800 active=16703 piece=구려\n",
      "bpe_model_trainer.cc(268) LOG(INFO) Added: freq=173 size=2500 all=282620 active=17523 piece=▁엑\n",
      "bpe_model_trainer.cc(159) LOG(INFO) Updating active symbols. max_freq=173 min_freq=23\n",
      "bpe_model_trainer.cc(268) LOG(INFO) Added: freq=172 size=2520 all=283268 active=14767 piece=▁이하\n",
      "bpe_model_trainer.cc(268) LOG(INFO) Added: freq=171 size=2540 all=283862 active=15361 piece=▁볼때마다\n",
      "bpe_model_trainer.cc(268) LOG(INFO) Added: freq=169 size=2560 all=284399 active=15898 piece=결말\n",
      "bpe_model_trainer.cc(268) LOG(INFO) Added: freq=168 size=2580 all=285144 active=16643 piece=▁이기\n",
      "bpe_model_trainer.cc(268) LOG(INFO) Added: freq=166 size=2600 all=286000 active=17499 piece=▁연예\n",
      "bpe_model_trainer.cc(159) LOG(INFO) Updating active symbols. max_freq=166 min_freq=22\n",
      "bpe_model_trainer.cc(268) LOG(INFO) Added: freq=165 size=2620 all=286724 active=15010 piece=▁통해\n",
      "bpe_model_trainer.cc(268) LOG(INFO) Added: freq=163 size=2640 all=287330 active=15616 piece=버렸다\n",
      "bpe_model_trainer.cc(268) LOG(INFO) Added: freq=161 size=2660 all=288058 active=16344 piece=▁십\n",
      "bpe_model_trainer.cc(268) LOG(INFO) Added: freq=160 size=2680 all=288763 active=17"
     ]
    }
   ],
   "source": [
    "with open('nsmc_text_bpe.txt', 'w', encoding='utf-8') as f:\n",
    "    for line in train_data['document'].values:\n",
    "        f.write(line + '\\n')\n",
    "\n",
    "input_fime = 'nsmc_text_bpe.txt'\n",
    "vocab_size = 8000\n",
    "prefix = 'korean_spm_bpe'\n",
    "\n",
    "templates = '--input={} --model_prefix={} --vocab_size={} --model_type=bpe'\n",
    "cmd = templates.format(input_fime, prefix, vocab_size)\n",
    "\n",
    "spm.SentencePieceTrainer.Train(cmd)\n"
   ]
  },
  {
   "cell_type": "code",
   "execution_count": 23,
   "metadata": {},
   "outputs": [
    {
     "name": "stdout",
     "output_type": "stream",
     "text": [
      "아 더빙.. 진짜 짜증나네요 목소리\n",
      "['▁아', '▁더빙', '..', '▁진짜', '▁짜증나', '네요', '▁목소리']\n",
      "[7, 1077, 3, 54, 2392, 40, 2103]\n",
      "\n",
      "흠...포스터보고 초딩영화줄....오버연기조차 가볍지 않구나\n",
      "['▁흠', '...', '포스터', '보고', '▁초딩', '영화', '줄', '....', '오', '버', '연기', '조차', '▁가볍', '지', '▁않', '구나']\n",
      "[1606, 8, 4992, 166, 1293, 4, 6507, 30, 6362, 6475, 273, 1712, 1920, 6294, 67, 412]\n",
      "\n",
      "너무재밓었다그래서보는것을추천한다\n",
      "['▁너무', '재', '밓', '었다', '그래서', '보는', '것을', '추천', '한다']\n",
      "[24, 6322, 7909, 113, 3900, 408, 1232, 1826, 281]\n",
      "\n",
      "교도소 이야기구먼 ..솔직히 재미는 없다..평점 조정\n",
      "['▁교', '도', '소', '▁이야기', '구', '먼', '▁..', '솔직히', '▁재미는', '▁없다', '..', '평점', '▁조', '정']\n",
      "[600, 6299, 6391, 291, 6386, 6793, 400, 4341, 1439, 236, 3, 1040, 135, 6331]\n",
      "\n",
      "사이몬페그의 익살스런 연기가 돋보였던 영화!스파이더맨에서 늙어보이기만 했던 커스틴 던스트가 너무나도 이뻐보였다\n",
      "['▁사이', '몬', '페', '그', '의', '▁익', '살', '스런', '▁연기가', '▁돋보', '였던', '▁영화', '!', '스', '파이', '더맨', '에서', '▁늙', '어', '보이', '기만', '▁했던', '▁커', '스', '틴', '▁던', '스트', '가', '▁너무나도', '▁이', '뻐', '보', '였다']\n",
      "[2619, 7130, 6881, 6323, 6307, 3146, 6505, 1904, 663, 1690, 2191, 5, 6316, 6325, 1821, 5661, 47, 2314, 6306, 2320, 1176, 2464, 1136, 6325, 7039, 2755, 568, 6297, 2243, 6, 7024, 6305, 385]\n",
      "\n"
     ]
    }
   ],
   "source": [
    "# 학습된 SentencePiece 모델 로드\n",
    "sp = spm.SentencePieceProcessor()\n",
    "sp.Load('{}.model'.format(prefix))\n",
    "\n",
    "for t in train_data.document.values[:5]:\n",
    "    print(t)\n",
    "    print(sp.EncodeAsPieces(t))\n",
    "    print(sp.EncodeAsIds(t))\n",
    "    print()\n"
   ]
  },
  {
   "cell_type": "code",
   "execution_count": 24,
   "metadata": {},
   "outputs": [],
   "source": [
    "# 텍스트 데이터 토큰화\n",
    "train_data['document'] = train_data['document'].apply(sp.EncodeAsPieces)\n",
    "test_data['document'] = test_data['document'].apply(sp.EncodeAsPieces)"
   ]
  },
  {
   "cell_type": "code",
   "execution_count": 25,
   "metadata": {},
   "outputs": [],
   "source": [
    "# 토큰화된 데이터를 숫자로 변환\n",
    "tokenizer = Tokenizer()\n",
    "tokenizer.fit_on_texts(train_data['document'])\n",
    "\n",
    "train_sequences = tokenizer.texts_to_sequences(train_data['document'])\n",
    "test_sequences = tokenizer.texts_to_sequences(test_data['document'])\n",
    "\n",
    "# 패딩 처리\n",
    "train_inputs = pad_sequences(train_sequences, maxlen=100)\n",
    "test_inputs = pad_sequences(test_sequences, maxlen=100)\n",
    "\n",
    "# 레이블 데이터를 numpy array로 변환\n",
    "train_labels = np.array(train_data['label'])\n",
    "test_labels = np.array(test_data['label'])"
   ]
  },
  {
   "cell_type": "code",
   "execution_count": 26,
   "metadata": {},
   "outputs": [
    {
     "name": "stderr",
     "output_type": "stream",
     "text": [
      "/var/folders/mg/rbbjnp_x0k31bv6dy862v00w0000gn/T/ipykernel_45498/2893645305.py:7: DeprecationWarning: Call to deprecated `__contains__` (Method will be removed in 4.0.0, use self.wv.__contains__() instead).\n",
      "  if word in word2vec:\n",
      "/var/folders/mg/rbbjnp_x0k31bv6dy862v00w0000gn/T/ipykernel_45498/2893645305.py:8: DeprecationWarning: Call to deprecated `__getitem__` (Method will be removed in 4.0.0, use self.wv.__getitem__() instead).\n",
      "  embedding_matrix[i] = word2vec[word]\n"
     ]
    }
   ],
   "source": [
    "# 사전 학습된 Word2Vec 모델 로드\n",
    "word2vec = Word2Vec.load('ko/ko.bin')\n",
    "\n",
    "# 임베딩 레이어의 가중치를 초기화\n",
    "embedding_matrix = np.zeros((len(tokenizer.word_index) + 1, word2vec.vector_size))\n",
    "for word, i in tokenizer.word_index.items():\n",
    "    if word in word2vec:\n",
    "        embedding_matrix[i] = word2vec[word]"
   ]
  },
  {
   "attachments": {},
   "cell_type": "markdown",
   "metadata": {},
   "source": [
    "### 모델 구성 및 학습"
   ]
  },
  {
   "cell_type": "code",
   "execution_count": 27,
   "metadata": {},
   "outputs": [
    {
     "name": "stdout",
     "output_type": "stream",
     "text": [
      "Epoch 1/15\n",
      "2000/2000 [==============================] - ETA: 0s - loss: 0.3946 - accuracy: 0.8176WARNING:tensorflow:Can save best model only with val_acc available, skipping.\n",
      "2000/2000 [==============================] - 160s 78ms/step - loss: 0.3946 - accuracy: 0.8176 - val_loss: 0.3341 - val_accuracy: 0.8564\n",
      "Epoch 2/15\n",
      "2000/2000 [==============================] - ETA: 0s - loss: 0.2961 - accuracy: 0.8739WARNING:tensorflow:Can save best model only with val_acc available, skipping.\n",
      "2000/2000 [==============================] - 138s 69ms/step - loss: 0.2961 - accuracy: 0.8739 - val_loss: 0.3151 - val_accuracy: 0.8645\n",
      "Epoch 3/15\n",
      "2000/2000 [==============================] - ETA: 0s - loss: 0.2480 - accuracy: 0.8962WARNING:tensorflow:Can save best model only with val_acc available, skipping.\n",
      "2000/2000 [==============================] - 138s 69ms/step - loss: 0.2480 - accuracy: 0.8962 - val_loss: 0.3244 - val_accuracy: 0.8651\n",
      "Epoch 4/15\n",
      "2000/2000 [==============================] - ETA: 0s - loss: 0.1976 - accuracy: 0.9192WARNING:tensorflow:Can save best model only with val_acc available, skipping.\n",
      "2000/2000 [==============================] - 141s 70ms/step - loss: 0.1976 - accuracy: 0.9192 - val_loss: 0.3510 - val_accuracy: 0.8608\n",
      "Epoch 5/15\n",
      "2000/2000 [==============================] - ETA: 0s - loss: 0.1418 - accuracy: 0.9445WARNING:tensorflow:Can save best model only with val_acc available, skipping.\n",
      "2000/2000 [==============================] - 138s 69ms/step - loss: 0.1418 - accuracy: 0.9445 - val_loss: 0.4172 - val_accuracy: 0.8546\n",
      "Epoch 6/15\n",
      "2000/2000 [==============================] - ETA: 0s - loss: 0.0903 - accuracy: 0.9669WARNING:tensorflow:Can save best model only with val_acc available, skipping.\n",
      "2000/2000 [==============================] - 137s 69ms/step - loss: 0.0903 - accuracy: 0.9669 - val_loss: 0.5215 - val_accuracy: 0.8529\n",
      "Epoch 6: early stopping\n"
     ]
    }
   ],
   "source": [
    "# 모델 정의\n",
    "model3 = Sequential()\n",
    "model3.add(Embedding(\n",
    "    len(tokenizer.word_index)+1, \n",
    "    word2vec.vector_size, \n",
    "    weights=[embedding_matrix], \n",
    "    trainable=True # 파인튜닝 허용\n",
    "))\n",
    "model3.add(LSTM(128))\n",
    "model3.add(Dense(1, activation='sigmoid'))\n",
    "\n",
    "# 모델 컴파일\n",
    "model3.compile(optimizer='adam', loss='binary_crossentropy', metrics=['accuracy'])\n",
    "\n",
    "# 콜백 정의\n",
    "es3 = EarlyStopping(monitor='val_loss', mode='min', verbose=1, patience=4)\n",
    "mc3 = ModelCheckpoint('best_model3.h5', monitor='val_acc', mode='max', verbose=1, save_best_only=True)\n",
    "\n",
    "# 모델 학습\n",
    "history3 = model3.fit(train_inputs, train_labels, epochs=15, callbacks=[es3, mc3], batch_size=60, validation_split=0.2)\n"
   ]
  },
  {
   "cell_type": "code",
   "execution_count": 28,
   "metadata": {},
   "outputs": [
    {
     "name": "stdout",
     "output_type": "stream",
     "text": [
      "1563/1563 [==============================] - 22s 14ms/step - loss: 0.5362 - accuracy: 0.8485\n",
      "[0.536237359046936, 0.8484908938407898]\n"
     ]
    }
   ],
   "source": [
    "# 모델 평가\n",
    "print(model3.evaluate(test_inputs, test_labels))\n"
   ]
  },
  {
   "attachments": {},
   "cell_type": "markdown",
   "metadata": {},
   "source": [
    "### 시각화"
   ]
  },
  {
   "cell_type": "code",
   "execution_count": 29,
   "metadata": {},
   "outputs": [
    {
     "data": {
      "image/png": "[encoded data removed]",
      "text/plain": [
       "<Figure size 1200x400 with 2 Axes>"
      ]
     },
     "metadata": {},
     "output_type": "display_data"
    }
   ],
   "source": [
    "import matplotlib.pyplot as plt\n",
    "\n",
    "# 손실 함수 값 그래프\n",
    "plt.figure(figsize=(12, 4))\n",
    "\n",
    "plt.subplot(1, 2, 1)\n",
    "plt.plot(history1.history['loss'], 'b-', label='model1_loss')\n",
    "plt.plot(history1.history['val_loss'], 'r--', label='model1_val_loss')\n",
    "plt.plot(history2.history['loss'], 'g-', label='model2_loss')\n",
    "plt.plot(history2.history['val_loss'], 'k--', label='model2_val_loss')\n",
    "plt.plot(history3.history['loss'], 'y-', label='model3_loss')\n",
    "plt.plot(history3.history['val_loss'], 'c--', label='model3_val_loss')\n",
    "plt.xlabel('Epoch')\n",
    "plt.legend()\n",
    "\n",
    "# 정확도 그래프\n",
    "plt.subplot(1, 2, 2)\n",
    "plt.plot(history1.history['accuracy'], 'b-', label='model1_accuracy')\n",
    "plt.plot(history1.history['val_accuracy'], 'r--', label='model1_val_accuracy')\n",
    "plt.plot(history2.history['accuracy'], 'g-', label='model2_accuracy')\n",
    "plt.plot(history2.history['val_accuracy'], 'k--', label='model2_val_accuracy')\n",
    "plt.plot(history3.history['accuracy'], 'y-', label='model3_accuracy')\n",
    "plt.plot(history3.history['val_accuracy'], 'c--', label='model3_val_accuracy')\n",
    "plt.xlabel('Epoch')\n",
    "plt.legend()\n",
    "\n",
    "plt.show()\n"
   ]
  },
  {
   "attachments": {},
   "cell_type": "markdown",
   "metadata": {},
   "source": [
    "## 결론\n",
    "\n",
    "가장 먼저 SentencePiece 사용시 기반 모델로 작성한 첫번째 모델보다 좋은 성적을 보여주지 못했다.  \n",
    "그리고 SentencePiece 모델을 사용한 모델2와 모델3를 비교했을 때, 큰 차이는 보이지 않지만, BPE를 사용했을 때, 유니그램 대비 좀 더 좋은 성과를 보여준다.  \n",
    "하지만, 평가 수치로 봤을 때, 형태소 분석기와 사전 처리된 Word2Vec 모델을 사용한 모델1이 가장 좋은 성과를 보여준다.  \n",
    "\n",
    "다만, 토크나이징 전에 데이터를 좀 더 정제하고, 불용어를 제거하면 성능이 더 좋아질 것으로 보인다.\n",
    "\n"
   ]
  }
 ],
 "metadata": {
  "kernelspec": {
   "display_name": "tf39",
   "language": "python",
   "name": "python3"
  },
  "language_info": {
   "codemirror_mode": {
    "name": "ipython",
    "version": 3
   },
   "file_extension": ".py",
   "mimetype": "text/x-python",
   "name": "python",
   "nbconvert_exporter": "python",
   "pygments_lexer": "ipython3",
   "version": "3.9.16"
  },
  "orig_nbformat": 4
 },
 "nbformat": 4,
 "nbformat_minor": 2
}
