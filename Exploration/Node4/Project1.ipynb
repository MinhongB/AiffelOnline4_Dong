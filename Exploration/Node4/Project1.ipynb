{
 "cells": [
  {
   "cell_type": "markdown",
   "id": "c6cbb2ae",
   "metadata": {},
   "source": [
    "# 네이버 영화 리뷰 감성 분석\n",
    "\n",
    "실행 환경: LMS"
   ]
  },
  {
   "cell_type": "code",
   "execution_count": 48,
   "id": "5150bffc",
   "metadata": {},
   "outputs": [
    {
     "name": "stdout",
     "output_type": "stream",
     "text": [
      "Requirement already satisfied: gensim==3.8.3 in /opt/conda/lib/python3.9/site-packages (3.8.3)\n",
      "Requirement already satisfied: six>=1.5.0 in /opt/conda/lib/python3.9/site-packages (from gensim==3.8.3) (1.16.0)\n",
      "Requirement already satisfied: smart-open>=1.8.1 in /opt/conda/lib/python3.9/site-packages (from gensim==3.8.3) (5.2.1)\n",
      "Requirement already satisfied: scipy>=0.18.1 in /opt/conda/lib/python3.9/site-packages (from gensim==3.8.3) (1.7.1)\n",
      "Requirement already satisfied: numpy>=1.11.3 in /opt/conda/lib/python3.9/site-packages (from gensim==3.8.3) (1.21.4)\n",
      "\u001b[33mWARNING: Running pip as the 'root' user can result in broken permissions and conflicting behaviour with the system package manager. It is recommended to use a virtual environment instead: https://pip.pypa.io/warnings/venv\u001b[0m\n"
     ]
    }
   ],
   "source": [
    "!pip install --upgrade gensim==3.8.3"
   ]
  },
  {
   "cell_type": "code",
   "execution_count": 49,
   "id": "fadafe14",
   "metadata": {},
   "outputs": [
    {
     "name": "stdout",
     "output_type": "stream",
     "text": [
      "1.3.3\n",
      "0.5.2\n",
      "3.8.3\n"
     ]
    }
   ],
   "source": [
    "import os\n",
    "import pandas\n",
    "import konlpy\n",
    "import gensim\n",
    "import pandas as pd\n",
    "import numpy as np\n",
    "import matplotlib.pyplot as plt\n",
    "import tensorflow as tf\n",
    "\n",
    "from collections import Counter\n",
    "from gensim.models.keyedvectors import Word2VecKeyedVectors\n",
    "from konlpy.tag import Mecab\n",
    "from tensorflow import keras\n",
    "from tensorflow.keras.initializers import Constant\n",
    "\n",
    "print(pandas.__version__)\n",
    "print(konlpy.__version__)\n",
    "print(gensim.__version__)"
   ]
  },
  {
   "cell_type": "markdown",
   "id": "8a80f98f",
   "metadata": {},
   "source": [
    "## 데이터 불러오고 가공하기\n",
    "\n",
    "먼저 txt에서 텍스트를 불러온다."
   ]
  },
  {
   "cell_type": "code",
   "execution_count": 50,
   "id": "61313287",
   "metadata": {},
   "outputs": [
    {
     "data": {
      "text/html": [
       "<div>\n",
       "<style scoped>\n",
       "    .dataframe tbody tr th:only-of-type {\n",
       "        vertical-align: middle;\n",
       "    }\n",
       "\n",
       "    .dataframe tbody tr th {\n",
       "        vertical-align: top;\n",
       "    }\n",
       "\n",
       "    .dataframe thead th {\n",
       "        text-align: right;\n",
       "    }\n",
       "</style>\n",
       "<table border=\"1\" class=\"dataframe\">\n",
       "  <thead>\n",
       "    <tr style=\"text-align: right;\">\n",
       "      <th></th>\n",
       "      <th>id</th>\n",
       "      <th>document</th>\n",
       "      <th>label</th>\n",
       "    </tr>\n",
       "  </thead>\n",
       "  <tbody>\n",
       "    <tr>\n",
       "      <th>0</th>\n",
       "      <td>9976970</td>\n",
       "      <td>아 더빙.. 진짜 짜증나네요 목소리</td>\n",
       "      <td>0</td>\n",
       "    </tr>\n",
       "    <tr>\n",
       "      <th>1</th>\n",
       "      <td>3819312</td>\n",
       "      <td>흠...포스터보고 초딩영화줄....오버연기조차 가볍지 않구나</td>\n",
       "      <td>1</td>\n",
       "    </tr>\n",
       "    <tr>\n",
       "      <th>2</th>\n",
       "      <td>10265843</td>\n",
       "      <td>너무재밓었다그래서보는것을추천한다</td>\n",
       "      <td>0</td>\n",
       "    </tr>\n",
       "    <tr>\n",
       "      <th>3</th>\n",
       "      <td>9045019</td>\n",
       "      <td>교도소 이야기구먼 ..솔직히 재미는 없다..평점 조정</td>\n",
       "      <td>0</td>\n",
       "    </tr>\n",
       "    <tr>\n",
       "      <th>4</th>\n",
       "      <td>6483659</td>\n",
       "      <td>사이몬페그의 익살스런 연기가 돋보였던 영화!스파이더맨에서 늙어보이기만 했던 커스틴 ...</td>\n",
       "      <td>1</td>\n",
       "    </tr>\n",
       "  </tbody>\n",
       "</table>\n",
       "</div>"
      ],
      "text/plain": [
       "         id                                           document  label\n",
       "0   9976970                                아 더빙.. 진짜 짜증나네요 목소리      0\n",
       "1   3819312                  흠...포스터보고 초딩영화줄....오버연기조차 가볍지 않구나      1\n",
       "2  10265843                                  너무재밓었다그래서보는것을추천한다      0\n",
       "3   9045019                      교도소 이야기구먼 ..솔직히 재미는 없다..평점 조정      0\n",
       "4   6483659  사이몬페그의 익살스런 연기가 돋보였던 영화!스파이더맨에서 늙어보이기만 했던 커스틴 ...      1"
      ]
     },
     "execution_count": 50,
     "metadata": {},
     "output_type": "execute_result"
    }
   ],
   "source": [
    "# 데이터를 읽기 \n",
    "train_data = pd.read_table('~/aiffel/sentiment_classification/data/ratings_train.txt')\n",
    "test_data = pd.read_table('~/aiffel/sentiment_classification/data/ratings_test.txt')\n",
    "\n",
    "train_data.head()"
   ]
  },
  {
   "cell_type": "markdown",
   "id": "834052c3",
   "metadata": {},
   "source": [
    "노드 8-1에 의하면 결측치와 중복이 있다고 한다.\n",
    "한번 확인해보자"
   ]
  },
  {
   "cell_type": "code",
   "execution_count": 51,
   "id": "4404a26e",
   "metadata": {},
   "outputs": [
    {
     "data": {
      "text/plain": [
       "25857     NaN\n",
       "55737     NaN\n",
       "110014    NaN\n",
       "126782    NaN\n",
       "140721    NaN\n",
       "Name: document, dtype: object"
      ]
     },
     "execution_count": 51,
     "metadata": {},
     "output_type": "execute_result"
    }
   ],
   "source": [
    "# 데이터 결측치 확인\n",
    "null_check = pd.isnull(train_data['document'])\n",
    "null_data = train_data.loc[null_check, 'document']\n",
    "null_data.head()"
   ]
  },
  {
   "cell_type": "code",
   "execution_count": 52,
   "id": "252cd148",
   "metadata": {},
   "outputs": [
    {
     "data": {
      "text/plain": [
       "1058      4\n",
       "1097     쵝오\n",
       "1248     최고\n",
       "1483     최고\n",
       "1707    재밌다\n",
       "Name: document, dtype: object"
      ]
     },
     "execution_count": 52,
     "metadata": {},
     "output_type": "execute_result"
    }
   ],
   "source": [
    "# 중복값 확인\n",
    "dupl_check = train_data.duplicated(subset=['document'])\n",
    "dupl_data = train_data.loc[dupl_check, 'document']\n",
    "dupl_data.head()"
   ]
  },
  {
   "cell_type": "markdown",
   "id": "dd8fc05f",
   "metadata": {},
   "source": [
    "중복이 있지만, 크게 문제가 되지 않을 것으로 보인다."
   ]
  },
  {
   "cell_type": "markdown",
   "id": "cce08ee4",
   "metadata": {},
   "source": [
    "## 문자열 벡터화\n",
    "\n",
    "문자열들을 벡터화한다.\n",
    "이 과정에서 여러 중복함수들을 정리한다.\n",
    "\n",
    "동시에 데이터셋을 구성한다."
   ]
  },
  {
   "cell_type": "code",
   "execution_count": 53,
   "id": "add92934",
   "metadata": {},
   "outputs": [],
   "source": [
    "def load_data(train_data, test_data):\n",
    "    def tokenize_and_remove_stopword(data):\n",
    "        res = []\n",
    "#         r = []\n",
    "        \n",
    "        for sentence in data:\n",
    "            temp = tokenizer.morphs(sentence)\n",
    "#             temp = [word for word in temp if not word in stopwords]\n",
    "            temp = list(filter(lambda x: x not in stopwords, temp))\n",
    "            \n",
    "#             tt = tokenizer.morphs(sentence)\n",
    "#             tt = list(filter(lambda x: x not in stopwords, tt))\n",
    "#             r.append(temp == tt)\n",
    "                \n",
    "            res.append(temp)\n",
    "#         print(len(list(filter(lambda x: not x, r))))\n",
    "        return res\n",
    "    \n",
    "    def wordlist_to_indexlist(wordlist):\n",
    "        return [word_to_index[word] if word in word_to_index else word_to_index['<UNK>'] for word in wordlist] \n",
    "    \n",
    "    \n",
    "    tokenizer = Mecab()\n",
    "    stopwords = ['의','가','이','은','들','는','좀','잘','걍','과','도','를','으로','자','에','와','한','하다']\n",
    "\n",
    "    \n",
    "    # 결측치와 중복을 제거\n",
    "    train_data.drop_duplicates(subset=['document'], inplace=True)\n",
    "    train_data = train_data.dropna(how = 'any') \n",
    "    test_data.drop_duplicates(subset=['document'], inplace=True)\n",
    "    test_data = test_data.dropna(how = 'any')\n",
    "    \n",
    "    # 토큰화와 불용어 제거\n",
    "    X_train = tokenize_and_remove_stopword(train_data['document'])\n",
    "    X_test = tokenize_and_remove_stopword(test_data['document'])\n",
    "\n",
    "    # 단어사전 구성\n",
    "    words = np.concatenate(X_train).tolist()\n",
    "    counter = Counter(words)\n",
    "    counter = counter.most_common(10000-4) # 상위 9996개 언어\n",
    "    vocab = ['<PAD>', '<BOS>', '<UNK>', '<UNUSED>'] + [key for key, _ in counter]  #인덱스 정의\n",
    "    word_to_index = {word:index for index, word in enumerate(vocab)}\n",
    "    \n",
    "    # 벡터화\n",
    "    X_train = list(map(wordlist_to_indexlist, X_train))\n",
    "    X_test = list(map(wordlist_to_indexlist, X_test))\n",
    "        \n",
    "    return X_train, np.array(list(train_data['label'])), X_test, np.array(list(test_data['label'])), word_to_index\n",
    "    \n",
    "    \n",
    "X_train, y_train, X_test, y_test, word_to_index = load_data(train_data, test_data)"
   ]
  },
  {
   "cell_type": "code",
   "execution_count": 54,
   "id": "3e8734e1",
   "metadata": {},
   "outputs": [],
   "source": [
    "# w 와 i를 뒤집은 딕셔너리 생성\n",
    "index_to_word = {index:word for word, index in word_to_index.items()}"
   ]
  },
  {
   "cell_type": "code",
   "execution_count": 55,
   "id": "9149b10d",
   "metadata": {},
   "outputs": [
    {
     "name": "stdout",
     "output_type": "stream",
     "text": [
      "pad_sequences maxlen :  41\n",
      "Coverage: 0.9342988343341575\n"
     ]
    }
   ],
   "source": [
    "# 전체를 분석하기 위해서 모든 X를 결합\n",
    "total_data_text = list(X_train) + list(X_test)\n",
    "\n",
    "# 텍스트데이터 문장길이의 리스트를 생성한 후\n",
    "num_tokens = np.array([len(tokens) for tokens in total_data_text])\n",
    "\n",
    "# 통계기반 신뢰구간 설정\n",
    "max_tokens = np.mean(num_tokens) + 2 * np.std(num_tokens)\n",
    "maxlen = int(max_tokens) # 최대 길이\n",
    "print('pad_sequences maxlen : ', maxlen)\n",
    "print('Coverage: {}'.format(np.sum(num_tokens < max_tokens) / len(num_tokens)))"
   ]
  },
  {
   "cell_type": "code",
   "execution_count": 56,
   "id": "a2592fd4",
   "metadata": {},
   "outputs": [],
   "source": [
    "# Padding seq 생성\n",
    "# 뒤로갈수록 최종 값에 가장 영향을 많이주기 때문에 뒤에 패딩하는 것보다 앞에 패딩을 넣는 것이 좋음\n",
    "X_train = keras.preprocessing.sequence.pad_sequences(X_train,\n",
    "                                                     value=word_to_index[\"<PAD>\"],\n",
    "                                                     padding='pre',\n",
    "                                                     maxlen=maxlen)\n",
    "\n",
    "X_test = keras.preprocessing.sequence.pad_sequences(X_test,\n",
    "                                                    value=word_to_index[\"<PAD>\"],\n",
    "                                                    padding='pre',\n",
    "                                                    maxlen=maxlen)"
   ]
  },
  {
   "cell_type": "code",
   "execution_count": 57,
   "id": "21798acc",
   "metadata": {},
   "outputs": [
    {
     "data": {
      "text/plain": [
       "((136182, 41), (136182,))"
      ]
     },
     "execution_count": 57,
     "metadata": {},
     "output_type": "execute_result"
    }
   ],
   "source": [
    "# validation set 10000건 정도 분리\n",
    "X_val = X_train[:10000]   \n",
    "y_val = y_train[:10000]\n",
    "\n",
    "# validation set을 제외한 나머지\n",
    "partial_X_train = X_train[10000:]  \n",
    "partial_y_train = y_train[10000:]\n",
    "\n",
    "partial_X_train.shape, partial_y_train.shape"
   ]
  },
  {
   "cell_type": "code",
   "execution_count": 58,
   "id": "ad2fdff2",
   "metadata": {},
   "outputs": [],
   "source": [
    "vocab_size = 10000  # 어휘 사전의 크기입니다(10개의 단어)\n",
    "word_vector_dim = 16  # 단어 하나를 표현하는 임베딩 벡터의 차원수 "
   ]
  },
  {
   "cell_type": "markdown",
   "id": "cc5a87f8",
   "metadata": {},
   "source": [
    "## RNN 기반 모델 구성"
   ]
  },
  {
   "cell_type": "code",
   "execution_count": 112,
   "id": "01b20538",
   "metadata": {},
   "outputs": [
    {
     "name": "stdout",
     "output_type": "stream",
     "text": [
      "Model: \"sequential_19\"\n",
      "_________________________________________________________________\n",
      "Layer (type)                 Output Shape              Param #   \n",
      "=================================================================\n",
      "embedding_19 (Embedding)     (None, None, 200)         2000000   \n",
      "_________________________________________________________________\n",
      "lstm_15 (LSTM)               (None, 128)               168448    \n",
      "_________________________________________________________________\n",
      "dense_41 (Dense)             (None, 32)                4128      \n",
      "_________________________________________________________________\n",
      "dropout_17 (Dropout)         (None, 32)                0         \n",
      "_________________________________________________________________\n",
      "dense_42 (Dense)             (None, 8)                 264       \n",
      "_________________________________________________________________\n",
      "dropout_18 (Dropout)         (None, 8)                 0         \n",
      "_________________________________________________________________\n",
      "dense_43 (Dense)             (None, 1)                 9         \n",
      "=================================================================\n",
      "Total params: 2,172,849\n",
      "Trainable params: 2,172,849\n",
      "Non-trainable params: 0\n",
      "_________________________________________________________________\n"
     ]
    }
   ],
   "source": [
    "# 시퀀셜 api로 모델 작성\n",
    "model1 = keras.Sequential()\n",
    "model1.add(keras.layers.Embedding(vocab_size, word_vector_dim, input_shape=(None,)))\n",
    "model1.add(keras.layers.LSTM(128))\n",
    "model1.add(keras.layers.Dense(32, activation='relu'))\n",
    "model1.add(keras.layers.Dropout(0.5))\n",
    "model1.add(keras.layers.Dense(8, activation='relu'))\n",
    "model1.add(keras.layers.Dropout(0.5))\n",
    "model1.add(keras.layers.Dense(1, activation='sigmoid'))\n",
    "\n",
    "model1.summary()"
   ]
  },
  {
   "cell_type": "code",
   "execution_count": 113,
   "id": "f4014a9f",
   "metadata": {},
   "outputs": [
    {
     "name": "stdout",
     "output_type": "stream",
     "text": [
      "Epoch 1/5\n",
      "266/266 [==============================] - 5s 15ms/step - loss: 0.4792 - accuracy: 0.7853 - val_loss: 0.3465 - val_accuracy: 0.8450\n",
      "Epoch 2/5\n",
      "266/266 [==============================] - 4s 13ms/step - loss: 0.3764 - accuracy: 0.8495 - val_loss: 0.3246 - val_accuracy: 0.8580\n",
      "Epoch 3/5\n",
      "266/266 [==============================] - 4s 13ms/step - loss: 0.3377 - accuracy: 0.8658 - val_loss: 0.3253 - val_accuracy: 0.8626\n",
      "Epoch 4/5\n",
      "266/266 [==============================] - 4s 13ms/step - loss: 0.3063 - accuracy: 0.8789 - val_loss: 0.3494 - val_accuracy: 0.8588\n",
      "Epoch 5/5\n",
      "266/266 [==============================] - 4s 14ms/step - loss: 0.2829 - accuracy: 0.8874 - val_loss: 0.3713 - val_accuracy: 0.8606\n",
      "1537/1537 - 4s - loss: 0.3792 - accuracy: 0.8563\n",
      "[0.3792388141155243, 0.85633784532547]\n",
      "dict_keys(['loss', 'accuracy', 'val_loss', 'val_accuracy'])\n"
     ]
    }
   ],
   "source": [
    "# 모델 컴파일\n",
    "model1.compile(optimizer='adam',\n",
    "              loss='binary_crossentropy',\n",
    "              metrics=['accuracy'])\n",
    "              \n",
    "epochs=5\n",
    "\n",
    "# 학습 수행\n",
    "history = model1.fit(partial_X_train,\n",
    "                    partial_y_train,\n",
    "                    epochs=epochs,\n",
    "                    batch_size=512,\n",
    "                    validation_data=(X_val, y_val),\n",
    "                    verbose=1)\n",
    "\n",
    "# 평가\n",
    "results = model1.evaluate(X_test,  y_test, verbose=2)\n",
    "\n",
    "print(results)\n",
    "\n",
    "history_dict = history.history\n",
    "print(history_dict.keys())"
   ]
  },
  {
   "cell_type": "code",
   "execution_count": 114,
   "id": "3a6f12de",
   "metadata": {},
   "outputs": [
    {
     "data": {
      "image/png": "[encoded data removed]",
      "text/plain": [
       "<Figure size 432x288 with 1 Axes>"
      ]
     },
     "metadata": {
      "needs_background": "light"
     },
     "output_type": "display_data"
    }
   ],
   "source": [
    "acc = history_dict['accuracy']\n",
    "val_acc = history_dict['val_accuracy']\n",
    "loss = history_dict['loss']\n",
    "val_loss = history_dict['val_loss']\n",
    "\n",
    "epochs = range(1, len(acc) + 1)\n",
    "\n",
    "plt.plot(epochs, loss, 'bo', label='Training loss')\n",
    "plt.plot(epochs, val_loss, 'b', label='Validation loss')\n",
    "plt.title('Training and validation loss')\n",
    "plt.xlabel('Epochs')\n",
    "plt.ylabel('Loss')\n",
    "plt.legend()\n",
    "\n",
    "plt.show()"
   ]
  },
  {
   "cell_type": "code",
   "execution_count": 115,
   "id": "cbfbc5b4",
   "metadata": {},
   "outputs": [
    {
     "data": {
      "image/png": "[encoded data removed]",
      "text/plain": [
       "<Figure size 432x288 with 1 Axes>"
      ]
     },
     "metadata": {
      "needs_background": "light"
     },
     "output_type": "display_data"
    }
   ],
   "source": [
    "plt.clf()\n",
    "\n",
    "plt.plot(epochs, acc, 'bo', label='Training acc')\n",
    "plt.plot(epochs, val_acc, 'b', label='Validation acc')\n",
    "plt.title('Training and validation accuracy')\n",
    "plt.xlabel('Epochs')\n",
    "plt.ylabel('Accuracy')\n",
    "plt.legend()\n",
    "\n",
    "plt.show()"
   ]
  },
  {
   "cell_type": "markdown",
   "id": "c44dee4f",
   "metadata": {},
   "source": [
    "## 자동화 테스트 과정 구성 - 모델 학습 및 그래프 출력 까지 자동화"
   ]
  },
  {
   "cell_type": "code",
   "execution_count": 161,
   "id": "6d00ced7",
   "metadata": {},
   "outputs": [],
   "source": [
    "def test_pipeline(model, X_train, y_train, X_val, y_val, X_test, y_test, epochs=20, batch_size=512):\n",
    "    model.compile(optimizer='adam',\n",
    "              loss='binary_crossentropy',\n",
    "              metrics=['accuracy'])\n",
    "              \n",
    "    history = model.fit(X_train,\n",
    "                        y_train,\n",
    "                        epochs=epochs,\n",
    "                        batch_size=batch_size,\n",
    "                        validation_data=(X_val, y_val),\n",
    "                        verbose=1)\n",
    "    results = model.evaluate(X_test,  y_test, verbose=2)\n",
    "    print(results)\n",
    "    \n",
    "    history_dict = history.history\n",
    "    \n",
    "    acc = history_dict['accuracy']\n",
    "    val_acc = history_dict['val_accuracy']\n",
    "    loss = history_dict['loss']\n",
    "    val_loss = history_dict['val_loss']\n",
    "\n",
    "    epochs = range(1, len(acc) + 1)\n",
    "\n",
    "    # 두 개의 축 생성\n",
    "    fig, (ax1, ax2) = plt.subplots(2, 1, figsize=(10, 8))\n",
    "\n",
    "    # 첫 번째 플롯: Loss\n",
    "    ax1.plot(epochs, loss, 'bo', label='Training loss')\n",
    "    ax1.plot(epochs, val_loss, 'b', label='Validation loss')\n",
    "    ax1.set_title('Training and validation loss')\n",
    "    ax1.set_xlabel('Epochs')\n",
    "    ax1.set_ylabel('Loss')\n",
    "    ax1.legend()\n",
    "\n",
    "    # 두 번째 플롯: Accuracy\n",
    "    ax2.plot(epochs, acc, 'bo', label='Training acc')\n",
    "    ax2.plot(epochs, val_acc, 'b', label='Validation acc')\n",
    "    ax2.set_title('Training and validation accuracy')\n",
    "    ax2.set_xlabel('Epochs')\n",
    "    ax2.set_ylabel('Accuracy')\n",
    "    ax2.legend()\n",
    "\n",
    "    plt.tight_layout()  # 축간 간격 조정\n",
    "    plt.show()"
   ]
  },
  {
   "cell_type": "markdown",
   "id": "0d386585",
   "metadata": {},
   "source": [
    "## 임베딩 레이어 분석"
   ]
  },
  {
   "cell_type": "code",
   "execution_count": 118,
   "id": "7a21d37b",
   "metadata": {},
   "outputs": [
    {
     "data": {
      "text/plain": [
       "(10000, 200)"
      ]
     },
     "execution_count": 118,
     "metadata": {},
     "output_type": "execute_result"
    }
   ],
   "source": [
    "embedding_layer = model1.layers[0]\n",
    "weights = embedding_layer.get_weights()[0]\n",
    "weights.shape    # shape: (vocab_size, embedding_dim)"
   ]
  },
  {
   "cell_type": "code",
   "execution_count": 119,
   "id": "30a70fc0",
   "metadata": {},
   "outputs": [],
   "source": [
    "# 학습한 Embedding 파라미터를 파일에 써서 저장합니다. \n",
    "word2vec_file_path = os.getenv('HOME')+'/aiffel/sentiment_classification/data/word2vec_rnn.txt'\n",
    "f = open(word2vec_file_path, 'w')\n",
    "f.write('{} {}\\n'.format(vocab_size-4, word_vector_dim))  # 몇개의 벡터를 얼마 사이즈로 기재할지 타이틀을 씁니다.\n",
    "\n",
    "# 단어 개수(에서 특수문자 4개는 제외하고)만큼의 워드 벡터를 파일에 기록합니다. \n",
    "vectors = model1.get_weights()[0]\n",
    "for i in range(4,vocab_size):\n",
    "    f.write('{} {}\\n'.format(index_to_word[i], ' '.join(map(str, list(vectors[i, :])))))\n",
    "    \n",
    "f.close()"
   ]
  },
  {
   "cell_type": "code",
   "execution_count": 120,
   "id": "dd7b1cec",
   "metadata": {},
   "outputs": [
    {
     "data": {
      "text/plain": [
       "array([ 0.09076963,  0.0227139 , -0.00801047,  0.05027902, -0.01250664,\n",
       "       -0.04315915,  0.057255  , -0.02902064, -0.05709456, -0.01051995,\n",
       "        0.08074777, -0.06067792,  0.02793254,  0.01964548, -0.02355031,\n",
       "        0.03974652, -0.01241663,  0.03037097, -0.05398101,  0.00961043,\n",
       "       -0.06315618, -0.00996988, -0.01326016, -0.01911157,  0.03006818,\n",
       "       -0.04206796,  0.07475884, -0.0501958 ,  0.03699642, -0.0831582 ,\n",
       "        0.01059   , -0.0633682 ,  0.00705604,  0.02846874, -0.01749231,\n",
       "        0.03718981,  0.00919766,  0.08990875, -0.06425989, -0.00961487,\n",
       "       -0.09923198,  0.04200995, -0.06662161, -0.00413322,  0.02497877,\n",
       "        0.01239535, -0.04489131, -0.10047162,  0.03716109,  0.08158157,\n",
       "       -0.11920572, -0.01848743,  0.03864879,  0.06806229,  0.01308602,\n",
       "       -0.08198884, -0.06668001,  0.06815343,  0.00890964,  0.00520173,\n",
       "       -0.05908602,  0.01047349,  0.03926888,  0.07556399,  0.02479647,\n",
       "        0.06252149,  0.02336962,  0.01651832, -0.05010941, -0.00512131,\n",
       "       -0.0062631 ,  0.01860861,  0.02271169,  0.02752024, -0.0451614 ,\n",
       "       -0.04542043,  0.07905421,  0.04883968, -0.00070938, -0.04006971,\n",
       "       -0.03098464, -0.01818674,  0.05365358, -0.03075433, -0.01755767,\n",
       "        0.02097512, -0.02169858, -0.05065088, -0.04238701, -0.00397292,\n",
       "       -0.07029711, -0.04037028,  0.02664823,  0.11755209, -0.04022977,\n",
       "        0.00212491,  0.06775097,  0.0847658 , -0.06244313,  0.00561618,\n",
       "        0.01107881, -0.16653869,  0.0550735 ,  0.07064884, -0.01974401,\n",
       "       -0.04969383, -0.00263379,  0.0087107 , -0.07376543,  0.00578248,\n",
       "       -0.00380228,  0.0012733 ,  0.11725826,  0.04754996, -0.06552674,\n",
       "       -0.00878109,  0.00093092,  0.06313518, -0.01369983,  0.03649925,\n",
       "       -0.04645546, -0.11145253,  0.06173519,  0.09681165, -0.01695935,\n",
       "       -0.03749437, -0.07149909,  0.08129202, -0.03918193,  0.08626572,\n",
       "        0.02790875, -0.01619885,  0.00180406, -0.07252928,  0.05245643,\n",
       "        0.05565873,  0.0650441 , -0.06229968, -0.10701311, -0.00708503,\n",
       "        0.0855276 , -0.02542502,  0.01209634,  0.0144026 ,  0.0212708 ,\n",
       "       -0.03312043, -0.00780063, -0.02466008,  0.01955213, -0.03460322,\n",
       "       -0.01964151,  0.02029759, -0.0278404 ,  0.02974162,  0.02256069,\n",
       "        0.03634251, -0.05270895, -0.11612804,  0.01120954, -0.14515941,\n",
       "       -0.02461082,  0.10687083, -0.10021185,  0.08166003,  0.11195644,\n",
       "        0.05505107, -0.06350416, -0.17035699,  0.00540472,  0.07217155,\n",
       "       -0.02662119,  0.02824115, -0.03790043,  0.0803486 ,  0.04080322,\n",
       "       -0.02109906,  0.05445725,  0.03378566, -0.08681918, -0.02840406,\n",
       "       -0.05775246, -0.00826149, -0.00315547, -0.11631905,  0.00642194,\n",
       "       -0.05407811,  0.06509091, -0.06718919, -0.00243647,  0.0732403 ,\n",
       "        0.0336715 ,  0.06356303, -0.01114006, -0.02229436,  0.00407466,\n",
       "       -0.02873895, -0.00491812, -0.01020977, -0.03539108, -0.00091403],\n",
       "      dtype=float32)"
      ]
     },
     "execution_count": 120,
     "metadata": {},
     "output_type": "execute_result"
    }
   ],
   "source": [
    "word_vectors = Word2VecKeyedVectors.load_word2vec_format(word2vec_file_path, binary=False)\n",
    "vector = word_vectors['재미']\n",
    "vector"
   ]
  },
  {
   "cell_type": "code",
   "execution_count": 121,
   "id": "1db41f98",
   "metadata": {},
   "outputs": [
    {
     "data": {
      "text/plain": [
       "[('경쾌', 0.6842935681343079),\n",
       " ('공감', 0.6749573945999146),\n",
       " ('창의', 0.666312575340271),\n",
       " ('띠', 0.6600446105003357),\n",
       " ('앨리스', 0.6590855121612549),\n",
       " ('매력', 0.654834508895874),\n",
       " ('경', 0.6533929109573364),\n",
       " ('긴장감', 0.652152419090271),\n",
       " ('앞서', 0.6511311531066895),\n",
       " ('어쨋든', 0.6493127346038818)]"
      ]
     },
     "execution_count": 121,
     "metadata": {},
     "output_type": "execute_result"
    }
   ],
   "source": [
    "word_vectors.similar_by_word(\"재미\")"
   ]
  },
  {
   "cell_type": "markdown",
   "id": "ed4665e3",
   "metadata": {},
   "source": [
    "자동화 테스트 과정 구성 - 임베딩 레이어 테스트 자동화"
   ]
  },
  {
   "cell_type": "code",
   "execution_count": 122,
   "id": "6cf66ed5",
   "metadata": {},
   "outputs": [],
   "source": [
    "def analysis_embedding_layer(model, file_name):\n",
    "    embedding_layer = model.layers[0]\n",
    "    weights = embedding_layer.get_weights()[0]\n",
    "    print(weights.shape)    # shape: (vocab_size, embedding_dim)\n",
    "    \n",
    "    # 학습한 Embedding 파라미터를 파일에 써서 저장합니다. \n",
    "    word2vec_file_path = os.getenv('HOME')+f'/aiffel/{file_name}.txt'\n",
    "    with open(word2vec_file_path, 'w') as f:\n",
    "        f.write('{} {}\\n'.format(vocab_size-4, word_vector_dim))  # 몇개의 벡터를 얼마 사이즈로 기재할지 타이틀을 씁니다.\n",
    "\n",
    "        # 단어 개수(에서 특수문자 4개는 제외하고)만큼의 워드 벡터를 파일에 기록합니다. \n",
    "        vectors = model.get_weights()[0]\n",
    "        for i in range(4,vocab_size):\n",
    "            f.write('{} {}\\n'.format(index_to_word[i], ' '.join(map(str, list(vectors[i, :])))))\n",
    "    \n",
    "    word_vectors = Word2VecKeyedVectors.load_word2vec_format(word2vec_file_path, binary=False)\n",
    "\n",
    "    word_vectors = Word2VecKeyedVectors.load_word2vec_format(word2vec_file_path, binary=False)\n",
    "    vector = word_vectors['재미']\n",
    "    \n",
    "    print(vector)\n",
    "    print(word_vectors.similar_by_word(\"재미\"))\n",
    "    return word_vectors.similar_by_word(\"재미\")"
   ]
  },
  {
   "cell_type": "markdown",
   "id": "bdec513f",
   "metadata": {},
   "source": [
    "## 1D CNN 모델"
   ]
  },
  {
   "cell_type": "code",
   "execution_count": 139,
   "id": "86414cb1",
   "metadata": {
    "scrolled": true
   },
   "outputs": [
    {
     "name": "stdout",
     "output_type": "stream",
     "text": [
      "Model: \"sequential_26\"\n",
      "_________________________________________________________________\n",
      "Layer (type)                 Output Shape              Param #   \n",
      "=================================================================\n",
      "embedding_26 (Embedding)     (None, None, 200)         2000000   \n",
      "_________________________________________________________________\n",
      "conv1d_16 (Conv1D)           (None, None, 16)          22416     \n",
      "_________________________________________________________________\n",
      "max_pooling1d_8 (MaxPooling1 (None, None, 16)          0         \n",
      "_________________________________________________________________\n",
      "conv1d_17 (Conv1D)           (None, None, 16)          1808      \n",
      "_________________________________________________________________\n",
      "global_max_pooling1d_10 (Glo (None, 16)                0         \n",
      "_________________________________________________________________\n",
      "dense_59 (Dense)             (None, 16)                272       \n",
      "_________________________________________________________________\n",
      "dropout_24 (Dropout)         (None, 16)                0         \n",
      "_________________________________________________________________\n",
      "dense_60 (Dense)             (None, 16)                272       \n",
      "_________________________________________________________________\n",
      "dropout_25 (Dropout)         (None, 16)                0         \n",
      "_________________________________________________________________\n",
      "dense_61 (Dense)             (None, 8)                 136       \n",
      "_________________________________________________________________\n",
      "dropout_26 (Dropout)         (None, 8)                 0         \n",
      "_________________________________________________________________\n",
      "dense_62 (Dense)             (None, 1)                 9         \n",
      "=================================================================\n",
      "Total params: 2,024,913\n",
      "Trainable params: 2,024,913\n",
      "Non-trainable params: 0\n",
      "_________________________________________________________________\n"
     ]
    }
   ],
   "source": [
    "model2 = tf.keras.Sequential()\n",
    "model2.add(tf.keras.layers.Embedding(vocab_size, word_vector_dim, input_shape=(None,)))\n",
    "model2.add(tf.keras.layers.Conv1D(16, 7, activation='relu'))\n",
    "model2.add(tf.keras.layers.MaxPooling1D(5))\n",
    "model2.add(tf.keras.layers.Conv1D(16, 7, activation='relu'))\n",
    "model2.add(tf.keras.layers.GlobalMaxPooling1D())\n",
    "model2.add(tf.keras.layers.Dense(16, activation='relu'))\n",
    "model2.add(keras.layers.Dropout(0.5))\n",
    "model2.add(tf.keras.layers.Dense(16, activation='relu'))\n",
    "model2.add(keras.layers.Dropout(0.5))\n",
    "model2.add(tf.keras.layers.Dense(8, activation='relu'))\n",
    "model2.add(keras.layers.Dropout(0.5))\n",
    "model2.add(tf.keras.layers.Dense(1, activation='sigmoid'))  # 최종 출력은 긍정/부정을 나타내는 1dim 입니다.\n",
    "\n",
    "model2.summary()"
   ]
  },
  {
   "cell_type": "code",
   "execution_count": 140,
   "id": "03d84800",
   "metadata": {},
   "outputs": [
    {
     "name": "stdout",
     "output_type": "stream",
     "text": [
      "Epoch 1/4\n",
      "286/286 [==============================] - 3s 7ms/step - loss: 0.6064 - accuracy: 0.6315 - val_loss: 0.3433 - val_accuracy: 0.8607\n",
      "Epoch 2/4\n",
      "286/286 [==============================] - 2s 7ms/step - loss: 0.4231 - accuracy: 0.8335 - val_loss: 0.2760 - val_accuracy: 0.8926\n",
      "Epoch 3/4\n",
      "286/286 [==============================] - 2s 7ms/step - loss: 0.3574 - accuracy: 0.8648 - val_loss: 0.2091 - val_accuracy: 0.9238\n",
      "Epoch 4/4\n",
      "286/286 [==============================] - 2s 7ms/step - loss: 0.2977 - accuracy: 0.8917 - val_loss: 0.1556 - val_accuracy: 0.9432\n",
      "1537/1537 - 3s - loss: 0.3716 - accuracy: 0.8519\n",
      "[0.37157130241394043, 0.8519030809402466]\n"
     ]
    },
    {
     "data": {
      "image/png": "[encoded data removed]",
      "text/plain": [
       "<Figure size 720x576 with 2 Axes>"
      ]
     },
     "metadata": {
      "needs_background": "light"
     },
     "output_type": "display_data"
    }
   ],
   "source": [
    "test_pipeline(model2, X_train, y_train, X_val, y_val, X_test, y_test, epochs=4, batch_size=512)"
   ]
  },
  {
   "cell_type": "code",
   "execution_count": 141,
   "id": "37d4b08a",
   "metadata": {},
   "outputs": [
    {
     "name": "stdout",
     "output_type": "stream",
     "text": [
      "(10000, 200)\n",
      "[ 1.41829774e-01 -3.98525083e-03  3.70806791e-02  5.58335669e-02\n",
      "  4.09734026e-02  1.54839847e-02 -5.35355471e-02  3.01092509e-02\n",
      " -3.93158197e-03  5.20958826e-02 -2.71582585e-02  5.11253178e-02\n",
      " -8.45088437e-02  6.48738444e-02 -5.89775033e-02 -2.33647358e-02\n",
      "  4.86357063e-02  2.42823325e-02  7.68822581e-02 -2.12788172e-02\n",
      "  1.76720507e-02 -1.21219940e-02  6.50575431e-03  9.19199511e-02\n",
      "  2.22760849e-02  4.23777997e-02 -4.06367658e-03  6.99232519e-02\n",
      " -3.01481094e-02 -1.99818555e-02 -1.58527121e-02 -1.22664645e-02\n",
      "  7.30846226e-02 -4.46255924e-03  9.79957581e-02 -4.76105586e-02\n",
      " -8.94871876e-02  1.31001860e-01  2.99383458e-02 -2.08665758e-01\n",
      "  4.00157366e-03 -3.25529091e-02 -5.79244122e-02 -8.25297274e-03\n",
      " -2.36243345e-02 -2.59553529e-02 -9.75596625e-03 -2.49521900e-02\n",
      "  3.79784778e-02 -1.95371341e-02  1.38735622e-01 -1.15904570e-01\n",
      " -2.91680116e-02 -3.22890468e-02 -1.25501797e-01 -1.06518797e-03\n",
      "  1.11437649e-01  1.01998463e-01  1.56520512e-02  3.81883495e-02\n",
      " -3.56375314e-02  9.36162174e-02 -8.16810317e-03  9.04122069e-02\n",
      "  5.75532988e-02 -6.20757230e-02  5.93559965e-02  9.82159376e-02\n",
      "  4.04007658e-02 -1.27681252e-02 -3.83591279e-02  1.11504802e-02\n",
      "  3.42338793e-02 -1.11210952e-02  6.96864957e-03 -5.97866029e-02\n",
      "  8.07460621e-02 -7.13400617e-02  1.42727215e-02 -7.01518059e-02\n",
      "  4.05799560e-02 -4.84552830e-02  1.36113837e-01 -5.68722896e-02\n",
      "  2.47892309e-02 -3.35528306e-03 -1.09152377e-01  1.39628023e-01\n",
      "  5.70693724e-02  7.39118978e-02  1.83782615e-02  2.05146465e-02\n",
      "  1.23801187e-01  1.09515265e-01  3.80175523e-02 -6.03388734e-02\n",
      "  1.44596286e-02 -5.84444925e-02 -5.65777496e-02  7.63223320e-02\n",
      " -4.28800052e-03 -1.55081158e-04 -6.01107553e-02  3.50823775e-02\n",
      "  8.35222080e-02  7.21532851e-02  9.45587754e-02  1.43339885e-02\n",
      "  1.91298295e-02  2.01068465e-02 -4.07342538e-02 -5.53507209e-02\n",
      " -8.65213647e-02  3.54599468e-02  7.85858929e-02 -6.19741082e-02\n",
      "  4.94284518e-02 -8.35212097e-02 -1.48352906e-02 -2.94000264e-02\n",
      " -3.61105427e-02 -2.71830801e-02 -7.08709424e-03 -9.03489441e-02\n",
      "  4.50683869e-02  1.31987147e-02  2.47573741e-02  3.20267156e-02\n",
      " -1.06208771e-01  1.35193944e-01  7.90313333e-02 -6.54006202e-04\n",
      "  9.90371928e-02 -1.44847423e-01 -1.55764036e-02 -1.63436588e-02\n",
      "  6.95676655e-02 -7.28131011e-02 -3.09989136e-03 -6.96651042e-02\n",
      "  9.80763584e-02  3.38367969e-02 -7.62431920e-02 -5.57295978e-02\n",
      " -1.08111329e-01  5.31077459e-02  7.97147453e-02  3.83112878e-02\n",
      " -8.13999549e-02 -7.05626607e-02  2.83845235e-02  4.83258553e-02\n",
      " -2.01783758e-02 -7.61998957e-03  2.88852844e-02  7.63097927e-02\n",
      " -7.68346265e-02 -3.53186727e-02 -5.59630021e-02 -3.41715328e-02\n",
      "  1.18903564e-02 -3.37607488e-02  1.93879678e-04 -5.28239086e-02\n",
      " -9.32045188e-03 -1.69577897e-02  3.39640416e-02  1.52009388e-03\n",
      "  2.03815172e-03 -6.98247924e-02  7.22247064e-02 -2.70487983e-02\n",
      "  5.25318384e-02  4.30060625e-02  5.88120818e-02 -5.17405644e-02\n",
      " -2.41161417e-03  7.48772966e-03 -1.74396113e-02  8.15026611e-02\n",
      "  1.34992003e-02  2.56696735e-02 -1.16108370e-03 -6.91189617e-02\n",
      " -1.56139985e-01 -9.11922753e-03 -1.49273011e-03  7.72193745e-02\n",
      " -3.28332968e-02 -7.80575722e-02 -4.10373360e-02  1.48821203e-02\n",
      " -2.10080128e-02  7.81475604e-02  6.23094589e-02 -1.67543262e-01\n",
      "  1.44958785e-02 -7.90411532e-02  1.66527629e-02 -4.34871353e-02]\n",
      "[('열라', 0.5831129550933838), ('겁내', 0.5576776266098022), ('브', 0.5325601696968079), ('비참', 0.5272516012191772), ('사마', 0.523006796836853), ('떴', 0.5202133059501648), ('두뇌', 0.5175384283065796), ('잴', 0.49752697348594666), ('완결', 0.48297756910324097), ('손예진', 0.47904127836227417)]\n"
     ]
    },
    {
     "data": {
      "text/plain": [
       "[('열라', 0.5831129550933838),\n",
       " ('겁내', 0.5576776266098022),\n",
       " ('브', 0.5325601696968079),\n",
       " ('비참', 0.5272516012191772),\n",
       " ('사마', 0.523006796836853),\n",
       " ('떴', 0.5202133059501648),\n",
       " ('두뇌', 0.5175384283065796),\n",
       " ('잴', 0.49752697348594666),\n",
       " ('완결', 0.48297756910324097),\n",
       " ('손예진', 0.47904127836227417)]"
      ]
     },
     "execution_count": 141,
     "metadata": {},
     "output_type": "execute_result"
    }
   ],
   "source": [
    "analysis_embedding_layer(model2, file_name='word2vec_cnn')"
   ]
  },
  {
   "cell_type": "markdown",
   "id": "d40b3bbb",
   "metadata": {},
   "source": [
    "## GlobalMaxPooling1D 모델"
   ]
  },
  {
   "cell_type": "code",
   "execution_count": 249,
   "id": "1d36c334",
   "metadata": {},
   "outputs": [
    {
     "name": "stdout",
     "output_type": "stream",
     "text": [
      "Model: \"sequential_75\"\n",
      "_________________________________________________________________\n",
      "Layer (type)                 Output Shape              Param #   \n",
      "=================================================================\n",
      "embedding_73 (Embedding)     (None, None, 200)         2000      \n",
      "_________________________________________________________________\n",
      "dropout_127 (Dropout)        (None, None, 200)         0         \n",
      "_________________________________________________________________\n",
      "global_average_pooling1d_19  (None, 200)               0         \n",
      "_________________________________________________________________\n",
      "dropout_128 (Dropout)        (None, 200)               0         \n",
      "_________________________________________________________________\n",
      "dense_177 (Dense)            (None, 512)               102912    \n",
      "_________________________________________________________________\n",
      "dropout_129 (Dropout)        (None, 512)               0         \n",
      "_________________________________________________________________\n",
      "dense_178 (Dense)            (None, 128)               65664     \n",
      "_________________________________________________________________\n",
      "dropout_130 (Dropout)        (None, 128)               0         \n",
      "_________________________________________________________________\n",
      "dense_179 (Dense)            (None, 64)                8256      \n",
      "_________________________________________________________________\n",
      "dropout_131 (Dropout)        (None, 64)                0         \n",
      "_________________________________________________________________\n",
      "dense_180 (Dense)            (None, 32)                2080      \n",
      "_________________________________________________________________\n",
      "dropout_132 (Dropout)        (None, 32)                0         \n",
      "_________________________________________________________________\n",
      "dense_181 (Dense)            (None, 16)                528       \n",
      "_________________________________________________________________\n",
      "dropout_133 (Dropout)        (None, 16)                0         \n",
      "_________________________________________________________________\n",
      "dense_182 (Dense)            (None, 8)                 136       \n",
      "_________________________________________________________________\n",
      "dropout_134 (Dropout)        (None, 8)                 0         \n",
      "_________________________________________________________________\n",
      "dense_183 (Dense)            (None, 1)                 9         \n",
      "=================================================================\n",
      "Total params: 181,585\n",
      "Trainable params: 181,585\n",
      "Non-trainable params: 0\n",
      "_________________________________________________________________\n"
     ]
    }
   ],
   "source": [
    "# vocab_size = 10\n",
    "model3 = tf.keras.Sequential()\n",
    "model3.add(tf.keras.layers.Embedding(vocab_size, word_vector_dim, input_shape=(None,)))\n",
    "model3.add(keras.layers.Dropout(0.3))\n",
    "# model3.add(tf.keras.layers.GlobalMaxPooling1D())\n",
    "# model3.add(keras.layers.Dropout(0.3))\n",
    "model3.add(keras.layers.GlobalAveragePooling1D())\n",
    "model3.add(tf.keras.layers.Dense(8, activation='relu'))\n",
    "\n",
    "model3.add(tf.keras.layers.Dense(1, activation='sigmoid'))  # 최종 출력은 긍정/부정을 나타내는 1dim 입니다.\n",
    "\n",
    "model3.summary()"
   ]
  },
  {
   "cell_type": "code",
   "execution_count": 250,
   "id": "cae8128e",
   "metadata": {},
   "outputs": [
    {
     "name": "stdout",
     "output_type": "stream",
     "text": [
      "Epoch 1/10\n",
      "286/286 [==============================] - 3s 7ms/step - loss: 0.0494 - accuracy: 0.9791 - val_loss: 0.0061 - val_accuracy: 0.9964\n",
      "Epoch 2/10\n",
      "286/286 [==============================] - 2s 7ms/step - loss: 0.0505 - accuracy: 0.9791 - val_loss: 0.0056 - val_accuracy: 0.9965\n",
      "Epoch 3/10\n",
      "286/286 [==============================] - 2s 7ms/step - loss: 0.0475 - accuracy: 0.9801 - val_loss: 0.0057 - val_accuracy: 0.9966\n",
      "Epoch 4/10\n",
      "286/286 [==============================] - 2s 7ms/step - loss: 0.0480 - accuracy: 0.9801 - val_loss: 0.0057 - val_accuracy: 0.9965\n",
      "Epoch 5/10\n",
      "286/286 [==============================] - 2s 7ms/step - loss: 0.0493 - accuracy: 0.9793 - val_loss: 0.0054 - val_accuracy: 0.9967\n",
      "Epoch 6/10\n",
      "286/286 [==============================] - 2s 7ms/step - loss: 0.0504 - accuracy: 0.9786 - val_loss: 0.0059 - val_accuracy: 0.9963\n",
      "Epoch 7/10\n",
      "286/286 [==============================] - 2s 7ms/step - loss: 0.0483 - accuracy: 0.9797 - val_loss: 0.0057 - val_accuracy: 0.9966\n",
      "Epoch 8/10\n",
      "286/286 [==============================] - 2s 7ms/step - loss: 0.0490 - accuracy: 0.9789 - val_loss: 0.0052 - val_accuracy: 0.9968\n",
      "Epoch 9/10\n",
      "286/286 [==============================] - 2s 7ms/step - loss: 0.0486 - accuracy: 0.9795 - val_loss: 0.0057 - val_accuracy: 0.9967\n",
      "Epoch 10/10\n",
      "286/286 [==============================] - 2s 7ms/step - loss: 0.0478 - accuracy: 0.9798 - val_loss: 0.0051 - val_accuracy: 0.9969\n",
      "1537/1537 - 3s - loss: 27.6996 - accuracy: 0.8216\n",
      "[27.69959831237793, 0.8215920329093933]\n"
     ]
    },
    {
     "data": {
      "image/png": "[encoded data removed]",
      "text/plain": [
       "<Figure size 720x576 with 2 Axes>"
      ]
     },
     "metadata": {
      "needs_background": "light"
     },
     "output_type": "display_data"
    }
   ],
   "source": [
    "test_pipeline(model2, X_train, y_train, X_val, y_val, X_test, y_test, epochs=10, batch_size=512)"
   ]
  },
  {
   "cell_type": "code",
   "execution_count": 74,
   "id": "1566e97a",
   "metadata": {},
   "outputs": [
    {
     "name": "stdout",
     "output_type": "stream",
     "text": [
      "(10000, 16)\n",
      "[ 0.0269236   0.05933017 -0.03113574  0.1688155  -0.0057016  -0.20828827\n",
      "  0.07901016 -0.04985972  0.02870748  0.01552826 -0.15570454  0.06477226\n",
      " -0.04405908 -0.01827602 -0.2632488  -0.13517427]\n",
      "[('뜰', 0.8016211986541748), ('패밀리', 0.7488318085670471), ('애환', 0.724683403968811), ('한몫', 0.6993271112442017), ('평타', 0.6987704038619995), ('입도', 0.6928943395614624), ('성실', 0.6885826587677002), ('애기', 0.6836316585540771), ('국가', 0.6787831783294678), ('그리워', 0.6753263473510742)]\n"
     ]
    },
    {
     "data": {
      "text/plain": [
       "[('뜰', 0.8016211986541748),\n",
       " ('패밀리', 0.7488318085670471),\n",
       " ('애환', 0.724683403968811),\n",
       " ('한몫', 0.6993271112442017),\n",
       " ('평타', 0.6987704038619995),\n",
       " ('입도', 0.6928943395614624),\n",
       " ('성실', 0.6885826587677002),\n",
       " ('애기', 0.6836316585540771),\n",
       " ('국가', 0.6787831783294678),\n",
       " ('그리워', 0.6753263473510742)]"
      ]
     },
     "execution_count": 74,
     "metadata": {},
     "output_type": "execute_result"
    }
   ],
   "source": [
    "analysis_embedding_layer(model2, file_name='word2vec_gmp')"
   ]
  },
  {
   "cell_type": "code",
   "execution_count": 75,
   "id": "2f58e9dd",
   "metadata": {},
   "outputs": [
    {
     "name": "stdout",
     "output_type": "stream",
     "text": [
      "(10000, 16)\n",
      "[ 0.20740953 -0.04264771  0.10526827  0.03808155  0.08443398 -0.09951105\n",
      "  0.00072254 -0.16501781 -0.05575598  0.0355994   0.11434019 -0.10337137\n",
      " -0.09362173 -0.09174373 -0.04087929 -0.08242432]\n",
      "[('이렇게', 0.9341796040534973), ('기대', 0.8805073499679565), ('굉장히', 0.8617286682128906), ('끌려서', 0.8517288565635681), ('흥미', 0.8507465720176697), ('캐', 0.8500837683677673), ('완전', 0.8429633378982544), ('공감', 0.8329155445098877), ('너무', 0.8246740698814392), ('영상', 0.8114273548126221)]\n",
      "(10000, 16)\n",
      "[ 0.0269236   0.05933017 -0.03113574  0.1688155  -0.0057016  -0.20828827\n",
      "  0.07901016 -0.04985972  0.02870748  0.01552826 -0.15570454  0.06477226\n",
      " -0.04405908 -0.01827602 -0.2632488  -0.13517427]\n",
      "[('뜰', 0.8016211986541748), ('패밀리', 0.7488318085670471), ('애환', 0.724683403968811), ('한몫', 0.6993271112442017), ('평타', 0.6987704038619995), ('입도', 0.6928943395614624), ('성실', 0.6885826587677002), ('애기', 0.6836316585540771), ('국가', 0.6787831783294678), ('그리워', 0.6753263473510742)]\n",
      "(10000, 16)\n",
      "[-0.03504902 -0.03825681 -0.00834023  0.02324213  0.03472599  0.0165848\n",
      " -0.01401771 -0.03914154  0.03390182 -0.00397856 -0.04136493  0.04828909\n",
      " -0.02520469 -0.0438708  -0.04563843  0.00244866]\n",
      "[('는다고', 0.7807613611221313), ('없이', 0.7756651639938354), ('인도', 0.7530155181884766), ('행오버', 0.7370937466621399), ('흐믓', 0.7349110841751099), ('비긴즈', 0.7195978164672852), ('내고', 0.7165093421936035), ('조연', 0.7140059471130371), ('뭘까', 0.7130581140518188), ('성공', 0.7062292098999023)]\n",
      "===\n",
      "\n",
      "\n",
      "\n",
      "\n",
      "rnn\n",
      "[('이렇게', 0.9341796040534973), ('기대', 0.8805073499679565), ('굉장히', 0.8617286682128906), ('끌려서', 0.8517288565635681), ('흥미', 0.8507465720176697), ('캐', 0.8500837683677673), ('완전', 0.8429633378982544), ('공감', 0.8329155445098877), ('너무', 0.8246740698814392), ('영상', 0.8114273548126221)]\n",
      "cnn\n",
      "[('뜰', 0.8016211986541748), ('패밀리', 0.7488318085670471), ('애환', 0.724683403968811), ('한몫', 0.6993271112442017), ('평타', 0.6987704038619995), ('입도', 0.6928943395614624), ('성실', 0.6885826587677002), ('애기', 0.6836316585540771), ('국가', 0.6787831783294678), ('그리워', 0.6753263473510742)]\n",
      "gmp\n",
      "[('는다고', 0.7807613611221313), ('없이', 0.7756651639938354), ('인도', 0.7530155181884766), ('행오버', 0.7370937466621399), ('흐믓', 0.7349110841751099), ('비긴즈', 0.7195978164672852), ('내고', 0.7165093421936035), ('조연', 0.7140059471130371), ('뭘까', 0.7130581140518188), ('성공', 0.7062292098999023)]\n"
     ]
    }
   ],
   "source": [
    "rnn_res = analysis_embedding_layer(model1, file_name='word2vec_rnn')\n",
    "cnn_res = analysis_embedding_layer(model2, file_name='word2vec_cnn')\n",
    "gmp_res = analysis_embedding_layer(model3, file_name='word2vec_gmp')\n",
    "print('===\\n\\n\\n\\n')\n",
    "\n",
    "print('rnn')\n",
    "print(rnn_res)\n",
    "\n",
    "print('cnn')\n",
    "print(cnn_res)\n",
    "\n",
    "print('gmp')\n",
    "print(gmp_res)"
   ]
  },
  {
   "cell_type": "markdown",
   "id": "d6e2e79d",
   "metadata": {},
   "source": [
    "## 한국어 Word2Vec 임베딩 활용하여 성능 개선"
   ]
  },
  {
   "cell_type": "code",
   "execution_count": 76,
   "id": "aab82bab",
   "metadata": {},
   "outputs": [],
   "source": [
    "from gensim.models import KeyedVectors\n",
    "\n",
    "word2vec_path = os.getenv('HOME')+'/aiffel/sentiment_classification/data/ko.bin' \n",
    "word2vec = gensim.models.Word2Vec.load(word2vec_path)"
   ]
  },
  {
   "cell_type": "code",
   "execution_count": 77,
   "id": "fec4be13",
   "metadata": {},
   "outputs": [
    {
     "name": "stderr",
     "output_type": "stream",
     "text": [
      "/tmp/ipykernel_31/2795643307.py:1: DeprecationWarning: Call to deprecated `similar_by_word` (Method will be removed in 4.0.0, use self.wv.similar_by_word() instead).\n",
      "  word2vec.similar_by_word(\"재미\")\n"
     ]
    },
    {
     "data": {
      "text/plain": [
       "[('취미', 0.5857348442077637),\n",
       " ('유머', 0.5140613913536072),\n",
       " ('매력', 0.5105490684509277),\n",
       " ('흥미', 0.4988338351249695),\n",
       " ('공짜', 0.4960595667362213),\n",
       " ('일자리', 0.49294644594192505),\n",
       " ('즐거움', 0.48700767755508423),\n",
       " ('비애', 0.4836210310459137),\n",
       " ('관객', 0.48286449909210205),\n",
       " ('향수', 0.4823310971260071)]"
      ]
     },
     "execution_count": 77,
     "metadata": {},
     "output_type": "execute_result"
    }
   ],
   "source": [
    "word2vec.similar_by_word(\"재미\")"
   ]
  },
  {
   "cell_type": "code",
   "execution_count": 78,
   "id": "8ce3872d",
   "metadata": {},
   "outputs": [
    {
     "name": "stderr",
     "output_type": "stream",
     "text": [
      "/tmp/ipykernel_31/2656472433.py:7: DeprecationWarning: Call to deprecated `__contains__` (Method will be removed in 4.0.0, use self.wv.__contains__() instead).\n",
      "  if index_to_word[i] in word2vec:\n"
     ]
    }
   ],
   "source": [
    "vocab_size = 10000    # 어휘 사전의 크기입니다(10,000개의 단어)\n",
    "word_vector_dim = 200  # 워드 벡터의 차원수 \n",
    "embedding_matrix = np.random.rand(vocab_size, word_vector_dim)\n",
    "\n",
    "# embedding_matrix에 Word2Vec 워드 벡터를 단어 하나씩마다 차례차례 카피한다.\n",
    "for i in range(4,vocab_size):\n",
    "    if index_to_word[i] in word2vec:\n",
    "        embedding_matrix[i] = word2vec.wv[index_to_word[i]]"
   ]
  },
  {
   "cell_type": "code",
   "execution_count": 79,
   "id": "cdb7a687",
   "metadata": {},
   "outputs": [
    {
     "name": "stdout",
     "output_type": "stream",
     "text": [
      "Model: \"sequential_7\"\n",
      "_________________________________________________________________\n",
      "Layer (type)                 Output Shape              Param #   \n",
      "=================================================================\n",
      "embedding_7 (Embedding)      (None, 41, 200)           2000000   \n",
      "_________________________________________________________________\n",
      "lstm_3 (LSTM)                (None, 128)               168448    \n",
      "_________________________________________________________________\n",
      "dense_13 (Dense)             (None, 1)                 129       \n",
      "=================================================================\n",
      "Total params: 2,168,577\n",
      "Trainable params: 2,168,577\n",
      "Non-trainable params: 0\n",
      "_________________________________________________________________\n"
     ]
    }
   ],
   "source": [
    "model = keras.Sequential()\n",
    "model.add(keras.layers.Embedding(vocab_size, \n",
    "                                 word_vector_dim, \n",
    "                                 embeddings_initializer=Constant(embedding_matrix),  #카피한 임베딩을 여기서 활용\n",
    "                                 input_length=maxlen, \n",
    "                                 trainable=True))   #trainable을 True로 주면 Fine-tuning\n",
    "model.add(keras.layers.LSTM(128))\n",
    "model.add(keras.layers.Dense(1, activation='sigmoid'))\n",
    "\n",
    "model.summary()"
   ]
  },
  {
   "cell_type": "code",
   "execution_count": 80,
   "id": "ffb81504",
   "metadata": {},
   "outputs": [
    {
     "name": "stdout",
     "output_type": "stream",
     "text": [
      "Epoch 1/20\n",
      "2128/2128 [==============================] - 14s 6ms/step - loss: 0.3808 - accuracy: 0.8265 - val_loss: 0.3161 - val_accuracy: 0.8622\n",
      "Epoch 2/20\n",
      "2128/2128 [==============================] - 13s 6ms/step - loss: 0.2839 - accuracy: 0.8797 - val_loss: 0.3031 - val_accuracy: 0.8722\n",
      "Epoch 3/20\n",
      "2128/2128 [==============================] - 13s 6ms/step - loss: 0.2409 - accuracy: 0.9006 - val_loss: 0.3049 - val_accuracy: 0.8737\n",
      "Epoch 4/20\n",
      "2128/2128 [==============================] - 12s 6ms/step - loss: 0.2005 - accuracy: 0.9191 - val_loss: 0.3182 - val_accuracy: 0.8735\n",
      "Epoch 5/20\n",
      "2128/2128 [==============================] - 12s 6ms/step - loss: 0.1598 - accuracy: 0.9376 - val_loss: 0.3607 - val_accuracy: 0.8660\n",
      "Epoch 6/20\n",
      "2128/2128 [==============================] - 13s 6ms/step - loss: 0.1218 - accuracy: 0.9544 - val_loss: 0.4077 - val_accuracy: 0.8639\n",
      "Epoch 7/20\n",
      "2128/2128 [==============================] - 13s 6ms/step - loss: 0.0919 - accuracy: 0.9664 - val_loss: 0.4793 - val_accuracy: 0.8624\n",
      "Epoch 8/20\n",
      "2128/2128 [==============================] - 13s 6ms/step - loss: 0.0676 - accuracy: 0.9758 - val_loss: 0.5378 - val_accuracy: 0.8589\n",
      "Epoch 9/20\n",
      "2128/2128 [==============================] - 12s 6ms/step - loss: 0.0542 - accuracy: 0.9807 - val_loss: 0.5979 - val_accuracy: 0.8591\n",
      "Epoch 10/20\n",
      "2128/2128 [==============================] - 12s 6ms/step - loss: 0.0418 - accuracy: 0.9853 - val_loss: 0.6971 - val_accuracy: 0.8525\n",
      "Epoch 11/20\n",
      "2128/2128 [==============================] - 12s 6ms/step - loss: 0.0350 - accuracy: 0.9876 - val_loss: 0.7008 - val_accuracy: 0.8519\n",
      "Epoch 12/20\n",
      "2128/2128 [==============================] - 12s 6ms/step - loss: 0.0346 - accuracy: 0.9873 - val_loss: 0.7564 - val_accuracy: 0.8505\n",
      "Epoch 13/20\n",
      "2128/2128 [==============================] - 12s 6ms/step - loss: 0.0282 - accuracy: 0.9901 - val_loss: 0.7507 - val_accuracy: 0.8567\n",
      "Epoch 14/20\n",
      "2128/2128 [==============================] - 12s 6ms/step - loss: 0.0254 - accuracy: 0.9908 - val_loss: 0.7682 - val_accuracy: 0.8592\n",
      "Epoch 15/20\n",
      "2128/2128 [==============================] - 12s 6ms/step - loss: 0.0245 - accuracy: 0.9910 - val_loss: 0.8134 - val_accuracy: 0.8582\n",
      "Epoch 16/20\n",
      "2128/2128 [==============================] - 12s 6ms/step - loss: 0.0228 - accuracy: 0.9914 - val_loss: 0.8664 - val_accuracy: 0.8573\n",
      "Epoch 17/20\n",
      "2128/2128 [==============================] - 12s 6ms/step - loss: 0.0215 - accuracy: 0.9923 - val_loss: 0.8571 - val_accuracy: 0.8538\n",
      "Epoch 18/20\n",
      "2128/2128 [==============================] - 12s 6ms/step - loss: 0.0203 - accuracy: 0.9924 - val_loss: 0.9022 - val_accuracy: 0.8568\n",
      "Epoch 19/20\n",
      "2128/2128 [==============================] - 12s 6ms/step - loss: 0.0174 - accuracy: 0.9938 - val_loss: 0.9332 - val_accuracy: 0.8553\n",
      "Epoch 20/20\n",
      "2128/2128 [==============================] - 13s 6ms/step - loss: 0.0188 - accuracy: 0.9931 - val_loss: 0.9678 - val_accuracy: 0.8537\n"
     ]
    }
   ],
   "source": [
    "# 학습의 진행\n",
    "model.compile(optimizer='adam',\n",
    "              loss='binary_crossentropy',\n",
    "              metrics=['accuracy'])\n",
    "              \n",
    "epochs=20  # 몇 epoch를 훈련하면 좋을지 결과를 보면서 바꾸어 봅시다. \n",
    "\n",
    "history = model.fit(partial_X_train,\n",
    "                    partial_y_train,\n",
    "                    epochs=epochs,\n",
    "                    batch_size=64,\n",
    "                    validation_data=(X_val, y_val),\n",
    "                    verbose=1)"
   ]
  },
  {
   "cell_type": "code",
   "execution_count": 81,
   "id": "72d9684e",
   "metadata": {},
   "outputs": [
    {
     "name": "stdout",
     "output_type": "stream",
     "text": [
      "dict_keys(['loss', 'accuracy', 'val_loss', 'val_accuracy'])\n"
     ]
    }
   ],
   "source": [
    "history_dict = history.history\n",
    "print(history_dict.keys())"
   ]
  },
  {
   "cell_type": "code",
   "execution_count": 82,
   "id": "dda46faa",
   "metadata": {},
   "outputs": [
    {
     "data": {
      "image/png": "[encoded data removed]",
      "text/plain": [
       "<Figure size 720x576 with 2 Axes>"
      ]
     },
     "metadata": {
      "needs_background": "light"
     },
     "output_type": "display_data"
    }
   ],
   "source": [
    "acc = history_dict['accuracy']\n",
    "val_acc = history_dict['val_accuracy']\n",
    "loss = history_dict['loss']\n",
    "val_loss = history_dict['val_loss']\n",
    "\n",
    "epochs = range(1, len(acc) + 1)\n",
    "\n",
    "# 두 개의 축 생성\n",
    "fig, (ax1, ax2) = plt.subplots(2, 1, figsize=(10, 8))\n",
    "\n",
    "# 첫 번째 플롯: Loss\n",
    "ax1.plot(epochs, loss, 'bo', label='Training loss')\n",
    "ax1.plot(epochs, val_loss, 'b', label='Validation loss')\n",
    "ax1.set_title('Training and validation loss')\n",
    "ax1.set_xlabel('Epochs')\n",
    "ax1.set_ylabel('Loss')\n",
    "ax1.legend()\n",
    "\n",
    "# 두 번째 플롯: Accuracy\n",
    "ax2.plot(epochs, acc, 'bo', label='Training acc')\n",
    "ax2.plot(epochs, val_acc, 'b', label='Validation acc')\n",
    "ax2.set_title('Training and validation accuracy')\n",
    "ax2.set_xlabel('Epochs')\n",
    "ax2.set_ylabel('Accuracy')\n",
    "ax2.legend()\n",
    "\n",
    "plt.tight_layout()  # 축간 간격 조정\n",
    "plt.show()"
   ]
  },
  {
   "cell_type": "code",
   "execution_count": 83,
   "id": "3b9da87b",
   "metadata": {},
   "outputs": [
    {
     "name": "stdout",
     "output_type": "stream",
     "text": [
      "1537/1537 - 3s - loss: 0.9743 - accuracy: 0.8520\n"
     ]
    }
   ],
   "source": [
    "results = model.evaluate(X_test,  y_test, verbose=2)"
   ]
  },
  {
   "cell_type": "markdown",
   "id": "2e4ca3a7",
   "metadata": {},
   "source": [
    "85.39% 달성"
   ]
  },
  {
   "cell_type": "markdown",
   "id": "c0cb7a45",
   "metadata": {},
   "source": [
    "## 자체 임베딩과 비교"
   ]
  },
  {
   "cell_type": "code",
   "execution_count": 84,
   "id": "1d0d4f8b",
   "metadata": {
    "scrolled": true
   },
   "outputs": [
    {
     "name": "stdout",
     "output_type": "stream",
     "text": [
      "('매우', 0.8843027353286743)|('약자', 0.8051141500473022)|('단체', 0.7845001220703125)|('취미', 0.5857348442077637)\n",
      "('넘', 0.8789970278739929)|('정말', 0.7905513048171997)|('사후', 0.7741118669509888)|('유머', 0.5140613913536072)\n",
      "('이해도', 0.8782033920288086)|('구요', 0.7825247049331665)|('갤', 0.7567523717880249)|('매력', 0.5105490684509277)\n",
      "('가치', 0.8582432866096497)|('중심', 0.7659239172935486)|('권력', 0.7354912161827087)|('흥미', 0.4988338351249695)\n",
      "('제외', 0.8562479019165039)|('녹', 0.7606545686721802)|('신체', 0.7154641151428223)|('공짜', 0.4960595667362213)\n",
      "('공감', 0.8499742746353149)|('툭툭', 0.7492883205413818)|('아마', 0.7075228691101074)|('일자리', 0.49294644594192505)\n",
      "('이미숙', 0.8411532044410706)|('커', 0.7468106746673584)|('일제', 0.6915094256401062)|('즐거움', 0.48700767755508423)\n",
      "('표정', 0.8410723209381104)|('흥겹', 0.7396458387374878)|('추격전', 0.6897620558738708)|('비애', 0.4836210310459137)\n",
      "('매력', 0.8393557071685791)|('가능', 0.7390083074569702)|('단면', 0.6868882179260254)|('관객', 0.48286449909210205)\n",
      "('긴장감', 0.8345389366149902)|('삐', 0.7200238704681396)|('볼걸', 0.6830145716667175)|('향수', 0.4823310971260071)\n"
     ]
    }
   ],
   "source": [
    "rnn = [('매우', 0.8843027353286743), ('넘', 0.8789970278739929), ('이해도', 0.8782033920288086), ('가치', 0.8582432866096497), ('제외', 0.8562479019165039), ('공감', 0.8499742746353149), ('이미숙', 0.8411532044410706), ('표정', 0.8410723209381104), ('매력', 0.8393557071685791), ('긴장감', 0.8345389366149902)]\n",
    "cnn = [('약자', 0.8051141500473022), ('정말', 0.7905513048171997), ('구요', 0.7825247049331665), ('중심', 0.7659239172935486), ('녹', 0.7606545686721802), ('툭툭', 0.7492883205413818), ('커', 0.7468106746673584), ('흥겹', 0.7396458387374878), ('가능', 0.7390083074569702), ('삐', 0.7200238704681396)]\n",
    "gmp = [('단체', 0.7845001220703125), ('사후', 0.7741118669509888), ('갤', 0.7567523717880249), ('권력', 0.7354912161827087), ('신체', 0.7154641151428223), ('아마', 0.7075228691101074), ('일제', 0.6915094256401062), ('추격전', 0.6897620558738708), ('단면', 0.6868882179260254), ('볼걸', 0.6830145716667175)]\n",
    "kow2v = [('취미', 0.5857348442077637),\n",
    " ('유머', 0.5140613913536072),\n",
    " ('매력', 0.5105490684509277),\n",
    " ('흥미', 0.4988338351249695),\n",
    " ('공짜', 0.4960595667362213),\n",
    " ('일자리', 0.49294644594192505),\n",
    " ('즐거움', 0.48700767755508423),\n",
    " ('비애', 0.4836210310459137),\n",
    " ('관객', 0.48286449909210205),\n",
    " ('향수', 0.4823310971260071)]\n",
    "\n",
    "sorted_rnn = sorted(rnn, key=lambda x: x[1], reverse=True)\n",
    "sorted_cnn = sorted(cnn, key=lambda x: x[1], reverse=True)\n",
    "sorted_gmp = sorted(gmp, key=lambda x: x[1], reverse=True)\n",
    "sorted_kow2v = sorted(kow2v, key=lambda x: x[1], reverse=True)\n",
    "\n",
    "for r, c, g, k in zip(sorted_rnn, sorted_cnn, sorted_gmp, sorted_kow2v):\n",
    "    print(f'{r}|{c}|{g}|{k}')\n"
   ]
  },
  {
   "cell_type": "markdown",
   "id": "23eda2af",
   "metadata": {},
   "source": [
    "위는 주제어는 각각 '재미'를 주제로 유사 단어를 추출한 결과이다.\n",
    "기본적으로 파인튜닝한 쪽이 사람이 봤을 때 유사한 단어가 많다.\n",
    "\n",
    "대표적으로 '유머', '매력', '취미', 그리고 '흥미'는 재미와 관련된 단어라는 것을 직관적으로 알 수 있다.\n",
    "하지만 '메우'와 '넘'은 같이 자주 쓰이지만, '이해도' '가치', '약자' (넌.. 왜..), '갤' (DC 인사이드?) 등은 왜 있는지 연관성을 알 수 없다.\n",
    "\n",
    "또한 이 페이지에서 나타나지 않지만, 위의 3개의 모델에는 85%를 넘기 위한 노력이 많이 들어갔으나, 한국어 Word2Vec을 사용한 경우 적은 노력으로 85% 이상의 정확도를 달성할 수 있었다.\n",
    "\n",
    "이를 통해, 워드 임베딩이 모델 성능과 평가 지표에 주는 영향력을 볼 수 있었다."
   ]
  },
  {
   "cell_type": "code",
   "execution_count": null,
   "id": "17c83f74",
   "metadata": {},
   "outputs": [],
   "source": []
  }
 ],
 "metadata": {
  "kernelspec": {
   "display_name": "Python 3 (ipykernel)",
   "language": "python",
   "name": "python3"
  },
  "language_info": {
   "codemirror_mode": {
    "name": "ipython",
    "version": 3
   },
   "file_extension": ".py",
   "mimetype": "text/x-python",
   "name": "python",
   "nbconvert_exporter": "python",
   "pygments_lexer": "ipython3",
   "version": "3.9.7"
  }
 },
 "nbformat": 4,
 "nbformat_minor": 5
}
