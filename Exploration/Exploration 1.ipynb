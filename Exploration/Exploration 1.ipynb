{
 "cells": [
  {
   "cell_type": "markdown",
   "id": "9584e44d",
   "metadata": {},
   "source": [
    "# Let's predict the level of diabetes\n",
    "\n",
    "## Overall\n",
    "In this notebook, I'm going to use scikit-learn's diabetic patient dataset to predict diabetes levels."
   ]
  },
  {
   "cell_type": "markdown",
   "id": "3059b66e",
   "metadata": {},
   "source": [
    "## Input Data\n",
    "\n",
    "**Task summary**\n",
    "\n",
    "1. Import the already provided data from the scikit-learn library.\n",
    "2. Classify dataset into data and taget, and save them.\n",
    "3. Convert each one to NumPy."
   ]
  },
  {
   "cell_type": "code",
   "execution_count": 1,
   "id": "7ed218ec",
   "metadata": {},
   "outputs": [],
   "source": [
    "import numpy as np"
   ]
  },
  {
   "cell_type": "code",
   "execution_count": 2,
   "id": "1c1db428",
   "metadata": {},
   "outputs": [
    {
     "data": {
      "text/plain": [
       "(array([[ 0.03807591,  0.05068012,  0.06169621, ..., -0.00259226,\n",
       "          0.01990842, -0.01764613],\n",
       "        [-0.00188202, -0.04464164, -0.05147406, ..., -0.03949338,\n",
       "         -0.06832974, -0.09220405],\n",
       "        [ 0.08529891,  0.05068012,  0.04445121, ..., -0.00259226,\n",
       "          0.00286377, -0.02593034],\n",
       "        ...,\n",
       "        [ 0.04170844,  0.05068012, -0.01590626, ..., -0.01107952,\n",
       "         -0.04687948,  0.01549073],\n",
       "        [-0.04547248, -0.04464164,  0.03906215, ...,  0.02655962,\n",
       "          0.04452837, -0.02593034],\n",
       "        [-0.04547248, -0.04464164, -0.0730303 , ..., -0.03949338,\n",
       "         -0.00421986,  0.00306441]]),\n",
       " array([151.,  75., 141., 206., 135.,  97., 138.,  63., 110., 310., 101.,\n",
       "         69., 179., 185., 118., 171., 166., 144.,  97., 168.,  68.,  49.,\n",
       "         68., 245., 184., 202., 137.,  85., 131., 283., 129.,  59., 341.,\n",
       "         87.,  65., 102., 265., 276., 252.,  90., 100.,  55.,  61.,  92.,\n",
       "        259.,  53., 190., 142.,  75., 142., 155., 225.,  59., 104., 182.,\n",
       "        128.,  52.,  37., 170., 170.,  61., 144.,  52., 128.,  71., 163.,\n",
       "        150.,  97., 160., 178.,  48., 270., 202., 111.,  85.,  42., 170.,\n",
       "        200., 252., 113., 143.,  51.,  52., 210.,  65., 141.,  55., 134.,\n",
       "         42., 111.,  98., 164.,  48.,  96.,  90., 162., 150., 279.,  92.,\n",
       "         83., 128., 102., 302., 198.,  95.,  53., 134., 144., 232.,  81.,\n",
       "        104.,  59., 246., 297., 258., 229., 275., 281., 179., 200., 200.,\n",
       "        173., 180.,  84., 121., 161.,  99., 109., 115., 268., 274., 158.,\n",
       "        107.,  83., 103., 272.,  85., 280., 336., 281., 118., 317., 235.,\n",
       "         60., 174., 259., 178., 128.,  96., 126., 288.,  88., 292.,  71.,\n",
       "        197., 186.,  25.,  84.,  96., 195.,  53., 217., 172., 131., 214.,\n",
       "         59.,  70., 220., 268., 152.,  47.,  74., 295., 101., 151., 127.,\n",
       "        237., 225.,  81., 151., 107.,  64., 138., 185., 265., 101., 137.,\n",
       "        143., 141.,  79., 292., 178.,  91., 116.,  86., 122.,  72., 129.,\n",
       "        142.,  90., 158.,  39., 196., 222., 277.,  99., 196., 202., 155.,\n",
       "         77., 191.,  70.,  73.,  49.,  65., 263., 248., 296., 214., 185.,\n",
       "         78.,  93., 252., 150.,  77., 208.,  77., 108., 160.,  53., 220.,\n",
       "        154., 259.,  90., 246., 124.,  67.,  72., 257., 262., 275., 177.,\n",
       "         71.,  47., 187., 125.,  78.,  51., 258., 215., 303., 243.,  91.,\n",
       "        150., 310., 153., 346.,  63.,  89.,  50.,  39., 103., 308., 116.,\n",
       "        145.,  74.,  45., 115., 264.,  87., 202., 127., 182., 241.,  66.,\n",
       "         94., 283.,  64., 102., 200., 265.,  94., 230., 181., 156., 233.,\n",
       "         60., 219.,  80.,  68., 332., 248.,  84., 200.,  55.,  85.,  89.,\n",
       "         31., 129.,  83., 275.,  65., 198., 236., 253., 124.,  44., 172.,\n",
       "        114., 142., 109., 180., 144., 163., 147.,  97., 220., 190., 109.,\n",
       "        191., 122., 230., 242., 248., 249., 192., 131., 237.,  78., 135.,\n",
       "        244., 199., 270., 164.,  72.,  96., 306.,  91., 214.,  95., 216.,\n",
       "        263., 178., 113., 200., 139., 139.,  88., 148.,  88., 243.,  71.,\n",
       "         77., 109., 272.,  60.,  54., 221.,  90., 311., 281., 182., 321.,\n",
       "         58., 262., 206., 233., 242., 123., 167.,  63., 197.,  71., 168.,\n",
       "        140., 217., 121., 235., 245.,  40.,  52., 104., 132.,  88.,  69.,\n",
       "        219.,  72., 201., 110.,  51., 277.,  63., 118.,  69., 273., 258.,\n",
       "         43., 198., 242., 232., 175.,  93., 168., 275., 293., 281.,  72.,\n",
       "        140., 189., 181., 209., 136., 261., 113., 131., 174., 257.,  55.,\n",
       "         84.,  42., 146., 212., 233.,  91., 111., 152., 120.,  67., 310.,\n",
       "         94., 183.,  66., 173.,  72.,  49.,  64.,  48., 178., 104., 132.,\n",
       "        220.,  57.]))"
      ]
     },
     "execution_count": 2,
     "metadata": {},
     "output_type": "execute_result"
    }
   ],
   "source": [
    "# Task 1-1: get data from sklean\n",
    "from sklearn.datasets import load_diabetes\n",
    "diabetes = load_diabetes()\n",
    "\n",
    "# Task 1-2: create two values; df_X, df_y for data, target, respectively.\n",
    "# To get some attribute such as 'data' or 'target', I just need to use '.(dot)'\n",
    "# Using .(dot), you can access the data and the target as well.\n",
    "df_X = diabetes.data\n",
    "df_y = diabetes.target\n",
    "\n",
    "# Let's check the variables\n",
    "df_X, df_y"
   ]
  },
  {
   "cell_type": "code",
   "execution_count": 3,
   "id": "995195ff",
   "metadata": {},
   "outputs": [
    {
     "name": "stdout",
     "output_type": "stream",
     "text": [
      "<class 'numpy.ndarray'>\n"
     ]
    }
   ],
   "source": [
    "# Task 2: change df_X to np.array\n",
    "\n",
    "# I tried to check the type of \"df_X\"\n",
    "# But it is already np.ndarray.\n",
    "print(type(df_X)) \n",
    "\n",
    "# So I just made a variable.\n",
    "X = df_X"
   ]
  },
  {
   "cell_type": "code",
   "execution_count": 4,
   "id": "8dfad5e0",
   "metadata": {},
   "outputs": [
    {
     "name": "stdout",
     "output_type": "stream",
     "text": [
      "<class 'numpy.ndarray'>\n"
     ]
    }
   ],
   "source": [
    "# Task 3: change df_y to np.array\n",
    "\n",
    "# I tried to check the type of \"df_y\"\n",
    "# But it is already np.ndarray. Again...\n",
    "print(type(df_y)) \n",
    "\n",
    "# So I just made a variable.\n",
    "y = df_y"
   ]
  },
  {
   "cell_type": "code",
   "execution_count": 5,
   "id": "4962434b",
   "metadata": {},
   "outputs": [
    {
     "data": {
      "text/plain": [
       "(array([[ 0.07076875,  0.05068012,  0.01211685,  0.05630106,  0.03420581,\n",
       "          0.04941617, -0.03971921,  0.03430886,  0.02736771, -0.0010777 ],\n",
       "        [-0.00914709,  0.05068012, -0.01806189, -0.03321358, -0.0208323 ,\n",
       "          0.01215151, -0.07285395,  0.07120998,  0.00027149,  0.01963284],\n",
       "        [ 0.00538306, -0.04464164,  0.04984027,  0.09761551, -0.01532849,\n",
       "         -0.016345  , -0.00658447, -0.00259226,  0.01703713, -0.01350402],\n",
       "        [-0.02730979, -0.04464164, -0.03530688, -0.02977071, -0.05660707,\n",
       "         -0.05862005,  0.03023191, -0.03949338, -0.04986847, -0.12948301]]),\n",
       " array([[ 0.04534098, -0.04464164, -0.00620595, -0.01599922,  0.1250187 ,\n",
       "          0.1251981 ,  0.019187  ,  0.03430886,  0.03243323, -0.0052198 ],\n",
       "        [ 0.09256398, -0.04464164,  0.03690653,  0.02187235, -0.02496016,\n",
       "         -0.01665815,  0.00077881, -0.03949338, -0.02251217, -0.02178823],\n",
       "        [ 0.06350368,  0.05068012, -0.00405033, -0.01255635,  0.10300346,\n",
       "          0.04878988,  0.05600338, -0.00259226,  0.08449528, -0.01764613],\n",
       "        [ 0.09619652, -0.04464164,  0.0519959 ,  0.07925353,  0.05484511,\n",
       "          0.03657709, -0.07653559,  0.14132211,  0.09864637,  0.06105391]]),\n",
       " array([144., 150., 280., 125.]),\n",
       " array([219.,  70., 202., 230.]))"
      ]
     },
     "execution_count": 5,
     "metadata": {},
     "output_type": "execute_result"
    }
   ],
   "source": [
    "# Task 4: split train data and test data\n",
    "# To split datasets, I need to use the function called \"train_test_split\"\n",
    "from sklearn.model_selection import train_test_split\n",
    "\n",
    "# To clean the code, I use bracket, but it is no problem for the code.\n",
    "# It is one of the code convention for some companies. :)\n",
    "X_train, X_test, y_train, y_test = (\n",
    "    train_test_split(X, y, test_size=0.2, random_state=42)\n",
    ")\n",
    "# About test_size=0.2 and random_state, I just follow sample code.\n",
    "# Because I mostly used that proportion.\n",
    "\n",
    "\n",
    "# Okay, let's check the result.\n",
    "X_train[0:4], X_test[0:4], y_train[0:4], y_test[0:4]"
   ]
  },
  {
   "cell_type": "markdown",
   "id": "210178a3",
   "metadata": {},
   "source": [
    "## Prepare the model\n",
    "\n",
    "**Task summary**\n",
    "\n",
    "1. Create linear regression model, and implement it\n",
    "2. Define the loss function\n",
    "3. Implementation the gradient function\n",
    "4. Setup the hyper parameters"
   ]
  },
  {
   "cell_type": "code",
   "execution_count": 6,
   "id": "4b0cd4b4",
   "metadata": {},
   "outputs": [],
   "source": [
    "# Task 5: prepare the model\n",
    "\n",
    "# I define the simple line function.\n",
    "# Because X was a matrix, so I tried to use 'dot()'.\n",
    "# W.shape will be (1, 10)\n",
    "def model(X, W, b):\n",
    "    y = np.dot(W, X.T) + b\n",
    "    return y"
   ]
  },
  {
   "cell_type": "code",
   "execution_count": 7,
   "id": "31f280dc",
   "metadata": {},
   "outputs": [],
   "source": [
    "# Task 6: define the loss function\n",
    "\n",
    "# I just define MSE using the reference page: \n",
    "# Regression Model Accuracy (MAE, MSE, RMSE, R-squared) Check in R.\n",
    "\n",
    "def MSE(a, b):\n",
    "    return ((a - b) ** 2).mean() # Using mean(), I can remove\n",
    "\n",
    "# And I imported the MSE function in the loss\n",
    "def loss(X, W, b, y):\n",
    "    pred = model(X, W, b) # get prediction\n",
    "    L = MSE(pred, y) # get loss\n",
    "    return L"
   ]
  },
  {
   "cell_type": "code",
   "execution_count": 8,
   "id": "941e7830",
   "metadata": {},
   "outputs": [],
   "source": [
    "# Task 7: implementation the gradient function\n",
    "\n",
    "# To implementation the gradient descent, \n",
    "#I used Definition of Differential Coefficient\n",
    "\n",
    "def gradient(X, W, b, y):\n",
    "    N = len(y) # get length\n",
    "    \n",
    "    y_pred = model(X, W, b) # get predictions\n",
    "    dW = 1/N * 2 * X.T.dot(y_pred - y) # get W grad\n",
    "    db = (loss(X, W, b + 0.0001, y) - loss(X, W, b, y)) / 0.0001 # get b grad\n",
    "    return dW, db"
   ]
  },
  {
   "cell_type": "code",
   "execution_count": 9,
   "id": "8faf5a7e",
   "metadata": {},
   "outputs": [],
   "source": [
    "# Task 8: set the hyper parameters \n",
    "# I just create a new variable.\n",
    "\n",
    "lr = 0.1"
   ]
  },
  {
   "cell_type": "markdown",
   "id": "eab8001f",
   "metadata": {},
   "source": [
    "# Train the model\n",
    "\n",
    "**Task summary**\n",
    "1. Train the model using function above.\n",
    "2. Evaluate the model\n",
    "3. Visualize the model"
   ]
  },
  {
   "cell_type": "code",
   "execution_count": 10,
   "id": "e2dd69c6",
   "metadata": {},
   "outputs": [
    {
     "name": "stdout",
     "output_type": "stream",
     "text": [
      "Iteration 1000 : Loss 3443.7699\n",
      "Iteration 2000 : Loss 3094.2929\n",
      "Iteration 3000 : Loss 2979.1161\n",
      "Iteration 4000 : Loss 2933.7737\n",
      "Iteration 5000 : Loss 2914.7068\n",
      "Iteration 6000 : Loss 2906.1694\n",
      "Iteration 7000 : Loss 2902.0723\n",
      "Iteration 8000 : Loss 2899.9468\n",
      "Iteration 9000 : Loss 2898.7431\n",
      "Iteration 10000 : Loss 2897.9920\n",
      "Iteration 11000 : Loss 2897.4734\n",
      "Iteration 12000 : Loss 2897.0790\n",
      "Iteration 13000 : Loss 2896.7533\n",
      "Iteration 14000 : Loss 2896.4670\n",
      "Iteration 15000 : Loss 2896.2040\n",
      "Iteration 16000 : Loss 2895.9552\n",
      "Iteration 17000 : Loss 2895.7155\n",
      "Iteration 18000 : Loss 2895.4820\n",
      "Iteration 19000 : Loss 2895.2529\n",
      "Iteration 20000 : Loss 2895.0272\n"
     ]
    }
   ],
   "source": [
    "# Task 9: train the model\n",
    "\n",
    "# Initialize the model\n",
    "# I choose random initialization.\n",
    "W = np.random.rand(10) \n",
    "b = np.random.rand(1)\n",
    "\n",
    "losses = []\n",
    "\n",
    "# Train the model: Take 1\n",
    "for i in range(1, 20001):\n",
    "    dW, db = gradient(X_train, W, b, y_train)   # Predict y and return gradient\n",
    "        \n",
    "    W -= lr * dW         # Update W\n",
    "    b -= lr * db         # Update b\n",
    "    L = loss(X_train, W, b, y_train) # Get loss\n",
    "    \n",
    "    # early stopper\n",
    "    if i != 1 and losses[-1] == L:\n",
    "        print('==========')\n",
    "        print(f'Stoped at {i}')\n",
    "        print('Iteration %d : Loss %0.4f' % (i, L))\n",
    "        break\n",
    "        \n",
    "    losses.append(L)     # Record loss\n",
    "    \n",
    "    if i % 1000 == 0:\n",
    "        print('Iteration %d : Loss %0.4f' % (i, L))\n"
   ]
  },
  {
   "cell_type": "code",
   "execution_count": 14,
   "id": "b7b783d3",
   "metadata": {},
   "outputs": [
    {
     "data": {
      "text/plain": [
       "2884.9752301165795"
      ]
     },
     "execution_count": 14,
     "metadata": {},
     "output_type": "execute_result"
    }
   ],
   "source": [
    "# Task 10: Test \n",
    "# I just show using Loss function with test data\n",
    "print('loss: ',loss(X_test, W, b, y_test))"
   ]
  },
  {
   "cell_type": "code",
   "execution_count": 17,
   "id": "143ae1fb",
   "metadata": {},
   "outputs": [
    {
     "data": {
      "image/png": "[encoded data removed]",
      "text/plain": [
       "<Figure size 432x288 with 1 Axes>"
      ]
     },
     "metadata": {
      "needs_background": "light"
     },
     "output_type": "display_data"
    }
   ],
   "source": [
    "# Task 10: visualization\n",
    "import matplotlib.pyplot as plt # get library\n",
    "\n",
    "pred = model(X_test, W, b) # get prediction\n",
    "plt.scatter(X_test[:, 0], y_test) # show test data\n",
    "plt.scatter(X_test[:, 0], pred) #  show pred result\n",
    "\n",
    "plt.show() # show the plot"
   ]
  }
 ],
 "metadata": {
  "kernelspec": {
   "display_name": "Python 3 (ipykernel)",
   "language": "python",
   "name": "python3"
  },
  "language_info": {
   "codemirror_mode": {
    "name": "ipython",
    "version": 3
   },
   "file_extension": ".py",
   "mimetype": "text/x-python",
   "name": "python",
   "nbconvert_exporter": "python",
   "pygments_lexer": "ipython3",
   "version": "3.9.7"
  }
 },
 "nbformat": 4,
 "nbformat_minor": 5
}
