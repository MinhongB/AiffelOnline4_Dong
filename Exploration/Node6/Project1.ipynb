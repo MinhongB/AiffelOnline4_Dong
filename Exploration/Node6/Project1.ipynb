{
 "cells": [
  {
   "cell_type": "markdown",
   "id": "39a16fb7",
   "metadata": {},
   "source": [
    "# 뉴스 기사 요약해보기"
   ]
  },
  {
   "cell_type": "code",
   "execution_count": 1,
   "id": "4cc13305",
   "metadata": {},
   "outputs": [
    {
     "name": "stdout",
     "output_type": "stream",
     "text": [
      "3.6.5\n",
      "2.6.0\n",
      "1.3.3\n",
      "1.2.0\n"
     ]
    }
   ],
   "source": [
    "# 프로젝트 준비, 라이브러리 임포트\n",
    "from importlib.metadata import version\n",
    "import re\n",
    "import nltk\n",
    "import tensorflow\n",
    "import summa\n",
    "import pandas as pd\n",
    "import matplotlib.pyplot as plt\n",
    "import numpy as np\n",
    "\n",
    "from nltk.corpus import stopwords\n",
    "from bs4 import BeautifulSoup \n",
    "from tensorflow.keras.preprocessing.text import Tokenizer \n",
    "from tensorflow.keras.preprocessing.sequence import pad_sequences\n",
    "from tensorflow.keras.layers import Input, LSTM, Embedding, Dense, Concatenate, TimeDistributed\n",
    "from tensorflow.keras.models import Model\n",
    "from tensorflow.keras.callbacks import EarlyStopping, ModelCheckpoint\n",
    "from tensorflow.keras.layers import AdditiveAttention\n",
    "import urllib.request\n",
    "import warnings\n",
    "warnings.filterwarnings(\"ignore\", category=UserWarning, module='bs4')\n",
    "\n",
    "\n",
    "print(nltk.__version__)\n",
    "print(tensorflow.__version__)\n",
    "print(pd.__version__)\n",
    "print(version('summa'))"
   ]
  },
  {
   "cell_type": "markdown",
   "id": "9306b4e9",
   "metadata": {},
   "source": [
    "## 데이터 수집"
   ]
  },
  {
   "cell_type": "code",
   "execution_count": 2,
   "id": "25ce7eb6",
   "metadata": {},
   "outputs": [],
   "source": [
    "urllib.request.urlretrieve(\"https://raw.githubusercontent.com/sunnysai12345/News_Summary/master/news_summary_more.csv\", filename=\"news_summary_more.csv\")\n",
    "data = pd.read_csv('news_summary_more.csv', encoding='iso-8859-1')"
   ]
  },
  {
   "cell_type": "code",
   "execution_count": 3,
   "id": "4a58a88b",
   "metadata": {},
   "outputs": [
    {
     "data": {
      "text/html": [
       "<div>\n",
       "<style scoped>\n",
       "    .dataframe tbody tr th:only-of-type {\n",
       "        vertical-align: middle;\n",
       "    }\n",
       "\n",
       "    .dataframe tbody tr th {\n",
       "        vertical-align: top;\n",
       "    }\n",
       "\n",
       "    .dataframe thead th {\n",
       "        text-align: right;\n",
       "    }\n",
       "</style>\n",
       "<table border=\"1\" class=\"dataframe\">\n",
       "  <thead>\n",
       "    <tr style=\"text-align: right;\">\n",
       "      <th></th>\n",
       "      <th>headlines</th>\n",
       "      <th>text</th>\n",
       "    </tr>\n",
       "  </thead>\n",
       "  <tbody>\n",
       "    <tr>\n",
       "      <th>96845</th>\n",
       "      <td>Manipur govt decides to set up anti-corruption...</td>\n",
       "      <td>The BJP-led Manipur government has decided to ...</td>\n",
       "    </tr>\n",
       "    <tr>\n",
       "      <th>93244</th>\n",
       "      <td>Olympic champion swimmer competes while 6 mont...</td>\n",
       "      <td>Five-time Olympic gold medallist swimmer Dana ...</td>\n",
       "    </tr>\n",
       "    <tr>\n",
       "      <th>3465</th>\n",
       "      <td>India removes price cap on innovative drugs fo...</td>\n",
       "      <td>The government on Thursday removed the price c...</td>\n",
       "    </tr>\n",
       "    <tr>\n",
       "      <th>71597</th>\n",
       "      <td>I'm very happy: Ali on rumoured relationship w...</td>\n",
       "      <td>Ali Fazal, while speaking about his rumoured r...</td>\n",
       "    </tr>\n",
       "    <tr>\n",
       "      <th>10468</th>\n",
       "      <td>Drunk NRI falls from Delhi's Taj Mahal Hotel t...</td>\n",
       "      <td>A 48-year-old NRI businessman died after he ac...</td>\n",
       "    </tr>\n",
       "    <tr>\n",
       "      <th>65931</th>\n",
       "      <td>Designers walk for JJ Valaya's show on his 25 ...</td>\n",
       "      <td>Fashion designers, including Ashish Soni and R...</td>\n",
       "    </tr>\n",
       "    <tr>\n",
       "      <th>79875</th>\n",
       "      <td>What does the design of Karnataka's state flag...</td>\n",
       "      <td>The Karnataka state flag was designed by Kanna...</td>\n",
       "    </tr>\n",
       "    <tr>\n",
       "      <th>2327</th>\n",
       "      <td>Why do they pretend I don't exist? Kangana on ...</td>\n",
       "      <td>Kangana Ranaut, while speaking about her conte...</td>\n",
       "    </tr>\n",
       "    <tr>\n",
       "      <th>61839</th>\n",
       "      <td>Federer wins three awards at ATP World Tour Aw...</td>\n",
       "      <td>Swiss tennis star Roger Federer was given the ...</td>\n",
       "    </tr>\n",
       "    <tr>\n",
       "      <th>75523</th>\n",
       "      <td>American tourist beaten up for giving Nazi sal...</td>\n",
       "      <td>Police said a drunken American man was punched...</td>\n",
       "    </tr>\n",
       "  </tbody>\n",
       "</table>\n",
       "</div>"
      ],
      "text/plain": [
       "                                               headlines  \\\n",
       "96845  Manipur govt decides to set up anti-corruption...   \n",
       "93244  Olympic champion swimmer competes while 6 mont...   \n",
       "3465   India removes price cap on innovative drugs fo...   \n",
       "71597  I'm very happy: Ali on rumoured relationship w...   \n",
       "10468  Drunk NRI falls from Delhi's Taj Mahal Hotel t...   \n",
       "65931  Designers walk for JJ Valaya's show on his 25 ...   \n",
       "79875  What does the design of Karnataka's state flag...   \n",
       "2327   Why do they pretend I don't exist? Kangana on ...   \n",
       "61839  Federer wins three awards at ATP World Tour Aw...   \n",
       "75523  American tourist beaten up for giving Nazi sal...   \n",
       "\n",
       "                                                    text  \n",
       "96845  The BJP-led Manipur government has decided to ...  \n",
       "93244  Five-time Olympic gold medallist swimmer Dana ...  \n",
       "3465   The government on Thursday removed the price c...  \n",
       "71597  Ali Fazal, while speaking about his rumoured r...  \n",
       "10468  A 48-year-old NRI businessman died after he ac...  \n",
       "65931  Fashion designers, including Ashish Soni and R...  \n",
       "79875  The Karnataka state flag was designed by Kanna...  \n",
       "2327   Kangana Ranaut, while speaking about her conte...  \n",
       "61839  Swiss tennis star Roger Federer was given the ...  \n",
       "75523  Police said a drunken American man was punched...  "
      ]
     },
     "execution_count": 3,
     "metadata": {},
     "output_type": "execute_result"
    }
   ],
   "source": [
    "data.sample(10)"
   ]
  },
  {
   "cell_type": "markdown",
   "id": "2d8b51ba",
   "metadata": {},
   "source": [
    "## 데이터 전처리 하기"
   ]
  },
  {
   "cell_type": "markdown",
   "id": "00f7f903",
   "metadata": {},
   "source": [
    "### 결측치 확인 및 제거"
   ]
  },
  {
   "cell_type": "code",
   "execution_count": 4,
   "id": "4fac31c7",
   "metadata": {},
   "outputs": [
    {
     "data": {
      "text/plain": [
       "headlines    0\n",
       "text         0\n",
       "dtype: int64"
      ]
     },
     "execution_count": 4,
     "metadata": {},
     "output_type": "execute_result"
    }
   ],
   "source": [
    "# 결측치가 없다\n",
    "data.isnull().sum()"
   ]
  },
  {
   "cell_type": "markdown",
   "id": "2935743c",
   "metadata": {},
   "source": [
    "### 중복 제거"
   ]
  },
  {
   "cell_type": "code",
   "execution_count": 5,
   "id": "0189c042",
   "metadata": {},
   "outputs": [
    {
     "data": {
      "text/plain": [
       "('PM Modi unveils projects worth over Ã¢Â\\x82Â¹14,000 crore in Odisha',\n",
       " 'PM Narendra Modi has inaugurated or laid foundation for projects worth over Ã¢Â\\x82Â¹14,000 crore in Odisha, including a IIT Bhubaneswar campus that cost Ã¢Â\\x82Â¹1,260 crore. He laid foundation for Indian Institutes of Science Education and Research campus which is estimated to cost Ã¢Â\\x82Â¹1,583 crore. He also laid foundation for a Paradip-Hyderabad gas pipeline, that is expected to cost Ã¢Â\\x82Â¹3,800 crore.')"
      ]
     },
     "execution_count": 5,
     "metadata": {},
     "output_type": "execute_result"
    }
   ],
   "source": [
    "# 결과에 깨진 글자가 있어서 점검, \n",
    "# 고유명사로 보이고, 나름 정확히 처리 되어서 pass\n",
    "data.iloc[4900]['headlines'], data.iloc[4900]['text']"
   ]
  },
  {
   "cell_type": "code",
   "execution_count": 6,
   "id": "2453d940",
   "metadata": {},
   "outputs": [
    {
     "data": {
      "text/plain": [
       "(196802, 98280, 98360)"
      ]
     },
     "execution_count": 6,
     "metadata": {},
     "output_type": "execute_result"
    }
   ],
   "source": [
    "# 중복 제거시 영향도 파악을 위한 갯수 확인\n",
    "data.size, data['headlines'].nunique(), data['text'].nunique()"
   ]
  },
  {
   "cell_type": "code",
   "execution_count": 7,
   "id": "b804a89a",
   "metadata": {},
   "outputs": [
    {
     "data": {
      "text/plain": [
       "196720"
      ]
     },
     "execution_count": 7,
     "metadata": {},
     "output_type": "execute_result"
    }
   ],
   "source": [
    "# 원본 텍스트가 달라도 요약본이 동일할 수 있으므로, text의 중복을 제거한다.\n",
    "data.drop_duplicates(subset = ['text'], inplace=True)\n",
    "data.size"
   ]
  },
  {
   "cell_type": "markdown",
   "id": "d33fc782",
   "metadata": {},
   "source": [
    "### 텍스트 정규화"
   ]
  },
  {
   "cell_type": "code",
   "execution_count": 8,
   "id": "f9337db8",
   "metadata": {},
   "outputs": [
    {
     "name": "stdout",
     "output_type": "stream",
     "text": [
      "정규화 사전의 수:  120\n"
     ]
    }
   ],
   "source": [
    "# 정규화 사전 추가\n",
    "contractions = {\"ain't\": \"is not\", \"aren't\": \"are not\",\"can't\": \"cannot\", \"'cause\": \"because\", \"could've\": \"could have\", \"couldn't\": \"could not\",\n",
    "                           \"didn't\": \"did not\",  \"doesn't\": \"does not\", \"don't\": \"do not\", \"hadn't\": \"had not\", \"hasn't\": \"has not\", \"haven't\": \"have not\",\n",
    "                           \"he'd\": \"he would\",\"he'll\": \"he will\", \"he's\": \"he is\", \"how'd\": \"how did\", \"how'd'y\": \"how do you\", \"how'll\": \"how will\", \"how's\": \"how is\",\n",
    "                           \"I'd\": \"I would\", \"I'd've\": \"I would have\", \"I'll\": \"I will\", \"I'll've\": \"I will have\",\"I'm\": \"I am\", \"I've\": \"I have\", \"i'd\": \"i would\",\n",
    "                           \"i'd've\": \"i would have\", \"i'll\": \"i will\",  \"i'll've\": \"i will have\",\"i'm\": \"i am\", \"i've\": \"i have\", \"isn't\": \"is not\", \"it'd\": \"it would\",\n",
    "                           \"it'd've\": \"it would have\", \"it'll\": \"it will\", \"it'll've\": \"it will have\",\"it's\": \"it is\", \"let's\": \"let us\", \"ma'am\": \"madam\",\n",
    "                           \"mayn't\": \"may not\", \"might've\": \"might have\",\"mightn't\": \"might not\",\"mightn't've\": \"might not have\", \"must've\": \"must have\",\n",
    "                           \"mustn't\": \"must not\", \"mustn't've\": \"must not have\", \"needn't\": \"need not\", \"needn't've\": \"need not have\",\"o'clock\": \"of the clock\",\n",
    "                           \"oughtn't\": \"ought not\", \"oughtn't've\": \"ought not have\", \"shan't\": \"shall not\", \"sha'n't\": \"shall not\", \"shan't've\": \"shall not have\",\n",
    "                           \"she'd\": \"she would\", \"she'd've\": \"she would have\", \"she'll\": \"she will\", \"she'll've\": \"she will have\", \"she's\": \"she is\",\n",
    "                           \"should've\": \"should have\", \"shouldn't\": \"should not\", \"shouldn't've\": \"should not have\", \"so've\": \"so have\",\"so's\": \"so as\",\n",
    "                           \"this's\": \"this is\",\"that'd\": \"that would\", \"that'd've\": \"that would have\", \"that's\": \"that is\", \"there'd\": \"there would\",\n",
    "                           \"there'd've\": \"there would have\", \"there's\": \"there is\", \"here's\": \"here is\",\"they'd\": \"they would\", \"they'd've\": \"they would have\",\n",
    "                           \"they'll\": \"they will\", \"they'll've\": \"they will have\", \"they're\": \"they are\", \"they've\": \"they have\", \"to've\": \"to have\",\n",
    "                           \"wasn't\": \"was not\", \"we'd\": \"we would\", \"we'd've\": \"we would have\", \"we'll\": \"we will\", \"we'll've\": \"we will have\", \"we're\": \"we are\",\n",
    "                           \"we've\": \"we have\", \"weren't\": \"were not\", \"what'll\": \"what will\", \"what'll've\": \"what will have\", \"what're\": \"what are\",\n",
    "                           \"what's\": \"what is\", \"what've\": \"what have\", \"when's\": \"when is\", \"when've\": \"when have\", \"where'd\": \"where did\", \"where's\": \"where is\",\n",
    "                           \"where've\": \"where have\", \"who'll\": \"who will\", \"who'll've\": \"who will have\", \"who's\": \"who is\", \"who've\": \"who have\",\n",
    "                           \"why's\": \"why is\", \"why've\": \"why have\", \"will've\": \"will have\", \"won't\": \"will not\", \"won't've\": \"will not have\",\n",
    "                           \"would've\": \"would have\", \"wouldn't\": \"would not\", \"wouldn't've\": \"would not have\", \"y'all\": \"you all\",\n",
    "                           \"y'all'd\": \"you all would\",\"y'all'd've\": \"you all would have\",\"y'all're\": \"you all are\",\"y'all've\": \"you all have\",\n",
    "                           \"you'd\": \"you would\", \"you'd've\": \"you would have\", \"you'll\": \"you will\", \"you'll've\": \"you will have\",\n",
    "                           \"you're\": \"you are\", \"you've\": \"you have\"}\n",
    "\n",
    "print(\"정규화 사전의 수: \", len(contractions))"
   ]
  },
  {
   "cell_type": "markdown",
   "id": "b06eaa2d",
   "metadata": {},
   "source": [
    "### 불용어 처리"
   ]
  },
  {
   "cell_type": "code",
   "execution_count": 9,
   "id": "c2bedcb8",
   "metadata": {},
   "outputs": [
    {
     "name": "stderr",
     "output_type": "stream",
     "text": [
      "[nltk_data] Downloading package stopwords to /aiffel/nltk_data...\n",
      "[nltk_data]   Package stopwords is already up-to-date!\n"
     ]
    },
    {
     "data": {
      "text/plain": [
       "True"
      ]
     },
     "execution_count": 9,
     "metadata": {},
     "output_type": "execute_result"
    }
   ],
   "source": [
    "nltk.download('stopwords')"
   ]
  },
  {
   "cell_type": "code",
   "execution_count": 10,
   "id": "8a0dce97",
   "metadata": {},
   "outputs": [
    {
     "name": "stdout",
     "output_type": "stream",
     "text": [
      "불용어 개수 : 179\n",
      "['i', 'me', 'my', 'myself', 'we', 'our', 'ours', 'ourselves', 'you', \"you're\", \"you've\", \"you'll\", \"you'd\", 'your', 'yours', 'yourself', 'yourselves', 'he', 'him', 'his', 'himself', 'she', \"she's\", 'her', 'hers', 'herself', 'it', \"it's\", 'its', 'itself', 'they', 'them', 'their', 'theirs', 'themselves', 'what', 'which', 'who', 'whom', 'this', 'that', \"that'll\", 'these', 'those', 'am', 'is', 'are', 'was', 'were', 'be', 'been', 'being', 'have', 'has', 'had', 'having', 'do', 'does', 'did', 'doing', 'a', 'an', 'the', 'and', 'but', 'if', 'or', 'because', 'as', 'until', 'while', 'of', 'at', 'by', 'for', 'with', 'about', 'against', 'between', 'into', 'through', 'during', 'before', 'after', 'above', 'below', 'to', 'from', 'up', 'down', 'in', 'out', 'on', 'off', 'over', 'under', 'again', 'further', 'then', 'once', 'here', 'there', 'when', 'where', 'why', 'how', 'all', 'any', 'both', 'each', 'few', 'more', 'most', 'other', 'some', 'such', 'no', 'nor', 'not', 'only', 'own', 'same', 'so', 'than', 'too', 'very', 's', 't', 'can', 'will', 'just', 'don', \"don't\", 'should', \"should've\", 'now', 'd', 'll', 'm', 'o', 're', 've', 'y', 'ain', 'aren', \"aren't\", 'couldn', \"couldn't\", 'didn', \"didn't\", 'doesn', \"doesn't\", 'hadn', \"hadn't\", 'hasn', \"hasn't\", 'haven', \"haven't\", 'isn', \"isn't\", 'ma', 'mightn', \"mightn't\", 'mustn', \"mustn't\", 'needn', \"needn't\", 'shan', \"shan't\", 'shouldn', \"shouldn't\", 'wasn', \"wasn't\", 'weren', \"weren't\", 'won', \"won't\", 'wouldn', \"wouldn't\"]\n"
     ]
    }
   ],
   "source": [
    "# nltk에 정의된 불용어 출력\n",
    "print('불용어 개수 :', len(stopwords.words('english') ))\n",
    "print(stopwords.words('english'))"
   ]
  },
  {
   "cell_type": "code",
   "execution_count": 11,
   "id": "7164d172",
   "metadata": {},
   "outputs": [],
   "source": [
    "# 데이터 전처리 함수: 불용어와 정규화를 일괄 진행\n",
    "def preprocess_sentence(sentence, remove_stopwords=True):\n",
    "    sentence = sentence.lower() # 텍스트 소문자화\n",
    "    sentence = BeautifulSoup(sentence, \"lxml\").text # <br />, <a href = ...> 등의 html 태그 제거\n",
    "    sentence = re.sub(r'\\([^)]*\\)', '', sentence) # 괄호로 닫힌 문자열 (...) 제거 Ex) my husband (and myself!) for => my husband for\n",
    "    sentence = re.sub('\"','', sentence) # 쌍따옴표 \" 제거\n",
    "    sentence = ' '.join([contractions[t] if t in contractions else t for t in sentence.split(\" \")]) # 약어 정규화\n",
    "    sentence = re.sub(r\"'s\\b\",\"\", sentence) # 소유격 제거. Ex) roland's -> roland\n",
    "    sentence = re.sub(\"[^a-zA-Z]\", \" \", sentence) # 영어 외 문자(숫자, 특수문자 등) 공백으로 변환\n",
    "    sentence = re.sub('[m]{2,}', 'mm', sentence) # m이 3개 이상이면 2개로 변경. Ex) ummmmmmm yeah -> umm yeah\n",
    "    \n",
    "    # 불용어 제거 (Text)\n",
    "    if remove_stopwords:\n",
    "        tokens = ' '.join(word for word in sentence.split() if not word in stopwords.words('english') if len(word) > 1)\n",
    "    # 불용어 미제거 (Summary)\n",
    "    else:\n",
    "        tokens = ' '.join(word for word in sentence.split() if len(word) > 1)\n",
    "    return tokens"
   ]
  },
  {
   "cell_type": "code",
   "execution_count": 12,
   "id": "1a3ea86e",
   "metadata": {},
   "outputs": [
    {
     "data": {
      "text/plain": [
       "['saurav kant alumnus upgrad iiit pg program machine learning artificial intelligence sr systems engineer infosys almost years work experience program upgrad degree career support helped transition data scientist tech mahindra salary hike upgrad online power learning powered lakh careers',\n",
       " 'kunal shah credit card bill payment platform cred gave users chance win free food swiggy one year pranav kaushik delhi techie bagged reward spending cred coins users get one cred coin per rupee bill paid used avail rewards brands like ixigo bookmyshow ubereats cult fit',\n",
       " 'new zealand defeated india wickets fourth odi hamilton thursday win first match five match odi series india lost international match rohit sharma captaincy consecutive victories dating back march match witnessed india getting seventh lowest total odi cricket history']"
      ]
     },
     "execution_count": 12,
     "metadata": {},
     "output_type": "execute_result"
    }
   ],
   "source": [
    "# 텍스트 정제\n",
    "clean_text = list(map(preprocess_sentence, data['text']))\n",
    "clean_text[:3]"
   ]
  },
  {
   "cell_type": "code",
   "execution_count": 13,
   "id": "90de0318",
   "metadata": {},
   "outputs": [
    {
     "data": {
      "text/plain": [
       "['upgrad learner switches to career in ml al with salary hike',\n",
       " 'delhi techie wins free food from swiggy for one year on cred',\n",
       " 'new zealand end rohit sharma led india match winning streak']"
      ]
     },
     "execution_count": 13,
     "metadata": {},
     "output_type": "execute_result"
    }
   ],
   "source": [
    "# 해드라인 정제\n",
    "clean_headline = list(map(lambda x: preprocess_sentence(x, False), data['headlines']))\n",
    "clean_headline[:3]"
   ]
  },
  {
   "cell_type": "code",
   "execution_count": 14,
   "id": "3a616e02",
   "metadata": {},
   "outputs": [
    {
     "name": "stdout",
     "output_type": "stream",
     "text": [
      "Done\n"
     ]
    }
   ],
   "source": [
    "# 정제된 텍스트 반영\n",
    "data['text'] = clean_text\n",
    "data['headlines'] = clean_headline\n",
    "\n",
    "# 빈 값을 Null 값으로 변환\n",
    "data.replace('', np.nan, inplace=True)\n",
    "print('Done')"
   ]
  },
  {
   "cell_type": "code",
   "execution_count": 15,
   "id": "fab0c0ed",
   "metadata": {},
   "outputs": [
    {
     "data": {
      "text/plain": [
       "headlines    0\n",
       "text         0\n",
       "dtype: int64"
      ]
     },
     "execution_count": 15,
     "metadata": {},
     "output_type": "execute_result"
    }
   ],
   "source": [
    "# 정제 이후 결측치 발생 여부 확인\n",
    "data.isnull().sum()"
   ]
  },
  {
   "cell_type": "code",
   "execution_count": 16,
   "id": "276289af",
   "metadata": {},
   "outputs": [
    {
     "name": "stdout",
     "output_type": "stream",
     "text": [
      "전체 샘플수 : 98360\n"
     ]
    }
   ],
   "source": [
    "# 결측치 제거\n",
    "data.dropna(axis=0, inplace=True)\n",
    "print('전체 샘플수 :', (len(data)))"
   ]
  },
  {
   "cell_type": "code",
   "execution_count": 17,
   "id": "2a1f3842",
   "metadata": {
    "scrolled": false
   },
   "outputs": [
    {
     "name": "stdout",
     "output_type": "stream",
     "text": [
      "텍스트의 최소 길이 : 1\n",
      "텍스트의 최대 길이 : 60\n",
      "텍스트의 평균 길이 : 35.09968483123221\n",
      "요약의 최소 길이 : 1\n",
      "요약의 최대 길이 : 16\n",
      "요약의 평균 길이 : 9.299532330215534\n"
     ]
    },
    {
     "data": {
      "image/png": "[encoded data removed]",
      "text/plain": [
       "<Figure size 432x288 with 2 Axes>"
      ]
     },
     "metadata": {
      "needs_background": "light"
     },
     "output_type": "display_data"
    },
    {
     "data": {
      "image/png": "[encoded data removed]",
      "text/plain": [
       "<Figure size 432x288 with 1 Axes>"
      ]
     },
     "metadata": {
      "needs_background": "light"
     },
     "output_type": "display_data"
    },
    {
     "data": {
      "image/png": "[encoded data removed]",
      "text/plain": [
       "<Figure size 432x288 with 1 Axes>"
      ]
     },
     "metadata": {
      "needs_background": "light"
     },
     "output_type": "display_data"
    }
   ],
   "source": [
    "# 길이 분포 출력\n",
    "import matplotlib.pyplot as plt\n",
    "\n",
    "text_len = [len(s.split()) for s in data['text']]\n",
    "summary_len = [len(s.split()) for s in data['headlines']]\n",
    "\n",
    "print('텍스트의 최소 길이 : {}'.format(np.min(text_len)))\n",
    "print('텍스트의 최대 길이 : {}'.format(np.max(text_len)))\n",
    "print('텍스트의 평균 길이 : {}'.format(np.mean(text_len)))\n",
    "print('요약의 최소 길이 : {}'.format(np.min(summary_len)))\n",
    "print('요약의 최대 길이 : {}'.format(np.max(summary_len)))\n",
    "print('요약의 평균 길이 : {}'.format(np.mean(summary_len)))\n",
    "\n",
    "plt.subplot(1,2,1)\n",
    "plt.boxplot(text_len)\n",
    "plt.title('Text')\n",
    "plt.subplot(1,2,2)\n",
    "plt.boxplot(summary_len)\n",
    "plt.title('headline')\n",
    "plt.tight_layout()\n",
    "plt.show()\n",
    "\n",
    "plt.title('Text')\n",
    "plt.hist(text_len, bins = 40)\n",
    "plt.xlabel('length of samples')\n",
    "plt.ylabel('number of samples')\n",
    "plt.show()\n",
    "\n",
    "plt.title('headline')\n",
    "plt.hist(summary_len, bins = 40)\n",
    "plt.xlabel('length of samples')\n",
    "plt.ylabel('number of samples')\n",
    "plt.show()"
   ]
  },
  {
   "cell_type": "code",
   "execution_count": 18,
   "id": "f51a5184",
   "metadata": {},
   "outputs": [],
   "source": [
    "# 평균 보다 조금 높게 글자수 설정\n",
    "text_max_len = 50\n",
    "headlines_max_len = 14"
   ]
  },
  {
   "cell_type": "code",
   "execution_count": 19,
   "id": "a91bfe15",
   "metadata": {},
   "outputs": [
    {
     "name": "stdout",
     "output_type": "stream",
     "text": [
      "Done\n"
     ]
    }
   ],
   "source": [
    "# max 범위 점검, 커버리지 확인\n",
    "def below_threshold_len(max_len, nested_list):\n",
    "    cnt = 0\n",
    "    for s in nested_list:\n",
    "        if(len(s.split()) <= max_len):\n",
    "            cnt = cnt + 1\n",
    "    print('전체 샘플 중 길이가 %s 이하인 샘플의 비율: %s'%(max_len, (cnt / len(nested_list))))\n",
    "    print(len(nested_list), cnt)\n",
    "print('Done')"
   ]
  },
  {
   "cell_type": "code",
   "execution_count": 20,
   "id": "ad7f8488",
   "metadata": {},
   "outputs": [
    {
     "name": "stdout",
     "output_type": "stream",
     "text": [
      "전체 샘플 중 길이가 50 이하인 샘플의 비율: 0.9998576657177715\n",
      "98360 98346\n",
      "전체 샘플 중 길이가 14 이하인 샘플의 비율: 0.9997763318422123\n",
      "98360 98338\n"
     ]
    }
   ],
   "source": [
    "# 함수 호출\n",
    "below_threshold_len(text_max_len, data['text'])\n",
    "below_threshold_len(headlines_max_len,  data['headlines'])"
   ]
  },
  {
   "cell_type": "code",
   "execution_count": 21,
   "id": "5ecd230a",
   "metadata": {},
   "outputs": [
    {
     "name": "stdout",
     "output_type": "stream",
     "text": [
      "Done\n"
     ]
    }
   ],
   "source": [
    "# min 범위 커버리지 확인\n",
    "# 글자가 1개인 경우도 불필요하다고 봄\n",
    "\n",
    "def above_threshold_len(min_len, nested_list):\n",
    "    cnt = 0\n",
    "    for s in nested_list:\n",
    "        if(len(s.split()) > min_len):\n",
    "            cnt = cnt + 1\n",
    "    print('전체 샘플 중 길이가 %s 이하인 샘플의 비율: %s'%(min_len, (cnt / len(nested_list))))\n",
    "    print(len(nested_list), cnt)\n",
    "print('Done')"
   ]
  },
  {
   "cell_type": "code",
   "execution_count": 22,
   "id": "17cc7c16",
   "metadata": {},
   "outputs": [
    {
     "name": "stdout",
     "output_type": "stream",
     "text": [
      "전체 샘플 중 길이가 1 이하인 샘플의 비율: 0.9999898332655551\n",
      "98360 98359\n",
      "전체 샘플 중 길이가 1 이하인 샘플의 비율: 0.9999898332655551\n",
      "98360 98359\n"
     ]
    }
   ],
   "source": [
    "# 함수 호출 및 결과 도출\n",
    "min_text_len = 1\n",
    "above_threshold_len(min_text_len, data['text'])\n",
    "above_threshold_len(min_text_len,  data['headlines'])"
   ]
  },
  {
   "cell_type": "code",
   "execution_count": 23,
   "id": "2f28acbb",
   "metadata": {},
   "outputs": [
    {
     "name": "stdout",
     "output_type": "stream",
     "text": [
      "전체 샘플수 : 98323\n"
     ]
    }
   ],
   "source": [
    "# 데이터프레임에 반영\n",
    "# min_text_len <= len(data.iloc[1,1].split()) <= text_max_len\n",
    "\n",
    "data = data[data.apply(\n",
    "    lambda x: (min_text_len < len(x['text'].split()) <= text_max_len) \n",
    "    and  (min_text_len < len(x['headlines'].split()) <= headlines_max_len), axis=1)]\n",
    "\n",
    "print('전체 샘플수 :', (len(data)))\n"
   ]
  },
  {
   "cell_type": "markdown",
   "id": "2dc52d69",
   "metadata": {},
   "source": [
    "### 시작/종료 토큰 추가"
   ]
  },
  {
   "cell_type": "code",
   "execution_count": 24,
   "id": "a518203c",
   "metadata": {},
   "outputs": [
    {
     "data": {
      "text/html": [
       "<div>\n",
       "<style scoped>\n",
       "    .dataframe tbody tr th:only-of-type {\n",
       "        vertical-align: middle;\n",
       "    }\n",
       "\n",
       "    .dataframe tbody tr th {\n",
       "        vertical-align: top;\n",
       "    }\n",
       "\n",
       "    .dataframe thead th {\n",
       "        text-align: right;\n",
       "    }\n",
       "</style>\n",
       "<table border=\"1\" class=\"dataframe\">\n",
       "  <thead>\n",
       "    <tr style=\"text-align: right;\">\n",
       "      <th></th>\n",
       "      <th>headlines</th>\n",
       "      <th>text</th>\n",
       "      <th>decoder_input</th>\n",
       "      <th>decoder_target</th>\n",
       "    </tr>\n",
       "  </thead>\n",
       "  <tbody>\n",
       "    <tr>\n",
       "      <th>0</th>\n",
       "      <td>upgrad learner switches to career in ml al wit...</td>\n",
       "      <td>saurav kant alumnus upgrad iiit pg program mac...</td>\n",
       "      <td>sostoken upgrad learner switches to career in ...</td>\n",
       "      <td>upgrad learner switches to career in ml al wit...</td>\n",
       "    </tr>\n",
       "    <tr>\n",
       "      <th>1</th>\n",
       "      <td>delhi techie wins free food from swiggy for on...</td>\n",
       "      <td>kunal shah credit card bill payment platform c...</td>\n",
       "      <td>sostoken delhi techie wins free food from swig...</td>\n",
       "      <td>delhi techie wins free food from swiggy for on...</td>\n",
       "    </tr>\n",
       "    <tr>\n",
       "      <th>2</th>\n",
       "      <td>new zealand end rohit sharma led india match w...</td>\n",
       "      <td>new zealand defeated india wickets fourth odi ...</td>\n",
       "      <td>sostoken new zealand end rohit sharma led indi...</td>\n",
       "      <td>new zealand end rohit sharma led india match w...</td>\n",
       "    </tr>\n",
       "    <tr>\n",
       "      <th>3</th>\n",
       "      <td>aegon life iterm insurance plan helps customer...</td>\n",
       "      <td>aegon life iterm insurance plan customers enjo...</td>\n",
       "      <td>sostoken aegon life iterm insurance plan helps...</td>\n",
       "      <td>aegon life iterm insurance plan helps customer...</td>\n",
       "    </tr>\n",
       "    <tr>\n",
       "      <th>4</th>\n",
       "      <td>have known hirani for yrs what if metoo claims...</td>\n",
       "      <td>speaking sexual harassment allegations rajkuma...</td>\n",
       "      <td>sostoken have known hirani for yrs what if met...</td>\n",
       "      <td>have known hirani for yrs what if metoo claims...</td>\n",
       "    </tr>\n",
       "  </tbody>\n",
       "</table>\n",
       "</div>"
      ],
      "text/plain": [
       "                                           headlines  \\\n",
       "0  upgrad learner switches to career in ml al wit...   \n",
       "1  delhi techie wins free food from swiggy for on...   \n",
       "2  new zealand end rohit sharma led india match w...   \n",
       "3  aegon life iterm insurance plan helps customer...   \n",
       "4  have known hirani for yrs what if metoo claims...   \n",
       "\n",
       "                                                text  \\\n",
       "0  saurav kant alumnus upgrad iiit pg program mac...   \n",
       "1  kunal shah credit card bill payment platform c...   \n",
       "2  new zealand defeated india wickets fourth odi ...   \n",
       "3  aegon life iterm insurance plan customers enjo...   \n",
       "4  speaking sexual harassment allegations rajkuma...   \n",
       "\n",
       "                                       decoder_input  \\\n",
       "0  sostoken upgrad learner switches to career in ...   \n",
       "1  sostoken delhi techie wins free food from swig...   \n",
       "2  sostoken new zealand end rohit sharma led indi...   \n",
       "3  sostoken aegon life iterm insurance plan helps...   \n",
       "4  sostoken have known hirani for yrs what if met...   \n",
       "\n",
       "                                      decoder_target  \n",
       "0  upgrad learner switches to career in ml al wit...  \n",
       "1  delhi techie wins free food from swiggy for on...  \n",
       "2  new zealand end rohit sharma led india match w...  \n",
       "3  aegon life iterm insurance plan helps customer...  \n",
       "4  have known hirani for yrs what if metoo claims...  "
      ]
     },
     "execution_count": 24,
     "metadata": {},
     "output_type": "execute_result"
    }
   ],
   "source": [
    "# 시작/종료 토큰을 추가하고 새로운 열로 추가\n",
    "data['decoder_input'] = data['headlines'].apply(lambda x : 'sostoken '+ x)\n",
    "data['decoder_target'] = data['headlines'].apply(lambda x : x + ' eostoken')\n",
    "data.head()"
   ]
  },
  {
   "cell_type": "code",
   "execution_count": 25,
   "id": "c8a7416f",
   "metadata": {},
   "outputs": [
    {
     "name": "stdout",
     "output_type": "stream",
     "text": [
      "Done\n"
     ]
    }
   ],
   "source": [
    "# 넘파이 배열로 변환\n",
    "encoder_input = np.array(data['text']) # 인코더의 입력\n",
    "decoder_input = np.array(data['decoder_input']) # 디코더의 입력\n",
    "decoder_target = np.array(data['decoder_target']) # 디코더의 레이블\n",
    "print('Done')"
   ]
  },
  {
   "cell_type": "markdown",
   "id": "33d8322a",
   "metadata": {},
   "source": [
    "### 테스트셋 나누기"
   ]
  },
  {
   "cell_type": "code",
   "execution_count": 26,
   "id": "694c49c2",
   "metadata": {},
   "outputs": [
    {
     "name": "stdout",
     "output_type": "stream",
     "text": [
      "[94263  5982 74136 ... 21278 17955 65708]\n"
     ]
    }
   ],
   "source": [
    "# 순서를 섞기위한 인덱스 배열 생성후 셔플\n",
    "indices = np.arange(encoder_input.shape[0])\n",
    "np.random.shuffle(indices)\n",
    "print(indices)"
   ]
  },
  {
   "cell_type": "code",
   "execution_count": 27,
   "id": "da4a0746",
   "metadata": {},
   "outputs": [
    {
     "name": "stdout",
     "output_type": "stream",
     "text": [
      "Done\n"
     ]
    }
   ],
   "source": [
    "# 셔플된 인덱스 배열로 인코더 및 디코더 데이터 재정렬\n",
    "encoder_input = encoder_input[indices]\n",
    "decoder_input = decoder_input[indices]\n",
    "decoder_target = decoder_target[indices]\n",
    "print('Done')"
   ]
  },
  {
   "cell_type": "code",
   "execution_count": 28,
   "id": "90c749a8",
   "metadata": {},
   "outputs": [
    {
     "name": "stdout",
     "output_type": "stream",
     "text": [
      "테스트 데이터의 수 : 19664\n"
     ]
    }
   ],
   "source": [
    "# 테스트셋 단위 구성 20%가 테스트\n",
    "n_of_val = int(len(encoder_input)*0.2)\n",
    "print('테스트 데이터의 수 :', n_of_val)"
   ]
  },
  {
   "cell_type": "code",
   "execution_count": 29,
   "id": "5b831920",
   "metadata": {
    "scrolled": true
   },
   "outputs": [
    {
     "name": "stdout",
     "output_type": "stream",
     "text": [
      "훈련 데이터의 개수 : 78659\n",
      "훈련 레이블의 개수 : 78659\n",
      "테스트 데이터의 개수 : 19664\n",
      "테스트 레이블의 개수 : 19664\n"
     ]
    }
   ],
   "source": [
    "# 테스트셋, 트레인셋 나눔\n",
    "encoder_input_train = encoder_input[:-n_of_val]\n",
    "decoder_input_train = decoder_input[:-n_of_val]\n",
    "decoder_target_train = decoder_target[:-n_of_val]\n",
    "\n",
    "encoder_input_test = encoder_input[-n_of_val:]\n",
    "decoder_input_test = decoder_input[-n_of_val:]\n",
    "decoder_target_test = decoder_target[-n_of_val:]\n",
    "\n",
    "print('훈련 데이터의 개수 :', len(encoder_input_train))\n",
    "print('훈련 레이블의 개수 :', len(decoder_input_train))\n",
    "print('테스트 데이터의 개수 :', len(encoder_input_test))\n",
    "print('테스트 레이블의 개수 :', len(decoder_input_test))"
   ]
  },
  {
   "cell_type": "markdown",
   "id": "cdd5d2a9",
   "metadata": {},
   "source": [
    "### 단어 사전 및 정수 인코딩"
   ]
  },
  {
   "cell_type": "code",
   "execution_count": 30,
   "id": "6cc8992b",
   "metadata": {},
   "outputs": [
    {
     "name": "stdout",
     "output_type": "stream",
     "text": [
      "Done\n"
     ]
    }
   ],
   "source": [
    "# 케라스의 토크나이저를 생성하고, 이를 입력 데이터로 훈련시킴\n",
    "src_tokenizer = Tokenizer() # 토크나이저 정의\n",
    "src_tokenizer.fit_on_texts(encoder_input_train) # 입력된 데이터로부터 단어 집합 생성\n",
    "print('Done')"
   ]
  },
  {
   "cell_type": "code",
   "execution_count": 31,
   "id": "8413534c",
   "metadata": {},
   "outputs": [
    {
     "name": "stdout",
     "output_type": "stream",
     "text": [
      "단어 집합(vocabulary)의 크기 : 69636\n",
      "등장 빈도가 9번 이하인 희귀 단어의 수: 51241\n",
      "단어 집합에서 희귀 단어를 제외시킬 경우의 단어 집합의 크기 18395\n",
      "단어 집합에서 희귀 단어의 비율: 73.58406571313688\n",
      "전체 등장 빈도에서 희귀 단어 등장 빈도 비율: 4.558833863511725\n"
     ]
    }
   ],
   "source": [
    "threshold = 10\n",
    "total_cnt = len(src_tokenizer.word_index) # 단어의 수\n",
    "rare_cnt = 0 # 등장 빈도수가 threshold보다 작은 단어의 개수를 카운트\n",
    "total_freq = 0 # 훈련 데이터의 전체 단어 빈도수 총 합\n",
    "rare_freq = 0 # 등장 빈도수가 threshold보다 작은 단어의 등장 빈도수의 총 합\n",
    "\n",
    "# 단어와 빈도수의 쌍(pair)을 key와 value로 받는다.\n",
    "for key, value in src_tokenizer.word_counts.items():\n",
    "    total_freq = total_freq + value\n",
    "\n",
    "    # 단어의 등장 빈도수가 threshold보다 작으면\n",
    "    if(value < threshold):\n",
    "        rare_cnt = rare_cnt + 1\n",
    "        rare_freq = rare_freq + value\n",
    "\n",
    "print('단어 집합(vocabulary)의 크기 :', total_cnt)\n",
    "print('등장 빈도가 %s번 이하인 희귀 단어의 수: %s'%(threshold - 1, rare_cnt))\n",
    "print('단어 집합에서 희귀 단어를 제외시킬 경우의 단어 집합의 크기 %s'%(total_cnt - rare_cnt))\n",
    "print(\"단어 집합에서 희귀 단어의 비율:\", (rare_cnt / total_cnt)*100)\n",
    "print(\"전체 등장 빈도에서 희귀 단어 등장 빈도 비율:\", (rare_freq / total_freq)*100)"
   ]
  },
  {
   "cell_type": "code",
   "execution_count": 32,
   "id": "590e6b6f",
   "metadata": {},
   "outputs": [],
   "source": [
    "# 중복 함수 정리를 위해 효율화\n",
    "def analysis_voca(tokenizer, threshold):\n",
    "    '''\n",
    "    '''\n",
    "    total_cnt = len(tokenizer.word_index) # 단어의 수\n",
    "    rare_cnt = 0 # 등장 빈도수가 threshold보다 작은 단어의 개수를 카운트\n",
    "    total_freq = 0 # 훈련 데이터의 전체 단어 빈도수 총 합\n",
    "    rare_freq = 0 # 등장 빈도수가 threshold보다 작은 단어의 등장 빈도수의 총 합\n",
    "\n",
    "    # 단어와 빈도수의 쌍(pair)을 key와 value로 받는다.\n",
    "    for key, value in tokenizer.word_counts.items():\n",
    "        total_freq = total_freq + value\n",
    "\n",
    "        # 단어의 등장 빈도수가 threshold보다 작으면\n",
    "        if(value < threshold):\n",
    "            rare_cnt = rare_cnt + 1\n",
    "            rare_freq = rare_freq + value\n",
    "\n",
    "    print('단어 집합(vocabulary)의 크기 :', total_cnt)\n",
    "    print('등장 빈도가 %s번 이하인 희귀 단어의 수: %s'%(threshold - 1, rare_cnt))\n",
    "    print('단어 집합에서 희귀 단어를 제외시킬 경우의 단어 집합의 크기 %s'%(total_cnt - rare_cnt))\n",
    "    print(\"단어 집합에서 희귀 단어의 비율:\", (rare_cnt / total_cnt)*100)\n",
    "    print(\"전체 등장 빈도에서 희귀 단어 등장 빈도 비율:\", (rare_freq / total_freq)*100)"
   ]
  },
  {
   "cell_type": "code",
   "execution_count": 33,
   "id": "125547cb",
   "metadata": {},
   "outputs": [
    {
     "name": "stdout",
     "output_type": "stream",
     "text": [
      "단어 집합(vocabulary)의 크기 : 69636\n",
      "등장 빈도가 5번 이하인 희귀 단어의 수: 45682\n",
      "단어 집합에서 희귀 단어를 제외시킬 경우의 단어 집합의 크기 23954\n",
      "단어 집합에서 희귀 단어의 비율: 65.6011258544431\n",
      "전체 등장 빈도에서 희귀 단어 등장 빈도 비율: 3.0917815949978014\n"
     ]
    }
   ],
   "source": [
    "# 함수 테스트\n",
    "analysis_voca(src_tokenizer, 6)\n",
    "\n",
    "# 정상적으로 동작\n",
    "# 6회 이상 사용하지 않는 단어 확인"
   ]
  },
  {
   "cell_type": "code",
   "execution_count": 34,
   "id": "e90dc161",
   "metadata": {},
   "outputs": [
    {
     "name": "stdout",
     "output_type": "stream",
     "text": [
      "Done\n"
     ]
    }
   ],
   "source": [
    "# 단어 집합에서 희귀 단어를 제외시킬 경우의 단어 집합의 크기가 24024\n",
    "src_vocab = 24000\n",
    "src_tokenizer = Tokenizer(num_words=src_vocab) # 단어 집합의 크기를 24000으로 제한\n",
    "src_tokenizer.fit_on_texts(encoder_input_train) # 단어 집합 재생성\n",
    "print('Done')"
   ]
  },
  {
   "cell_type": "code",
   "execution_count": 35,
   "id": "1bad6793",
   "metadata": {},
   "outputs": [
    {
     "name": "stdout",
     "output_type": "stream",
     "text": [
      "[[282, 303, 9866, 2893, 4903, 10713, 131, 2658, 18, 194, 9866, 4903, 1247, 14285, 420, 351, 131, 139, 2658, 18, 1426, 75, 10483, 789, 17, 1005, 302, 15341, 5883], [2352, 553, 74, 55, 500, 542, 5215, 1, 10, 7349, 2745, 418, 18396, 418, 274, 393, 416, 1689, 6791, 9003, 119, 6879, 1631, 327, 105, 291, 4, 2352], [8558, 2220, 3283, 1248, 7656, 9676, 7, 388, 175, 1369, 74, 7781, 5080, 564, 2026, 4654, 388, 2765, 961, 8406, 2989, 15342, 13344, 15, 3821, 67, 3, 13, 156, 6352, 387, 217, 505, 1165, 2098]]\n"
     ]
    }
   ],
   "source": [
    "# 텍스트 시퀀스를 정수 시퀀스로 변환\n",
    "encoder_input_train = src_tokenizer.texts_to_sequences(encoder_input_train) \n",
    "encoder_input_test = src_tokenizer.texts_to_sequences(encoder_input_test)\n",
    "\n",
    "# 잘 진행되었는지 샘플 출력\n",
    "print(encoder_input_train[:3])"
   ]
  },
  {
   "cell_type": "code",
   "execution_count": 36,
   "id": "cae4a1d6",
   "metadata": {},
   "outputs": [
    {
     "name": "stdout",
     "output_type": "stream",
     "text": [
      "Done\n"
     ]
    }
   ],
   "source": [
    "tar_tokenizer = Tokenizer()\n",
    "tar_tokenizer.fit_on_texts(decoder_input_train)\n",
    "print('Done')"
   ]
  },
  {
   "cell_type": "code",
   "execution_count": null,
   "id": "aabd6214",
   "metadata": {},
   "outputs": [],
   "source": [
    "analysis_voca(tar_tokenizer, 6) # 비슷한 방식으로 "
   ]
  },
  {
   "cell_type": "code",
   "execution_count": null,
   "id": "a8a79d9a",
   "metadata": {},
   "outputs": [],
   "source": [
    "# 희귀단여 제외시 크기가 10432개 임으로 10000으로 설정\n",
    "tar_vocab = 10000\n",
    "tar_tokenizer = Tokenizer(num_words=tar_vocab) \n",
    "tar_tokenizer.fit_on_texts(decoder_input_train)\n",
    "tar_tokenizer.fit_on_texts(decoder_target_train)\n",
    "\n",
    "# 텍스트 시퀀스를 정수 시퀀스로 변환\n",
    "decoder_input_train = tar_tokenizer.texts_to_sequences(decoder_input_train) \n",
    "decoder_target_train = tar_tokenizer.texts_to_sequences(decoder_target_train)\n",
    "decoder_input_test = tar_tokenizer.texts_to_sequences(decoder_input_test)\n",
    "decoder_target_test = tar_tokenizer.texts_to_sequences(decoder_target_test)\n",
    "\n",
    "# 잘 변환되었는지 확인\n",
    "print('input')\n",
    "print('input ',decoder_input_train[:5])\n",
    "print('target')\n",
    "print('decoder ',decoder_target_train[:5])"
   ]
  },
  {
   "cell_type": "code",
   "execution_count": null,
   "id": "6c24b828",
   "metadata": {},
   "outputs": [],
   "source": [
    "# 불필요한 훈련 샘플 제거\n",
    "drop_train = [index for index, sentence in enumerate(decoder_input_train) if len(sentence) == 1]\n",
    "drop_test = [index for index, sentence in enumerate(decoder_input_test) if len(sentence) == 1]\n",
    "\n",
    "print('삭제할 훈련 데이터의 개수 :', len(drop_train))\n",
    "print('삭제할 테스트 데이터의 개수 :', len(drop_test))\n",
    "\n",
    "encoder_input_train = [sentence for index, sentence in enumerate(encoder_input_train) if index not in drop_train]\n",
    "decoder_input_train = [sentence for index, sentence in enumerate(decoder_input_train) if index not in drop_train]\n",
    "decoder_target_train = [sentence for index, sentence in enumerate(decoder_target_train) if index not in drop_train]\n",
    "\n",
    "encoder_input_test = [sentence for index, sentence in enumerate(encoder_input_test) if index not in drop_test]\n",
    "decoder_input_test = [sentence for index, sentence in enumerate(decoder_input_test) if index not in drop_test]\n",
    "decoder_target_test = [sentence for index, sentence in enumerate(decoder_target_test) if index not in drop_test]\n",
    "\n",
    "print('훈련 데이터의 개수 :', len(encoder_input_train))\n",
    "print('훈련 레이블의 개수 :', len(decoder_input_train))\n",
    "print('테스트 데이터의 개수 :', len(encoder_input_test))\n",
    "print('테스트 레이블의 개수 :', len(decoder_input_test))"
   ]
  },
  {
   "cell_type": "code",
   "execution_count": null,
   "id": "8dedb469",
   "metadata": {},
   "outputs": [],
   "source": [
    "# 최대 길이 기반으로 패딩 시퀀스 생성\n",
    "encoder_input_train = pad_sequences(encoder_input_train, maxlen=text_max_len, padding='post')\n",
    "encoder_input_test = pad_sequences(encoder_input_test, maxlen=text_max_len, padding='post')\n",
    "decoder_input_train = pad_sequences(decoder_input_train, maxlen=headlines_max_len, padding='post')\n",
    "decoder_target_train = pad_sequences(decoder_target_train, maxlen=headlines_max_len, padding='post')\n",
    "decoder_input_test = pad_sequences(decoder_input_test, maxlen=headlines_max_len, padding='post')\n",
    "decoder_target_test = pad_sequences(decoder_target_test, maxlen=headlines_max_len, padding='post')\n",
    "print('Done')"
   ]
  },
  {
   "cell_type": "markdown",
   "id": "dbf78b22",
   "metadata": {},
   "source": [
    "## 어텐션 메커니즘 구현\n",
    "\n",
    "\n",
    "train loss와 val loss 출력 감소 경향성 확인\n",
    "실제 요약문의 핵심 단어가 포함됬는지 파악"
   ]
  },
  {
   "cell_type": "code",
   "execution_count": null,
   "id": "5bac4347",
   "metadata": {},
   "outputs": [],
   "source": [
    "# GPU 확인\n",
    "!nvidia-smi"
   ]
  },
  {
   "cell_type": "code",
   "execution_count": null,
   "id": "6b5f9a3a",
   "metadata": {},
   "outputs": [],
   "source": [
    "# 노드에 나온것을 토대로 인코더 설계\n",
    "# 인코더 설계 시작\n",
    "embedding_dim = 128\n",
    "hidden_size = 256\n",
    "\n",
    "# 인코더\n",
    "encoder_inputs = Input(shape=(text_max_len,))\n",
    "\n",
    "# 인코더의 임베딩 층\n",
    "enc_emb = Embedding(src_vocab, embedding_dim)(encoder_inputs)\n",
    "\n",
    "# 인코더의 LSTM 1\n",
    "# encoder_lstm1 = LSTM(hidden_size, return_sequences=True, return_state=True ,dropout = 0.4, recurrent_dropout = 0.4)\n",
    "encoder_lstm1 = LSTM(hidden_size, return_sequences=True, return_state=True ,dropout = 0.4, recurrent_dropout = 0.4)\n",
    "encoder_output1, state_h1, state_c1 = encoder_lstm1(enc_emb)\n",
    "\n",
    "encoder_lstm2 = LSTM(hidden_size, return_sequences=True, return_state=True ,dropout = 0.4, recurrent_dropout = 0.4)\n",
    "encoder_output2, state_h2, state_c2 = encoder_lstm2(encoder_output1)\n",
    "\n",
    "encoder_lstm3 = LSTM(hidden_size, return_sequences=True, return_state=True ,dropout = 0.4, recurrent_dropout = 0.4)\n",
    "encoder_outputs, state_h, state_c = encoder_lstm3(encoder_output2)"
   ]
  },
  {
   "cell_type": "code",
   "execution_count": null,
   "id": "34e44e71",
   "metadata": {},
   "outputs": [],
   "source": [
    "# 노드에 나온것을 토대로 디코더 설계\n",
    "# 디코더 설계\n",
    "decoder_inputs = Input(shape=(None,))\n",
    "\n",
    "# 디코더의 임베딩 층\n",
    "dec_emb_layer = Embedding(tar_vocab, embedding_dim)\n",
    "dec_emb = dec_emb_layer(decoder_inputs)\n",
    "\n",
    "# 디코더의 LSTM\n",
    "# decoder_lstm = LSTM(hidden_size, return_sequences=True, return_state=True, dropout=0.4, recurrent_dropout=0.2)\n",
    "decoder_lstm = LSTM(hidden_size, return_sequences=True, return_state=True, dropout=0.4, recurrent_dropout=0.2)\n",
    "decoder_outputs, _, _ = decoder_lstm(dec_emb, initial_state=[state_h, state_c])"
   ]
  },
  {
   "cell_type": "code",
   "execution_count": null,
   "id": "a8075a5b",
   "metadata": {},
   "outputs": [],
   "source": [
    "# 디코더의 출력층\n",
    "decoder_softmax_layer = Dense(tar_vocab, activation='softmax')\n",
    "decoder_softmax_outputs = decoder_softmax_layer(decoder_outputs) \n",
    "\n",
    "# 모델 정의\n",
    "model = Model([encoder_inputs, decoder_inputs], decoder_softmax_outputs)\n",
    "model.summary()"
   ]
  },
  {
   "cell_type": "code",
   "execution_count": null,
   "id": "d8e1c3aa",
   "metadata": {},
   "outputs": [],
   "source": [
    "# 어텐션 층(어텐션 함수)\n",
    "attn_layer = AdditiveAttention(name='attention_layer')\n",
    "\n",
    "# 인코더와 디코더의 모든 time step의 hidden state를 어텐션 층에 전달하고 결과를 리턴\n",
    "attn_out = attn_layer([decoder_outputs, encoder_outputs])\n",
    "\n",
    "\n",
    "# 어텐션의 결과와 디코더의 hidden state들을 연결\n",
    "decoder_concat_input = Concatenate(axis=-1, name='concat_layer')([decoder_outputs, attn_out])\n",
    "\n",
    "# 디코더의 출력층\n",
    "decoder_softmax_layer = Dense(tar_vocab, activation='softmax')\n",
    "decoder_softmax_outputs = decoder_softmax_layer(decoder_concat_input)\n",
    "\n",
    "# 모델 정의\n",
    "model = Model([encoder_inputs, decoder_inputs], decoder_softmax_outputs)\n",
    "model.summary()"
   ]
  },
  {
   "cell_type": "code",
   "execution_count": 46,
   "id": "8b64fb77",
   "metadata": {},
   "outputs": [
    {
     "name": "stdout",
     "output_type": "stream",
     "text": [
      "308/308 [==============================] - 248s 775ms/step - loss: 4.8619 - val_loss: 4.4786\n",
      "Epoch 2/50\n",
      "308/308 [==============================] - 238s 772ms/step - loss: 4.3427 - val_loss: 4.1602\n",
      "Epoch 3/50\n",
      "308/308 [==============================] - 236s 767ms/step - loss: 4.0505 - val_loss: 3.9412\n",
      "Epoch 4/50\n",
      "308/308 [==============================] - 234s 761ms/step - loss: 3.8223 - val_loss: 3.7510\n",
      "Epoch 5/50\n",
      "308/308 [==============================] - 232s 752ms/step - loss: 3.6457 - val_loss: 3.6328\n",
      "Epoch 6/50\n",
      "308/308 [==============================] - 235s 763ms/step - loss: 3.5001 - val_loss: 3.5422\n",
      "Epoch 7/50\n",
      "308/308 [==============================] - 232s 752ms/step - loss: 3.3771 - val_loss: 3.4604\n",
      "Epoch 8/50\n",
      "308/308 [==============================] - 231s 751ms/step - loss: 3.2689 - val_loss: 3.4024\n",
      "Epoch 9/50\n",
      "308/308 [==============================] - 229s 744ms/step - loss: 3.1750 - val_loss: 3.3446\n",
      "Epoch 10/50\n",
      "308/308 [==============================] - 229s 744ms/step - loss: 3.0905 - val_loss: 3.3031\n",
      "Epoch 11/50\n",
      "308/308 [==============================] - 229s 745ms/step - loss: 3.0146 - val_loss: 3.2676\n",
      "Epoch 12/50\n",
      "308/308 [==============================] - 229s 745ms/step - loss: 2.9452 - val_loss: 3.2398\n",
      "Epoch 13/50\n",
      "308/308 [==============================] - 230s 748ms/step - loss: 2.8871 - val_loss: 3.2093\n",
      "Epoch 14/50\n",
      "308/308 [==============================] - 229s 744ms/step - loss: 2.8328 - val_loss: 3.1960\n",
      "Epoch 15/50\n",
      "308/308 [==============================] - 230s 747ms/step - loss: 2.7805 - val_loss: 3.1842\n",
      "Epoch 16/50\n",
      "308/308 [==============================] - 229s 743ms/step - loss: 2.7320 - val_loss: 3.1574\n",
      "Epoch 17/50\n",
      "308/308 [==============================] - 229s 744ms/step - loss: 2.6872 - val_loss: 3.1537\n",
      "Epoch 18/50\n",
      "308/308 [==============================] - 229s 742ms/step - loss: 2.6452 - val_loss: 3.1351\n",
      "Epoch 19/50\n",
      "308/308 [==============================] - 228s 741ms/step - loss: 2.6041 - val_loss: 3.1308\n",
      "Epoch 20/50\n",
      "308/308 [==============================] - 228s 740ms/step - loss: 2.5699 - val_loss: 3.1156\n",
      "Epoch 21/50\n",
      "308/308 [==============================] - 228s 740ms/step - loss: 2.5352 - val_loss: 3.1119\n",
      "Epoch 22/50\n",
      "308/308 [==============================] - 227s 737ms/step - loss: 2.4990 - val_loss: 3.1020\n",
      "Epoch 23/50\n",
      "308/308 [==============================] - 228s 739ms/step - loss: 2.4666 - val_loss: 3.1005\n",
      "Epoch 24/50\n",
      "308/308 [==============================] - 232s 753ms/step - loss: 2.4347 - val_loss: 3.0942\n",
      "Epoch 25/50\n",
      "308/308 [==============================] - 229s 743ms/step - loss: 2.4086 - val_loss: 3.0917\n",
      "Epoch 26/50\n",
      "308/308 [==============================] - 233s 756ms/step - loss: 2.3835 - val_loss: 3.0909\n",
      "Epoch 27/50\n",
      "308/308 [==============================] - 231s 750ms/step - loss: 2.3597 - val_loss: 3.0806\n",
      "Epoch 28/50\n",
      "308/308 [==============================] - 227s 737ms/step - loss: 2.3140 - val_loss: 3.0861\n",
      "Epoch 00029: early stopping\n"
     ]
    }
   ],
   "source": [
    "model.compile(optimizer='rmsprop', loss='sparse_categorical_crossentropy')\n",
    "es = EarlyStopping(monitor='val_loss', patience=2, verbose=1)\n",
    "history = model.fit(x=[encoder_input_train, decoder_input_train], y=decoder_target_train, \\\n",
    "          validation_data=([encoder_input_test, decoder_input_test], decoder_target_test), \\\n",
    "          batch_size=256, callbacks=[es], epochs=50)"
   ]
  },
  {
   "cell_type": "code",
   "execution_count": 47,
   "id": "bced4d14",
   "metadata": {},
   "outputs": [
    {
     "data": {
      "image/png": "[encoded data removed]",
      "text/plain": [
       "<Figure size 432x288 with 1 Axes>"
      ]
     },
     "metadata": {
      "needs_background": "light"
     },
     "output_type": "display_data"
    }
   ],
   "source": [
    "# loss 그래프 출력\n",
    "plt.plot(history.history['loss'], label='train')\n",
    "plt.plot(history.history['val_loss'], label='test')\n",
    "plt.legend()\n",
    "plt.show()"
   ]
  },
  {
   "cell_type": "markdown",
   "id": "bceb7381",
   "metadata": {},
   "source": [
    "29 epochs에서 early stopping 했다.\n",
    "5 epochs까지 train과 test모두 비슷한 정도로 크게 감소했다.\n",
    "test의 경우10 epochs부터 완만하게 감소하는 반면에 train의 loss값은 같은 경향성을 그대로 이어서 급격하게 감소하는 경향을 볼 수 있다."
   ]
  },
  {
   "cell_type": "markdown",
   "id": "42601acd",
   "metadata": {},
   "source": [
    "## 실제 결과와 요약문 비교"
   ]
  },
  {
   "cell_type": "code",
   "execution_count": 48,
   "id": "ae0c3acf",
   "metadata": {},
   "outputs": [
    {
     "name": "stdout",
     "output_type": "stream",
     "text": [
      "Done\n"
     ]
    }
   ],
   "source": [
    "# 복원 작업을 위한 Dict 생성\n",
    "src_index_to_word = src_tokenizer.index_word # 원문 단어 집합에서 정수 -> 단어를 얻음\n",
    "tar_word_to_index = tar_tokenizer.word_index # 요약 단어 집합에서 단어 -> 정수를 얻음\n",
    "tar_index_to_word = tar_tokenizer.index_word # 요약 단어 집합에서 정수 -> 단어를 얻음\n",
    "\n",
    "print('Done')"
   ]
  },
  {
   "cell_type": "code",
   "execution_count": 49,
   "id": "04b431ce",
   "metadata": {},
   "outputs": [
    {
     "name": "stdout",
     "output_type": "stream",
     "text": [
      "Done\n"
     ]
    }
   ],
   "source": [
    "# inference 모델 구현\n",
    "# seq2seq는 trian과 inference시의 모델이 다름\n",
    "# 따라서 별도로 구현\n",
    "\n",
    "# 인코더 설계\n",
    "encoder_model = Model(inputs=encoder_inputs, outputs=[encoder_outputs, state_h, state_c])\n",
    "\n",
    "# 이전 시점의 상태들을 저장하는 텐서\n",
    "decoder_state_input_h = Input(shape=(hidden_size,))\n",
    "decoder_state_input_c = Input(shape=(hidden_size,))\n",
    "\n",
    "dec_emb2 = dec_emb_layer(decoder_inputs)\n",
    "\n",
    "# 문장의 다음 단어를 예측하기 위해서 초기 상태(initial_state)를 이전 시점의 상태로 사용. 이는 뒤의 함수 decode_sequence()에 구현\n",
    "# 훈련 과정에서와 달리 LSTM의 리턴하는 은닉 상태와 셀 상태인 state_h와 state_c를 버리지 않음.\n",
    "decoder_outputs2, state_h2, state_c2 = decoder_lstm(dec_emb2, initial_state=[decoder_state_input_h, decoder_state_input_c])\n",
    "\n",
    "print('Done')"
   ]
  },
  {
   "cell_type": "code",
   "execution_count": 50,
   "id": "e562d36e",
   "metadata": {},
   "outputs": [
    {
     "name": "stdout",
     "output_type": "stream",
     "text": [
      "Done\n"
     ]
    }
   ],
   "source": [
    "# 어텐션 함수\n",
    "decoder_hidden_state_input = Input(shape=(text_max_len, hidden_size))\n",
    "attn_out_inf = attn_layer([decoder_outputs2, decoder_hidden_state_input])\n",
    "decoder_inf_concat = Concatenate(axis=-1, name='concat')([decoder_outputs2, attn_out_inf])\n",
    "\n",
    "# 디코더의 출력층\n",
    "decoder_outputs2 = decoder_softmax_layer(decoder_inf_concat) \n",
    "\n",
    "# 최종 디코더 모델\n",
    "decoder_model = Model(\n",
    "    [decoder_inputs] + [decoder_hidden_state_input,decoder_state_input_h, decoder_state_input_c],\n",
    "    [decoder_outputs2] + [state_h2, state_c2])\n",
    "\n",
    "print('Done')"
   ]
  },
  {
   "cell_type": "code",
   "execution_count": 51,
   "id": "d5f272d5",
   "metadata": {},
   "outputs": [
    {
     "name": "stdout",
     "output_type": "stream",
     "text": [
      "Done\n"
     ]
    }
   ],
   "source": [
    "# 단어 시퀀스를 형성하는 함수 생성\n",
    "def decode_sequence(input_seq):\n",
    "    # 입력으로부터 인코더의 상태를 얻음\n",
    "    e_out, e_h, e_c = encoder_model.predict(input_seq)\n",
    "\n",
    "     # <SOS>에 해당하는 토큰 생성\n",
    "    target_seq = np.zeros((1,1))\n",
    "    target_seq[0, 0] = tar_word_to_index['sostoken']\n",
    "\n",
    "    stop_condition = False\n",
    "    decoded_sentence = ''\n",
    "    while not stop_condition: # stop_condition이 True가 될 때까지 루프 반복\n",
    "\n",
    "        output_tokens, h, c = decoder_model.predict([target_seq] + [e_out, e_h, e_c])\n",
    "        sampled_token_index = np.argmax(output_tokens[0, -1, :])\n",
    "        sampled_token = tar_index_to_word[sampled_token_index]\n",
    "\n",
    "        if (sampled_token!='eostoken'):\n",
    "            decoded_sentence += ' '+sampled_token\n",
    "\n",
    "        #  <eos>에 도달하거나 최대 길이를 넘으면 중단.\n",
    "        if (sampled_token == 'eostoken'  or len(decoded_sentence.split()) >= (headlines_max_len-1)):\n",
    "            stop_condition = True\n",
    "\n",
    "        # 길이가 1인 타겟 시퀀스를 업데이트\n",
    "        target_seq = np.zeros((1,1))\n",
    "        target_seq[0, 0] = sampled_token_index\n",
    "\n",
    "        # 상태를 업데이트 합니다.\n",
    "        e_h, e_c = h, c\n",
    "\n",
    "    return decoded_sentence\n",
    "print('Done')"
   ]
  },
  {
   "cell_type": "code",
   "execution_count": 52,
   "id": "323e460f",
   "metadata": {},
   "outputs": [
    {
     "name": "stdout",
     "output_type": "stream",
     "text": [
      "Done\n"
     ]
    }
   ],
   "source": [
    "# 암호화 복호화 할 수 있는 함수 생성\n",
    "# 원문의 정수 시퀀스를 텍스트 시퀀스로 변환\n",
    "def seq2text(input_seq):\n",
    "    temp=''\n",
    "    for i in input_seq:\n",
    "        if (i!=0):\n",
    "            temp = temp + src_index_to_word[i]+' '\n",
    "    return temp\n",
    "\n",
    "# 요약문의 정수 시퀀스를 텍스트 시퀀스로 변환\n",
    "def seq2summary(input_seq):\n",
    "    temp = ''\n",
    "    for i in input_seq:\n",
    "        if (i != 0):\n",
    "            temp = temp + tar_index_to_word[i] + ' '\n",
    "    return temp\n",
    "\n",
    "print('Done')"
   ]
  },
  {
   "cell_type": "code",
   "execution_count": 53,
   "id": "3baf2646",
   "metadata": {},
   "outputs": [
    {
     "name": "stdout",
     "output_type": "stream",
     "text": [
      "원문 : reacting sexual harassment allegations filmmaker rajkumar hirani dia mirza said deeply distressed news hope due official enquiry conducted think would grossly unjust part speak know details added actress worked hirani sanju \n",
      "실제 요약 : sostoken deeply dia mirza on hirani sexual harassment row \n",
      "예측 요약 :  hirani denies allegations of sexual harassment allegations\n",
      "\n",
      "\n",
      "원문 : amritsar train accident dussehra celebrations friday year old mother said found body civil hospital mobile phone worth wallet gold chain missing another survivor lost three year old daughter said robbed phone shouting help daughter critically injured son \n",
      "실제 요약 : sostoken injured dead were robbed after amritsar train accident \n",
      "예측 요약 :  my mother family of family died in train accident\n",
      "\n",
      "\n",
      "원문 : shraddha kapoor playing female lead choreographer filmmaker remo souza upcoming dance film katrina kaif exit per reports katrina spokesperson said decided step film dates clashing bharat currently shooting film also star varun dhawan prabhudheva \n",
      "실제 요약 : sostoken shraddha to star in remo dance film post katrina exit report \n",
      "예측 요약 :  shahid kapoor to star in shahid kapoor next film reports\n",
      "\n",
      "\n",
      "원문 : interim insolvency professional appointed national company law tribunal called expression interest potential buyers defunct homestay startup stayzilla applicants net worth least crore buy startup stayzilla shut last year unable recover money invested \n",
      "실제 요약 : sostoken tribunal puts up startup stayzilla for sale \n",
      "예측 요약 :  anil ambani appointed as sebi member of sebi\n",
      "\n",
      "\n",
      "원문 : thousands farmers friday marched delhi ramlila maidan different locations second day protest demand farm loan waivers higher crop prices farmers aim walk towards parliament demanding special three week parliament session discuss crisis delhi police deployed personnel handle situation \n",
      "실제 요약 : sostoken farmers march in delhi demanding loan waivers better prices \n",
      "예측 요약 :  farmers protest against delhi farmers for protest\n",
      "\n",
      "\n"
     ]
    }
   ],
   "source": [
    "# 개의 예시를 불러와서 실제 요약과 예측된 요약을 출력한다.\n",
    "for i in range(70, 75):\n",
    "    print(\"원문 :\", seq2text(encoder_input_test[i]))\n",
    "    print(\"실제 요약 :\", seq2summary(decoder_input_test[i]))\n",
    "    print(\"예측 요약 :\", decode_sequence(encoder_input_test[i].reshape(1, text_max_len)))\n",
    "    print(\"\\n\")"
   ]
  },
  {
   "cell_type": "markdown",
   "id": "559caa31",
   "metadata": {},
   "source": [
    "### 분석\n",
    "\n",
    "#### Case 1\n",
    "요약: deeply dia mirza on hirani sexual harassment row\n",
    "예측: hirani denies allegations of sexual harassment allegations\n",
    "\n",
    "- sexual harassment\n",
    "- dia mirza\n",
    "\n",
    "'hirani'의 의미가 잘못 사용된 것으로 보인다.\n",
    "\n",
    "#### Case 2\n",
    "요약: injured dead were robbed after amritsar train accident \n",
    "예측: my mother family of family died in train accident\n",
    "\n",
    "- train accident\n",
    "- dead (died)\n",
    "\n",
    "'robbed', 'amritsar' 같은 주요 키워드가 없고, 'my mother'같은 불필요한 키워드나 'family of family' 같은 의문의 단어가 있음\n",
    "\n",
    "#### Case 3\n",
    "요약 : shraddha to star in remo dance film post katrina exit report \n",
    "예측 : shahid kapoor to star in shahid kapoor next film reports\n",
    "\n",
    "- to star\n",
    "- reports\n",
    "\n",
    "사실상 예측에 실패한 것으로 보인다 또한 'shahid kapoor'가 사람으로 쓰였다가 in과 함께 장소로 쓰였다.\n",
    "\n",
    "#### Case 4 \n",
    "요약 : tribunal puts up startup stayzilla for sale \n",
    "예측 : anil ambani appointed as sebi member of sebi\n",
    "\n",
    "- appointed (appointed) ; 유사성 있는 듯\n",
    "\n",
    "'stayzilla'와 같은 중요 고유명사도 없고 알수 없는 'sebi'라는 단어가 반복되었다.\n",
    "사실상 실패로 보인다.\n",
    "\n",
    "#### Case 5\n",
    "실제 요약 : farmers march in delhi demanding loan waivers better prices \n",
    "예측 요약 : farmers protest against delhi farmers for protest\n",
    "\n",
    "- farmers\n",
    "- protest (march)\n",
    "- delhi\n",
    "\n",
    "최소한의 주요 키워드는 확보했다.\n",
    "하지만 왜 항의 또는 행진 했는지에 대한 언급 예측에 없다.\n",
    "\n",
    "#### 결론\n",
    "평균 2개의 단어가 포함되고 종종 유의어가 사용되었다.\n",
    "좀 더 학습시키면 좋은 결과가 나올것이라고 생각한다."
   ]
  },
  {
   "cell_type": "markdown",
   "id": "d75680f1",
   "metadata": {},
   "source": [
    "## Summa 이용\n",
    "문법 완성도 비교\n",
    "핵심단어 포함\n",
    "표로 정리"
   ]
  },
  {
   "cell_type": "code",
   "execution_count": 91,
   "id": "c0acf3b3",
   "metadata": {},
   "outputs": [
    {
     "name": "stdout",
     "output_type": "stream",
     "text": [
      "Requirement already satisfied: summa in /opt/conda/lib/python3.9/site-packages (1.2.0)\n",
      "Requirement already satisfied: scipy>=0.19 in /opt/conda/lib/python3.9/site-packages (from summa) (1.7.1)\n",
      "Requirement already satisfied: numpy<1.23.0,>=1.16.5 in /opt/conda/lib/python3.9/site-packages (from scipy>=0.19->summa) (1.21.4)\n",
      "\u001b[33mWARNING: Running pip as the 'root' user can result in broken permissions and conflicting behaviour with the system package manager. It is recommended to use a virtual environment instead: https://pip.pypa.io/warnings/venv\u001b[0m\n"
     ]
    }
   ],
   "source": [
    "# 대표적인 추출 요약기 가져오기\n",
    "from summa.summarizer import summarize"
   ]
  },
  {
   "cell_type": "code",
   "execution_count": 92,
   "id": "63ed16f3",
   "metadata": {},
   "outputs": [],
   "source": [
    "urllib.request.urlretrieve(\"https://raw.githubusercontent.com/sunnysai12345/News_Summary/master/news_summary_more.csv\", filename=\"news_summary_more.csv\")\n",
    "data = pd.read_csv('news_summary_more.csv', encoding='iso-8859-1')"
   ]
  },
  {
   "cell_type": "code",
   "execution_count": 98,
   "id": "f156effa",
   "metadata": {},
   "outputs": [
    {
     "name": "stdout",
     "output_type": "stream",
     "text": [
      "원문 : Apple CEO Tim Cook said the company plans to lower some iPhones' prices in markets with currencies that weakened against the US dollar in the past year. \"WeÃ¢ÂÂve decided to go back to (iPhone prices) more commensurate with...local prices...a year ago,\" Cook added. The price cuts, in hopes of increasing sales, are reportedly occurring for second time in 12 years.\n",
      "실제 요약 :  Apple to cut some iPhones' prices outside US over strong dollar\n",
      "예측 요약 :  \"WeÃ¢ÂÂve decided to go back to (iPhone prices) more commensurate with...local prices...a year ago,\" Cook added.\n",
      "\n",
      "\n",
      "원문 : Scientists in Australia's Flinders University are testing a wetsuit prototype that could protect its wearer after a shark attack. The suit, made of synthetic material similar to the material used in bulletproof vests, could help reduce blood loss after a shark attack. \"The majority of fatalities from shark bites is due to blood loss...shock from blood loss,\" a scientist said.\n",
      "실제 요약 :  Scientists test wetsuit to protect wearer after shark attack\n",
      "예측 요약 :  \"The majority of fatalities from shark bites is due to blood loss...shock from blood loss,\" a scientist said.\n",
      "\n",
      "\n",
      "원문 : BJP National Secretary Rahul Sinha on Wednesday asked the party workers in West Bengal to come armed with sticks to PM Narendra Modi's rally in the state on February 2. His statement came a day after clashes broke out following BJP chief Amit Shah's WB rally. Sinha added the TMC is indulged in violence as they're afraid of BJP's strength.\n",
      "실제 요약 :  Come armed with sticks for PM Modi's rally in WB: BJP leader\n",
      "예측 요약 :  BJP National Secretary Rahul Sinha on Wednesday asked the party workers in West Bengal to come armed with sticks to PM Narendra Modi's rally in the state on February 2.\n",
      "\n",
      "\n",
      "원문 : BJP President Amit Shah on Wednesday took a dig at the Opposition parties saying that the 'mahagathbandhan' for the Opposition is 4B - \"Bua-Bhatija-Bhai-Behen\". He added that 4B for the BJP meant \"Badhta Bharat, Banta Bharat\". He said Opposition's government cannot take the country ahead and \"only Modiji can provide a 'mazboot' (strong) government\".\n",
      "실제 요약 :  '4B' for Opposition is 'Bua-Bhatija-Bhai-Behen': Amit Shah\n",
      "예측 요약 :  BJP President Amit Shah on Wednesday took a dig at the Opposition parties saying that the 'mahagathbandhan' for the Opposition is 4B - \"Bua-Bhatija-Bhai-Behen\".\n",
      "\n",
      "\n",
      "원문 : German automaker Volkswagen Group has retained the car industry's top spot in global sales, beating its Japanese rival Toyota. Volkswagen's sales, including its MAN and Scania heavy trucks and buses, rose 0.9% to 10.83 million in 2018, the company had said. Toyota came second with around 10.6 million deliveries, including its affiliated brands Daihatsu and Hino, in 2018.\n",
      "실제 요약 :  Volkswagen retains top spot in global sales, beats Toyota\n",
      "예측 요약 :  Volkswagen's sales, including its MAN and Scania heavy trucks and buses, rose 0.9% to 10.83 million in 2018, the company had said.\n",
      "\n",
      "\n"
     ]
    }
   ],
   "source": [
    "# 위와 같은 방법으로 일괄 요약\n",
    "for i in range(70, 75):\n",
    "#     _text = seq2text(encoder_input_test[i])\n",
    "    _text = data.iloc[i,1]\n",
    "    print(\"원문 :\", _text)\n",
    "    print(\"실제 요약 : \", data.iloc[i,0])\n",
    "    print(\"예측 요약 : \", summarize(_text, ratio=0.35)) # ratio안달면 결과 안나옴...\n",
    "    print(\"\\n\")"
   ]
  },
  {
   "cell_type": "markdown",
   "id": "c363a73c",
   "metadata": {},
   "source": [
    "### 결과 분석\n",
    "\n",
    "#### Case 1\n",
    "실제 요약 :  Apple to cut some iPhones' prices outside US over strong dollar\n",
    "예측 요약 :  \"WeÃ¢ÂÂve decided to go back to (iPhone prices) more commensurate with...local prices...a year ago,\" Cook added.\n",
    "\n",
    "해당 예측 요약은 뒷 문단이다. 게다가 첨언 느낌으로 팀쿡이 한 인용구를 그대로 출력했다. 하지만 그 인용구에 가격을 줄인다는 언급이 들어 있다. \n",
    "\n",
    "#### Case 2\n",
    "실제 요약 :  Scientists test wetsuit to protect wearer after shark attack\n",
    "예측 요약 :  \"The majority of fatalities from shark bites is due to blood loss...shock from blood loss,\" a scientist said.\n",
    "\n",
    "이번에도 불필요한 인용구를 요약이라고 뽑았다.\n",
    "상어의 공격과 출혈을 주 기능이라고 언급해서 유사도가 아에 없지는 않지만\n",
    "높은 평가를 주긴 힘들다.\n",
    "\n",
    "#### Case 3\n",
    "실제 요약 :  Come armed with sticks for PM Modi's rally in WB: BJP leader\n",
    "예측 요약 :  BJP National Secretary Rahul Sinha on Wednesday asked the party workers in West Bengal to come armed with sticks to PM Narendra Modi's rally in the state on February 2.\n",
    "\n",
    "수요일이라는 정보는 중요한 정보가 아니지만 요약에 포암되었다.\n",
    "이번 케이스의 경우, 내용이 포함되었지만, 불필요한 살이 너무 많다.\n",
    "\n",
    "#### Case 4\n",
    "실제 요약 :  '4B' for Opposition is 'Bua-Bhatija-Bhai-Behen': Amit Shah\n",
    "예측 요약 :  BJP President Amit Shah on Wednesday took a dig at the Opposition parties saying that the 'mahagathbandhan' for the Opposition is 4B - \"Bua-Bhatija-Bhai-Behen\".\n",
    "\n",
    "주요 키워드인 '4B'와 'Bua-Bhatija-Bhai-Behen'가 포함되어 있지만, 과연 다른 문장들이 붙을 필요가 있었을까 생각한다.\n",
    "\n",
    "#### Case 5\n",
    "실제 요약 :  Volkswagen retains top spot in global sales, beats Toyota\n",
    "예측 요약 :  Volkswagen's sales, including its MAN and Scania heavy trucks and buses, rose 0.9% to 10.83 million in 2018, the company had said.\n",
    "\n",
    "주요 키워드인 'Volkswagen', 'sales'가 보인다. \n",
    "수치로서 증가했음을 보여서 의미적으로 실제 요약과의 유사성을 보여주지만, 요약일까?\n"
   ]
  },
  {
   "cell_type": "markdown",
   "id": "16a08d3c",
   "metadata": {},
   "source": [
    "## 비교 분석\n",
    "\n",
    "노드의 요구에 따라 비교 분석을 해보는 시간을 가졌다.\n",
    "나는 이전 과정에서 객관적인 지표 대신 주관적인 지표를 통해 일부 샘플을 분석했고 이것을 토대로 비교를 진행할 것이다.\n",
    "\n",
    "| 비교 항복 | Extractive 요약 | Abstractive  요약 |\n",
    "| --------- | --------------- | ----------------- |\n",
    "| 단어 유사도 | 직접적으로 키워드가 포함되지 않음 | 키워드가 1~3개 포함됨 |\n",
    "| 의미 단어 유사도 | 대체로 그럴싸한 문장 | 의미가 잘못된 경우도 많다. |\n",
    "| 문장 길이 | 요약이라고 보기엔 길다. | 짧고 간결하다. |\n",
    "| 불필요한 단어 포함 | 인용구를 주로 가져오는 것으로 보인다. | 의미를 알 수 없는 단어 사용이 간혹 보인다. |\n",
    "| 정확도 | 평타는 친다. | 요약문 만으로 내용을 파악하기 힘들다. |\n",
    "\n",
    "### 결론\n",
    "**Extractive 요약**\n",
    "원문에서 스크랩 해오는 느낌으로 진행하며, 주로 인용구를 가져온다.\n",
    "의미는 일치 또는 유사하지만, 불필요한 단어가 많았다.\n",
    "\n",
    "**Abstractive  요약**\n",
    "요약으로서는 적절하고 키워드를 잘 탐색한다는 전재하에 고성능일 것으로 예측된다.\n",
    "다만, 현재 모델이 부족해서 많은 키워드를 캐치하지 못했고, 일부 단어는 상상으로 만들어낸 것이라는 생각이 들 정도로 알 수 없는 문장이 발생했다.\n",
    "\n",
    "어느쪽이든 좋지만, 잘 학습시킨 모델을 쓰는 것이 최상의 선택으로 보인다.\n",
    "\n"
   ]
  },
  {
   "cell_type": "code",
   "execution_count": null,
   "id": "13b826ba",
   "metadata": {},
   "outputs": [],
   "source": []
  }
 ],
 "metadata": {
  "kernelspec": {
   "display_name": "Python 3 (ipykernel)",
   "language": "python",
   "name": "python3"
  },
  "language_info": {
   "codemirror_mode": {
    "name": "ipython",
    "version": 3
   },
   "file_extension": ".py",
   "mimetype": "text/x-python",
   "name": "python",
   "nbconvert_exporter": "python",
   "pygments_lexer": "ipython3",
   "version": "3.9.7"
  }
 },
 "nbformat": 4,
 "nbformat_minor": 5
}
