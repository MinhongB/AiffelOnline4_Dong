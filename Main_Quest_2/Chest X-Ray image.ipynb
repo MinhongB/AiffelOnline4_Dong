{
 "cells": [
  {
   "cell_type": "code",
   "execution_count": 2,
   "metadata": {},
   "outputs": [
    {
     "name": "stderr",
     "output_type": "stream",
     "text": [
      "c:\\Users\\tama0\\anaconda3\\envs\\tf39\\lib\\site-packages\\tqdm\\auto.py:21: TqdmWarning: IProgress not found. Please update jupyter and ipywidgets. See https://ipywidgets.readthedocs.io/en/stable/user_install.html\n",
      "  from .autonotebook import tqdm as notebook_tqdm\n"
     ]
    }
   ],
   "source": [
    "import os\n",
    "import pathlib\n",
    "import numpy as np\n",
    "import matplotlib.pyplot as plt\n",
    "\n",
    "from tensorflow.keras.preprocessing.image import ImageDataGenerator\n",
    "from tensorflow.keras.utils import image_dataset_from_directory\n",
    "from tensorflow.keras.applications import ResNet50\n",
    "from tensorflow.keras.models import (\n",
    "    Sequential, \n",
    "    Model\n",
    ")\n",
    "from tensorflow.keras import layers\n",
    "from tensorflow.keras.layers import (\n",
    "    Dense, \n",
    "    GlobalAveragePooling2D,\n",
    "    Conv2D, \n",
    "    BatchNormalization, \n",
    "    Activation, \n",
    "    Add, \n",
    "    MaxPooling2D, \n",
    "    AveragePooling2D, \n",
    "    Flatten,\n",
    "    Rescaling,\n",
    "    RandomFlip,\n",
    "    RandomRotation,\n",
    "    RandomZoom,\n",
    "    Dropout,\n",
    ")\n",
    "from tensorflow.keras import callbacks\n",
    "from tensorflow.keras.models import Model\n",
    "from tensorflow.keras import Input\n",
    "import tensorflow_datasets as tfds"
   ]
  },
  {
   "cell_type": "code",
   "execution_count": 3,
   "metadata": {},
   "outputs": [
    {
     "name": "stdout",
     "output_type": "stream",
     "text": [
      "Found 5216 files belonging to 2 classes.\n",
      "Found 16 files belonging to 2 classes.\n",
      "Found 624 files belonging to 2 classes.\n"
     ]
    }
   ],
   "source": [
    "# 경로 설정\n",
    "base_dir = 'chest_xray'\n",
    "new_base_dir = pathlib.Path(base_dir)\n",
    "\n",
    "# 이미지 크기 및 배치 크기 설정\n",
    "image_size = (224, 224)\n",
    "batch_size = 64\n",
    "\n",
    "# 이미지 가져옴\n",
    "train_dataset = image_dataset_from_directory(\n",
    "    new_base_dir / 'train',\n",
    "    image_size=image_size,\n",
    "    batch_size=batch_size\n",
    ")\n",
    "\n",
    "validation_dataset = image_dataset_from_directory(\n",
    "    new_base_dir / 'val',\n",
    "    image_size=image_size,\n",
    "    batch_size=batch_size\n",
    ")\n",
    "\n",
    "test_dataset = image_dataset_from_directory(\n",
    "    new_base_dir / 'test',\n",
    "    image_size=image_size,\n",
    "    batch_size=batch_size\n",
    ")"
   ]
  },
  {
   "cell_type": "code",
   "execution_count": 4,
   "metadata": {},
   "outputs": [],
   "source": [
    "# 데이터 증강\n",
    "data_augmentation = Sequential(\n",
    "    [\n",
    "        Rescaling(1./255),\n",
    "        RandomFlip('horizontal'),\n",
    "        RandomRotation(0.1),\n",
    "        RandomZoom(0.2),\n",
    "    ]\n",
    ")"
   ]
  },
  {
   "cell_type": "code",
   "execution_count": 5,
   "metadata": {},
   "outputs": [
    {
     "name": "stdout",
     "output_type": "stream",
     "text": [
      "Model: \"model\"\n",
      "_________________________________________________________________\n",
      " Layer (type)                Output Shape              Param #   \n",
      "=================================================================\n",
      " input_1 (InputLayer)        [(None, 224, 224, 3)]     0         \n",
      "                                                                 \n",
      " sequential (Sequential)     (None, 224, 224, 3)       0         \n",
      "                                                                 \n",
      " conv2d (Conv2D)             (None, 222, 222, 32)      896       \n",
      "                                                                 \n",
      " max_pooling2d (MaxPooling2D  (None, 111, 111, 32)     0         \n",
      " )                                                               \n",
      "                                                                 \n",
      " conv2d_1 (Conv2D)           (None, 109, 109, 64)      18496     \n",
      "                                                                 \n",
      " max_pooling2d_1 (MaxPooling  (None, 54, 54, 64)       0         \n",
      " 2D)                                                             \n",
      "                                                                 \n",
      " conv2d_2 (Conv2D)           (None, 52, 52, 128)       73856     \n",
      "                                                                 \n",
      " max_pooling2d_2 (MaxPooling  (None, 26, 26, 128)      0         \n",
      " 2D)                                                             \n",
      "                                                                 \n",
      " conv2d_3 (Conv2D)           (None, 24, 24, 256)       295168    \n",
      "                                                                 \n",
      " max_pooling2d_3 (MaxPooling  (None, 12, 12, 256)      0         \n",
      " 2D)                                                             \n",
      "                                                                 \n",
      " conv2d_4 (Conv2D)           (None, 10, 10, 256)       590080    \n",
      "                                                                 \n",
      " max_pooling2d_4 (MaxPooling  (None, 5, 5, 256)        0         \n",
      " 2D)                                                             \n",
      "                                                                 \n",
      " conv2d_5 (Conv2D)           (None, 3, 3, 512)         1180160   \n",
      "                                                                 \n",
      " flatten (Flatten)           (None, 4608)              0         \n",
      "                                                                 \n",
      " dropout (Dropout)           (None, 4608)              0         \n",
      "                                                                 \n",
      " dense (Dense)               (None, 1)                 4609      \n",
      "                                                                 \n",
      "=================================================================\n",
      "Total params: 2,163,265\n",
      "Trainable params: 2,163,265\n",
      "Non-trainable params: 0\n",
      "_________________________________________________________________\n"
     ]
    }
   ],
   "source": [
    "import tensorflow.keras.initializers as initializers\n",
    "\n",
    "inputs = Input(shape=(224, 224, 3))\n",
    "x = data_augmentation(inputs)\n",
    "x = Conv2D(filters=32, kernel_size=3, activation='relu')(x)\n",
    "x = MaxPooling2D(pool_size=2)(x)\n",
    "x = Conv2D(filters=64, kernel_size=3, activation='relu')(x)\n",
    "x = MaxPooling2D(pool_size=2)(x)\n",
    "x = Conv2D(filters=128, kernel_size=3, activation='relu')(x)\n",
    "x = MaxPooling2D(pool_size=2)(x)\n",
    "x = Conv2D(filters=256, kernel_size=3, activation='relu')(x)\n",
    "x = MaxPooling2D(pool_size=2)(x)\n",
    "x = Conv2D(filters=256, kernel_size=3, activation='relu')(x)\n",
    "x = MaxPooling2D(pool_size=2)(x)\n",
    "x = Conv2D(filters=512, kernel_size=3, activation='relu')(x)\n",
    "x = Flatten()(x)\n",
    "x = Dropout(0.5)(x)\n",
    "outputs = Dense(1, activation='sigmoid')(x)\n",
    "\n",
    "model = Model(inputs=inputs, outputs=outputs)\n",
    "\n",
    "model.compile(\n",
    "    loss='binary_crossentropy',\n",
    "    optimizer='rmsprop',\n",
    "    metrics=['accuracy']\n",
    ")\n",
    "\n",
    "model.summary()"
   ]
  },
  {
   "cell_type": "code",
   "execution_count": 6,
   "metadata": {},
   "outputs": [],
   "source": [
    "# 텐서보드 콜백 정의\n",
    "tensorboard = callbacks.TensorBoard(\n",
    "    log_dir='./logs'\n",
    ")\n",
    "\n",
    "# checkpoint\n",
    "check_point_callback = callbacks.ModelCheckpoint(\n",
    "    filepath=\"my_ckp\",\n",
    "    save_best_only=True,\n",
    "    monitor=\"val_loss\"\n",
    ")\n"
   ]
  },
  {
   "cell_type": "code",
   "execution_count": 7,
   "metadata": {},
   "outputs": [
    {
     "name": "stdout",
     "output_type": "stream",
     "text": [
      "Epoch 1/10\n",
      "82/82 [==============================] - ETA: 0s - loss: 0.6391 - accuracy: 0.7278"
     ]
    },
    {
     "name": "stderr",
     "output_type": "stream",
     "text": [
      "WARNING:absl:Found untraced functions such as _jit_compiled_convolution_op, _jit_compiled_convolution_op, _jit_compiled_convolution_op, _jit_compiled_convolution_op, _jit_compiled_convolution_op while saving (showing 5 of 6). These functions will not be directly callable after loading.\n"
     ]
    },
    {
     "name": "stdout",
     "output_type": "stream",
     "text": [
      "INFO:tensorflow:Assets written to: my_ckp\\assets\n"
     ]
    },
    {
     "name": "stderr",
     "output_type": "stream",
     "text": [
      "INFO:tensorflow:Assets written to: my_ckp\\assets\n"
     ]
    },
    {
     "name": "stdout",
     "output_type": "stream",
     "text": [
      "82/82 [==============================] - 15s 142ms/step - loss: 0.6391 - accuracy: 0.7278 - val_loss: 0.9407 - val_accuracy: 0.6250\n",
      "Epoch 2/10\n",
      "82/82 [==============================] - ETA: 0s - loss: 0.4768 - accuracy: 0.7789"
     ]
    },
    {
     "name": "stderr",
     "output_type": "stream",
     "text": [
      "WARNING:absl:Found untraced functions such as _jit_compiled_convolution_op, _jit_compiled_convolution_op, _jit_compiled_convolution_op, _jit_compiled_convolution_op, _jit_compiled_convolution_op while saving (showing 5 of 6). These functions will not be directly callable after loading.\n"
     ]
    },
    {
     "name": "stdout",
     "output_type": "stream",
     "text": [
      "INFO:tensorflow:Assets written to: my_ckp\\assets\n"
     ]
    },
    {
     "name": "stderr",
     "output_type": "stream",
     "text": [
      "INFO:tensorflow:Assets written to: my_ckp\\assets\n"
     ]
    },
    {
     "name": "stdout",
     "output_type": "stream",
     "text": [
      "82/82 [==============================] - 11s 130ms/step - loss: 0.4768 - accuracy: 0.7789 - val_loss: 0.7804 - val_accuracy: 0.7500\n",
      "Epoch 3/10\n",
      "82/82 [==============================] - ETA: 0s - loss: 0.3621 - accuracy: 0.8491"
     ]
    },
    {
     "name": "stderr",
     "output_type": "stream",
     "text": [
      "WARNING:absl:Found untraced functions such as _jit_compiled_convolution_op, _jit_compiled_convolution_op, _jit_compiled_convolution_op, _jit_compiled_convolution_op, _jit_compiled_convolution_op while saving (showing 5 of 6). These functions will not be directly callable after loading.\n"
     ]
    },
    {
     "name": "stdout",
     "output_type": "stream",
     "text": [
      "INFO:tensorflow:Assets written to: my_ckp\\assets\n"
     ]
    },
    {
     "name": "stderr",
     "output_type": "stream",
     "text": [
      "INFO:tensorflow:Assets written to: my_ckp\\assets\n"
     ]
    },
    {
     "name": "stdout",
     "output_type": "stream",
     "text": [
      "82/82 [==============================] - 10s 123ms/step - loss: 0.3621 - accuracy: 0.8491 - val_loss: 0.6439 - val_accuracy: 0.5625\n",
      "Epoch 4/10\n",
      "82/82 [==============================] - 10s 114ms/step - loss: 0.3129 - accuracy: 0.8882 - val_loss: 1.5242 - val_accuracy: 0.6250\n",
      "Epoch 5/10\n",
      "82/82 [==============================] - 10s 117ms/step - loss: 0.2506 - accuracy: 0.9082 - val_loss: 1.9751 - val_accuracy: 0.6250\n",
      "Epoch 6/10\n",
      "82/82 [==============================] - 10s 116ms/step - loss: 0.2372 - accuracy: 0.9118 - val_loss: 4.1979 - val_accuracy: 0.6250\n",
      "Epoch 7/10\n",
      "82/82 [==============================] - 10s 114ms/step - loss: 0.2103 - accuracy: 0.9229 - val_loss: 0.7648 - val_accuracy: 0.6250\n",
      "Epoch 8/10\n",
      "82/82 [==============================] - 10s 113ms/step - loss: 0.1863 - accuracy: 0.9302 - val_loss: 0.9343 - val_accuracy: 0.6875\n",
      "Epoch 9/10\n",
      "82/82 [==============================] - 9s 111ms/step - loss: 0.1753 - accuracy: 0.9388 - val_loss: 1.2333 - val_accuracy: 0.5625\n",
      "Epoch 10/10\n",
      "82/82 [==============================] - 9s 111ms/step - loss: 0.1886 - accuracy: 0.9373 - val_loss: 0.6587 - val_accuracy: 0.6250\n"
     ]
    }
   ],
   "source": [
    "history = model.fit(\n",
    "    train_dataset,\n",
    "    epochs=10,\n",
    "    validation_data=validation_dataset,\n",
    "    callbacks=[tensorboard, check_point_callback]\n",
    ")"
   ]
  },
  {
   "cell_type": "code",
   "execution_count": 8,
   "metadata": {},
   "outputs": [
    {
     "data": {
      "image/png": "[encoded data removed]",
      "text/plain": [
       "<Figure size 640x480 with 1 Axes>"
      ]
     },
     "metadata": {},
     "output_type": "display_data"
    }
   ],
   "source": [
    "# Visualize the loss and accuracy\n",
    "plt.plot(history.history['loss'])\n",
    "plt.plot(history.history['accuracy'])\n",
    "plt.title('Model performance')\n",
    "plt.ylabel('Accuracy')\n",
    "plt.xlabel('Epoch')\n",
    "plt.legend(['Loss', 'Accuracy'], loc='upper left')\n",
    "plt.show()"
   ]
  },
  {
   "cell_type": "code",
   "execution_count": 9,
   "metadata": {},
   "outputs": [
    {
     "name": "stdout",
     "output_type": "stream",
     "text": [
      "10/10 [==============================] - 1s 72ms/step - loss: 0.5109 - accuracy: 0.8029\n",
      "Test Loss: 0.5108564496040344\n",
      "Test Accuracy: 0.8028846383094788\n"
     ]
    }
   ],
   "source": [
    "# 모델 평가\n",
    "test_loss, test_accuracy = model.evaluate(test_dataset)\n",
    "print('Test Loss:', test_loss)\n",
    "print('Test Accuracy:', test_accuracy)"
   ]
  },
  {
   "cell_type": "code",
   "execution_count": 10,
   "metadata": {},
   "outputs": [
    {
     "ename": "IndentationError",
     "evalue": "expected an indented block (1924984806.py, line 21)",
     "output_type": "error",
     "traceback": [
      "\u001b[1;36m  Cell \u001b[1;32mIn[10], line 21\u001b[1;36m\u001b[0m\n\u001b[1;33m    layer_index = -4  # x = Conv2D(filters=512, kernel_size=3, activation='relu')\u001b[0m\n\u001b[1;37m    ^\u001b[0m\n\u001b[1;31mIndentationError\u001b[0m\u001b[1;31m:\u001b[0m expected an indented block\n"
     ]
    }
   ],
   "source": [
    "import tensorflow as tf\n",
    "import tensorflow.keras as keras\n",
    "\n",
    "img_path = keras.utils.get_file(\n",
    "    fname='person1_virus_6.jpeg',\n",
    "    origin='file://C:\\\\Users\\\\tama0\\\\git\\\\notebook\\\\chest_xray\\\\test\\\\PNEUMONIA'\n",
    ")\n",
    "\n",
    "def get_img_array(img_path, target_size):\n",
    "    img = keras.utils.load_img(img_path, target_size=target_size)\n",
    "    array = keras.utils.img_to_array(img)\n",
    "    array = np.expand_dims(array, axis=0)\n",
    "    return array\n",
    "\n",
    "img_array = get_img_array(img_path, (224, 224))\n",
    "preds\n",
    "with tf.GradientTape() as tape:\n",
    "\n",
    "\n",
    "# Define the model\n",
    "layer_index = -4  # x = Conv2D(filters=512, kernel_size=3, activation='relu')\n",
    "\n",
    "# 특정 레이어까지의 모델을 추출합니다.\n",
    "partial_model = Model(inputs=model.inputs, outputs=model.layers[layer_index].output)\n",
    "\n",
    "test_image = test_dataset.take(1)\n",
    "\n",
    "# Get the last convolutional layer\n",
    "last_conv_layer = model.layers[layer_index]\n",
    "\n",
    "# Create a function to generate class activation maps\n",
    "def grad_cam(model, image, target_class):\n",
    "    with tf.GradientTape() as tape:\n",
    "        tape.watch(image)\n",
    "        outputs = model(image)\n",
    "        loss = tf.keras.losses.categorical_crossentropy(y_true=[target_class], y_pred=outputs)\n",
    "\n",
    "    grads = tape.gradient(loss, image)\n",
    "    cam = tf.reduce_sum(grads * last_conv_layer.output, axis=-1)\n",
    "    cam = tf.keras.backend.cast(cam, tf.float32)\n",
    "    cam = cv2.resize(cam, (224, 224))\n",
    "    return cam\n",
    "\n",
    "# Generate a class activation map for the cat class\n",
    "cam = grad_cam(partial_model, test_image, target_class=0)\n",
    "\n",
    "# Display the class activation map\n",
    "plt.imshow(cam)\n",
    "plt.show()"
   ]
  },
  {
   "cell_type": "code",
   "execution_count": null,
   "metadata": {},
   "outputs": [],
   "source": [
    "# 원본 이미지와 Class activation map을 시각화합니다.\n",
    "# plt.imshow(test_image)\n",
    "# plt.imshow(cam, cmap='jet', alpha=0.5)\n",
    "# plt.show()\n",
    "\n",
    "class_names = ['Normal', 'Pneumonia']\n",
    "\n",
    "plt.figure.Figure(figsize=(10, 10))\n",
    "for images, labels in train_data.take(1):\n",
    "  for i in range(9):\n",
    "    ax = plt.pyplot.subplot(3, 3, i + 1)\n",
    "    plt.pyplot.imshow(images[i].numpy().astype(\"uint8\"))\n",
    "    plt.pyplot.title(class_names[int(labels[i])])\n",
    "    plt.pyplot.axis(\"off\")"
   ]
  },
  {
   "cell_type": "code",
   "execution_count": null,
   "metadata": {},
   "outputs": [
    {
     "ename": "NameError",
     "evalue": "name 'model' is not defined",
     "output_type": "error",
     "traceback": [
      "\u001b[1;31m---------------------------------------------------------------------------\u001b[0m",
      "\u001b[1;31mNameError\u001b[0m                                 Traceback (most recent call last)",
      "Cell \u001b[1;32mIn[1], line 1\u001b[0m\n\u001b[1;32m----> 1\u001b[0m model\u001b[39m.\u001b[39mlayers[\u001b[39m-\u001b[39m\u001b[39m4\u001b[39m]\n",
      "\u001b[1;31mNameError\u001b[0m: name 'model' is not defined"
     ]
    }
   ],
   "source": [
    "model.layers[-4]\n"
   ]
  },
  {
   "cell_type": "code",
   "execution_count": null,
   "metadata": {},
   "outputs": [
    {
     "name": "stdout",
     "output_type": "stream",
     "text": [
      "^C\n"
     ]
    }
   ],
   "source": [
    "# 업로드\n",
    "!tensorboard dev upload --logdir logs"
   ]
  }
 ],
 "metadata": {
  "kernelspec": {
   "display_name": "tf39",
   "language": "python",
   "name": "python3"
  },
  "language_info": {
   "codemirror_mode": {
    "name": "ipython",
    "version": 3
   },
   "file_extension": ".py",
   "mimetype": "text/x-python",
   "name": "python",
   "nbconvert_exporter": "python",
   "pygments_lexer": "ipython3",
   "version": "3.9.16"
  },
  "orig_nbformat": 4
 },
 "nbformat": 4,
 "nbformat_minor": 2
}
