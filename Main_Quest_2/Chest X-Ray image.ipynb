{
 "cells": [
  {
   "cell_type": "code",
   "execution_count": 2,
   "metadata": {},
   "outputs": [
    {
     "name": "stderr",
     "output_type": "stream",
     "text": [
      "c:\\Users\\tama0\\anaconda3\\envs\\tf39\\lib\\site-packages\\tqdm\\auto.py:21: TqdmWarning: IProgress not found. Please update jupyter and ipywidgets. See https://ipywidgets.readthedocs.io/en/stable/user_install.html\n",
      "  from .autonotebook import tqdm as notebook_tqdm\n"
     ]
    }
   ],
   "source": [
    "import os\n",
    "import pathlib\n",
    "import numpy as np\n",
    "import matplotlib.pyplot as plt\n",
    "\n",
    "from tensorflow.keras.preprocessing.image import ImageDataGenerator\n",
    "from tensorflow.keras.utils import image_dataset_from_directory\n",
    "from tensorflow.keras.applications import ResNet50\n",
    "from tensorflow.keras.models import (\n",
    "    Sequential, \n",
    "    Model\n",
    ")\n",
    "from tensorflow.keras import layers\n",
    "from tensorflow.keras.layers import (\n",
    "    Dense, \n",
    "    GlobalAveragePooling2D,\n",
    "    Conv2D, \n",
    "    BatchNormalization, \n",
    "    Activation, \n",
    "    Add, \n",
    "    MaxPooling2D, \n",
    "    AveragePooling2D, \n",
    "    Flatten,\n",
    "    Rescaling,\n",
    "    RandomFlip,\n",
    "    RandomRotation,\n",
    "    RandomZoom,\n",
    "    Dropout,\n",
    ")\n",
    "from tensorflow.keras import callbacks\n",
    "from tensorflow.keras.models import Model\n",
    "from tensorflow.keras import Input\n",
    "import tensorflow_datasets as tfds"
   ]
  },
  {
   "cell_type": "code",
   "execution_count": 3,
   "metadata": {},
   "outputs": [
    {
     "name": "stdout",
     "output_type": "stream",
     "text": [
      "Found 5216 files belonging to 2 classes.\n",
      "Found 16 files belonging to 2 classes.\n",
      "Found 624 files belonging to 2 classes.\n"
     ]
    }
   ],
   "source": [
    "# 경로 설정\n",
    "base_dir = 'chest_xray'\n",
    "new_base_dir = pathlib.Path(base_dir)\n",
    "\n",
    "# 이미지 크기 및 배치 크기 설정\n",
    "image_size = (224, 224)\n",
    "batch_size = 64\n",
    "\n",
    "# 이미지 가져옴\n",
    "train_dataset = image_dataset_from_directory(\n",
    "    new_base_dir / 'train',\n",
    "    image_size=image_size,\n",
    "    batch_size=batch_size\n",
    ")\n",
    "\n",
    "validation_dataset = image_dataset_from_directory(\n",
    "    new_base_dir / 'val',\n",
    "    image_size=image_size,\n",
    "    batch_size=batch_size\n",
    ")\n",
    "\n",
    "test_dataset = image_dataset_from_directory(\n",
    "    new_base_dir / 'test',\n",
    "    image_size=image_size,\n",
    "    batch_size=batch_size\n",
    ")"
   ]
  },
  {
   "cell_type": "code",
   "execution_count": 4,
   "metadata": {},
   "outputs": [],
   "source": [
    "# 데이터 증강\n",
    "data_augmentation = Sequential(\n",
    "    [\n",
    "        Rescaling(1./255),\n",
    "        RandomFlip('horizontal'),\n",
    "        RandomRotation(0.1),\n",
    "        RandomZoom(0.2),\n",
    "    ]\n",
    ")"
   ]
  },
  {
   "cell_type": "code",
   "execution_count": 11,
   "metadata": {},
   "outputs": [
    {
     "name": "stdout",
     "output_type": "stream",
     "text": [
      "Model: \"model_1\"\n",
      "_________________________________________________________________\n",
      " Layer (type)                Output Shape              Param #   \n",
      "=================================================================\n",
      " input_2 (InputLayer)        [(None, 224, 224, 3)]     0         \n",
      "                                                                 \n",
      " sequential (Sequential)     (None, 224, 224, 3)       0         \n",
      "                                                                 \n",
      " conv2d_6 (Conv2D)           (None, 222, 222, 32)      896       \n",
      "                                                                 \n",
      " max_pooling2d_5 (MaxPooling  (None, 111, 111, 32)     0         \n",
      " 2D)                                                             \n",
      "                                                                 \n",
      " conv2d_7 (Conv2D)           (None, 109, 109, 64)      18496     \n",
      "                                                                 \n",
      " max_pooling2d_6 (MaxPooling  (None, 54, 54, 64)       0         \n",
      " 2D)                                                             \n",
      "                                                                 \n",
      " conv2d_8 (Conv2D)           (None, 52, 52, 128)       73856     \n",
      "                                                                 \n",
      " max_pooling2d_7 (MaxPooling  (None, 26, 26, 128)      0         \n",
      " 2D)                                                             \n",
      "                                                                 \n",
      " conv2d_9 (Conv2D)           (None, 24, 24, 256)       295168    \n",
      "                                                                 \n",
      " max_pooling2d_8 (MaxPooling  (None, 12, 12, 256)      0         \n",
      " 2D)                                                             \n",
      "                                                                 \n",
      " conv2d_10 (Conv2D)          (None, 10, 10, 256)       590080    \n",
      "                                                                 \n",
      " max_pooling2d_9 (MaxPooling  (None, 5, 5, 256)        0         \n",
      " 2D)                                                             \n",
      "                                                                 \n",
      " conv2d_11 (Conv2D)          (None, 3, 3, 512)         1180160   \n",
      "                                                                 \n",
      " flatten_1 (Flatten)         (None, 4608)              0         \n",
      "                                                                 \n",
      " dropout_1 (Dropout)         (None, 4608)              0         \n",
      "                                                                 \n",
      " dense_1 (Dense)             (None, 1)                 4609      \n",
      "                                                                 \n",
      "=================================================================\n",
      "Total params: 2,163,265\n",
      "Trainable params: 2,163,265\n",
      "Non-trainable params: 0\n",
      "_________________________________________________________________\n"
     ]
    }
   ],
   "source": [
    "# resnet을 시도했으나 아래의 모델 보다 복잡하고 성능이 별로라서 변경\n",
    "inputs = Input(shape=(224, 224, 3))\n",
    "x = data_augmentation(inputs)\n",
    "x = Conv2D(filters=32, kernel_size=3, activation='relu')(x)\n",
    "x = MaxPooling2D(pool_size=2)(x)\n",
    "x = Conv2D(filters=64, kernel_size=3, activation='relu')(x)\n",
    "x = MaxPooling2D(pool_size=2)(x)\n",
    "x = Conv2D(filters=128, kernel_size=3, activation='relu')(x)\n",
    "x = MaxPooling2D(pool_size=2)(x)\n",
    "x = Conv2D(filters=256, kernel_size=3, activation='relu')(x)\n",
    "x = MaxPooling2D(pool_size=2)(x)\n",
    "x = Conv2D(filters=256, kernel_size=3, activation='relu')(x)\n",
    "x = MaxPooling2D(pool_size=2)(x)\n",
    "x = Conv2D(filters=512, kernel_size=3, activation='relu')(x)\n",
    "x = Flatten()(x)\n",
    "x = Dropout(0.5)(x)\n",
    "outputs = Dense(1, activation='sigmoid')(x)\n",
    "\n",
    "model = Model(inputs=inputs, outputs=outputs)\n",
    "\n",
    "model.compile(\n",
    "    loss='binary_crossentropy',\n",
    "    optimizer='rmsprop',\n",
    "    metrics=['accuracy']\n",
    ")\n",
    "\n",
    "model.summary()"
   ]
  },
  {
   "cell_type": "code",
   "execution_count": 6,
   "metadata": {},
   "outputs": [],
   "source": [
    "# 텐서보드 콜백 정의\n",
    "tensorboard = callbacks.TensorBoard(\n",
    "    log_dir='./logs'\n",
    ")\n",
    "\n",
    "# checkpoint\n",
    "check_point_callback = callbacks.ModelCheckpoint(\n",
    "    filepath=\"my_ckp\",\n",
    "    save_best_only=True,\n",
    "    monitor=\"val_loss\"\n",
    ")\n"
   ]
  },
  {
   "cell_type": "code",
   "execution_count": 12,
   "metadata": {},
   "outputs": [
    {
     "name": "stdout",
     "output_type": "stream",
     "text": [
      "Epoch 1/10\n",
      "82/82 [==============================] - 11s 115ms/step - loss: 0.7660 - accuracy: 0.7310 - val_loss: 0.9318 - val_accuracy: 0.5000\n",
      "Epoch 2/10\n",
      "82/82 [==============================] - 9s 111ms/step - loss: 0.5759 - accuracy: 0.7383 - val_loss: 1.7778 - val_accuracy: 0.6250\n",
      "Epoch 3/10\n",
      "82/82 [==============================] - ETA: 0s - loss: 0.4531 - accuracy: 0.7995"
     ]
    },
    {
     "name": "stderr",
     "output_type": "stream",
     "text": [
      "WARNING:absl:Found untraced functions such as _jit_compiled_convolution_op, _jit_compiled_convolution_op, _jit_compiled_convolution_op, _jit_compiled_convolution_op, _jit_compiled_convolution_op while saving (showing 5 of 6). These functions will not be directly callable after loading.\n"
     ]
    },
    {
     "name": "stdout",
     "output_type": "stream",
     "text": [
      "INFO:tensorflow:Assets written to: my_ckp\\assets\n"
     ]
    },
    {
     "name": "stderr",
     "output_type": "stream",
     "text": [
      "INFO:tensorflow:Assets written to: my_ckp\\assets\n"
     ]
    },
    {
     "name": "stdout",
     "output_type": "stream",
     "text": [
      "82/82 [==============================] - 11s 125ms/step - loss: 0.4531 - accuracy: 0.7995 - val_loss: 0.6407 - val_accuracy: 0.5625\n",
      "Epoch 4/10\n",
      "82/82 [==============================] - 9s 111ms/step - loss: 0.3512 - accuracy: 0.8677 - val_loss: 1.2582 - val_accuracy: 0.6250\n",
      "Epoch 5/10\n",
      "82/82 [==============================] - 9s 111ms/step - loss: 0.2765 - accuracy: 0.8915 - val_loss: 0.9892 - val_accuracy: 0.6875\n",
      "Epoch 6/10\n",
      "81/82 [============================>.] - ETA: 0s - loss: 0.2473 - accuracy: 0.9105"
     ]
    },
    {
     "name": "stderr",
     "output_type": "stream",
     "text": [
      "WARNING:absl:Found untraced functions such as _jit_compiled_convolution_op, _jit_compiled_convolution_op, _jit_compiled_convolution_op, _jit_compiled_convolution_op, _jit_compiled_convolution_op while saving (showing 5 of 6). These functions will not be directly callable after loading.\n"
     ]
    },
    {
     "name": "stdout",
     "output_type": "stream",
     "text": [
      "INFO:tensorflow:Assets written to: my_ckp\\assets\n"
     ]
    },
    {
     "name": "stderr",
     "output_type": "stream",
     "text": [
      "INFO:tensorflow:Assets written to: my_ckp\\assets\n"
     ]
    },
    {
     "name": "stdout",
     "output_type": "stream",
     "text": [
      "82/82 [==============================] - 10s 123ms/step - loss: 0.2497 - accuracy: 0.9101 - val_loss: 0.5687 - val_accuracy: 0.6250\n",
      "Epoch 7/10\n",
      "82/82 [==============================] - 10s 112ms/step - loss: 0.2332 - accuracy: 0.9130 - val_loss: 0.9247 - val_accuracy: 0.6250\n",
      "Epoch 8/10\n",
      "82/82 [==============================] - 10s 112ms/step - loss: 0.1967 - accuracy: 0.9254 - val_loss: 1.1671 - val_accuracy: 0.6250\n",
      "Epoch 9/10\n",
      "82/82 [==============================] - 10s 119ms/step - loss: 0.2023 - accuracy: 0.9327 - val_loss: 0.9379 - val_accuracy: 0.6250\n",
      "Epoch 10/10\n",
      "82/82 [==============================] - 10s 114ms/step - loss: 0.1753 - accuracy: 0.9340 - val_loss: 0.6589 - val_accuracy: 0.6875\n"
     ]
    }
   ],
   "source": [
    "history = model.fit(\n",
    "    train_dataset,\n",
    "    epochs=10,\n",
    "    validation_data=validation_dataset,\n",
    "    callbacks=[tensorboard, check_point_callback]\n",
    ")"
   ]
  },
  {
   "cell_type": "code",
   "execution_count": 13,
   "metadata": {},
   "outputs": [
    {
     "data": {
      "image/png": "[encoded data removed]",
      "text/plain": [
       "<Figure size 640x480 with 1 Axes>"
      ]
     },
     "metadata": {},
     "output_type": "display_data"
    }
   ],
   "source": [
    "# Visualize the loss and accuracy\n",
    "plt.plot(history.history['loss'])\n",
    "plt.plot(history.history['accuracy'])\n",
    "plt.title('Model performance')\n",
    "plt.ylabel('Accuracy')\n",
    "plt.xlabel('Epoch')\n",
    "plt.legend(['Loss', 'Accuracy'], loc='upper left')\n",
    "plt.show()"
   ]
  },
  {
   "cell_type": "code",
   "execution_count": 9,
   "metadata": {},
   "outputs": [
    {
     "name": "stdout",
     "output_type": "stream",
     "text": [
      "10/10 [==============================] - 1s 72ms/step - loss: 0.5109 - accuracy: 0.8029\n",
      "Test Loss: 0.5108564496040344\n",
      "Test Accuracy: 0.8028846383094788\n"
     ]
    }
   ],
   "source": [
    "# 모델 평가\n",
    "test_loss, test_accuracy = model.evaluate(test_dataset)\n",
    "print('Test Loss:', test_loss)\n",
    "print('Test Accuracy:', test_accuracy)"
   ]
  },
  {
   "cell_type": "code",
   "execution_count": 22,
   "metadata": {},
   "outputs": [
    {
     "name": "stdout",
     "output_type": "stream",
     "text": [
      "Downloading data from file://Users\\tama0\\git\\notebook\\chest_xray\\test\\PNEUMONIA\\person1_virus_6.jpeg\n"
     ]
    },
    {
     "ename": "Exception",
     "evalue": "URL fetch failure on file://Users\\tama0\\git\\notebook\\chest_xray\\test\\PNEUMONIA\\person1_virus_6.jpeg: None -- [WinError 3] 지정된 경로를 찾을 수 없습니다: ''",
     "output_type": "error",
     "traceback": [
      "\u001b[1;31m---------------------------------------------------------------------------\u001b[0m",
      "\u001b[1;31mFileNotFoundError\u001b[0m                         Traceback (most recent call last)",
      "File \u001b[1;32mc:\\Users\\tama0\\anaconda3\\envs\\tf39\\lib\\urllib\\request.py:1503\u001b[0m, in \u001b[0;36mFileHandler.open_local_file\u001b[1;34m(self, req)\u001b[0m\n\u001b[0;32m   1502\u001b[0m \u001b[39mtry\u001b[39;00m:\n\u001b[1;32m-> 1503\u001b[0m     stats \u001b[39m=\u001b[39m os\u001b[39m.\u001b[39;49mstat(localfile)\n\u001b[0;32m   1504\u001b[0m     size \u001b[39m=\u001b[39m stats\u001b[39m.\u001b[39mst_size\n",
      "\u001b[1;31mFileNotFoundError\u001b[0m: [WinError 3] 지정된 경로를 찾을 수 없습니다: ''",
      "\nDuring handling of the above exception, another exception occurred:\n",
      "\u001b[1;31mURLError\u001b[0m                                  Traceback (most recent call last)",
      "File \u001b[1;32mc:\\Users\\tama0\\anaconda3\\envs\\tf39\\lib\\site-packages\\keras\\utils\\data_utils.py:283\u001b[0m, in \u001b[0;36mget_file\u001b[1;34m(fname, origin, untar, md5_hash, file_hash, cache_subdir, hash_algorithm, extract, archive_format, cache_dir)\u001b[0m\n\u001b[0;32m    282\u001b[0m \u001b[39mtry\u001b[39;00m:\n\u001b[1;32m--> 283\u001b[0m   urlretrieve(origin, fpath, DLProgbar())\n\u001b[0;32m    284\u001b[0m \u001b[39mexcept\u001b[39;00m urllib\u001b[39m.\u001b[39merror\u001b[39m.\u001b[39mHTTPError \u001b[39mas\u001b[39;00m e:\n",
      "File \u001b[1;32mc:\\Users\\tama0\\anaconda3\\envs\\tf39\\lib\\site-packages\\keras\\utils\\data_utils.py:82\u001b[0m, in \u001b[0;36murlretrieve\u001b[1;34m(url, filename, reporthook, data)\u001b[0m\n\u001b[0;32m     80\u001b[0m       \u001b[39mbreak\u001b[39;00m\n\u001b[1;32m---> 82\u001b[0m response \u001b[39m=\u001b[39m urlopen(url, data)\n\u001b[0;32m     83\u001b[0m \u001b[39mwith\u001b[39;00m \u001b[39mopen\u001b[39m(filename, \u001b[39m'\u001b[39m\u001b[39mwb\u001b[39m\u001b[39m'\u001b[39m) \u001b[39mas\u001b[39;00m fd:\n",
      "File \u001b[1;32mc:\\Users\\tama0\\anaconda3\\envs\\tf39\\lib\\urllib\\request.py:214\u001b[0m, in \u001b[0;36murlopen\u001b[1;34m(url, data, timeout, cafile, capath, cadefault, context)\u001b[0m\n\u001b[0;32m    213\u001b[0m     opener \u001b[39m=\u001b[39m _opener\n\u001b[1;32m--> 214\u001b[0m \u001b[39mreturn\u001b[39;00m opener\u001b[39m.\u001b[39;49mopen(url, data, timeout)\n",
      "File \u001b[1;32mc:\\Users\\tama0\\anaconda3\\envs\\tf39\\lib\\urllib\\request.py:517\u001b[0m, in \u001b[0;36mOpenerDirector.open\u001b[1;34m(self, fullurl, data, timeout)\u001b[0m\n\u001b[0;32m    516\u001b[0m sys\u001b[39m.\u001b[39maudit(\u001b[39m'\u001b[39m\u001b[39murllib.Request\u001b[39m\u001b[39m'\u001b[39m, req\u001b[39m.\u001b[39mfull_url, req\u001b[39m.\u001b[39mdata, req\u001b[39m.\u001b[39mheaders, req\u001b[39m.\u001b[39mget_method())\n\u001b[1;32m--> 517\u001b[0m response \u001b[39m=\u001b[39m \u001b[39mself\u001b[39;49m\u001b[39m.\u001b[39;49m_open(req, data)\n\u001b[0;32m    519\u001b[0m \u001b[39m# post-process response\u001b[39;00m\n",
      "File \u001b[1;32mc:\\Users\\tama0\\anaconda3\\envs\\tf39\\lib\\urllib\\request.py:534\u001b[0m, in \u001b[0;36mOpenerDirector._open\u001b[1;34m(self, req, data)\u001b[0m\n\u001b[0;32m    533\u001b[0m protocol \u001b[39m=\u001b[39m req\u001b[39m.\u001b[39mtype\n\u001b[1;32m--> 534\u001b[0m result \u001b[39m=\u001b[39m \u001b[39mself\u001b[39;49m\u001b[39m.\u001b[39;49m_call_chain(\u001b[39mself\u001b[39;49m\u001b[39m.\u001b[39;49mhandle_open, protocol, protocol \u001b[39m+\u001b[39;49m\n\u001b[0;32m    535\u001b[0m                           \u001b[39m'\u001b[39;49m\u001b[39m_open\u001b[39;49m\u001b[39m'\u001b[39;49m, req)\n\u001b[0;32m    536\u001b[0m \u001b[39mif\u001b[39;00m result:\n",
      "File \u001b[1;32mc:\\Users\\tama0\\anaconda3\\envs\\tf39\\lib\\urllib\\request.py:494\u001b[0m, in \u001b[0;36mOpenerDirector._call_chain\u001b[1;34m(self, chain, kind, meth_name, *args)\u001b[0m\n\u001b[0;32m    493\u001b[0m func \u001b[39m=\u001b[39m \u001b[39mgetattr\u001b[39m(handler, meth_name)\n\u001b[1;32m--> 494\u001b[0m result \u001b[39m=\u001b[39m func(\u001b[39m*\u001b[39;49margs)\n\u001b[0;32m    495\u001b[0m \u001b[39mif\u001b[39;00m result \u001b[39mis\u001b[39;00m \u001b[39mnot\u001b[39;00m \u001b[39mNone\u001b[39;00m:\n",
      "File \u001b[1;32mc:\\Users\\tama0\\anaconda3\\envs\\tf39\\lib\\urllib\\request.py:1481\u001b[0m, in \u001b[0;36mFileHandler.file_open\u001b[1;34m(self, req)\u001b[0m\n\u001b[0;32m   1480\u001b[0m \u001b[39melse\u001b[39;00m:\n\u001b[1;32m-> 1481\u001b[0m     \u001b[39mreturn\u001b[39;00m \u001b[39mself\u001b[39;49m\u001b[39m.\u001b[39;49mopen_local_file(req)\n",
      "File \u001b[1;32mc:\\Users\\tama0\\anaconda3\\envs\\tf39\\lib\\urllib\\request.py:1520\u001b[0m, in \u001b[0;36mFileHandler.open_local_file\u001b[1;34m(self, req)\u001b[0m\n\u001b[0;32m   1519\u001b[0m \u001b[39mexcept\u001b[39;00m \u001b[39mOSError\u001b[39;00m \u001b[39mas\u001b[39;00m exp:\n\u001b[1;32m-> 1520\u001b[0m     \u001b[39mraise\u001b[39;00m URLError(exp)\n\u001b[0;32m   1521\u001b[0m \u001b[39mraise\u001b[39;00m URLError(\u001b[39m'\u001b[39m\u001b[39mfile not on local host\u001b[39m\u001b[39m'\u001b[39m)\n",
      "\u001b[1;31mURLError\u001b[0m: <urlopen error [WinError 3] 지정된 경로를 찾을 수 없습니다: ''>",
      "\nDuring handling of the above exception, another exception occurred:\n",
      "\u001b[1;31mException\u001b[0m                                 Traceback (most recent call last)",
      "Cell \u001b[1;32mIn[22], line 4\u001b[0m\n\u001b[0;32m      1\u001b[0m \u001b[39mimport\u001b[39;00m \u001b[39mtensorflow\u001b[39;00m \u001b[39mas\u001b[39;00m \u001b[39mtf\u001b[39;00m\n\u001b[0;32m      2\u001b[0m \u001b[39mimport\u001b[39;00m \u001b[39mtensorflow\u001b[39;00m\u001b[39m.\u001b[39;00m\u001b[39mkeras\u001b[39;00m \u001b[39mas\u001b[39;00m \u001b[39mkeras\u001b[39;00m\n\u001b[1;32m----> 4\u001b[0m img_path \u001b[39m=\u001b[39m keras\u001b[39m.\u001b[39;49mutils\u001b[39m.\u001b[39;49mget_file(\n\u001b[0;32m      5\u001b[0m     fname\u001b[39m=\u001b[39;49m\u001b[39m'\u001b[39;49m\u001b[39mperson1_virus_6.jpeg\u001b[39;49m\u001b[39m'\u001b[39;49m,\n\u001b[0;32m      6\u001b[0m     origin\u001b[39m=\u001b[39;49m\u001b[39m'\u001b[39;49m\u001b[39mfile://Users\u001b[39;49m\u001b[39m\\\\\u001b[39;49;00m\u001b[39mtama0\u001b[39;49m\u001b[39m\\\\\u001b[39;49;00m\u001b[39mgit\u001b[39;49m\u001b[39m\\\\\u001b[39;49;00m\u001b[39mnotebook\u001b[39;49m\u001b[39m\\\\\u001b[39;49;00m\u001b[39mchest_xray\u001b[39;49m\u001b[39m\\\\\u001b[39;49;00m\u001b[39mtest\u001b[39;49m\u001b[39m\\\\\u001b[39;49;00m\u001b[39mPNEUMONIA\u001b[39;49m\u001b[39m\\\\\u001b[39;49;00m\u001b[39mperson1_virus_6.jpeg\u001b[39;49m\u001b[39m'\u001b[39;49m\n\u001b[0;32m      7\u001b[0m )\n\u001b[0;32m      9\u001b[0m \u001b[39mdef\u001b[39;00m \u001b[39mget_img_array\u001b[39m(img_path, target_size):\n\u001b[0;32m     10\u001b[0m     img \u001b[39m=\u001b[39m keras\u001b[39m.\u001b[39mutils\u001b[39m.\u001b[39mload_img(img_path, target_size\u001b[39m=\u001b[39mtarget_size)\n",
      "File \u001b[1;32mc:\\Users\\tama0\\anaconda3\\envs\\tf39\\lib\\site-packages\\keras\\utils\\data_utils.py:287\u001b[0m, in \u001b[0;36mget_file\u001b[1;34m(fname, origin, untar, md5_hash, file_hash, cache_subdir, hash_algorithm, extract, archive_format, cache_dir)\u001b[0m\n\u001b[0;32m    285\u001b[0m     \u001b[39mraise\u001b[39;00m \u001b[39mException\u001b[39;00m(error_msg\u001b[39m.\u001b[39mformat(origin, e\u001b[39m.\u001b[39mcode, e\u001b[39m.\u001b[39mmsg))\n\u001b[0;32m    286\u001b[0m   \u001b[39mexcept\u001b[39;00m urllib\u001b[39m.\u001b[39merror\u001b[39m.\u001b[39mURLError \u001b[39mas\u001b[39;00m e:\n\u001b[1;32m--> 287\u001b[0m     \u001b[39mraise\u001b[39;00m \u001b[39mException\u001b[39;00m(error_msg\u001b[39m.\u001b[39mformat(origin, e\u001b[39m.\u001b[39merrno, e\u001b[39m.\u001b[39mreason))\n\u001b[0;32m    288\u001b[0m \u001b[39mexcept\u001b[39;00m (\u001b[39mException\u001b[39;00m, \u001b[39mKeyboardInterrupt\u001b[39;00m) \u001b[39mas\u001b[39;00m e:\n\u001b[0;32m    289\u001b[0m   \u001b[39mif\u001b[39;00m os\u001b[39m.\u001b[39mpath\u001b[39m.\u001b[39mexists(fpath):\n",
      "\u001b[1;31mException\u001b[0m: URL fetch failure on file://Users\\tama0\\git\\notebook\\chest_xray\\test\\PNEUMONIA\\person1_virus_6.jpeg: None -- [WinError 3] 지정된 경로를 찾을 수 없습니다: ''"
     ]
    }
   ],
   "source": [
    "import tensorflow as tf\n",
    "import tensorflow.keras as keras\n",
    "\n",
    "img_path = keras.utils.get_file(\n",
    "    fname='person1_virus_6.jpeg',\n",
    "    origin='file://C:\\\\Users\\\\tama0\\\\git\\\\notebook\\\\chest_xray\\\\test\\\\PNEUMONIA\\\\person1_virus_6.jpeg'\n",
    ")\n",
    "\n",
    "def get_img_array(img_path, target_size):\n",
    "    img = keras.utils.load_img(img_path, target_size=target_size)\n",
    "    array = keras.utils.img_to_array(img)\n",
    "    array = np.expand_dims(array, axis=0)\n",
    "    return array\n",
    "\n",
    "img_array = get_img_array(img_path, (224, 224))\n",
    "\n",
    "last_conv_layer_name = 'conv2d_11'\n",
    "last_conv_layer = model.get_layer(last_conv_layer_name)\n",
    "last_layer_model = Model(model.inputs, last_conv_layer.output)\n",
    "\n",
    "new_inputs = Input(shape=last_conv_layer.output.shape[1:])\n",
    "x = new_inputs\n",
    "for i in range(1, 4):\n",
    "    x = model.layers[-i](x)\n",
    "\n",
    "classifier = Model(new_inputs, x)\n",
    "\n",
    "with tf.GradientTape() as tape:\n",
    "    last_layer_model_output = last_layer_model(img_array)\n",
    "    tape.watch(last_layer_model_output)\n",
    "    \n",
    "\n",
    "# Define the model\n",
    "layer_index = -4  # x = Conv2D(filters=512, kernel_size=3, activation='relu')\n",
    "\n",
    "# 특정 레이어까지의 모델을 추출합니다.\n",
    "partial_model = Model(inputs=model.inputs, outputs=model.layers[layer_index].output)\n",
    "\n",
    "test_image = test_dataset.take(1)\n",
    "\n",
    "# Get the last convolutional layer\n",
    "last_conv_layer = model.layers[layer_index]\n",
    "\n",
    "# Create a function to generate class activation maps\n",
    "def grad_cam(model, image, target_class):\n",
    "    with tf.GradientTape() as tape:\n",
    "        tape.watch(image)\n",
    "        outputs = model(image)\n",
    "        loss = tf.keras.losses.categorical_crossentropy(y_true=[target_class], y_pred=outputs)\n",
    "\n",
    "    grads = tape.gradient(loss, image)\n",
    "    cam = tf.reduce_sum(grads * last_conv_layer.output, axis=-1)\n",
    "    cam = tf.keras.backend.cast(cam, tf.float32)\n",
    "    cam = cv2.resize(cam, (224, 224))\n",
    "    return cam\n",
    "\n",
    "# Generate a class activation map for the cat class\n",
    "cam = grad_cam(partial_model, test_image, target_class=0)\n",
    "\n",
    "# Display the class activation map\n",
    "plt.imshow(cam)\n",
    "plt.show()"
   ]
  },
  {
   "cell_type": "code",
   "execution_count": null,
   "metadata": {},
   "outputs": [],
   "source": [
    "# 원본 이미지와 Class activation map을 시각화합니다.\n",
    "# plt.imshow(test_image)\n",
    "# plt.imshow(cam, cmap='jet', alpha=0.5)\n",
    "# plt.show()\n",
    "\n",
    "class_names = ['Normal', 'Pneumonia']\n",
    "\n",
    "plt.figure.Figure(figsize=(10, 10))\n",
    "for images, labels in train_data.take(1):\n",
    "  for i in range(9):\n",
    "    ax = plt.pyplot.subplot(3, 3, i + 1)\n",
    "    plt.pyplot.imshow(images[i].numpy().astype(\"uint8\"))\n",
    "    plt.pyplot.title(class_names[int(labels[i])])\n",
    "    plt.pyplot.axis(\"off\")"
   ]
  },
  {
   "cell_type": "code",
   "execution_count": null,
   "metadata": {},
   "outputs": [
    {
     "ename": "NameError",
     "evalue": "name 'model' is not defined",
     "output_type": "error",
     "traceback": [
      "\u001b[1;31m---------------------------------------------------------------------------\u001b[0m",
      "\u001b[1;31mNameError\u001b[0m                                 Traceback (most recent call last)",
      "Cell \u001b[1;32mIn[1], line 1\u001b[0m\n\u001b[1;32m----> 1\u001b[0m model\u001b[39m.\u001b[39mlayers[\u001b[39m-\u001b[39m\u001b[39m4\u001b[39m]\n",
      "\u001b[1;31mNameError\u001b[0m: name 'model' is not defined"
     ]
    }
   ],
   "source": [
    "model.layers[-4]\n"
   ]
  },
  {
   "cell_type": "code",
   "execution_count": null,
   "metadata": {},
   "outputs": [
    {
     "name": "stdout",
     "output_type": "stream",
     "text": [
      "^C\n"
     ]
    }
   ],
   "source": [
    "# 업로드\n",
    "# 로컬에서 실행했음\n",
    "!tensorboard dev upload --logdir logs"
   ]
  },
  {
   "cell_type": "code",
   "execution_count": 17,
   "metadata": {},
   "outputs": [
    {
     "data": {
      "text/plain": [
       "'conv2d_10'"
      ]
     },
     "execution_count": 17,
     "metadata": {},
     "output_type": "execute_result"
    }
   ],
   "source": [
    "model.layers[-6].name"
   ]
  }
 ],
 "metadata": {
  "kernelspec": {
   "display_name": "tf39",
   "language": "python",
   "name": "python3"
  },
  "language_info": {
   "codemirror_mode": {
    "name": "ipython",
    "version": 3
   },
   "file_extension": ".py",
   "mimetype": "text/x-python",
   "name": "python",
   "nbconvert_exporter": "python",
   "pygments_lexer": "ipython3",
   "version": "3.9.16"
  },
  "orig_nbformat": 4
 },
 "nbformat": 4,
 "nbformat_minor": 2
}
